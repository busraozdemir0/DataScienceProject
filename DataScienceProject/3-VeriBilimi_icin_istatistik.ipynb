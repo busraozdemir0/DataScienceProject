{
 "cells": [
  {
   "cell_type": "markdown",
   "id": "bb741c1c",
   "metadata": {},
   "source": [
    "# Veri Bilimi İçin İstatistik"
   ]
  },
  {
   "cell_type": "markdown",
   "id": "202cf7d3",
   "metadata": {},
   "source": [
    "### 1. Betimsel İstatistik"
   ]
  },
  {
   "cell_type": "markdown",
   "id": "d24a76ef",
   "metadata": {},
   "source": [
    "#### ● Varyans => Ortalama etrafındaki dağılımın ölçüsü\n",
    "#### ● Kovaryans => İki değişken arasındaki değişkenlik ölçüsü\n",
    "#### ● Korelasyon => İki değişken arasındaki ilişkiyi, ilişkinin anlamlı olup olmadığını, ilişkinin şiddetini ve yönünü ifade eden istatistiksel bir tekniktir."
   ]
  },
  {
   "cell_type": "code",
   "execution_count": 1,
   "id": "0773dee7",
   "metadata": {},
   "outputs": [],
   "source": [
    "import numpy as np\n",
    "import seaborn as sns\n",
    "import pandas as pd\n",
    "\n",
    "df=pd.read_csv(\"dataset/youtubeGB.csv\") \n",
    "youtube=df.copy()"
   ]
  },
  {
   "cell_type": "code",
   "execution_count": 2,
   "id": "b935a1b4",
   "metadata": {
    "collapsed": true
   },
   "outputs": [
    {
     "name": "stdout",
     "output_type": "stream",
     "text": [
      "Collecting researchpy\n",
      "  Downloading researchpy-0.3.5-py3-none-any.whl (33 kB)\n",
      "Requirement already satisfied: scipy in c:\\users\\pc\\appdata\\local\\programs\\python\\python311\\lib\\site-packages (from researchpy) (1.9.3)\n",
      "Requirement already satisfied: numpy in c:\\users\\pc\\appdata\\local\\programs\\python\\python311\\lib\\site-packages (from researchpy) (1.23.5)\n",
      "Requirement already satisfied: pandas in c:\\users\\pc\\appdata\\local\\programs\\python\\python311\\lib\\site-packages (from researchpy) (1.5.3)\n",
      "Requirement already satisfied: statsmodels in c:\\users\\pc\\appdata\\local\\programs\\python\\python311\\lib\\site-packages (from researchpy) (0.13.5)\n",
      "Requirement already satisfied: patsy in c:\\users\\pc\\appdata\\local\\programs\\python\\python311\\lib\\site-packages (from researchpy) (0.5.3)\n",
      "Requirement already satisfied: python-dateutil>=2.8.1 in c:\\users\\pc\\appdata\\local\\programs\\python\\python311\\lib\\site-packages (from pandas->researchpy) (2.8.2)\n",
      "Requirement already satisfied: pytz>=2020.1 in c:\\users\\pc\\appdata\\local\\programs\\python\\python311\\lib\\site-packages (from pandas->researchpy) (2022.7.1)\n",
      "Requirement already satisfied: six in c:\\users\\pc\\appdata\\local\\programs\\python\\python311\\lib\\site-packages (from patsy->researchpy) (1.16.0)\n",
      "Requirement already satisfied: packaging>=21.3 in c:\\users\\pc\\appdata\\local\\programs\\python\\python311\\lib\\site-packages (from statsmodels->researchpy) (23.0)\n",
      "Installing collected packages: researchpy\n",
      "Successfully installed researchpy-0.3.5\n"
     ]
    },
    {
     "name": "stderr",
     "output_type": "stream",
     "text": [
      "\n",
      "[notice] A new release of pip available: 22.3.1 -> 23.1.2\n",
      "[notice] To update, run: python.exe -m pip install --upgrade pip\n"
     ]
    }
   ],
   "source": [
    "!pip install researchpy"
   ]
  },
  {
   "cell_type": "code",
   "execution_count": 3,
   "id": "af884f4e",
   "metadata": {},
   "outputs": [
    {
     "name": "stdout",
     "output_type": "stream",
     "text": [
      "\n",
      "\n"
     ]
    },
    {
     "name": "stderr",
     "output_type": "stream",
     "text": [
      "C:\\Users\\pc\\AppData\\Local\\Programs\\Python\\Python311\\Lib\\site-packages\\researchpy\\summary.py:60: FutureWarning: iteritems is deprecated and will be removed in a future version. Use .items instead.\n",
      "  for ix, df_col in group1.iteritems():\n"
     ]
    },
    {
     "data": {
      "text/html": [
       "<div>\n",
       "<style scoped>\n",
       "    .dataframe tbody tr th:only-of-type {\n",
       "        vertical-align: middle;\n",
       "    }\n",
       "\n",
       "    .dataframe tbody tr th {\n",
       "        vertical-align: top;\n",
       "    }\n",
       "\n",
       "    .dataframe thead th {\n",
       "        text-align: right;\n",
       "    }\n",
       "</style>\n",
       "<table border=\"1\" class=\"dataframe\">\n",
       "  <thead>\n",
       "    <tr style=\"text-align: right;\">\n",
       "      <th></th>\n",
       "      <th>Variable</th>\n",
       "      <th>N</th>\n",
       "      <th>Mean</th>\n",
       "      <th>SD</th>\n",
       "      <th>SE</th>\n",
       "      <th>95% Conf.</th>\n",
       "      <th>Interval</th>\n",
       "    </tr>\n",
       "  </thead>\n",
       "  <tbody>\n",
       "    <tr>\n",
       "      <th>0</th>\n",
       "      <td>views</td>\n",
       "      <td>38916.0</td>\n",
       "      <td>5.911944e+06</td>\n",
       "      <td>1.900121e+07</td>\n",
       "      <td>96320.1520</td>\n",
       "      <td>5.723154e+06</td>\n",
       "      <td>6.100734e+06</td>\n",
       "    </tr>\n",
       "    <tr>\n",
       "      <th>1</th>\n",
       "      <td>likes</td>\n",
       "      <td>38916.0</td>\n",
       "      <td>1.345196e+05</td>\n",
       "      <td>3.499893e+05</td>\n",
       "      <td>1774.1514</td>\n",
       "      <td>1.310422e+05</td>\n",
       "      <td>1.379969e+05</td>\n",
       "    </tr>\n",
       "    <tr>\n",
       "      <th>2</th>\n",
       "      <td>dislikes</td>\n",
       "      <td>38916.0</td>\n",
       "      <td>7.612560e+03</td>\n",
       "      <td>5.095683e+04</td>\n",
       "      <td>258.3083</td>\n",
       "      <td>7.106269e+03</td>\n",
       "      <td>8.118851e+03</td>\n",
       "    </tr>\n",
       "  </tbody>\n",
       "</table>\n",
       "</div>"
      ],
      "text/plain": [
       "   Variable        N          Mean            SD          SE     95% Conf.  \\\n",
       "0     views  38916.0  5.911944e+06  1.900121e+07  96320.1520  5.723154e+06   \n",
       "1     likes  38916.0  1.345196e+05  3.499893e+05   1774.1514  1.310422e+05   \n",
       "2  dislikes  38916.0  7.612560e+03  5.095683e+04    258.3083  7.106269e+03   \n",
       "\n",
       "       Interval  \n",
       "0  6.100734e+06  \n",
       "1  1.379969e+05  \n",
       "2  8.118851e+03  "
      ]
     },
     "execution_count": 3,
     "metadata": {},
     "output_type": "execute_result"
    }
   ],
   "source": [
    "import researchpy as rp\n",
    "\n",
    "# Sürekli (sayısal) değişkenler için kullanılır.\n",
    "rp.summary_cont(youtube[[\"views\",\"likes\",\"dislikes\"]])"
   ]
  },
  {
   "cell_type": "markdown",
   "id": "eac4cf44",
   "metadata": {},
   "source": [
    "### Not:\n",
    "##### N: eleman sayısı\n",
    "##### Mean: ortalama\n",
    "#####  SD - Standart Deviation:(Standart Sapma)\n",
    "##### SE - Standart Error: (Standart Hata)\n",
    "##### 95% Conf. interval : (default değeri 95%) %95 güven aralığı, popülasyonun gerçek ortalamasını içerdiğinden %95 emin olabileceğiniz bir değerler aralığıdır. Doğal örnekleme değişkenliği nedeniyle, örnek ortalaması (CI'nin merkezi) örnekten örneğe değişecektir.\n",
    "##### Güven Aralığı: Anakütle parametresinin tahmini değerini kapsayabilecek iki sayıdan oluşan bir aralık bulunmasıdır."
   ]
  },
  {
   "cell_type": "code",
   "execution_count": 5,
   "id": "09ba5871",
   "metadata": {},
   "outputs": [
    {
     "name": "stderr",
     "output_type": "stream",
     "text": [
      "C:\\Users\\pc\\AppData\\Local\\Programs\\Python\\Python311\\Lib\\site-packages\\researchpy\\summary.py:225: FutureWarning: iteritems is deprecated and will be removed in a future version. Use .items instead.\n",
      "  for ix, df_col in group1.iteritems():\n"
     ]
    },
    {
     "data": {
      "text/html": [
       "<div>\n",
       "<style scoped>\n",
       "    .dataframe tbody tr th:only-of-type {\n",
       "        vertical-align: middle;\n",
       "    }\n",
       "\n",
       "    .dataframe tbody tr th {\n",
       "        vertical-align: top;\n",
       "    }\n",
       "\n",
       "    .dataframe thead th {\n",
       "        text-align: right;\n",
       "    }\n",
       "</style>\n",
       "<table border=\"1\" class=\"dataframe\">\n",
       "  <thead>\n",
       "    <tr style=\"text-align: right;\">\n",
       "      <th></th>\n",
       "      <th>Variable</th>\n",
       "      <th>Outcome</th>\n",
       "      <th>Count</th>\n",
       "      <th>Percent</th>\n",
       "    </tr>\n",
       "  </thead>\n",
       "  <tbody>\n",
       "    <tr>\n",
       "      <th>0</th>\n",
       "      <td>trending_date</td>\n",
       "      <td>17.14.11</td>\n",
       "      <td>15</td>\n",
       "      <td>100.00</td>\n",
       "    </tr>\n",
       "    <tr>\n",
       "      <th>1</th>\n",
       "      <td>tags</td>\n",
       "      <td>christmas|\"john lewis christmas\"|\"john lewis\"|...</td>\n",
       "      <td>1</td>\n",
       "      <td>6.67</td>\n",
       "    </tr>\n",
       "    <tr>\n",
       "      <th>2</th>\n",
       "      <td></td>\n",
       "      <td>SNL|\"Saturday Night Live\"|\"SNL Season 43\"|\"Epi...</td>\n",
       "      <td>1</td>\n",
       "      <td>6.67</td>\n",
       "    </tr>\n",
       "    <tr>\n",
       "      <th>3</th>\n",
       "      <td></td>\n",
       "      <td>Eminem|\"Walk\"|\"On\"|\"Water\"|\"Aftermath/Shady/In...</td>\n",
       "      <td>1</td>\n",
       "      <td>6.67</td>\n",
       "    </tr>\n",
       "    <tr>\n",
       "      <th>4</th>\n",
       "      <td></td>\n",
       "      <td>Salford City FC|\"Salford City\"|\"Salford\"|\"Clas...</td>\n",
       "      <td>1</td>\n",
       "      <td>6.67</td>\n",
       "    </tr>\n",
       "    <tr>\n",
       "      <th>5</th>\n",
       "      <td></td>\n",
       "      <td>[none]</td>\n",
       "      <td>1</td>\n",
       "      <td>6.67</td>\n",
       "    </tr>\n",
       "    <tr>\n",
       "      <th>6</th>\n",
       "      <td></td>\n",
       "      <td>pointlessblog|\"pointlessblogtv\"|\"pointlessblog...</td>\n",
       "      <td>1</td>\n",
       "      <td>6.67</td>\n",
       "    </tr>\n",
       "    <tr>\n",
       "      <th>7</th>\n",
       "      <td></td>\n",
       "      <td>edsheeran|\"ed sheeran\"|\"acoustic\"|\"live\"|\"cove...</td>\n",
       "      <td>1</td>\n",
       "      <td>6.67</td>\n",
       "    </tr>\n",
       "    <tr>\n",
       "      <th>8</th>\n",
       "      <td></td>\n",
       "      <td>zoe sugg|\"zoella\"|\"zoe\"|\"vlog\"|\"vlogging\"|\"vlo...</td>\n",
       "      <td>1</td>\n",
       "      <td>6.67</td>\n",
       "    </tr>\n",
       "    <tr>\n",
       "      <th>9</th>\n",
       "      <td></td>\n",
       "      <td>Elbow|\"Golden\"|\"Slumbers\"|\"Polydor\"|\"Alternative\"</td>\n",
       "      <td>1</td>\n",
       "      <td>6.67</td>\n",
       "    </tr>\n",
       "    <tr>\n",
       "      <th>10</th>\n",
       "      <td></td>\n",
       "      <td>Jennifer Lopez ft. Wisin|\"Jennifer Lopez ft. W...</td>\n",
       "      <td>1</td>\n",
       "      <td>6.67</td>\n",
       "    </tr>\n",
       "    <tr>\n",
       "      <th>11</th>\n",
       "      <td></td>\n",
       "      <td>nile wilson|\"nile wilson gymnastics\"|\"nile wil...</td>\n",
       "      <td>1</td>\n",
       "      <td>6.67</td>\n",
       "    </tr>\n",
       "    <tr>\n",
       "      <th>12</th>\n",
       "      <td></td>\n",
       "      <td>reporter|\"robbery\"|\"Crime\"|\"cat-news\"|\"police\"...</td>\n",
       "      <td>1</td>\n",
       "      <td>6.67</td>\n",
       "    </tr>\n",
       "    <tr>\n",
       "      <th>13</th>\n",
       "      <td></td>\n",
       "      <td>Gucci Mane|\"The Weeknd\"|\"Curve\"|\"Official\"|\"Mu...</td>\n",
       "      <td>1</td>\n",
       "      <td>6.67</td>\n",
       "    </tr>\n",
       "    <tr>\n",
       "      <th>14</th>\n",
       "      <td></td>\n",
       "      <td>Extreme Tan|\"Tanning\"|\"Tanning Bed\"|\"How to ge...</td>\n",
       "      <td>1</td>\n",
       "      <td>6.67</td>\n",
       "    </tr>\n",
       "    <tr>\n",
       "      <th>15</th>\n",
       "      <td></td>\n",
       "      <td>how to dry a shirt in 30 seconds|\"how to dry a...</td>\n",
       "      <td>1</td>\n",
       "      <td>6.67</td>\n",
       "    </tr>\n",
       "  </tbody>\n",
       "</table>\n",
       "</div>"
      ],
      "text/plain": [
       "         Variable                                            Outcome  Count  \\\n",
       "0   trending_date                                           17.14.11     15   \n",
       "1            tags  christmas|\"john lewis christmas\"|\"john lewis\"|...      1   \n",
       "2                  SNL|\"Saturday Night Live\"|\"SNL Season 43\"|\"Epi...      1   \n",
       "3                  Eminem|\"Walk\"|\"On\"|\"Water\"|\"Aftermath/Shady/In...      1   \n",
       "4                  Salford City FC|\"Salford City\"|\"Salford\"|\"Clas...      1   \n",
       "5                                                             [none]      1   \n",
       "6                  pointlessblog|\"pointlessblogtv\"|\"pointlessblog...      1   \n",
       "7                  edsheeran|\"ed sheeran\"|\"acoustic\"|\"live\"|\"cove...      1   \n",
       "8                  zoe sugg|\"zoella\"|\"zoe\"|\"vlog\"|\"vlogging\"|\"vlo...      1   \n",
       "9                  Elbow|\"Golden\"|\"Slumbers\"|\"Polydor\"|\"Alternative\"      1   \n",
       "10                 Jennifer Lopez ft. Wisin|\"Jennifer Lopez ft. W...      1   \n",
       "11                 nile wilson|\"nile wilson gymnastics\"|\"nile wil...      1   \n",
       "12                 reporter|\"robbery\"|\"Crime\"|\"cat-news\"|\"police\"...      1   \n",
       "13                 Gucci Mane|\"The Weeknd\"|\"Curve\"|\"Official\"|\"Mu...      1   \n",
       "14                 Extreme Tan|\"Tanning\"|\"Tanning Bed\"|\"How to ge...      1   \n",
       "15                 how to dry a shirt in 30 seconds|\"how to dry a...      1   \n",
       "\n",
       "    Percent  \n",
       "0    100.00  \n",
       "1      6.67  \n",
       "2      6.67  \n",
       "3      6.67  \n",
       "4      6.67  \n",
       "5      6.67  \n",
       "6      6.67  \n",
       "7      6.67  \n",
       "8      6.67  \n",
       "9      6.67  \n",
       "10     6.67  \n",
       "11     6.67  \n",
       "12     6.67  \n",
       "13     6.67  \n",
       "14     6.67  \n",
       "15     6.67  "
      ]
     },
     "execution_count": 5,
     "metadata": {},
     "output_type": "execute_result"
    }
   ],
   "source": [
    "# Kategorik değişkenler için kullanılır.\n",
    "rp.summary_cat(youtube[[\"trending_date\",\"tags\"]].head(15))"
   ]
  },
  {
   "cell_type": "code",
   "execution_count": 7,
   "id": "d760e706",
   "metadata": {},
   "outputs": [
    {
     "data": {
      "text/html": [
       "<div>\n",
       "<style scoped>\n",
       "    .dataframe tbody tr th:only-of-type {\n",
       "        vertical-align: middle;\n",
       "    }\n",
       "\n",
       "    .dataframe tbody tr th {\n",
       "        vertical-align: top;\n",
       "    }\n",
       "\n",
       "    .dataframe thead th {\n",
       "        text-align: right;\n",
       "    }\n",
       "</style>\n",
       "<table border=\"1\" class=\"dataframe\">\n",
       "  <thead>\n",
       "    <tr style=\"text-align: right;\">\n",
       "      <th></th>\n",
       "      <th>likes</th>\n",
       "      <th>comment_count</th>\n",
       "    </tr>\n",
       "  </thead>\n",
       "  <tbody>\n",
       "    <tr>\n",
       "      <th>likes</th>\n",
       "      <td>1.224925e+11</td>\n",
       "      <td>1.319979e+10</td>\n",
       "    </tr>\n",
       "    <tr>\n",
       "      <th>comment_count</th>\n",
       "      <td>1.319979e+10</td>\n",
       "      <td>2.567185e+09</td>\n",
       "    </tr>\n",
       "  </tbody>\n",
       "</table>\n",
       "</div>"
      ],
      "text/plain": [
       "                      likes  comment_count\n",
       "likes          1.224925e+11   1.319979e+10\n",
       "comment_count  1.319979e+10   2.567185e+09"
      ]
     },
     "execution_count": 7,
     "metadata": {},
     "output_type": "execute_result"
    }
   ],
   "source": [
    "# likes ve comment_count alanlarının cov() fonksiyonu ile kovaryansı hesaplanır.\n",
    "youtube[[\"likes\",\"comment_count\"]].cov()"
   ]
  },
  {
   "cell_type": "markdown",
   "id": "abc47695",
   "metadata": {},
   "source": [
    "### 2. Geometrik Dağılım"
   ]
  },
  {
   "cell_type": "code",
   "execution_count": 10,
   "id": "fab5715d",
   "metadata": {},
   "outputs": [
    {
     "data": {
      "image/png": "[encoded data removed]",
      "text/plain": [
       "<Figure size 640x480 with 1 Axes>"
      ]
     },
     "metadata": {},
     "output_type": "display_data"
    }
   ],
   "source": [
    "import seaborn as sns\n",
    "\n",
    "# likes kolonunun geometrik dağılımını gösterecektir. (ilk 50 kayıt için)\n",
    "sns.histplot(youtube[\"likes\"].head(50),bins=50).set(title='Geometrik Dağılım');"
   ]
  },
  {
   "cell_type": "markdown",
   "id": "0d323273",
   "metadata": {},
   "source": [
    "### 3. Normallik Varsayımı"
   ]
  },
  {
   "cell_type": "code",
   "execution_count": 9,
   "id": "bf7c2d3b",
   "metadata": {},
   "outputs": [
    {
     "data": {
      "image/png": "[encoded data removed]",
      "text/plain": [
       "<Figure size 640x480 with 1 Axes>"
      ]
     },
     "metadata": {},
     "output_type": "display_data"
    }
   ],
   "source": [
    "import scipy.stats as stats\n",
    "import pylab\n",
    "\n",
    "stats.probplot(youtube[\"comment_count\"], dist=\"norm\", plot=pylab)\n",
    "pylab.show()"
   ]
  },
  {
   "cell_type": "markdown",
   "id": "276b0b04",
   "metadata": {},
   "source": [
    "Yukarıdaki grafiğe baktığımızda videolara yapılan yorum sayılarının normal dağılım varsayımının gözlemlenmediği görülmektedir. Çünkü eldeki mavi noktalar kırmızı doğru üzerinde yoğunlaşmamıştır."
   ]
  },
  {
   "cell_type": "markdown",
   "id": "e8f99a93",
   "metadata": {},
   "source": [
    "### 4. YouTube Veri Setimiz Üzerinde Korelasyon Analizi"
   ]
  },
  {
   "cell_type": "markdown",
   "id": "e5b3c63c",
   "metadata": {},
   "source": [
    "Korelasyon analizi; Değişkenler arasındaki ilişki, bu ilişkinin yönü ve şiddeti ile ilgili bilgiler sağlayan istatistiksel bir yöntemdir.\n",
    "Değişkenler birlikte artıyor veya azalıyorsa pozitif yönde, değişkenlerden biri artarken diğeri azalıyorsa ise negatif yönde bir ilişki vardır.\n",
    "\n",
    "##### HO: p = 0 (Değişkenler arasında korelasyon yoktur.)\n",
    "##### H1: p != 0 (Değişkenler arasında korelasyon vardır. Yani değişkenler arasında anlamlı bir ilişki vardır.)\n",
    "##### Beklenti: p-value değerinin 0.05'den küçük olup H0'ı reddetmesi beklenir."
   ]
  },
  {
   "cell_type": "code",
   "execution_count": 11,
   "id": "9bdfe1ed",
   "metadata": {},
   "outputs": [
    {
     "name": "stdout",
     "output_type": "stream",
     "text": [
      "Test İstatistiği = 0.3799, p-değeri = 0.0000\n",
      "Test İstatistiği = 0.2932, p-değeri = 0.0000\n"
     ]
    },
    {
     "name": "stderr",
     "output_type": "stream",
     "text": [
      "C:\\Users\\pc\\AppData\\Local\\Programs\\Python\\Python311\\Lib\\site-packages\\scipy\\stats\\_morestats.py:1800: UserWarning: p-value may not be accurate for N > 5000.\n",
      "  warnings.warn(\"p-value may not be accurate for N > 5000.\")\n"
     ]
    }
   ],
   "source": [
    "from scipy.stats import shapiro\n",
    "\n",
    "# Veri setimizdeki kayıtlar arasında izlenme sayısı ile beğeni sayısı arasında korelasyon var mı diye bakalım.\n",
    "test_istatistigi, pvalue = shapiro(youtube[\"likes\"])\n",
    "print('Test İstatistiği = %.4f, p-değeri = %.4f' % (test_istatistigi, pvalue))\n",
    "\n",
    "test_istatistigi, pvalue = shapiro(youtube[\"views\"])\n",
    "print('Test İstatistiği = %.4f, p-değeri = %.4f' % (test_istatistigi, pvalue))"
   ]
  },
  {
   "cell_type": "markdown",
   "id": "484748de",
   "metadata": {},
   "source": [
    "Yukarıdaki çıktıya bakarsak; p-value değeri 0.05'den küçük olduğu için H0'ı reddetmiş oluyoruz."
   ]
  },
  {
   "cell_type": "code",
   "execution_count": 12,
   "id": "33b5c159",
   "metadata": {},
   "outputs": [
    {
     "data": {
      "text/plain": [
       "0.897894466702777"
      ]
     },
     "execution_count": 12,
     "metadata": {},
     "output_type": "execute_result"
    }
   ],
   "source": [
    "# Varsayım sağlanmadığı için spearman korelasyon katsayısını kullanmalıyız.\n",
    "youtube[\"likes\"].corr(df[\"views\"], method = \"spearman\")"
   ]
  },
  {
   "cell_type": "markdown",
   "id": "3be85779",
   "metadata": {},
   "source": [
    "#### Not: \n",
    "     + değer olduğundan pozitif yönlü,\n",
    "     0.5'den büyük olduğu için yüksek bir korelasyon olduğunu çıkartabiliriz."
   ]
  },
  {
   "cell_type": "code",
   "execution_count": 13,
   "id": "021ccdda",
   "metadata": {},
   "outputs": [
    {
     "name": "stderr",
     "output_type": "stream",
     "text": [
      "C:\\Users\\pc\\AppData\\Local\\Temp\\ipykernel_13160\\2371391663.py:2: DeprecationWarning: Please use `spearmanr` from the `scipy.stats` namespace, the `scipy.stats.stats` namespace is deprecated.\n",
      "  stats.spearmanr(youtube[\"likes\"],youtube[\"views\"])\n"
     ]
    },
    {
     "data": {
      "text/plain": [
       "SpearmanrResult(correlation=0.897894466702777, pvalue=0.0)"
      ]
     },
     "execution_count": 13,
     "metadata": {},
     "output_type": "execute_result"
    }
   ],
   "source": [
    "from scipy.stats import stats\n",
    "\n",
    "stats.spearmanr(youtube[\"likes\"],youtube[\"views\"])"
   ]
  },
  {
   "cell_type": "code",
   "execution_count": 14,
   "id": "98e1aeb9",
   "metadata": {},
   "outputs": [
    {
     "name": "stdout",
     "output_type": "stream",
     "text": [
      "Korelasyon Katsayısı = 0.8979, p-değeri = 0.0000\n"
     ]
    },
    {
     "name": "stderr",
     "output_type": "stream",
     "text": [
      "C:\\Users\\pc\\AppData\\Local\\Temp\\ipykernel_13160\\1884776656.py:1: DeprecationWarning: Please use `spearmanr` from the `scipy.stats` namespace, the `scipy.stats.stats` namespace is deprecated.\n",
      "  test_istatistigi, pvalue = stats.spearmanr(youtube[\"likes\"],youtube[\"views\"])\n"
     ]
    }
   ],
   "source": [
    "test_istatistigi, pvalue = stats.spearmanr(youtube[\"likes\"],youtube[\"views\"])\n",
    "print('Korelasyon Katsayısı = %.4f, p-değeri = %.4f' % (test_istatistigi, pvalue))"
   ]
  }
 ],
 "metadata": {
  "kernelspec": {
   "display_name": "Python 3 (ipykernel)",
   "language": "python",
   "name": "python3"
  },
  "language_info": {
   "codemirror_mode": {
    "name": "ipython",
    "version": 3
   },
   "file_extension": ".py",
   "mimetype": "text/x-python",
   "name": "python",
   "nbconvert_exporter": "python",
   "pygments_lexer": "ipython3",
   "version": "3.11.2"
  }
 },
 "nbformat": 4,
 "nbformat_minor": 5
}
