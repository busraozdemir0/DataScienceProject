{
 "cells": [
  {
   "cell_type": "markdown",
   "id": "97e17c80",
   "metadata": {},
   "source": [
    "# Makine Öğrenmesi"
   ]
  },
  {
   "cell_type": "markdown",
   "id": "9139821a",
   "metadata": {},
   "source": [
    "## 1. Doğrusal Regresyon"
   ]
  },
  {
   "cell_type": "markdown",
   "id": "d01a3872",
   "metadata": {},
   "source": [
    "Doğrusal regresyon analizi, bir değişkenin değerini başka bir değişkenin değerine göre tahmin etmek için kullanılır. Tahmin etmek istediğiniz değişken, bağımlı değişken olarak adlandırılır. Diğer değişkenin değerini tahmin etmek için kullandığınız değişken ise bağımsız değişken olarak adlandırılır.\n",
    "\n",
    "Birden çok doğrusal regresyon yöntemleri olsa da bu başlık altında \n",
    "##### • Basit Doğrusal Regresyon \n",
    "#####  • Çoklu Doğrusal Regresyon \n",
    "#####  • PLS (Kısmi En Küçük Kareler Regresyonu)\n",
    "#####  • ElasticNet (eNet) Regresyonu\n",
    "yöntemlerini ele alarak veri setimiz üzerinde inceleyeceğiz. "
   ]
  },
  {
   "cell_type": "markdown",
   "id": "cf79f111",
   "metadata": {},
   "source": [
    "## 1.1. Basit Doğrusal Regresyon"
   ]
  },
  {
   "cell_type": "markdown",
   "id": "69bcafde",
   "metadata": {},
   "source": [
    "### 1.1.1. Modelleme"
   ]
  },
  {
   "cell_type": "code",
   "execution_count": 1,
   "id": "92319d8a",
   "metadata": {},
   "outputs": [
    {
     "data": {
      "text/html": [
       "<div>\n",
       "<style scoped>\n",
       "    .dataframe tbody tr th:only-of-type {\n",
       "        vertical-align: middle;\n",
       "    }\n",
       "\n",
       "    .dataframe tbody tr th {\n",
       "        vertical-align: top;\n",
       "    }\n",
       "\n",
       "    .dataframe thead th {\n",
       "        text-align: right;\n",
       "    }\n",
       "</style>\n",
       "<table border=\"1\" class=\"dataframe\">\n",
       "  <thead>\n",
       "    <tr style=\"text-align: right;\">\n",
       "      <th></th>\n",
       "      <th>views</th>\n",
       "      <th>likes</th>\n",
       "      <th>dislikes</th>\n",
       "      <th>comment_count</th>\n",
       "    </tr>\n",
       "  </thead>\n",
       "  <tbody>\n",
       "    <tr>\n",
       "      <th>0</th>\n",
       "      <td>7224515</td>\n",
       "      <td>55681</td>\n",
       "      <td>10247</td>\n",
       "      <td>9479</td>\n",
       "    </tr>\n",
       "    <tr>\n",
       "      <th>1</th>\n",
       "      <td>1053632</td>\n",
       "      <td>25561</td>\n",
       "      <td>2294</td>\n",
       "      <td>2757</td>\n",
       "    </tr>\n",
       "    <tr>\n",
       "      <th>2</th>\n",
       "      <td>17158579</td>\n",
       "      <td>787420</td>\n",
       "      <td>43420</td>\n",
       "      <td>125882</td>\n",
       "    </tr>\n",
       "    <tr>\n",
       "      <th>3</th>\n",
       "      <td>27833</td>\n",
       "      <td>193</td>\n",
       "      <td>12</td>\n",
       "      <td>37</td>\n",
       "    </tr>\n",
       "    <tr>\n",
       "      <th>4</th>\n",
       "      <td>9815</td>\n",
       "      <td>30</td>\n",
       "      <td>2</td>\n",
       "      <td>30</td>\n",
       "    </tr>\n",
       "  </tbody>\n",
       "</table>\n",
       "</div>"
      ],
      "text/plain": [
       "      views   likes  dislikes  comment_count\n",
       "0   7224515   55681     10247           9479\n",
       "1   1053632   25561      2294           2757\n",
       "2  17158579  787420     43420         125882\n",
       "3     27833     193        12             37\n",
       "4      9815      30         2             30"
      ]
     },
     "execution_count": 1,
     "metadata": {},
     "output_type": "execute_result"
    }
   ],
   "source": [
    "import numpy as np\n",
    "import pandas as pd\n",
    "import seaborn as sns\n",
    "import matplotlib.pyplot as plt\n",
    "\n",
    "df=pd.read_csv(\"dataset/youtubeGB.csv\",usecols=[7,8,9,10]) # usecols ile hangi kolonların kullanılacağını belirttik.\n",
    "youtube=df.copy()\n",
    "youtube.head()"
   ]
  },
  {
   "cell_type": "code",
   "execution_count": 3,
   "id": "0b42a3c1",
   "metadata": {},
   "outputs": [
    {
     "data": {
      "text/html": [
       "<div>\n",
       "<style scoped>\n",
       "    .dataframe tbody tr th:only-of-type {\n",
       "        vertical-align: middle;\n",
       "    }\n",
       "\n",
       "    .dataframe tbody tr th {\n",
       "        vertical-align: top;\n",
       "    }\n",
       "\n",
       "    .dataframe thead th {\n",
       "        text-align: right;\n",
       "    }\n",
       "</style>\n",
       "<table border=\"1\" class=\"dataframe\">\n",
       "  <thead>\n",
       "    <tr style=\"text-align: right;\">\n",
       "      <th></th>\n",
       "      <th>count</th>\n",
       "      <th>mean</th>\n",
       "      <th>std</th>\n",
       "      <th>min</th>\n",
       "      <th>25%</th>\n",
       "      <th>50%</th>\n",
       "      <th>75%</th>\n",
       "      <th>max</th>\n",
       "    </tr>\n",
       "  </thead>\n",
       "  <tbody>\n",
       "    <tr>\n",
       "      <th>views</th>\n",
       "      <td>38916.0</td>\n",
       "      <td>5.911944e+06</td>\n",
       "      <td>1.900121e+07</td>\n",
       "      <td>851.0</td>\n",
       "      <td>251527.25</td>\n",
       "      <td>981889.0</td>\n",
       "      <td>3683628.50</td>\n",
       "      <td>424538912.0</td>\n",
       "    </tr>\n",
       "    <tr>\n",
       "      <th>likes</th>\n",
       "      <td>38916.0</td>\n",
       "      <td>1.345196e+05</td>\n",
       "      <td>3.499893e+05</td>\n",
       "      <td>0.0</td>\n",
       "      <td>5897.00</td>\n",
       "      <td>25182.5</td>\n",
       "      <td>114089.25</td>\n",
       "      <td>5613827.0</td>\n",
       "    </tr>\n",
       "    <tr>\n",
       "      <th>dislikes</th>\n",
       "      <td>38916.0</td>\n",
       "      <td>7.612560e+03</td>\n",
       "      <td>5.095683e+04</td>\n",
       "      <td>0.0</td>\n",
       "      <td>200.00</td>\n",
       "      <td>821.0</td>\n",
       "      <td>3357.50</td>\n",
       "      <td>1944971.0</td>\n",
       "    </tr>\n",
       "    <tr>\n",
       "      <th>comment_count</th>\n",
       "      <td>38916.0</td>\n",
       "      <td>1.308835e+04</td>\n",
       "      <td>5.066740e+04</td>\n",
       "      <td>0.0</td>\n",
       "      <td>679.00</td>\n",
       "      <td>2478.0</td>\n",
       "      <td>9241.50</td>\n",
       "      <td>1626501.0</td>\n",
       "    </tr>\n",
       "  </tbody>\n",
       "</table>\n",
       "</div>"
      ],
      "text/plain": [
       "                 count          mean           std    min        25%  \\\n",
       "views          38916.0  5.911944e+06  1.900121e+07  851.0  251527.25   \n",
       "likes          38916.0  1.345196e+05  3.499893e+05    0.0    5897.00   \n",
       "dislikes       38916.0  7.612560e+03  5.095683e+04    0.0     200.00   \n",
       "comment_count  38916.0  1.308835e+04  5.066740e+04    0.0     679.00   \n",
       "\n",
       "                    50%         75%          max  \n",
       "views          981889.0  3683628.50  424538912.0  \n",
       "likes           25182.5   114089.25    5613827.0  \n",
       "dislikes          821.0     3357.50    1944971.0  \n",
       "comment_count    2478.0     9241.50    1626501.0  "
      ]
     },
     "execution_count": 3,
     "metadata": {},
     "output_type": "execute_result"
    }
   ],
   "source": [
    "youtube.describe().T"
   ]
  },
  {
   "cell_type": "code",
   "execution_count": 4,
   "id": "d6056d95",
   "metadata": {},
   "outputs": [
    {
     "data": {
      "text/plain": [
       "False"
      ]
     },
     "execution_count": 4,
     "metadata": {},
     "output_type": "execute_result"
    }
   ],
   "source": [
    "# Verisetindeki kullanacağımız kolonlar arasında null ya da NaN değer var mı diye bakıyoruz.\n",
    "youtube.isnull().values.any()"
   ]
  },
  {
   "cell_type": "code",
   "execution_count": 5,
   "id": "1e4ec6f5",
   "metadata": {},
   "outputs": [
    {
     "data": {
      "text/html": [
       "<div>\n",
       "<style scoped>\n",
       "    .dataframe tbody tr th:only-of-type {\n",
       "        vertical-align: middle;\n",
       "    }\n",
       "\n",
       "    .dataframe tbody tr th {\n",
       "        vertical-align: top;\n",
       "    }\n",
       "\n",
       "    .dataframe thead th {\n",
       "        text-align: right;\n",
       "    }\n",
       "</style>\n",
       "<table border=\"1\" class=\"dataframe\">\n",
       "  <thead>\n",
       "    <tr style=\"text-align: right;\">\n",
       "      <th></th>\n",
       "      <th>views</th>\n",
       "      <th>likes</th>\n",
       "      <th>dislikes</th>\n",
       "      <th>comment_count</th>\n",
       "    </tr>\n",
       "  </thead>\n",
       "  <tbody>\n",
       "    <tr>\n",
       "      <th>views</th>\n",
       "      <td>1.000000</td>\n",
       "      <td>0.795862</td>\n",
       "      <td>0.392407</td>\n",
       "      <td>0.466899</td>\n",
       "    </tr>\n",
       "    <tr>\n",
       "      <th>likes</th>\n",
       "      <td>0.795862</td>\n",
       "      <td>1.000000</td>\n",
       "      <td>0.446746</td>\n",
       "      <td>0.744361</td>\n",
       "    </tr>\n",
       "    <tr>\n",
       "      <th>dislikes</th>\n",
       "      <td>0.392407</td>\n",
       "      <td>0.446746</td>\n",
       "      <td>1.000000</td>\n",
       "      <td>0.771772</td>\n",
       "    </tr>\n",
       "    <tr>\n",
       "      <th>comment_count</th>\n",
       "      <td>0.466899</td>\n",
       "      <td>0.744361</td>\n",
       "      <td>0.771772</td>\n",
       "      <td>1.000000</td>\n",
       "    </tr>\n",
       "  </tbody>\n",
       "</table>\n",
       "</div>"
      ],
      "text/plain": [
       "                  views     likes  dislikes  comment_count\n",
       "views          1.000000  0.795862  0.392407       0.466899\n",
       "likes          0.795862  1.000000  0.446746       0.744361\n",
       "dislikes       0.392407  0.446746  1.000000       0.771772\n",
       "comment_count  0.466899  0.744361  0.771772       1.000000"
      ]
     },
     "execution_count": 5,
     "metadata": {},
     "output_type": "execute_result"
    }
   ],
   "source": [
    "# Veriler arasındaki ilişkiyi(korelasyonu) bulalım.\n",
    "youtube.corr()"
   ]
  },
  {
   "cell_type": "markdown",
   "id": "3be0edb1",
   "metadata": {},
   "source": [
    "Yukarıda bağımsız değişkenlerin(likes, dislikes, comment_count) bağımlı değişken(views) üzerindeki etkisi görülmektedir."
   ]
  },
  {
   "cell_type": "code",
   "execution_count": 2,
   "id": "339f6e3b",
   "metadata": {},
   "outputs": [
    {
     "data": {
      "image/png": "[encoded data removed]",
      "text/plain": [
       "<Figure size 1000x1000 with 20 Axes>"
      ]
     },
     "metadata": {},
     "output_type": "display_data"
    }
   ],
   "source": [
    "# Yukarıdaki sonucu şimdi de grafik üzerinde görelim.\n",
    "sns.pairplot(youtube, kind =\"reg\");"
   ]
  },
  {
   "cell_type": "markdown",
   "id": "5732a0ee",
   "metadata": {},
   "source": [
    "##### Yukarıdaki grafiği incelediğimizde;\n",
    "######  - Beğeni sayılarının izlenme sayısına etkisinin az olduğunu yani korelasyon eğrisinin eğiminin az olduğunu görebiliyoruz.\n",
    "######  - Beğenmeme ve yorum sayılarının izlenme sayısına etkisinin beğeni sayısına etkisine göre fazla olduğunu görebilmekteyiz.\n",
    "######  - dislikes ve comment_count alanlarının izlenme sayılarındaki varyasyonu açıklama noktasında hem dislikes hem de comment_count alanlarını kullanabileceğimiz anlamına gelmektedir."
   ]
  },
  {
   "cell_type": "code",
   "execution_count": 4,
   "id": "9847e96c",
   "metadata": {},
   "outputs": [
    {
     "data": {
      "image/png": "[encoded data removed]",
      "text/plain": [
       "<Figure size 600x600 with 3 Axes>"
      ]
     },
     "metadata": {},
     "output_type": "display_data"
    }
   ],
   "source": [
    "# Yorum sayılarının izlenme sayısına olan etkisini grafik üzerinde görelim.\n",
    "sns.jointplot(x = \"comment_count\", y = \"views\", data = youtube, kind = \"reg\");"
   ]
  },
  {
   "cell_type": "markdown",
   "id": "9be3d914",
   "metadata": {},
   "source": [
    "### Sklearn ile Modelleme"
   ]
  },
  {
   "cell_type": "code",
   "execution_count": 9,
   "id": "e3773490",
   "metadata": {},
   "outputs": [
    {
     "name": "stdout",
     "output_type": "stream",
     "text": [
      "3620227.6997086382\n",
      "[175.09582004]\n"
     ]
    }
   ],
   "source": [
    "# Aynı işlemin sklearn kutuphanesi ile yapılması\n",
    "from sklearn.linear_model import LinearRegression\n",
    "\n",
    "X = youtube[[\"comment_count\"]]\n",
    "y = youtube[\"views\"]\n",
    "reg = LinearRegression()\n",
    "model = reg.fit(X, y) # fit() ile veri seti üzerinde modelin eğitilmesini gerçekleştirmiş oluyoruz. \n",
    "print(model.intercept_)\n",
    "print(model.coef_)"
   ]
  },
  {
   "cell_type": "code",
   "execution_count": 10,
   "id": "f2b2654b",
   "metadata": {},
   "outputs": [
    {
     "data": {
      "text/plain": [
       "0.21799487075803914"
      ]
     },
     "execution_count": 10,
     "metadata": {},
     "output_type": "execute_result"
    }
   ],
   "source": [
    "model.score(X,y) # score() yöntemi, modelin belirtilen veri seti üzerindeki doğruluk skorunu hesaplar."
   ]
  },
  {
   "cell_type": "code",
   "execution_count": 11,
   "id": "296fbe51",
   "metadata": {},
   "outputs": [
    {
     "data": {
      "text/plain": [
       "array([ 5279960.97785685,  4102966.87555574, 25661639.71783859,\n",
       "        3626706.24505008,  3625480.5743098 ,  4028726.24785926,\n",
       "       18515103.82295311,  3729487.49141288,  3657172.91773683,\n",
       "        5629102.04301431])"
      ]
     },
     "execution_count": 11,
     "metadata": {},
     "output_type": "execute_result"
    }
   ],
   "source": [
    "model.predict(X)[0:10] # Eğitilmiş bir makine öğrenmesi modelinin verilen giriş özellikleri X üzerinde tahmin yapmasını sağlar."
   ]
  },
  {
   "cell_type": "code",
   "execution_count": 12,
   "id": "5f7490e6",
   "metadata": {},
   "outputs": [
    {
     "data": {
      "text/plain": [
       "0     7224515\n",
       "1     1053632\n",
       "2    17158579\n",
       "3       27833\n",
       "4        9815\n",
       "5     1182775\n",
       "6    33523622\n",
       "7     1164201\n",
       "8      154494\n",
       "9     9548677\n",
       "Name: views, dtype: int64"
      ]
     },
     "execution_count": 12,
     "metadata": {},
     "output_type": "execute_result"
    }
   ],
   "source": [
    "y[0:10] # Gerçek değerler"
   ]
  },
  {
   "cell_type": "markdown",
   "id": "446e0ba1",
   "metadata": {},
   "source": [
    "### 1.1.2. Tahmin"
   ]
  },
  {
   "cell_type": "markdown",
   "id": "0cf400b9",
   "metadata": {},
   "source": [
    "###### Model Denklemi: \n",
    "    Views= 3620227.69 + comment_count*175.09"
   ]
  },
  {
   "cell_type": "code",
   "execution_count": 13,
   "id": "fd5c6cea",
   "metadata": {},
   "outputs": [
    {
     "data": {
      "text/plain": [
       "3621978.59"
      ]
     },
     "execution_count": 13,
     "metadata": {},
     "output_type": "execute_result"
    }
   ],
   "source": [
    "# Örneğin 10 yorum olduğunda izlenmelerin tahmini değeri ne olur?\n",
    "\n",
    "3620227.69 + 10*175.09"
   ]
  },
  {
   "cell_type": "code",
   "execution_count": 15,
   "id": "af9812a9",
   "metadata": {},
   "outputs": [
    {
     "data": {
      "text/plain": [
       "array([3621978.65790903])"
      ]
     },
     "execution_count": 15,
     "metadata": {},
     "output_type": "execute_result"
    }
   ],
   "source": [
    "from sklearn.linear_model import LinearRegression\n",
    "\n",
    "from warnings import filterwarnings\n",
    "filterwarnings('ignore') # Uyarı mesajlarını kapatmak için kullanılır.\n",
    "\n",
    "X = youtube[[\"comment_count\"]]\n",
    "y = youtube[\"views\"]\n",
    "reg = LinearRegression()\n",
    "model = reg.fit(X, y) # Modelin fit edilmesi(eğitilmesi)\n",
    "model.predict([[10]]) # Eğitilmiş model üzerinde tahmin yapmasını sağlar.\n"
   ]
  },
  {
   "cell_type": "markdown",
   "id": "c44ae208",
   "metadata": {},
   "source": [
    "Sonucun üsttekinden farklı olmasının sebebi; virgülden sonraki yuvarlama işlemimizden kaynaklanmaktadır."
   ]
  },
  {
   "cell_type": "code",
   "execution_count": 16,
   "id": "620e3ea5",
   "metadata": {},
   "outputs": [
    {
     "data": {
      "text/plain": [
       "array([3621103.17880883, 3628982.49071058, 3637737.28171252])"
      ]
     },
     "execution_count": 16,
     "metadata": {},
     "output_type": "execute_result"
    }
   ],
   "source": [
    "# Şimdi de çoklu tahmin işlemi yapalım.\n",
    "yeniVeri = [[5],[50],[100]]\n",
    "model.predict(yeniVeri)"
   ]
  },
  {
   "cell_type": "markdown",
   "id": "207b85d9",
   "metadata": {},
   "source": [
    "#### Artıklar ve Makine Öğrenmesindeki Önemi"
   ]
  },
  {
   "cell_type": "code",
   "execution_count": 17,
   "id": "1ff2a876",
   "metadata": {},
   "outputs": [
    {
     "data": {
      "text/html": [
       "<table class=\"simpletable\">\n",
       "<caption>OLS Regression Results</caption>\n",
       "<tr>\n",
       "  <th>Dep. Variable:</th>          <td>views</td>      <th>  R-squared:         </th>  <td>   0.218</td>  \n",
       "</tr>\n",
       "<tr>\n",
       "  <th>Model:</th>                   <td>OLS</td>       <th>  Adj. R-squared:    </th>  <td>   0.218</td>  \n",
       "</tr>\n",
       "<tr>\n",
       "  <th>Method:</th>             <td>Least Squares</td>  <th>  F-statistic:       </th>  <td>1.085e+04</td> \n",
       "</tr>\n",
       "<tr>\n",
       "  <th>Date:</th>             <td>Mon, 05 Jun 2023</td> <th>  Prob (F-statistic):</th>   <td>  0.00</td>   \n",
       "</tr>\n",
       "<tr>\n",
       "  <th>Time:</th>                 <td>22:06:46</td>     <th>  Log-Likelihood:    </th> <td>-7.0267e+05</td>\n",
       "</tr>\n",
       "<tr>\n",
       "  <th>No. Observations:</th>      <td> 38916</td>      <th>  AIC:               </th>  <td>1.405e+06</td> \n",
       "</tr>\n",
       "<tr>\n",
       "  <th>Df Residuals:</th>          <td> 38914</td>      <th>  BIC:               </th>  <td>1.405e+06</td> \n",
       "</tr>\n",
       "<tr>\n",
       "  <th>Df Model:</th>              <td>     1</td>      <th>                     </th>      <td> </td>     \n",
       "</tr>\n",
       "<tr>\n",
       "  <th>Covariance Type:</th>      <td>nonrobust</td>    <th>                     </th>      <td> </td>     \n",
       "</tr>\n",
       "</table>\n",
       "<table class=\"simpletable\">\n",
       "<tr>\n",
       "        <td></td>           <th>coef</th>     <th>std err</th>      <th>t</th>      <th>P>|t|</th>  <th>[0.025</th>    <th>0.975]</th>  \n",
       "</tr>\n",
       "<tr>\n",
       "  <th>Intercept</th>     <td>  3.62e+06</td> <td>  8.8e+04</td> <td>   41.151</td> <td> 0.000</td> <td> 3.45e+06</td> <td> 3.79e+06</td>\n",
       "</tr>\n",
       "<tr>\n",
       "  <th>comment_count</th> <td>  175.0958</td> <td>    1.681</td> <td>  104.153</td> <td> 0.000</td> <td>  171.801</td> <td>  178.391</td>\n",
       "</tr>\n",
       "</table>\n",
       "<table class=\"simpletable\">\n",
       "<tr>\n",
       "  <th>Omnibus:</th>       <td>55028.765</td> <th>  Durbin-Watson:     </th>   <td>   1.824</td>  \n",
       "</tr>\n",
       "<tr>\n",
       "  <th>Prob(Omnibus):</th>  <td> 0.000</td>   <th>  Jarque-Bera (JB):  </th> <td>32013840.857</td>\n",
       "</tr>\n",
       "<tr>\n",
       "  <th>Skew:</th>           <td> 8.155</td>   <th>  Prob(JB):          </th>   <td>    0.00</td>  \n",
       "</tr>\n",
       "<tr>\n",
       "  <th>Kurtosis:</th>       <td>142.561</td>  <th>  Cond. No.          </th>   <td>5.40e+04</td>  \n",
       "</tr>\n",
       "</table><br/><br/>Notes:<br/>[1] Standard Errors assume that the covariance matrix of the errors is correctly specified.<br/>[2] The condition number is large, 5.4e+04. This might indicate that there are<br/>strong multicollinearity or other numerical problems."
      ],
      "text/plain": [
       "<class 'statsmodels.iolib.summary.Summary'>\n",
       "\"\"\"\n",
       "                            OLS Regression Results                            \n",
       "==============================================================================\n",
       "Dep. Variable:                  views   R-squared:                       0.218\n",
       "Model:                            OLS   Adj. R-squared:                  0.218\n",
       "Method:                 Least Squares   F-statistic:                 1.085e+04\n",
       "Date:                Mon, 05 Jun 2023   Prob (F-statistic):               0.00\n",
       "Time:                        22:06:46   Log-Likelihood:            -7.0267e+05\n",
       "No. Observations:               38916   AIC:                         1.405e+06\n",
       "Df Residuals:                   38914   BIC:                         1.405e+06\n",
       "Df Model:                           1                                         \n",
       "Covariance Type:            nonrobust                                         \n",
       "=================================================================================\n",
       "                    coef    std err          t      P>|t|      [0.025      0.975]\n",
       "---------------------------------------------------------------------------------\n",
       "Intercept       3.62e+06    8.8e+04     41.151      0.000    3.45e+06    3.79e+06\n",
       "comment_count   175.0958      1.681    104.153      0.000     171.801     178.391\n",
       "==============================================================================\n",
       "Omnibus:                    55028.765   Durbin-Watson:                   1.824\n",
       "Prob(Omnibus):                  0.000   Jarque-Bera (JB):         32013840.857\n",
       "Skew:                           8.155   Prob(JB):                         0.00\n",
       "Kurtosis:                     142.561   Cond. No.                     5.40e+04\n",
       "==============================================================================\n",
       "\n",
       "Notes:\n",
       "[1] Standard Errors assume that the covariance matrix of the errors is correctly specified.\n",
       "[2] The condition number is large, 5.4e+04. This might indicate that there are\n",
       "strong multicollinearity or other numerical problems.\n",
       "\"\"\""
      ]
     },
     "execution_count": 17,
     "metadata": {},
     "output_type": "execute_result"
    }
   ],
   "source": [
    "from sklearn.metrics import mean_squared_error, r2_score\n",
    "import statsmodels.formula.api as smf\n",
    "\n",
    "lm = smf.ols(\"views ~ comment_count\", youtube)\n",
    "model = lm.fit()\n",
    "model.summary()"
   ]
  },
  {
   "cell_type": "code",
   "execution_count": 18,
   "id": "f5494c2f",
   "metadata": {},
   "outputs": [
    {
     "data": {
      "text/plain": [
       "282332552927934.9"
      ]
     },
     "execution_count": 18,
     "metadata": {},
     "output_type": "execute_result"
    }
   ],
   "source": [
    "# Gerçek değerler ile tahmin edilen değerler arasındaki farkların karelerinin ortalaması\n",
    "mse = mean_squared_error(y, model.fittedvalues)\n",
    "mse"
   ]
  },
  {
   "cell_type": "code",
   "execution_count": 19,
   "id": "db078e7a",
   "metadata": {},
   "outputs": [
    {
     "data": {
      "text/plain": [
       "16802754.325643606"
      ]
     },
     "execution_count": 19,
     "metadata": {},
     "output_type": "execute_result"
    }
   ],
   "source": [
    "# Yukarıdaki sonucun karekökünü alalım.\n",
    "rmse = np.sqrt(mse)\n",
    "rmse"
   ]
  },
  {
   "cell_type": "code",
   "execution_count": 22,
   "id": "4e066f7d",
   "metadata": {},
   "outputs": [
    {
     "data": {
      "text/html": [
       "<div>\n",
       "<style scoped>\n",
       "    .dataframe tbody tr th:only-of-type {\n",
       "        vertical-align: middle;\n",
       "    }\n",
       "\n",
       "    .dataframe tbody tr th {\n",
       "        vertical-align: top;\n",
       "    }\n",
       "\n",
       "    .dataframe thead th {\n",
       "        text-align: right;\n",
       "    }\n",
       "</style>\n",
       "<table border=\"1\" class=\"dataframe\">\n",
       "  <thead>\n",
       "    <tr style=\"text-align: right;\">\n",
       "      <th></th>\n",
       "      <th>gercek</th>\n",
       "      <th>tahmin</th>\n",
       "    </tr>\n",
       "  </thead>\n",
       "  <tbody>\n",
       "    <tr>\n",
       "      <th>0</th>\n",
       "      <td>7224515</td>\n",
       "      <td>5.279961e+06</td>\n",
       "    </tr>\n",
       "    <tr>\n",
       "      <th>1</th>\n",
       "      <td>1053632</td>\n",
       "      <td>4.102967e+06</td>\n",
       "    </tr>\n",
       "    <tr>\n",
       "      <th>2</th>\n",
       "      <td>17158579</td>\n",
       "      <td>2.566164e+07</td>\n",
       "    </tr>\n",
       "    <tr>\n",
       "      <th>3</th>\n",
       "      <td>27833</td>\n",
       "      <td>3.626706e+06</td>\n",
       "    </tr>\n",
       "    <tr>\n",
       "      <th>4</th>\n",
       "      <td>9815</td>\n",
       "      <td>3.625481e+06</td>\n",
       "    </tr>\n",
       "    <tr>\n",
       "      <th>5</th>\n",
       "      <td>1182775</td>\n",
       "      <td>4.028726e+06</td>\n",
       "    </tr>\n",
       "    <tr>\n",
       "      <th>6</th>\n",
       "      <td>33523622</td>\n",
       "      <td>1.851510e+07</td>\n",
       "    </tr>\n",
       "    <tr>\n",
       "      <th>7</th>\n",
       "      <td>1164201</td>\n",
       "      <td>3.729487e+06</td>\n",
       "    </tr>\n",
       "    <tr>\n",
       "      <th>8</th>\n",
       "      <td>154494</td>\n",
       "      <td>3.657173e+06</td>\n",
       "    </tr>\n",
       "    <tr>\n",
       "      <th>9</th>\n",
       "      <td>9548677</td>\n",
       "      <td>5.629102e+06</td>\n",
       "    </tr>\n",
       "  </tbody>\n",
       "</table>\n",
       "</div>"
      ],
      "text/plain": [
       "     gercek        tahmin\n",
       "0   7224515  5.279961e+06\n",
       "1   1053632  4.102967e+06\n",
       "2  17158579  2.566164e+07\n",
       "3     27833  3.626706e+06\n",
       "4      9815  3.625481e+06\n",
       "5   1182775  4.028726e+06\n",
       "6  33523622  1.851510e+07\n",
       "7   1164201  3.729487e+06\n",
       "8    154494  3.657173e+06\n",
       "9   9548677  5.629102e+06"
      ]
     },
     "execution_count": 22,
     "metadata": {},
     "output_type": "execute_result"
    }
   ],
   "source": [
    "# Karşılaştırma tablosu\n",
    "k_table = pd.DataFrame({\"gercek\": y[0:10],\n",
    "                        \"tahmin\": model.predict(X)[0:10]})\n",
    "k_table"
   ]
  },
  {
   "cell_type": "code",
   "execution_count": 23,
   "id": "249d1f5c",
   "metadata": {},
   "outputs": [
    {
     "data": {
      "text/html": [
       "<div>\n",
       "<style scoped>\n",
       "    .dataframe tbody tr th:only-of-type {\n",
       "        vertical-align: middle;\n",
       "    }\n",
       "\n",
       "    .dataframe tbody tr th {\n",
       "        vertical-align: top;\n",
       "    }\n",
       "\n",
       "    .dataframe thead th {\n",
       "        text-align: right;\n",
       "    }\n",
       "</style>\n",
       "<table border=\"1\" class=\"dataframe\">\n",
       "  <thead>\n",
       "    <tr style=\"text-align: right;\">\n",
       "      <th></th>\n",
       "      <th>gercek</th>\n",
       "      <th>tahmin</th>\n",
       "      <th>hata</th>\n",
       "    </tr>\n",
       "  </thead>\n",
       "  <tbody>\n",
       "    <tr>\n",
       "      <th>0</th>\n",
       "      <td>7224515</td>\n",
       "      <td>5.279961e+06</td>\n",
       "      <td>1.944554e+06</td>\n",
       "    </tr>\n",
       "    <tr>\n",
       "      <th>1</th>\n",
       "      <td>1053632</td>\n",
       "      <td>4.102967e+06</td>\n",
       "      <td>-3.049335e+06</td>\n",
       "    </tr>\n",
       "    <tr>\n",
       "      <th>2</th>\n",
       "      <td>17158579</td>\n",
       "      <td>2.566164e+07</td>\n",
       "      <td>-8.503061e+06</td>\n",
       "    </tr>\n",
       "    <tr>\n",
       "      <th>3</th>\n",
       "      <td>27833</td>\n",
       "      <td>3.626706e+06</td>\n",
       "      <td>-3.598873e+06</td>\n",
       "    </tr>\n",
       "    <tr>\n",
       "      <th>4</th>\n",
       "      <td>9815</td>\n",
       "      <td>3.625481e+06</td>\n",
       "      <td>-3.615666e+06</td>\n",
       "    </tr>\n",
       "    <tr>\n",
       "      <th>5</th>\n",
       "      <td>1182775</td>\n",
       "      <td>4.028726e+06</td>\n",
       "      <td>-2.845951e+06</td>\n",
       "    </tr>\n",
       "    <tr>\n",
       "      <th>6</th>\n",
       "      <td>33523622</td>\n",
       "      <td>1.851510e+07</td>\n",
       "      <td>1.500852e+07</td>\n",
       "    </tr>\n",
       "    <tr>\n",
       "      <th>7</th>\n",
       "      <td>1164201</td>\n",
       "      <td>3.729487e+06</td>\n",
       "      <td>-2.565286e+06</td>\n",
       "    </tr>\n",
       "    <tr>\n",
       "      <th>8</th>\n",
       "      <td>154494</td>\n",
       "      <td>3.657173e+06</td>\n",
       "      <td>-3.502679e+06</td>\n",
       "    </tr>\n",
       "    <tr>\n",
       "      <th>9</th>\n",
       "      <td>9548677</td>\n",
       "      <td>5.629102e+06</td>\n",
       "      <td>3.919575e+06</td>\n",
       "    </tr>\n",
       "  </tbody>\n",
       "</table>\n",
       "</div>"
      ],
      "text/plain": [
       "     gercek        tahmin          hata\n",
       "0   7224515  5.279961e+06  1.944554e+06\n",
       "1   1053632  4.102967e+06 -3.049335e+06\n",
       "2  17158579  2.566164e+07 -8.503061e+06\n",
       "3     27833  3.626706e+06 -3.598873e+06\n",
       "4      9815  3.625481e+06 -3.615666e+06\n",
       "5   1182775  4.028726e+06 -2.845951e+06\n",
       "6  33523622  1.851510e+07  1.500852e+07\n",
       "7   1164201  3.729487e+06 -2.565286e+06\n",
       "8    154494  3.657173e+06 -3.502679e+06\n",
       "9   9548677  5.629102e+06  3.919575e+06"
      ]
     },
     "execution_count": 23,
     "metadata": {},
     "output_type": "execute_result"
    }
   ],
   "source": [
    "# Gerçek değerlerden tahmin değerleri çıkarıp hataları hesaplayalım.\n",
    "k_table[\"hata\"] = k_table[\"gercek\"] - k_table[\"tahmin\"]\n",
    "k_table"
   ]
  },
  {
   "cell_type": "code",
   "execution_count": 24,
   "id": "efde81e1",
   "metadata": {},
   "outputs": [
    {
     "data": {
      "text/html": [
       "<div>\n",
       "<style scoped>\n",
       "    .dataframe tbody tr th:only-of-type {\n",
       "        vertical-align: middle;\n",
       "    }\n",
       "\n",
       "    .dataframe tbody tr th {\n",
       "        vertical-align: top;\n",
       "    }\n",
       "\n",
       "    .dataframe thead th {\n",
       "        text-align: right;\n",
       "    }\n",
       "</style>\n",
       "<table border=\"1\" class=\"dataframe\">\n",
       "  <thead>\n",
       "    <tr style=\"text-align: right;\">\n",
       "      <th></th>\n",
       "      <th>gercek</th>\n",
       "      <th>tahmin</th>\n",
       "      <th>hata</th>\n",
       "      <th>hata_kare</th>\n",
       "    </tr>\n",
       "  </thead>\n",
       "  <tbody>\n",
       "    <tr>\n",
       "      <th>0</th>\n",
       "      <td>7224515</td>\n",
       "      <td>5.279961e+06</td>\n",
       "      <td>1.944554e+06</td>\n",
       "      <td>3.781290e+12</td>\n",
       "    </tr>\n",
       "    <tr>\n",
       "      <th>1</th>\n",
       "      <td>1053632</td>\n",
       "      <td>4.102967e+06</td>\n",
       "      <td>-3.049335e+06</td>\n",
       "      <td>9.298443e+12</td>\n",
       "    </tr>\n",
       "    <tr>\n",
       "      <th>2</th>\n",
       "      <td>17158579</td>\n",
       "      <td>2.566164e+07</td>\n",
       "      <td>-8.503061e+06</td>\n",
       "      <td>7.230204e+13</td>\n",
       "    </tr>\n",
       "    <tr>\n",
       "      <th>3</th>\n",
       "      <td>27833</td>\n",
       "      <td>3.626706e+06</td>\n",
       "      <td>-3.598873e+06</td>\n",
       "      <td>1.295189e+13</td>\n",
       "    </tr>\n",
       "    <tr>\n",
       "      <th>4</th>\n",
       "      <td>9815</td>\n",
       "      <td>3.625481e+06</td>\n",
       "      <td>-3.615666e+06</td>\n",
       "      <td>1.307304e+13</td>\n",
       "    </tr>\n",
       "    <tr>\n",
       "      <th>5</th>\n",
       "      <td>1182775</td>\n",
       "      <td>4.028726e+06</td>\n",
       "      <td>-2.845951e+06</td>\n",
       "      <td>8.099439e+12</td>\n",
       "    </tr>\n",
       "    <tr>\n",
       "      <th>6</th>\n",
       "      <td>33523622</td>\n",
       "      <td>1.851510e+07</td>\n",
       "      <td>1.500852e+07</td>\n",
       "      <td>2.252556e+14</td>\n",
       "    </tr>\n",
       "    <tr>\n",
       "      <th>7</th>\n",
       "      <td>1164201</td>\n",
       "      <td>3.729487e+06</td>\n",
       "      <td>-2.565286e+06</td>\n",
       "      <td>6.580695e+12</td>\n",
       "    </tr>\n",
       "    <tr>\n",
       "      <th>8</th>\n",
       "      <td>154494</td>\n",
       "      <td>3.657173e+06</td>\n",
       "      <td>-3.502679e+06</td>\n",
       "      <td>1.226876e+13</td>\n",
       "    </tr>\n",
       "    <tr>\n",
       "      <th>9</th>\n",
       "      <td>9548677</td>\n",
       "      <td>5.629102e+06</td>\n",
       "      <td>3.919575e+06</td>\n",
       "      <td>1.536307e+13</td>\n",
       "    </tr>\n",
       "  </tbody>\n",
       "</table>\n",
       "</div>"
      ],
      "text/plain": [
       "     gercek        tahmin          hata     hata_kare\n",
       "0   7224515  5.279961e+06  1.944554e+06  3.781290e+12\n",
       "1   1053632  4.102967e+06 -3.049335e+06  9.298443e+12\n",
       "2  17158579  2.566164e+07 -8.503061e+06  7.230204e+13\n",
       "3     27833  3.626706e+06 -3.598873e+06  1.295189e+13\n",
       "4      9815  3.625481e+06 -3.615666e+06  1.307304e+13\n",
       "5   1182775  4.028726e+06 -2.845951e+06  8.099439e+12\n",
       "6  33523622  1.851510e+07  1.500852e+07  2.252556e+14\n",
       "7   1164201  3.729487e+06 -2.565286e+06  6.580695e+12\n",
       "8    154494  3.657173e+06 -3.502679e+06  1.226876e+13\n",
       "9   9548677  5.629102e+06  3.919575e+06  1.536307e+13"
      ]
     },
     "execution_count": 24,
     "metadata": {},
     "output_type": "execute_result"
    }
   ],
   "source": [
    "# Hataların karelerini alıp hata_kare adlı kolon altında yazalım.\n",
    "k_table[\"hata_kare\"] = k_table[\"hata\"]**2\n",
    "k_table"
   ]
  },
  {
   "cell_type": "code",
   "execution_count": 25,
   "id": "7ceb1d07",
   "metadata": {},
   "outputs": [
    {
     "data": {
      "text/plain": [
       "378974279881900.75"
      ]
     },
     "execution_count": 25,
     "metadata": {},
     "output_type": "execute_result"
    }
   ],
   "source": [
    "# Toplam hata\n",
    "np.sum(k_table[\"hata_kare\"])"
   ]
  },
  {
   "cell_type": "code",
   "execution_count": 26,
   "id": "dd23fd92",
   "metadata": {},
   "outputs": [
    {
     "data": {
      "text/plain": [
       "37897427988190.08"
      ]
     },
     "execution_count": 26,
     "metadata": {},
     "output_type": "execute_result"
    }
   ],
   "source": [
    "# Hata kareler ortalaması\n",
    "np.mean(k_table[\"hata_kare\"])"
   ]
  },
  {
   "cell_type": "code",
   "execution_count": 27,
   "id": "1d2a8edd",
   "metadata": {},
   "outputs": [
    {
     "data": {
      "text/plain": [
       "6156088.692358978"
      ]
     },
     "execution_count": 27,
     "metadata": {},
     "output_type": "execute_result"
    }
   ],
   "source": [
    "# Hata kareler ortalamasının karekokü\n",
    "np.sqrt(np.mean(k_table[\"hata_kare\"]))"
   ]
  },
  {
   "cell_type": "code",
   "execution_count": 28,
   "id": "260cc63d",
   "metadata": {},
   "outputs": [
    {
     "data": {
      "text/plain": [
       "0    1.944554e+06\n",
       "1   -3.049335e+06\n",
       "2   -8.503061e+06\n",
       "3   -3.598873e+06\n",
       "4   -3.615666e+06\n",
       "5   -2.845951e+06\n",
       "6    1.500852e+07\n",
       "7   -2.565286e+06\n",
       "8   -3.502679e+06\n",
       "9    3.919575e+06\n",
       "dtype: float64"
      ]
     },
     "execution_count": 28,
     "metadata": {},
     "output_type": "execute_result"
    }
   ],
   "source": [
    "# Her bir tahmin için artıklar/hatalar (10 gözlem için)\n",
    "# Bu tahmin hataları, modelin performansını değerlendirmek veya hataların dağılımını incelemek için kullanılabilmektedir.\n",
    "model.resid[0:10]"
   ]
  },
  {
   "cell_type": "code",
   "execution_count": 31,
   "id": "e3456d5b",
   "metadata": {},
   "outputs": [
    {
     "data": {
      "image/png": "[encoded data removed]",
      "text/plain": [
       "<Figure size 640x480 with 1 Axes>"
      ]
     },
     "metadata": {},
     "output_type": "display_data"
    }
   ],
   "source": [
    "# Artıkların görselleştirilmesi\n",
    "# Bu hatalar veri setindeki aykırı değerlerden mi kaynaklanıyor gibi soruların sorulabileceği ve bu sorulara yanıt+ \n",
    "# aramaya bizi sevk edecek gözlemler.\n",
    "import matplotlib.pyplot as plt\n",
    "\n",
    "plt.plot(model.resid);"
   ]
  },
  {
   "cell_type": "markdown",
   "id": "83f94981",
   "metadata": {},
   "source": [
    "## 1.2. Çoklu Doğrusal Regresyon"
   ]
  },
  {
   "cell_type": "markdown",
   "id": "6d331ffa",
   "metadata": {},
   "source": [
    "Bağımlı değişkeni etkilediği düşünülen bağımsız değişkenlerden hangisinin ya da hangilerinin bağımlı değişkeni ne yönde ve ne şekilde etkilediğini tespit edebilmek için kullanılabilir."
   ]
  },
  {
   "cell_type": "markdown",
   "id": "91f5751f",
   "metadata": {},
   "source": [
    "#### Verisetinin Eğitim ve Test Verisetlerine Bölünmesi\n"
   ]
  },
  {
   "cell_type": "code",
   "execution_count": 15,
   "id": "7b7da999",
   "metadata": {},
   "outputs": [
    {
     "data": {
      "text/html": [
       "<div>\n",
       "<style scoped>\n",
       "    .dataframe tbody tr th:only-of-type {\n",
       "        vertical-align: middle;\n",
       "    }\n",
       "\n",
       "    .dataframe tbody tr th {\n",
       "        vertical-align: top;\n",
       "    }\n",
       "\n",
       "    .dataframe thead th {\n",
       "        text-align: right;\n",
       "    }\n",
       "</style>\n",
       "<table border=\"1\" class=\"dataframe\">\n",
       "  <thead>\n",
       "    <tr style=\"text-align: right;\">\n",
       "      <th></th>\n",
       "      <th>views</th>\n",
       "      <th>likes</th>\n",
       "      <th>dislikes</th>\n",
       "      <th>comment_count</th>\n",
       "    </tr>\n",
       "  </thead>\n",
       "  <tbody>\n",
       "    <tr>\n",
       "      <th>0</th>\n",
       "      <td>7224515</td>\n",
       "      <td>55681</td>\n",
       "      <td>10247</td>\n",
       "      <td>9479</td>\n",
       "    </tr>\n",
       "    <tr>\n",
       "      <th>1</th>\n",
       "      <td>1053632</td>\n",
       "      <td>25561</td>\n",
       "      <td>2294</td>\n",
       "      <td>2757</td>\n",
       "    </tr>\n",
       "    <tr>\n",
       "      <th>2</th>\n",
       "      <td>17158579</td>\n",
       "      <td>787420</td>\n",
       "      <td>43420</td>\n",
       "      <td>125882</td>\n",
       "    </tr>\n",
       "    <tr>\n",
       "      <th>3</th>\n",
       "      <td>27833</td>\n",
       "      <td>193</td>\n",
       "      <td>12</td>\n",
       "      <td>37</td>\n",
       "    </tr>\n",
       "    <tr>\n",
       "      <th>4</th>\n",
       "      <td>9815</td>\n",
       "      <td>30</td>\n",
       "      <td>2</td>\n",
       "      <td>30</td>\n",
       "    </tr>\n",
       "  </tbody>\n",
       "</table>\n",
       "</div>"
      ],
      "text/plain": [
       "      views   likes  dislikes  comment_count\n",
       "0   7224515   55681     10247           9479\n",
       "1   1053632   25561      2294           2757\n",
       "2  17158579  787420     43420         125882\n",
       "3     27833     193        12             37\n",
       "4      9815      30         2             30"
      ]
     },
     "execution_count": 15,
     "metadata": {},
     "output_type": "execute_result"
    }
   ],
   "source": [
    "import pandas as pd\n",
    "\n",
    "df=pd.read_csv(\"dataset/youtubeGB.csv\",usecols=[7,8,9,10])\n",
    "youtube=df.copy()\n",
    "youtube.head()"
   ]
  },
  {
   "cell_type": "code",
   "execution_count": 33,
   "id": "ca7c57ee",
   "metadata": {},
   "outputs": [
    {
     "name": "stdout",
     "output_type": "stream",
     "text": [
      "(31132, 3)\n",
      "(31132,)\n",
      "(7784, 3)\n",
      "(7784,)\n"
     ]
    }
   ],
   "source": [
    "from sklearn.model_selection import train_test_split, cross_val_score, cross_val_predict\n",
    "\n",
    "X = youtube.drop(\"views\", axis = 1)\n",
    "y = youtube[\"views\"]\n",
    "# randomstate; her üretme işleminde farklı değerler çıkmasını istemedigimizden rastgele bir değer veriyoruz.\n",
    "X_train, X_test, y_train, y_test = train_test_split(X, y, test_size = 0.20, random_state= 42)\n",
    "print(X_train.shape)\n",
    "print(y_train.shape)\n",
    "print(X_test.shape)\n",
    "print(y_test.shape)"
   ]
  },
  {
   "cell_type": "code",
   "execution_count": 34,
   "id": "dc8fdad3",
   "metadata": {},
   "outputs": [
    {
     "data": {
      "text/plain": [
       "(38916, 4)"
      ]
     },
     "execution_count": 34,
     "metadata": {},
     "output_type": "execute_result"
    }
   ],
   "source": [
    "# Verisetinin bütününün kopyası\n",
    "training = youtube.copy()\n",
    "training.shape"
   ]
  },
  {
   "cell_type": "markdown",
   "id": "3189ad26",
   "metadata": {},
   "source": [
    "### 1.2.1. Model"
   ]
  },
  {
   "cell_type": "markdown",
   "id": "2fe4cd81",
   "metadata": {},
   "source": [
    "#### Statsmodels ile modelleme"
   ]
  },
  {
   "cell_type": "markdown",
   "id": "d979656c",
   "metadata": {},
   "source": [
    "Eğer niyetimiz yorumlama yapmak ise Statsmodels kullanmak daha yararlı ve avantajlı olacaktır. "
   ]
  },
  {
   "cell_type": "code",
   "execution_count": 35,
   "id": "e90b3a9b",
   "metadata": {},
   "outputs": [
    {
     "data": {
      "text/html": [
       "<table class=\"simpletable\">\n",
       "<caption>OLS Regression Results</caption>\n",
       "<tr>\n",
       "  <th>Dep. Variable:</th>          <td>views</td>      <th>  R-squared (uncentered):</th>       <td>   1.455</td>  \n",
       "</tr>\n",
       "<tr>\n",
       "  <th>Model:</th>                   <td>OLS</td>       <th>  Adj. R-squared (uncentered):</th>  <td>   1.455</td>  \n",
       "</tr>\n",
       "<tr>\n",
       "  <th>Method:</th>             <td>Least Squares</td>  <th>  F-statistic:       </th>          <td>-3.318e+04</td> \n",
       "</tr>\n",
       "<tr>\n",
       "  <th>Date:</th>             <td>Mon, 05 Jun 2023</td> <th>  Prob (F-statistic):</th>            <td>  1.00</td>   \n",
       "</tr>\n",
       "<tr>\n",
       "  <th>Time:</th>                 <td>22:57:26</td>     <th>  Log-Likelihood:    </th>          <td>-5.4485e+05</td>\n",
       "</tr>\n",
       "<tr>\n",
       "  <th>No. Observations:</th>      <td> 31132</td>      <th>  AIC:               </th>           <td>1.090e+06</td> \n",
       "</tr>\n",
       "<tr>\n",
       "  <th>Df Residuals:</th>          <td> 31129</td>      <th>  BIC:               </th>           <td>1.090e+06</td> \n",
       "</tr>\n",
       "<tr>\n",
       "  <th>Df Model:</th>              <td>     3</td>      <th>                     </th>               <td> </td>     \n",
       "</tr>\n",
       "<tr>\n",
       "  <th>Covariance Type:</th>      <td>nonrobust</td>    <th>                     </th>               <td> </td>     \n",
       "</tr>\n",
       "</table>\n",
       "<table class=\"simpletable\">\n",
       "<tr>\n",
       "        <td></td>           <th>coef</th>     <th>std err</th>      <th>t</th>      <th>P>|t|</th>  <th>[0.025</th>    <th>0.975]</th>  \n",
       "</tr>\n",
       "<tr>\n",
       "  <th>likes</th>         <td>   61.4422</td> <td>    0.241</td> <td>  255.282</td> <td> 0.000</td> <td>   60.970</td> <td>   61.914</td>\n",
       "</tr>\n",
       "<tr>\n",
       "  <th>dislikes</th>      <td>  168.4715</td> <td>    1.842</td> <td>   91.482</td> <td> 0.000</td> <td>  164.862</td> <td>  172.081</td>\n",
       "</tr>\n",
       "<tr>\n",
       "  <th>comment_count</th> <td> -276.6563</td> <td>    2.533</td> <td> -109.226</td> <td> 0.000</td> <td> -281.621</td> <td> -271.692</td>\n",
       "</tr>\n",
       "</table>\n",
       "<table class=\"simpletable\">\n",
       "<tr>\n",
       "  <th>Omnibus:</th>       <td>39378.062</td> <th>  Durbin-Watson:     </th>   <td>   2.017</td>  \n",
       "</tr>\n",
       "<tr>\n",
       "  <th>Prob(Omnibus):</th>  <td> 0.000</td>   <th>  Jarque-Bera (JB):  </th> <td>23061409.078</td>\n",
       "</tr>\n",
       "<tr>\n",
       "  <th>Skew:</th>           <td> 6.487</td>   <th>  Prob(JB):          </th>   <td>    0.00</td>  \n",
       "</tr>\n",
       "<tr>\n",
       "  <th>Kurtosis:</th>       <td>135.703</td>  <th>  Cond. No.          </th>   <td>    20.1</td>  \n",
       "</tr>\n",
       "</table><br/><br/>Notes:<br/>[1] R² is computed without centering (uncentered) since the model does not contain a constant.<br/>[2] Standard Errors assume that the covariance matrix of the errors is correctly specified."
      ],
      "text/plain": [
       "<class 'statsmodels.iolib.summary.Summary'>\n",
       "\"\"\"\n",
       "                                 OLS Regression Results                                \n",
       "=======================================================================================\n",
       "Dep. Variable:                  views   R-squared (uncentered):                   1.455\n",
       "Model:                            OLS   Adj. R-squared (uncentered):              1.455\n",
       "Method:                 Least Squares   F-statistic:                         -3.318e+04\n",
       "Date:                Mon, 05 Jun 2023   Prob (F-statistic):                        1.00\n",
       "Time:                        22:57:26   Log-Likelihood:                     -5.4485e+05\n",
       "No. Observations:               31132   AIC:                                  1.090e+06\n",
       "Df Residuals:                   31129   BIC:                                  1.090e+06\n",
       "Df Model:                           3                                                  \n",
       "Covariance Type:            nonrobust                                                  \n",
       "=================================================================================\n",
       "                    coef    std err          t      P>|t|      [0.025      0.975]\n",
       "---------------------------------------------------------------------------------\n",
       "likes            61.4422      0.241    255.282      0.000      60.970      61.914\n",
       "dislikes        168.4715      1.842     91.482      0.000     164.862     172.081\n",
       "comment_count  -276.6563      2.533   -109.226      0.000    -281.621    -271.692\n",
       "==============================================================================\n",
       "Omnibus:                    39378.062   Durbin-Watson:                   2.017\n",
       "Prob(Omnibus):                  0.000   Jarque-Bera (JB):         23061409.078\n",
       "Skew:                           6.487   Prob(JB):                         0.00\n",
       "Kurtosis:                     135.703   Cond. No.                         20.1\n",
       "==============================================================================\n",
       "\n",
       "Notes:\n",
       "[1] R² is computed without centering (uncentered) since the model does not contain a constant.\n",
       "[2] Standard Errors assume that the covariance matrix of the errors is correctly specified.\n",
       "\"\"\""
      ]
     },
     "execution_count": 35,
     "metadata": {},
     "output_type": "execute_result"
    }
   ],
   "source": [
    "import statsmodels.api as sm\n",
    "\n",
    "lm = sm.OLS(y_train, X_train)\n",
    "model = lm.fit()\n",
    "model.summary() # Eğitilmiş doğrusal regresyon modelinin istatistiksel özetini görüntülemektedir."
   ]
  },
  {
   "cell_type": "markdown",
   "id": "1844fbfa",
   "metadata": {},
   "source": [
    "#### scikit-learn ile modelleme"
   ]
  },
  {
   "cell_type": "markdown",
   "id": "68533b93",
   "metadata": {},
   "source": [
    "Yorumlama konusunda Statsmodels kadar iyi değildir."
   ]
  },
  {
   "cell_type": "code",
   "execution_count": 36,
   "id": "bfba9671",
   "metadata": {},
   "outputs": [
    {
     "name": "stdout",
     "output_type": "stream",
     "text": [
      "-47884.70713706501\n",
      "[  61.49361499  168.46482623 -276.6928226 ]\n"
     ]
    }
   ],
   "source": [
    "from sklearn.linear_model import LinearRegression\n",
    "\n",
    "lm = LinearRegression() # Doğrusal regresyon modeli oluşturuyoruz.\n",
    "model = lm.fit(X_train, y_train) # Oluşturulan model eğitilir.\n",
    "# Sabit katsayı\n",
    "print(model.intercept_)\n",
    "# Bağımsız değişken katsayıları\n",
    "print(model.coef_)"
   ]
  },
  {
   "cell_type": "markdown",
   "id": "4f59d1a9",
   "metadata": {},
   "source": [
    "### 1.2.2. Tahmin"
   ]
  },
  {
   "cell_type": "markdown",
   "id": "c65bfafc",
   "metadata": {},
   "source": [
    "##### Model Denklemi:\n",
    "    Views= -47884.70 + likes*61.49 + dislikes*168.46 + comment_count*(-276.69)"
   ]
  },
  {
   "cell_type": "code",
   "execution_count": 37,
   "id": "5996226d",
   "metadata": {},
   "outputs": [
    {
     "data": {
      "text/html": [
       "<div>\n",
       "<style scoped>\n",
       "    .dataframe tbody tr th:only-of-type {\n",
       "        vertical-align: middle;\n",
       "    }\n",
       "\n",
       "    .dataframe tbody tr th {\n",
       "        vertical-align: top;\n",
       "    }\n",
       "\n",
       "    .dataframe thead th {\n",
       "        text-align: right;\n",
       "    }\n",
       "</style>\n",
       "<table border=\"1\" class=\"dataframe\">\n",
       "  <thead>\n",
       "    <tr style=\"text-align: right;\">\n",
       "      <th></th>\n",
       "      <th>0</th>\n",
       "      <th>1</th>\n",
       "      <th>2</th>\n",
       "    </tr>\n",
       "  </thead>\n",
       "  <tbody>\n",
       "    <tr>\n",
       "      <th>0</th>\n",
       "      <td>20</td>\n",
       "      <td>1</td>\n",
       "      <td>10</td>\n",
       "    </tr>\n",
       "  </tbody>\n",
       "</table>\n",
       "</div>"
      ],
      "text/plain": [
       "    0  1   2\n",
       "0  20  1  10"
      ]
     },
     "execution_count": 37,
     "metadata": {},
     "output_type": "execute_result"
    }
   ],
   "source": [
    "# Örneğin 20 beğeni, 1 beğenmeme, 10 yorum olduğunda izlenmelerin tahmini değeri ne olur?\n",
    "\n",
    "yeni_veri = [[20], [1],[10]]\n",
    "yeni_veri = pd.DataFrame(yeni_veri).T\n",
    "yeni_veri"
   ]
  },
  {
   "cell_type": "code",
   "execution_count": 38,
   "id": "05f839c5",
   "metadata": {},
   "outputs": [
    {
     "data": {
      "text/plain": [
       "array([-49253.29823701])"
      ]
     },
     "execution_count": 38,
     "metadata": {},
     "output_type": "execute_result"
    }
   ],
   "source": [
    "# Modele örnek verilerimizi gönderip tahmini değer çıktısını üretiyoruz.\n",
    "model.predict(yeni_veri)"
   ]
  },
  {
   "cell_type": "code",
   "execution_count": 39,
   "id": "52b7b639",
   "metadata": {},
   "outputs": [
    {
     "data": {
      "text/plain": [
       "9648299.924542176"
      ]
     },
     "execution_count": 39,
     "metadata": {},
     "output_type": "execute_result"
    }
   ],
   "source": [
    "from sklearn.metrics import mean_squared_error\n",
    "\n",
    "# Eğitim hatası\n",
    "rmse = np.sqrt(mean_squared_error(y_train, model.predict(X_train)))\n",
    "rmse"
   ]
  },
  {
   "cell_type": "code",
   "execution_count": 40,
   "id": "5b52f6e8",
   "metadata": {},
   "outputs": [
    {
     "data": {
      "text/plain": [
       "9985626.025411393"
      ]
     },
     "execution_count": 40,
     "metadata": {},
     "output_type": "execute_result"
    }
   ],
   "source": [
    "# Test hatası\n",
    "rmse = np.sqrt(mean_squared_error(y_test, model.predict(X_test)))\n",
    "rmse"
   ]
  },
  {
   "cell_type": "markdown",
   "id": "072fb43a",
   "metadata": {},
   "source": [
    "### 1.2.3. Model Tuning / Model Doğrulama"
   ]
  },
  {
   "cell_type": "markdown",
   "id": "a1862e90",
   "metadata": {},
   "source": [
    "Model Tuning, bir makine öğrenmesi modelinin hiperparametrelerini ayarlayarak, modelin performansını iyileştirmek ve daha iyi genelleme yapabilmesini sağlamak için yapılan bir süreçtir."
   ]
  },
  {
   "cell_type": "code",
   "execution_count": 42,
   "id": "91bdf316",
   "metadata": {},
   "outputs": [
    {
     "name": "stdout",
     "output_type": "stream",
     "text": [
      "9784338.982438542\n",
      "9423784.748363052\n"
     ]
    },
    {
     "data": {
      "text/plain": [
       "0.7363119131530064"
      ]
     },
     "execution_count": 42,
     "metadata": {},
     "output_type": "execute_result"
    }
   ],
   "source": [
    "X = youtube.drop('views', axis=1)\n",
    "y = youtube[\"views\"]\n",
    "X_train, X_test, y_train, y_test = train_test_split(X, y, test_size=0.20, random_state=90)\n",
    "lm = LinearRegression()\n",
    "model = lm.fit(X_train, y_train)\n",
    "\n",
    "rmseTrain=np.sqrt(mean_squared_error(y_train, model.predict(X_train)))\n",
    "print(rmseTrain)\n",
    "rmseTest=np.sqrt(mean_squared_error(y_test, model.predict(X_test)))\n",
    "print(rmseTest)\n",
    "model.score(X_train, y_train)"
   ]
  },
  {
   "cell_type": "markdown",
   "id": "ccb42afc",
   "metadata": {},
   "source": [
    "###### Not: \n",
    "test ve train için eleman seçerken rastgelelilik kullandık. Ancak bu durum test skorlarımızı etkileyecektir. Bunun için de cross validation (çapraz doğrulama) yöntemini kullanabiliriz. Aşağıda 10 çevrimlik bir cross validation gerçekleştirilip ortalamaları alınmıştır. Böylelikle daha güvenilir bir hata bilgisine sahip olabiliriz."
   ]
  },
  {
   "cell_type": "code",
   "execution_count": 43,
   "id": "33b24bd0",
   "metadata": {},
   "outputs": [
    {
     "data": {
      "text/plain": [
       "0.7355886021817033"
      ]
     },
     "execution_count": 43,
     "metadata": {},
     "output_type": "execute_result"
    }
   ],
   "source": [
    "# Eğitim verileri için çapraz doğrulama ile elde edilmiş ortalama r2 skoru\n",
    "cross_val_score(model, X_train, y_train, cv = 10, scoring = \"r2\").mean()"
   ]
  },
  {
   "cell_type": "code",
   "execution_count": 44,
   "id": "a293e504",
   "metadata": {},
   "outputs": [
    {
     "name": "stdout",
     "output_type": "stream",
     "text": [
      "9739490.620799948\n",
      "9263147.906971432\n"
     ]
    }
   ],
   "source": [
    "# neg_mean_squared_error'da sonuç negatif olacağı için üstte (-) ile çarpıyoruz.\n",
    "rmseTrain=np.sqrt(-cross_val_score(model,\n",
    "                X_train,\n",
    "                y_train,\n",
    "                cv = 10,\n",
    "                scoring = \"neg_mean_squared_error\")).mean()\n",
    "print(rmseTrain)\n",
    "rmseTest=np.sqrt(-cross_val_score(model,\n",
    "                X_test,\n",
    "                y_test,\n",
    "                cv = 10,\n",
    "                scoring = \"neg_mean_squared_error\")).mean()\n",
    "print(rmseTest)"
   ]
  },
  {
   "cell_type": "markdown",
   "id": "c1aa63e7",
   "metadata": {},
   "source": [
    "## 1.3. PLS (Kısmi En Küçük Kareler Regresyonu)"
   ]
  },
  {
   "cell_type": "markdown",
   "id": "7a98aa37",
   "metadata": {},
   "source": [
    "Değişkenlerin daha az sayıda ve aralarında çoklu doğrusal bağlantı problemi olmayan bileşenlere indirgenip regresyon modeli kurulması fikrine dayanır."
   ]
  },
  {
   "cell_type": "markdown",
   "id": "f7538339",
   "metadata": {},
   "source": [
    "PCR'da doğrusal kombinasyonlar yani bileşenler bağımsız değişken uzağındaki değişkenliği maksimum şekilde özetleyecek şekilde oluşturulur. Bu durum bağımlı değişkeni açıklama yeteneği olmamasına sebep olmaktadır.\n",
    "\n",
    "PLS'de ise bileşenler bağımlı değişken ile olan kovaryansı maksimum şekilde özetleyecek şekilde oluşturulur.\n",
    "\n",
    "Değişkenler atılmak istenmiyorsa ve açıklanabilirlik isteniyorsa PLS kullanılmalıdır.\n",
    "\n",
    "PLS, gözetimli boyut indirgeme prosedürü, PCR gözetimsiz boyut indirgeme prosedürü olarak görülebilir.\n",
    "##### "
   ]
  },
  {
   "cell_type": "markdown",
   "id": "c4459e47",
   "metadata": {},
   "source": [
    "### 1.3.1. Model"
   ]
  },
  {
   "cell_type": "code",
   "execution_count": 27,
   "id": "71225eb0",
   "metadata": {},
   "outputs": [],
   "source": [
    "import numpy as np\n",
    "import pandas as pd\n",
    "from sklearn.model_selection import train_test_split, cross_val_score, cross_val_predict\n",
    "\n",
    "df=pd.read_csv(\"dataset/youtubeGB.csv\")\n",
    "youtube=df.copy()\n",
    "\n",
    "# Yazmazsak hata veriyor!\n",
    "youtube.index = youtube.iloc[:,0]# video_id'lerini index olarak belirttik.\n",
    "youtube=youtube.iloc[:,7:11]# Sayısal alanlardan 'views', 'likes', 'dislikes', 'comment_count' ile çalışacağımız için\n",
    "                            # sadece o alanları seçtik.\n",
    "\n",
    "youtube = youtube.dropna()\n",
    "dms = pd.get_dummies(youtube[['likes', 'dislikes', 'comment_count']])# Belirtilen kolonlar dummy(ikili) değişkenlere dönüştürülür.\n",
    "y = youtube[\"views\"]\n",
    "X_ = youtube.drop(['views', 'likes', 'dislikes', 'comment_count'], axis=1).astype('int64')# Belirtilen sütunlar çıkartılarak \n",
    "# yeni bir veri kümesi oluşturulur. Oluşturulan veri kümesi, sadece integer veri tiplerine sahip sütunları içerecektir.\n",
    "\n",
    "X = pd.concat([X_, dms[['likes', 'dislikes', 'comment_count']]], axis=1)# axis=1 parametresi, birleştirme işlemini sütunlar \n",
    "                                                                        # üzerinde yapacağımızı ifade eder.\n",
    "X_train, X_test, y_train, y_test = train_test_split(X, y,\n",
    "                                                    test_size=0.25,\n",
    "                                                    random_state=42)"
   ]
  },
  {
   "cell_type": "code",
   "execution_count": 29,
   "id": "3c93635b",
   "metadata": {},
   "outputs": [
    {
     "data": {
      "text/plain": [
       "array([[16526502.79104256],\n",
       "       [ -622455.18961646],\n",
       "       [-1429269.65703426]])"
      ]
     },
     "execution_count": 29,
     "metadata": {},
     "output_type": "execute_result"
    }
   ],
   "source": [
    "from sklearn.cross_decomposition import PLSRegression, PLSSVD\n",
    "from warnings import filterwarnings\n",
    "filterwarnings('ignore')\n",
    "\n",
    "# Tüm bileşenler alındı.\n",
    "pls_model = PLSRegression().fit(X_train, y_train)\n",
    "# 3 bileşene indirgeyebiliriz. Ancak bu ara katmandaki PLS factor sayısını belirler, değişken sayısı yine aynıdır.\n",
    "# pls_model = PLSRegression(n_components=3).fit(X_train, y_train)\n",
    "pls_model.coef_"
   ]
  },
  {
   "cell_type": "markdown",
   "id": "d3a3d307",
   "metadata": {},
   "source": [
    "### 1.3.2. Tahmin"
   ]
  },
  {
   "cell_type": "code",
   "execution_count": 30,
   "id": "c6229dbf",
   "metadata": {},
   "outputs": [
    {
     "data": {
      "text/html": [
       "<div>\n",
       "<style scoped>\n",
       "    .dataframe tbody tr th:only-of-type {\n",
       "        vertical-align: middle;\n",
       "    }\n",
       "\n",
       "    .dataframe tbody tr th {\n",
       "        vertical-align: top;\n",
       "    }\n",
       "\n",
       "    .dataframe thead th {\n",
       "        text-align: right;\n",
       "    }\n",
       "</style>\n",
       "<table border=\"1\" class=\"dataframe\">\n",
       "  <thead>\n",
       "    <tr style=\"text-align: right;\">\n",
       "      <th></th>\n",
       "      <th>likes</th>\n",
       "      <th>dislikes</th>\n",
       "      <th>comment_count</th>\n",
       "    </tr>\n",
       "    <tr>\n",
       "      <th>video_id</th>\n",
       "      <th></th>\n",
       "      <th></th>\n",
       "      <th></th>\n",
       "    </tr>\n",
       "  </thead>\n",
       "  <tbody>\n",
       "    <tr>\n",
       "      <th>SA7AIQw-7Ms</th>\n",
       "      <td>414711</td>\n",
       "      <td>5794</td>\n",
       "      <td>21208</td>\n",
       "    </tr>\n",
       "    <tr>\n",
       "      <th>JeRtUXTQ_aQ</th>\n",
       "      <td>45663</td>\n",
       "      <td>1368</td>\n",
       "      <td>2271</td>\n",
       "    </tr>\n",
       "    <tr>\n",
       "      <th>BsQZPKeaKBg</th>\n",
       "      <td>135</td>\n",
       "      <td>2</td>\n",
       "      <td>18</td>\n",
       "    </tr>\n",
       "    <tr>\n",
       "      <th>7bPSxB-8__o</th>\n",
       "      <td>28776</td>\n",
       "      <td>1989</td>\n",
       "      <td>2035</td>\n",
       "    </tr>\n",
       "    <tr>\n",
       "      <th>zwEn-ambXLw</th>\n",
       "      <td>7453</td>\n",
       "      <td>123</td>\n",
       "      <td>310</td>\n",
       "    </tr>\n",
       "  </tbody>\n",
       "</table>\n",
       "</div>"
      ],
      "text/plain": [
       "              likes  dislikes  comment_count\n",
       "video_id                                    \n",
       "SA7AIQw-7Ms  414711      5794          21208\n",
       "JeRtUXTQ_aQ   45663      1368           2271\n",
       "BsQZPKeaKBg     135         2             18\n",
       "7bPSxB-8__o   28776      1989           2035\n",
       "zwEn-ambXLw    7453       123            310"
      ]
     },
     "execution_count": 30,
     "metadata": {},
     "output_type": "execute_result"
    }
   ],
   "source": [
    "X_train.head() # Eğitilmiş modelin ilk 5 değerini(head()) listeleyelim."
   ]
  },
  {
   "cell_type": "code",
   "execution_count": 31,
   "id": "6296232f",
   "metadata": {},
   "outputs": [
    {
     "data": {
      "text/plain": [
       "array([[ 1.90897388e+07],\n",
       "       [ 2.06138480e+06],\n",
       "       [-3.19914972e+04],\n",
       "       ...,\n",
       "       [ 1.15878876e+07],\n",
       "       [ 1.46215007e+03],\n",
       "       [ 4.41780569e+05]])"
      ]
     },
     "execution_count": 31,
     "metadata": {},
     "output_type": "execute_result"
    }
   ],
   "source": [
    "pls_model.predict(X_train)# Eğitilmiş model üzerinde tahminler yapar."
   ]
  },
  {
   "cell_type": "code",
   "execution_count": 32,
   "id": "40104a56",
   "metadata": {},
   "outputs": [
    {
     "data": {
      "text/plain": [
       "11423571.650998536"
      ]
     },
     "execution_count": 32,
     "metadata": {},
     "output_type": "execute_result"
    }
   ],
   "source": [
    "from sklearn.metrics import mean_squared_error, r2_score\n",
    "\n",
    "y_pred = pls_model.predict(X_train)\n",
    "np.sqrt(mean_squared_error(y_train, y_pred))"
   ]
  },
  {
   "cell_type": "code",
   "execution_count": 33,
   "id": "df713b0a",
   "metadata": {},
   "outputs": [
    {
     "data": {
      "text/plain": [
       "0.6409381841845208"
      ]
     },
     "execution_count": 33,
     "metadata": {},
     "output_type": "execute_result"
    }
   ],
   "source": [
    "r2_score(y_train, y_pred)"
   ]
  },
  {
   "cell_type": "code",
   "execution_count": 34,
   "id": "6c47efd1",
   "metadata": {},
   "outputs": [
    {
     "data": {
      "text/plain": [
       "11042973.954671234"
      ]
     },
     "execution_count": 34,
     "metadata": {},
     "output_type": "execute_result"
    }
   ],
   "source": [
    "y_pred = pls_model.predict(X_test)\n",
    "np.sqrt(mean_squared_error(y_test, y_pred))"
   ]
  },
  {
   "cell_type": "markdown",
   "id": "82474815",
   "metadata": {},
   "source": [
    "### 1.3.3. Model Tuning"
   ]
  },
  {
   "cell_type": "code",
   "execution_count": 38,
   "id": "a728faf1",
   "metadata": {},
   "outputs": [
    {
     "data": {
      "image/png": "[encoded data removed]",
      "text/plain": [
       "<Figure size 640x480 with 1 Axes>"
      ]
     },
     "metadata": {},
     "output_type": "display_data"
    }
   ],
   "source": [
    "# CV\n",
    "from sklearn.model_selection import train_test_split, cross_val_score, cross_val_predict\n",
    "from sklearn import model_selection\n",
    "cv_10 = model_selection.KFold(n_splits=10, shuffle=True, random_state=1)\n",
    "\n",
    "# Hata hesaplamak için döngü\n",
    "RMSE = []\n",
    "\n",
    "for i in np.arange(1, X_train.shape[1] + 1):\n",
    "    pls = PLSRegression(n_components=i)\n",
    "    score = np.sqrt(-1*cross_val_score(pls, X_train, y_train, cv=cv_10, scoring='neg_mean_squared_error').mean())\n",
    "    RMSE.append(score)\n",
    "\n",
    "# Sonuçların Görselleştirilmesi\n",
    "import matplotlib.pyplot as plt\n",
    "\n",
    "plt.plot(np.arange(1, X_train.shape[1] + 1), np.array(RMSE), '-v', c = \"r\")\n",
    "plt.xlabel('Bileşen Sayısı')\n",
    "plt.ylabel('RMSE')\n",
    "plt.title('views');"
   ]
  },
  {
   "cell_type": "code",
   "execution_count": 40,
   "id": "f6601681",
   "metadata": {},
   "outputs": [],
   "source": [
    "pls_model = PLSRegression(n_components = 2).fit(X_train, y_train)# Model oluşturulur ve eğitilir.\n",
    "\n",
    "y_pred = pls_model.predict(X_test)# X_test veri kümesindeki girdi verileri için tahminler yapar."
   ]
  },
  {
   "cell_type": "code",
   "execution_count": 42,
   "id": "5a40de7b",
   "metadata": {},
   "outputs": [
    {
     "data": {
      "text/plain": [
       "11042973.954671234"
      ]
     },
     "execution_count": 42,
     "metadata": {},
     "output_type": "execute_result"
    }
   ],
   "source": [
    "np.sqrt(mean_squared_error(y_test, y_pred))"
   ]
  },
  {
   "cell_type": "markdown",
   "id": "2c670992",
   "metadata": {},
   "source": [
    "#### Not:\n",
    "Yukarıdaki çıktının sonucunu incelediğimizde; \n",
    "    PLSRegression(n_components=2) default değeri de 2 olduğundan bir önceki sonuçla aynı sonucu verdi."
   ]
  },
  {
   "cell_type": "markdown",
   "id": "c6bce8c3",
   "metadata": {},
   "source": [
    "## 1.4. ElasticNet (eNet) Regresyonu"
   ]
  },
  {
   "cell_type": "markdown",
   "id": "9f927731",
   "metadata": {},
   "source": [
    "Temel amaç hata kareler toplamını minimize eden katsayıları bu katsayılara bir ceza uygulayarak bulmaktır. \n",
    "ElasticNet L1 ve L2 yaklaşımlarını birleştirir."
   ]
  },
  {
   "cell_type": "markdown",
   "id": "90b37689",
   "metadata": {},
   "source": [
    "### 1.4.1. Model"
   ]
  },
  {
   "cell_type": "code",
   "execution_count": 56,
   "id": "cd34a184",
   "metadata": {},
   "outputs": [],
   "source": [
    "import numpy as np\n",
    "import pandas as pd\n",
    "from sklearn.model_selection import train_test_split, cross_val_score, cross_val_predict\n",
    "\n",
    "df=pd.read_csv(\"dataset/youtubeGB.csv\")\n",
    "youtube=df.copy()\n",
    "\n",
    "# Yazmazsak hata veriyor!\n",
    "youtube.index = youtube.iloc[:,0]# video_id'lerini index olarak belirttik.\n",
    "youtube=youtube.iloc[:,7:11]# Sayısal alanlardan 'views', 'likes', 'dislikes', 'comment_count' ile çalışacağımız için\n",
    "                            # sadece o alanları seçtik.\n",
    "\n",
    "youtube = youtube.dropna()\n",
    "dms = pd.get_dummies(youtube[['likes', 'dislikes', 'comment_count']])# Belirtilen sütunların dummy değişkenlerine dönüşümü\n",
    "y = youtube[\"views\"]\n",
    "X_ = youtube.drop(['views', 'likes', 'dislikes', 'comment_count'], axis=1).astype('int64')\n",
    "X = pd.concat([X_, dms[['likes', 'dislikes', 'comment_count']]], axis=1)\n",
    "X_train, X_test, y_train, y_test = train_test_split(X, y,\n",
    "                                                    test_size=0.25,\n",
    "                                                    random_state=42)"
   ]
  },
  {
   "cell_type": "code",
   "execution_count": 63,
   "id": "036221bd",
   "metadata": {},
   "outputs": [
    {
     "data": {
      "text/plain": [
       "array([  61.76124664,  168.84762008, -277.87035993])"
      ]
     },
     "execution_count": 63,
     "metadata": {},
     "output_type": "execute_result"
    }
   ],
   "source": [
    "from sklearn.linear_model import ElasticNet\n",
    "\n",
    "enet_model = ElasticNet().fit(X_train, y_train)# ElasticNet yöntemi ile modelin oluşturularak fit edilmesi\n",
    "enet_model.coef_ # Eğitilmiş ElasticNet regresyon modelinin öğrenilen katsayılarını gösterir."
   ]
  },
  {
   "cell_type": "code",
   "execution_count": 64,
   "id": "56f95fb0",
   "metadata": {},
   "outputs": [
    {
     "data": {
      "text/plain": [
       "-56031.70438384544"
      ]
     },
     "execution_count": 64,
     "metadata": {},
     "output_type": "execute_result"
    }
   ],
   "source": [
    "enet_model.intercept_ # Öğrenilen sabit terim"
   ]
  },
  {
   "cell_type": "markdown",
   "id": "9336ea63",
   "metadata": {},
   "source": [
    "### 1.4.2. Tahmin"
   ]
  },
  {
   "cell_type": "code",
   "execution_count": 65,
   "id": "f038c050",
   "metadata": {},
   "outputs": [
    {
     "data": {
      "text/html": [
       "<style>#sk-container-id-3 {color: black;background-color: white;}#sk-container-id-3 pre{padding: 0;}#sk-container-id-3 div.sk-toggleable {background-color: white;}#sk-container-id-3 label.sk-toggleable__label {cursor: pointer;display: block;width: 100%;margin-bottom: 0;padding: 0.3em;box-sizing: border-box;text-align: center;}#sk-container-id-3 label.sk-toggleable__label-arrow:before {content: \"▸\";float: left;margin-right: 0.25em;color: #696969;}#sk-container-id-3 label.sk-toggleable__label-arrow:hover:before {color: black;}#sk-container-id-3 div.sk-estimator:hover label.sk-toggleable__label-arrow:before {color: black;}#sk-container-id-3 div.sk-toggleable__content {max-height: 0;max-width: 0;overflow: hidden;text-align: left;background-color: #f0f8ff;}#sk-container-id-3 div.sk-toggleable__content pre {margin: 0.2em;color: black;border-radius: 0.25em;background-color: #f0f8ff;}#sk-container-id-3 input.sk-toggleable__control:checked~div.sk-toggleable__content {max-height: 200px;max-width: 100%;overflow: auto;}#sk-container-id-3 input.sk-toggleable__control:checked~label.sk-toggleable__label-arrow:before {content: \"▾\";}#sk-container-id-3 div.sk-estimator input.sk-toggleable__control:checked~label.sk-toggleable__label {background-color: #d4ebff;}#sk-container-id-3 div.sk-label input.sk-toggleable__control:checked~label.sk-toggleable__label {background-color: #d4ebff;}#sk-container-id-3 input.sk-hidden--visually {border: 0;clip: rect(1px 1px 1px 1px);clip: rect(1px, 1px, 1px, 1px);height: 1px;margin: -1px;overflow: hidden;padding: 0;position: absolute;width: 1px;}#sk-container-id-3 div.sk-estimator {font-family: monospace;background-color: #f0f8ff;border: 1px dotted black;border-radius: 0.25em;box-sizing: border-box;margin-bottom: 0.5em;}#sk-container-id-3 div.sk-estimator:hover {background-color: #d4ebff;}#sk-container-id-3 div.sk-parallel-item::after {content: \"\";width: 100%;border-bottom: 1px solid gray;flex-grow: 1;}#sk-container-id-3 div.sk-label:hover label.sk-toggleable__label {background-color: #d4ebff;}#sk-container-id-3 div.sk-serial::before {content: \"\";position: absolute;border-left: 1px solid gray;box-sizing: border-box;top: 0;bottom: 0;left: 50%;z-index: 0;}#sk-container-id-3 div.sk-serial {display: flex;flex-direction: column;align-items: center;background-color: white;padding-right: 0.2em;padding-left: 0.2em;position: relative;}#sk-container-id-3 div.sk-item {position: relative;z-index: 1;}#sk-container-id-3 div.sk-parallel {display: flex;align-items: stretch;justify-content: center;background-color: white;position: relative;}#sk-container-id-3 div.sk-item::before, #sk-container-id-3 div.sk-parallel-item::before {content: \"\";position: absolute;border-left: 1px solid gray;box-sizing: border-box;top: 0;bottom: 0;left: 50%;z-index: -1;}#sk-container-id-3 div.sk-parallel-item {display: flex;flex-direction: column;z-index: 1;position: relative;background-color: white;}#sk-container-id-3 div.sk-parallel-item:first-child::after {align-self: flex-end;width: 50%;}#sk-container-id-3 div.sk-parallel-item:last-child::after {align-self: flex-start;width: 50%;}#sk-container-id-3 div.sk-parallel-item:only-child::after {width: 0;}#sk-container-id-3 div.sk-dashed-wrapped {border: 1px dashed gray;margin: 0 0.4em 0.5em 0.4em;box-sizing: border-box;padding-bottom: 0.4em;background-color: white;}#sk-container-id-3 div.sk-label label {font-family: monospace;font-weight: bold;display: inline-block;line-height: 1.2em;}#sk-container-id-3 div.sk-label-container {text-align: center;}#sk-container-id-3 div.sk-container {/* jupyter's `normalize.less` sets `[hidden] { display: none; }` but bootstrap.min.css set `[hidden] { display: none !important; }` so we also need the `!important` here to be able to override the default hidden behavior on the sphinx rendered scikit-learn.org. See: https://github.com/scikit-learn/scikit-learn/issues/21755 */display: inline-block !important;position: relative;}#sk-container-id-3 div.sk-text-repr-fallback {display: none;}</style><div id=\"sk-container-id-3\" class=\"sk-top-container\"><div class=\"sk-text-repr-fallback\"><pre>ElasticNet()</pre><b>In a Jupyter environment, please rerun this cell to show the HTML representation or trust the notebook. <br />On GitHub, the HTML representation is unable to render, please try loading this page with nbviewer.org.</b></div><div class=\"sk-container\" hidden><div class=\"sk-item\"><div class=\"sk-estimator sk-toggleable\"><input class=\"sk-toggleable__control sk-hidden--visually\" id=\"sk-estimator-id-3\" type=\"checkbox\" checked><label for=\"sk-estimator-id-3\" class=\"sk-toggleable__label sk-toggleable__label-arrow\">ElasticNet</label><div class=\"sk-toggleable__content\"><pre>ElasticNet()</pre></div></div></div></div></div>"
      ],
      "text/plain": [
       "ElasticNet()"
      ]
     },
     "execution_count": 65,
     "metadata": {},
     "output_type": "execute_result"
    }
   ],
   "source": [
    "enet_model"
   ]
  },
  {
   "cell_type": "code",
   "execution_count": 66,
   "id": "0b829d59",
   "metadata": {},
   "outputs": [
    {
     "data": {
      "text/plain": [
       "array([13651160.10254715,   311148.82469009,   269796.16415316, ...,\n",
       "          33951.08044075,   636686.27460045, 11158689.20420096])"
      ]
     },
     "execution_count": 66,
     "metadata": {},
     "output_type": "execute_result"
    }
   ],
   "source": [
    "enet_model.predict(X_test)"
   ]
  },
  {
   "cell_type": "code",
   "execution_count": 67,
   "id": "efd068bb",
   "metadata": {},
   "outputs": [
    {
     "data": {
      "text/plain": [
       "9392856.911321785"
      ]
     },
     "execution_count": 67,
     "metadata": {},
     "output_type": "execute_result"
    }
   ],
   "source": [
    "y_pred = enet_model.predict(X_test)\n",
    "\n",
    "np.sqrt(mean_squared_error(y_test, y_pred))"
   ]
  },
  {
   "cell_type": "code",
   "execution_count": 68,
   "id": "99f6b5a2",
   "metadata": {},
   "outputs": [
    {
     "data": {
      "text/plain": [
       "0.7506493810375872"
      ]
     },
     "execution_count": 68,
     "metadata": {},
     "output_type": "execute_result"
    }
   ],
   "source": [
    "r2_score(y_test, y_pred)"
   ]
  },
  {
   "cell_type": "markdown",
   "id": "e3352306",
   "metadata": {},
   "source": [
    "### 1.4.3. Model Tuning"
   ]
  },
  {
   "cell_type": "code",
   "execution_count": 69,
   "id": "bbe715cf",
   "metadata": {},
   "outputs": [
    {
     "data": {
      "text/plain": [
       "10480519285.82185"
      ]
     },
     "execution_count": 69,
     "metadata": {},
     "output_type": "execute_result"
    }
   ],
   "source": [
    "from sklearn.linear_model import ElasticNetCV\n",
    "\n",
    "enet_cv_model = ElasticNetCV(cv = 10, random_state = 0).fit(X_train, y_train) # 10 katlı çapraz doğrulama (cv=10) kullanarak \n",
    "                                                                              # model eğitilir. \n",
    "\n",
    "enet_cv_model.alpha_ # Model tarafından belirlenen en iyi alfa değerini döndürmektedir."
   ]
  },
  {
   "cell_type": "code",
   "execution_count": 70,
   "id": "1b9de0e0",
   "metadata": {},
   "outputs": [
    {
     "data": {
      "text/html": [
       "<style>#sk-container-id-4 {color: black;background-color: white;}#sk-container-id-4 pre{padding: 0;}#sk-container-id-4 div.sk-toggleable {background-color: white;}#sk-container-id-4 label.sk-toggleable__label {cursor: pointer;display: block;width: 100%;margin-bottom: 0;padding: 0.3em;box-sizing: border-box;text-align: center;}#sk-container-id-4 label.sk-toggleable__label-arrow:before {content: \"▸\";float: left;margin-right: 0.25em;color: #696969;}#sk-container-id-4 label.sk-toggleable__label-arrow:hover:before {color: black;}#sk-container-id-4 div.sk-estimator:hover label.sk-toggleable__label-arrow:before {color: black;}#sk-container-id-4 div.sk-toggleable__content {max-height: 0;max-width: 0;overflow: hidden;text-align: left;background-color: #f0f8ff;}#sk-container-id-4 div.sk-toggleable__content pre {margin: 0.2em;color: black;border-radius: 0.25em;background-color: #f0f8ff;}#sk-container-id-4 input.sk-toggleable__control:checked~div.sk-toggleable__content {max-height: 200px;max-width: 100%;overflow: auto;}#sk-container-id-4 input.sk-toggleable__control:checked~label.sk-toggleable__label-arrow:before {content: \"▾\";}#sk-container-id-4 div.sk-estimator input.sk-toggleable__control:checked~label.sk-toggleable__label {background-color: #d4ebff;}#sk-container-id-4 div.sk-label input.sk-toggleable__control:checked~label.sk-toggleable__label {background-color: #d4ebff;}#sk-container-id-4 input.sk-hidden--visually {border: 0;clip: rect(1px 1px 1px 1px);clip: rect(1px, 1px, 1px, 1px);height: 1px;margin: -1px;overflow: hidden;padding: 0;position: absolute;width: 1px;}#sk-container-id-4 div.sk-estimator {font-family: monospace;background-color: #f0f8ff;border: 1px dotted black;border-radius: 0.25em;box-sizing: border-box;margin-bottom: 0.5em;}#sk-container-id-4 div.sk-estimator:hover {background-color: #d4ebff;}#sk-container-id-4 div.sk-parallel-item::after {content: \"\";width: 100%;border-bottom: 1px solid gray;flex-grow: 1;}#sk-container-id-4 div.sk-label:hover label.sk-toggleable__label {background-color: #d4ebff;}#sk-container-id-4 div.sk-serial::before {content: \"\";position: absolute;border-left: 1px solid gray;box-sizing: border-box;top: 0;bottom: 0;left: 50%;z-index: 0;}#sk-container-id-4 div.sk-serial {display: flex;flex-direction: column;align-items: center;background-color: white;padding-right: 0.2em;padding-left: 0.2em;position: relative;}#sk-container-id-4 div.sk-item {position: relative;z-index: 1;}#sk-container-id-4 div.sk-parallel {display: flex;align-items: stretch;justify-content: center;background-color: white;position: relative;}#sk-container-id-4 div.sk-item::before, #sk-container-id-4 div.sk-parallel-item::before {content: \"\";position: absolute;border-left: 1px solid gray;box-sizing: border-box;top: 0;bottom: 0;left: 50%;z-index: -1;}#sk-container-id-4 div.sk-parallel-item {display: flex;flex-direction: column;z-index: 1;position: relative;background-color: white;}#sk-container-id-4 div.sk-parallel-item:first-child::after {align-self: flex-end;width: 50%;}#sk-container-id-4 div.sk-parallel-item:last-child::after {align-self: flex-start;width: 50%;}#sk-container-id-4 div.sk-parallel-item:only-child::after {width: 0;}#sk-container-id-4 div.sk-dashed-wrapped {border: 1px dashed gray;margin: 0 0.4em 0.5em 0.4em;box-sizing: border-box;padding-bottom: 0.4em;background-color: white;}#sk-container-id-4 div.sk-label label {font-family: monospace;font-weight: bold;display: inline-block;line-height: 1.2em;}#sk-container-id-4 div.sk-label-container {text-align: center;}#sk-container-id-4 div.sk-container {/* jupyter's `normalize.less` sets `[hidden] { display: none; }` but bootstrap.min.css set `[hidden] { display: none !important; }` so we also need the `!important` here to be able to override the default hidden behavior on the sphinx rendered scikit-learn.org. See: https://github.com/scikit-learn/scikit-learn/issues/21755 */display: inline-block !important;position: relative;}#sk-container-id-4 div.sk-text-repr-fallback {display: none;}</style><div id=\"sk-container-id-4\" class=\"sk-top-container\"><div class=\"sk-text-repr-fallback\"><pre>ElasticNetCV(cv=10, random_state=0)</pre><b>In a Jupyter environment, please rerun this cell to show the HTML representation or trust the notebook. <br />On GitHub, the HTML representation is unable to render, please try loading this page with nbviewer.org.</b></div><div class=\"sk-container\" hidden><div class=\"sk-item\"><div class=\"sk-estimator sk-toggleable\"><input class=\"sk-toggleable__control sk-hidden--visually\" id=\"sk-estimator-id-4\" type=\"checkbox\" checked><label for=\"sk-estimator-id-4\" class=\"sk-toggleable__label sk-toggleable__label-arrow\">ElasticNetCV</label><div class=\"sk-toggleable__content\"><pre>ElasticNetCV(cv=10, random_state=0)</pre></div></div></div></div></div>"
      ],
      "text/plain": [
       "ElasticNetCV(cv=10, random_state=0)"
      ]
     },
     "execution_count": 70,
     "metadata": {},
     "output_type": "execute_result"
    }
   ],
   "source": [
    "enet_cv_model"
   ]
  },
  {
   "cell_type": "code",
   "execution_count": 72,
   "id": "eece9c59",
   "metadata": {},
   "outputs": [],
   "source": [
    "enet_tuned = ElasticNet(alpha = enet_cv_model.alpha_).fit(X_train,y_train)\n",
    "\n",
    "y_pred = enet_tuned.predict(X_test)"
   ]
  },
  {
   "cell_type": "code",
   "execution_count": 73,
   "id": "9fcd74ce",
   "metadata": {},
   "outputs": [
    {
     "data": {
      "text/plain": [
       "11035230.069974117"
      ]
     },
     "execution_count": 73,
     "metadata": {},
     "output_type": "execute_result"
    }
   ],
   "source": [
    "np.sqrt(mean_squared_error(y_test, y_pred))"
   ]
  }
 ],
 "metadata": {
  "kernelspec": {
   "display_name": "Python 3 (ipykernel)",
   "language": "python",
   "name": "python3"
  },
  "language_info": {
   "codemirror_mode": {
    "name": "ipython",
    "version": 3
   },
   "file_extension": ".py",
   "mimetype": "text/x-python",
   "name": "python",
   "nbconvert_exporter": "python",
   "pygments_lexer": "ipython3",
   "version": "3.11.2"
  }
 },
 "nbformat": 4,
 "nbformat_minor": 5
}
