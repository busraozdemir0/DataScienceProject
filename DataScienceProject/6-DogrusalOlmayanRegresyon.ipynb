{
 "cells": [
  {
   "cell_type": "markdown",
   "id": "b652d908",
   "metadata": {},
   "source": [
    "## 2. Doğrusal Olmayan Regresyon"
   ]
  },
  {
   "cell_type": "markdown",
   "id": "d6a64096",
   "metadata": {},
   "source": [
    "Doğrusal olmayan regresyon, bağımlı değişken ile bir dizi bağımsız değişken arasındaki ilişkinin doğrusal olmayan bir modelini bulmakta kullanılan bir yöntemdir. Doğrusal modellerin tahmin edilmesiyle kısıtlanan geleneksel doğrusal regresyondan farklı olarak, doğrusal olmayan regresyon, modellerin bağımsız ve bağımlı değişkenler arasında keyfi ilişkiler ile tahmin edilebilmesini sağlar."
   ]
  },
  {
   "cell_type": "markdown",
   "id": "e3dfbd91",
   "metadata": {},
   "source": [
    "##### Bu başlık altında;\n",
    "#####  •  K En Yakın Komşu (KNN)\n",
    "#####  •  Çok Katmanlı Algılayıcı (Yapay Sinir Ağları YSA)\n",
    "#####  •  Karar Ağaçları / Classification and Regression Trees (CART)\n",
    "#####  •  Destek Vektör Regresyonu (SVR)\n",
    "#####  •  Bagged Trees Regresyon (Bootstrap Aggregation)\n",
    "#####  •  Random Forests\n",
    "#####  •  Gradient Boosting Machines (GBM)\n",
    "#####  •  XGBoost (Extreme Gradient Boosting)\n",
    "#####  •  Light GBM\n",
    "#####  •  CatBoost\n",
    "##### yöntemlerini ele alarak veri setimiz üzerinde inceleyeceğiz. "
   ]
  },
  {
   "cell_type": "markdown",
   "id": "9fb95f09",
   "metadata": {},
   "source": [
    "## 2.1. K En Yakın Komşu (KNN)"
   ]
  },
  {
   "cell_type": "markdown",
   "id": "79898758",
   "metadata": {},
   "source": [
    "KNN en basit anlamı ile içerisinde tahmin edilecek değerin bağımsız değişkenlerinin oluşturduğu vektörün en yakın komşularının hangi sınıfta yoğun olduğu bilgisi üzerinden sınıfını tahmin etmeye dayanır."
   ]
  },
  {
   "cell_type": "markdown",
   "id": "e0bdb9fa",
   "metadata": {},
   "source": [
    "##### İşlem Adımları:\n",
    "    1. Komşu sayısını belirle (k)\n",
    "    2. Bilinmeyen nokta ile diğer tüm noktalar arasındaki uzaklıkları hesapla.\n",
    "    3. Uzaklıkları sırala ve belirlenen k değerine göre en yakın k sayıda gözlemi seç.\n",
    "    4. Sınıflandırma yapılıyorsa en sık karşılaşılan sınıf, regresyon yapılıyor ise ortalama değeri tahmin değeri olarak    belirle."
   ]
  },
  {
   "cell_type": "markdown",
   "id": "8f5eda90",
   "metadata": {},
   "source": [
    "### 2.1.1. Model"
   ]
  },
  {
   "cell_type": "code",
   "execution_count": 8,
   "id": "cfba8ff9",
   "metadata": {
    "collapsed": true
   },
   "outputs": [
    {
     "name": "stderr",
     "output_type": "stream",
     "text": [
      "\n",
      "[notice] A new release of pip available: 22.3.1 -> 23.1.2\n",
      "[notice] To update, run: python.exe -m pip install --upgrade pip\n"
     ]
    },
    {
     "name": "stdout",
     "output_type": "stream",
     "text": [
      "Requirement already satisfied: skompiler in c:\\users\\pc\\appdata\\local\\programs\\python\\python311\\lib\\site-packages (0.7)\n",
      "Requirement already satisfied: scikit-learn>=0.22 in c:\\users\\pc\\appdata\\local\\programs\\python\\python311\\lib\\site-packages (from skompiler) (1.2.2)\n",
      "Requirement already satisfied: numpy>=1.17.3 in c:\\users\\pc\\appdata\\local\\programs\\python\\python311\\lib\\site-packages (from scikit-learn>=0.22->skompiler) (1.23.5)\n",
      "Requirement already satisfied: scipy>=1.3.2 in c:\\users\\pc\\appdata\\local\\programs\\python\\python311\\lib\\site-packages (from scikit-learn>=0.22->skompiler) (1.9.3)\n",
      "Requirement already satisfied: joblib>=1.1.1 in c:\\users\\pc\\appdata\\local\\programs\\python\\python311\\lib\\site-packages (from scikit-learn>=0.22->skompiler) (1.1.1)\n",
      "Requirement already satisfied: threadpoolctl>=2.0.0 in c:\\users\\pc\\appdata\\local\\programs\\python\\python311\\lib\\site-packages (from scikit-learn>=0.22->skompiler) (3.1.0)\n",
      "Requirement already satisfied: xgboost in c:\\users\\pc\\appdata\\local\\programs\\python\\python311\\lib\\site-packages (1.7.5)\n",
      "Requirement already satisfied: numpy in c:\\users\\pc\\appdata\\local\\programs\\python\\python311\\lib\\site-packages (from xgboost) (1.23.5)\n",
      "Requirement already satisfied: scipy in c:\\users\\pc\\appdata\\local\\programs\\python\\python311\\lib\\site-packages (from xgboost) (1.9.3)\n"
     ]
    },
    {
     "name": "stderr",
     "output_type": "stream",
     "text": [
      "\n",
      "[notice] A new release of pip available: 22.3.1 -> 23.1.2\n",
      "[notice] To update, run: python.exe -m pip install --upgrade pip\n"
     ]
    },
    {
     "name": "stdout",
     "output_type": "stream",
     "text": [
      "Requirement already satisfied: catboost in c:\\users\\pc\\appdata\\local\\programs\\python\\python311\\lib\\site-packages (1.2)\n",
      "Requirement already satisfied: graphviz in c:\\users\\pc\\appdata\\local\\programs\\python\\python311\\lib\\site-packages (from catboost) (0.20.1)\n",
      "Requirement already satisfied: matplotlib in c:\\users\\pc\\appdata\\local\\programs\\python\\python311\\lib\\site-packages (from catboost) (3.6.3)\n",
      "Requirement already satisfied: numpy>=1.16.0 in c:\\users\\pc\\appdata\\local\\programs\\python\\python311\\lib\\site-packages (from catboost) (1.23.5)\n",
      "Requirement already satisfied: pandas>=0.24 in c:\\users\\pc\\appdata\\local\\programs\\python\\python311\\lib\\site-packages (from catboost) (1.5.3)\n",
      "Requirement already satisfied: scipy in c:\\users\\pc\\appdata\\local\\programs\\python\\python311\\lib\\site-packages (from catboost) (1.9.3)\n",
      "Requirement already satisfied: plotly in c:\\users\\pc\\appdata\\local\\programs\\python\\python311\\lib\\site-packages (from catboost) (5.14.1)\n",
      "Requirement already satisfied: six in c:\\users\\pc\\appdata\\local\\programs\\python\\python311\\lib\\site-packages (from catboost) (1.16.0)\n",
      "Requirement already satisfied: python-dateutil>=2.8.1 in c:\\users\\pc\\appdata\\local\\programs\\python\\python311\\lib\\site-packages (from pandas>=0.24->catboost) (2.8.2)\n",
      "Requirement already satisfied: pytz>=2020.1 in c:\\users\\pc\\appdata\\local\\programs\\python\\python311\\lib\\site-packages (from pandas>=0.24->catboost) (2022.7.1)\n",
      "Requirement already satisfied: contourpy>=1.0.1 in c:\\users\\pc\\appdata\\local\\programs\\python\\python311\\lib\\site-packages (from matplotlib->catboost) (1.0.7)\n",
      "Requirement already satisfied: cycler>=0.10 in c:\\users\\pc\\appdata\\local\\programs\\python\\python311\\lib\\site-packages (from matplotlib->catboost) (0.11.0)\n",
      "Requirement already satisfied: fonttools>=4.22.0 in c:\\users\\pc\\appdata\\local\\programs\\python\\python311\\lib\\site-packages (from matplotlib->catboost) (4.38.0)\n",
      "Requirement already satisfied: kiwisolver>=1.0.1 in c:\\users\\pc\\appdata\\local\\programs\\python\\python311\\lib\\site-packages (from matplotlib->catboost) (1.4.4)\n",
      "Requirement already satisfied: packaging>=20.0 in c:\\users\\pc\\appdata\\local\\programs\\python\\python311\\lib\\site-packages (from matplotlib->catboost) (23.0)\n",
      "Requirement already satisfied: pillow>=6.2.0 in c:\\users\\pc\\appdata\\local\\programs\\python\\python311\\lib\\site-packages (from matplotlib->catboost) (9.4.0)\n",
      "Requirement already satisfied: pyparsing>=2.2.1 in c:\\users\\pc\\appdata\\local\\programs\\python\\python311\\lib\\site-packages (from matplotlib->catboost) (3.0.9)\n",
      "Requirement already satisfied: tenacity>=6.2.0 in c:\\users\\pc\\appdata\\local\\programs\\python\\python311\\lib\\site-packages (from plotly->catboost) (8.2.2)\n"
     ]
    },
    {
     "name": "stderr",
     "output_type": "stream",
     "text": [
      "\n",
      "[notice] A new release of pip available: 22.3.1 -> 23.1.2\n",
      "[notice] To update, run: python.exe -m pip install --upgrade pip\n"
     ]
    },
    {
     "name": "stdout",
     "output_type": "stream",
     "text": [
      "Requirement already satisfied: lightgbm in c:\\users\\pc\\appdata\\local\\programs\\python\\python311\\lib\\site-packages (3.3.5)\n",
      "Requirement already satisfied: wheel in c:\\users\\pc\\appdata\\local\\programs\\python\\python311\\lib\\site-packages (from lightgbm) (0.40.0)\n",
      "Requirement already satisfied: numpy in c:\\users\\pc\\appdata\\local\\programs\\python\\python311\\lib\\site-packages (from lightgbm) (1.23.5)\n",
      "Requirement already satisfied: scipy in c:\\users\\pc\\appdata\\local\\programs\\python\\python311\\lib\\site-packages (from lightgbm) (1.9.3)\n",
      "Requirement already satisfied: scikit-learn!=0.22.0 in c:\\users\\pc\\appdata\\local\\programs\\python\\python311\\lib\\site-packages (from lightgbm) (1.2.2)\n",
      "Requirement already satisfied: joblib>=1.1.1 in c:\\users\\pc\\appdata\\local\\programs\\python\\python311\\lib\\site-packages (from scikit-learn!=0.22.0->lightgbm) (1.1.1)\n",
      "Requirement already satisfied: threadpoolctl>=2.0.0 in c:\\users\\pc\\appdata\\local\\programs\\python\\python311\\lib\\site-packages (from scikit-learn!=0.22.0->lightgbm) (3.1.0)\n"
     ]
    },
    {
     "name": "stderr",
     "output_type": "stream",
     "text": [
      "\n",
      "[notice] A new release of pip available: 22.3.1 -> 23.1.2\n",
      "[notice] To update, run: python.exe -m pip install --upgrade pip\n"
     ]
    }
   ],
   "source": [
    "# Kullanılacak kütüphanelerin kurulması\n",
    "!pip install skompiler\n",
    "!pip install xgboost\n",
    "!pip install catboost\n",
    "!pip install lightgbm"
   ]
  },
  {
   "cell_type": "code",
   "execution_count": 9,
   "id": "1282fa32",
   "metadata": {},
   "outputs": [],
   "source": [
    "# Kullanılacak kütüphanelerin import edilmesi\n",
    "import numpy as np\n",
    "import pandas as pd\n",
    "import matplotlib.pyplot as plt\n",
    "\n",
    "from sklearn.model_selection import train_test_split, GridSearchCV,cross_val_score\n",
    "from sklearn.metrics import mean_squared_error, r2_score\n",
    "from sklearn.neighbors import KNeighborsRegressor\n",
    "from sklearn.preprocessing import StandardScaler\n",
    "from sklearn.neural_network import MLPRegressor\n",
    "from sklearn.tree import DecisionTreeRegressor, DecisionTreeClassifier\n",
    "from skompiler import skompile\n",
    "from sklearn.svm import LinearSVR\n",
    "from sklearn.linear_model import LinearRegression\n",
    "from sklearn.svm import SVR\n",
    "from sklearn.ensemble import BaggingRegressor\n",
    "from sklearn.ensemble import RandomForestRegressor\n",
    "from sklearn.ensemble import GradientBoostingRegressor\n",
    "import xgboost as xgb\n",
    "from xgboost import XGBRegressor\n",
    "from lightgbm import LGBMRegressor\n",
    "from catboost import CatBoostRegressor\n",
    "\n",
    "from datetime import datetime\n",
    "from warnings import filterwarnings"
   ]
  },
  {
   "cell_type": "code",
   "execution_count": 5,
   "id": "3892f66a",
   "metadata": {},
   "outputs": [
    {
     "data": {
      "text/html": [
       "<style>#sk-container-id-1 {color: black;background-color: white;}#sk-container-id-1 pre{padding: 0;}#sk-container-id-1 div.sk-toggleable {background-color: white;}#sk-container-id-1 label.sk-toggleable__label {cursor: pointer;display: block;width: 100%;margin-bottom: 0;padding: 0.3em;box-sizing: border-box;text-align: center;}#sk-container-id-1 label.sk-toggleable__label-arrow:before {content: \"▸\";float: left;margin-right: 0.25em;color: #696969;}#sk-container-id-1 label.sk-toggleable__label-arrow:hover:before {color: black;}#sk-container-id-1 div.sk-estimator:hover label.sk-toggleable__label-arrow:before {color: black;}#sk-container-id-1 div.sk-toggleable__content {max-height: 0;max-width: 0;overflow: hidden;text-align: left;background-color: #f0f8ff;}#sk-container-id-1 div.sk-toggleable__content pre {margin: 0.2em;color: black;border-radius: 0.25em;background-color: #f0f8ff;}#sk-container-id-1 input.sk-toggleable__control:checked~div.sk-toggleable__content {max-height: 200px;max-width: 100%;overflow: auto;}#sk-container-id-1 input.sk-toggleable__control:checked~label.sk-toggleable__label-arrow:before {content: \"▾\";}#sk-container-id-1 div.sk-estimator input.sk-toggleable__control:checked~label.sk-toggleable__label {background-color: #d4ebff;}#sk-container-id-1 div.sk-label input.sk-toggleable__control:checked~label.sk-toggleable__label {background-color: #d4ebff;}#sk-container-id-1 input.sk-hidden--visually {border: 0;clip: rect(1px 1px 1px 1px);clip: rect(1px, 1px, 1px, 1px);height: 1px;margin: -1px;overflow: hidden;padding: 0;position: absolute;width: 1px;}#sk-container-id-1 div.sk-estimator {font-family: monospace;background-color: #f0f8ff;border: 1px dotted black;border-radius: 0.25em;box-sizing: border-box;margin-bottom: 0.5em;}#sk-container-id-1 div.sk-estimator:hover {background-color: #d4ebff;}#sk-container-id-1 div.sk-parallel-item::after {content: \"\";width: 100%;border-bottom: 1px solid gray;flex-grow: 1;}#sk-container-id-1 div.sk-label:hover label.sk-toggleable__label {background-color: #d4ebff;}#sk-container-id-1 div.sk-serial::before {content: \"\";position: absolute;border-left: 1px solid gray;box-sizing: border-box;top: 0;bottom: 0;left: 50%;z-index: 0;}#sk-container-id-1 div.sk-serial {display: flex;flex-direction: column;align-items: center;background-color: white;padding-right: 0.2em;padding-left: 0.2em;position: relative;}#sk-container-id-1 div.sk-item {position: relative;z-index: 1;}#sk-container-id-1 div.sk-parallel {display: flex;align-items: stretch;justify-content: center;background-color: white;position: relative;}#sk-container-id-1 div.sk-item::before, #sk-container-id-1 div.sk-parallel-item::before {content: \"\";position: absolute;border-left: 1px solid gray;box-sizing: border-box;top: 0;bottom: 0;left: 50%;z-index: -1;}#sk-container-id-1 div.sk-parallel-item {display: flex;flex-direction: column;z-index: 1;position: relative;background-color: white;}#sk-container-id-1 div.sk-parallel-item:first-child::after {align-self: flex-end;width: 50%;}#sk-container-id-1 div.sk-parallel-item:last-child::after {align-self: flex-start;width: 50%;}#sk-container-id-1 div.sk-parallel-item:only-child::after {width: 0;}#sk-container-id-1 div.sk-dashed-wrapped {border: 1px dashed gray;margin: 0 0.4em 0.5em 0.4em;box-sizing: border-box;padding-bottom: 0.4em;background-color: white;}#sk-container-id-1 div.sk-label label {font-family: monospace;font-weight: bold;display: inline-block;line-height: 1.2em;}#sk-container-id-1 div.sk-label-container {text-align: center;}#sk-container-id-1 div.sk-container {/* jupyter's `normalize.less` sets `[hidden] { display: none; }` but bootstrap.min.css set `[hidden] { display: none !important; }` so we also need the `!important` here to be able to override the default hidden behavior on the sphinx rendered scikit-learn.org. See: https://github.com/scikit-learn/scikit-learn/issues/21755 */display: inline-block !important;position: relative;}#sk-container-id-1 div.sk-text-repr-fallback {display: none;}</style><div id=\"sk-container-id-1\" class=\"sk-top-container\"><div class=\"sk-text-repr-fallback\"><pre>KNeighborsRegressor()</pre><b>In a Jupyter environment, please rerun this cell to show the HTML representation or trust the notebook. <br />On GitHub, the HTML representation is unable to render, please try loading this page with nbviewer.org.</b></div><div class=\"sk-container\" hidden><div class=\"sk-item\"><div class=\"sk-estimator sk-toggleable\"><input class=\"sk-toggleable__control sk-hidden--visually\" id=\"sk-estimator-id-1\" type=\"checkbox\" checked><label for=\"sk-estimator-id-1\" class=\"sk-toggleable__label sk-toggleable__label-arrow\">KNeighborsRegressor</label><div class=\"sk-toggleable__content\"><pre>KNeighborsRegressor()</pre></div></div></div></div></div>"
      ],
      "text/plain": [
       "KNeighborsRegressor()"
      ]
     },
     "execution_count": 5,
     "metadata": {},
     "output_type": "execute_result"
    }
   ],
   "source": [
    "df=pd.read_csv(\"dataset/youtubeGB.csv\")\n",
    "youtube=df.copy()\n",
    "# Yazmazsak hata veriyor!\n",
    "youtube.index = youtube.iloc[:,0]# video_id'lerini index olarak belirttik.\n",
    "youtube=youtube.iloc[:,7:11]# Sayısal alanlardan 'views', 'likes', 'dislikes', 'comment_count' ile çalışacağımız için\n",
    "                            # sadece o alanları seçtik.\n",
    "    \n",
    "youtube=youtube.sample(n=500) # Veri seti üzerindeki 500 kaydı veri seti üzerinde çalışma süresini azaltabilmek için \n",
    "                               # örneklem olarak alıyoruz.   \n",
    "\n",
    "youtube = youtube.dropna()\n",
    "dms = pd.get_dummies(youtube[['likes', 'dislikes', 'comment_count']])# Belirtilen alanların dummy değişkenlere dönüştürülmesi\n",
    "y = youtube[\"views\"]\n",
    "X_ = youtube.drop(['views', 'likes', 'dislikes', 'comment_count'], axis=1).astype('int64')\n",
    "X = pd.concat([X_, dms[['likes', 'dislikes', 'comment_count']]], axis=1)\n",
    "X_train, X_test, y_train, y_test = train_test_split(X, y,\n",
    "                                                    test_size=0.25,\n",
    "                                                    random_state=42)\n",
    "# Modeli oluşturup fit edelim.\n",
    "knn_model = KNeighborsRegressor().fit(X_train, y_train)\n",
    "knn_model"
   ]
  },
  {
   "cell_type": "code",
   "execution_count": 6,
   "id": "30590d77",
   "metadata": {},
   "outputs": [
    {
     "data": {
      "text/plain": [
       "5"
      ]
     },
     "execution_count": 6,
     "metadata": {},
     "output_type": "execute_result"
    }
   ],
   "source": [
    "knn_model.n_neighbors # default değeri 5"
   ]
  },
  {
   "cell_type": "code",
   "execution_count": 7,
   "id": "6277f8d8",
   "metadata": {},
   "outputs": [
    {
     "data": {
      "text/plain": [
       "'euclidean'"
      ]
     },
     "execution_count": 7,
     "metadata": {},
     "output_type": "execute_result"
    }
   ],
   "source": [
    "knn_model.effective_metric_ # Modelide kullanılan etkin metriği döndürür."
   ]
  },
  {
   "cell_type": "markdown",
   "id": "d1bc86db",
   "metadata": {},
   "source": [
    "### 2.1.2. Tahmin"
   ]
  },
  {
   "cell_type": "code",
   "execution_count": 8,
   "id": "ca9da364",
   "metadata": {},
   "outputs": [
    {
     "name": "stdout",
     "output_type": "stream",
     "text": [
      "test hatası: 10198603.34222489\n",
      "k = 1 için RMSE değeri:  2968321.837374847\n",
      "k = 2 için RMSE değeri:  10173512.76280935\n",
      "k = 3 için RMSE değeri:  13732537.531081066\n",
      "k = 4 için RMSE değeri:  16318938.496977925\n",
      "k = 5 için RMSE değeri:  16623486.767434701\n",
      "k = 6 için RMSE değeri:  16731758.446209403\n",
      "k = 7 için RMSE değeri:  17103271.709758602\n",
      "k = 8 için RMSE değeri:  17344586.580348026\n",
      "k = 9 için RMSE değeri:  17556535.522548974\n",
      "k = 10 için RMSE değeri:  17876684.66224692\n"
     ]
    }
   ],
   "source": [
    "y_pred = knn_model.predict(X_test)\n",
    "print(\"test hatası:\" , np.sqrt(mean_squared_error(y_test, y_pred)))\n",
    "RMSE = []\n",
    "# Cross Validation(çapraz doğrulama) yapmadan hatalara bir bakalım.\n",
    "for k in range(10):\n",
    "    k = k+1\n",
    "    knn_model = KNeighborsRegressor(n_neighbors = k).fit(X_train, y_train)\n",
    "    y_pred = knn_model.predict(X_train)\n",
    "    rmse = np.sqrt(mean_squared_error(y_train,y_pred))\n",
    "    RMSE.append(rmse)\n",
    "    print(\"k =\" , k , \"için RMSE değeri: \", rmse)"
   ]
  },
  {
   "cell_type": "markdown",
   "id": "bdf34f87",
   "metadata": {},
   "source": [
    "### 2.1.3. Model Tuning"
   ]
  },
  {
   "cell_type": "code",
   "execution_count": 9,
   "id": "70c9e2a1",
   "metadata": {},
   "outputs": [
    {
     "data": {
      "text/html": [
       "<style>#sk-container-id-2 {color: black;background-color: white;}#sk-container-id-2 pre{padding: 0;}#sk-container-id-2 div.sk-toggleable {background-color: white;}#sk-container-id-2 label.sk-toggleable__label {cursor: pointer;display: block;width: 100%;margin-bottom: 0;padding: 0.3em;box-sizing: border-box;text-align: center;}#sk-container-id-2 label.sk-toggleable__label-arrow:before {content: \"▸\";float: left;margin-right: 0.25em;color: #696969;}#sk-container-id-2 label.sk-toggleable__label-arrow:hover:before {color: black;}#sk-container-id-2 div.sk-estimator:hover label.sk-toggleable__label-arrow:before {color: black;}#sk-container-id-2 div.sk-toggleable__content {max-height: 0;max-width: 0;overflow: hidden;text-align: left;background-color: #f0f8ff;}#sk-container-id-2 div.sk-toggleable__content pre {margin: 0.2em;color: black;border-radius: 0.25em;background-color: #f0f8ff;}#sk-container-id-2 input.sk-toggleable__control:checked~div.sk-toggleable__content {max-height: 200px;max-width: 100%;overflow: auto;}#sk-container-id-2 input.sk-toggleable__control:checked~label.sk-toggleable__label-arrow:before {content: \"▾\";}#sk-container-id-2 div.sk-estimator input.sk-toggleable__control:checked~label.sk-toggleable__label {background-color: #d4ebff;}#sk-container-id-2 div.sk-label input.sk-toggleable__control:checked~label.sk-toggleable__label {background-color: #d4ebff;}#sk-container-id-2 input.sk-hidden--visually {border: 0;clip: rect(1px 1px 1px 1px);clip: rect(1px, 1px, 1px, 1px);height: 1px;margin: -1px;overflow: hidden;padding: 0;position: absolute;width: 1px;}#sk-container-id-2 div.sk-estimator {font-family: monospace;background-color: #f0f8ff;border: 1px dotted black;border-radius: 0.25em;box-sizing: border-box;margin-bottom: 0.5em;}#sk-container-id-2 div.sk-estimator:hover {background-color: #d4ebff;}#sk-container-id-2 div.sk-parallel-item::after {content: \"\";width: 100%;border-bottom: 1px solid gray;flex-grow: 1;}#sk-container-id-2 div.sk-label:hover label.sk-toggleable__label {background-color: #d4ebff;}#sk-container-id-2 div.sk-serial::before {content: \"\";position: absolute;border-left: 1px solid gray;box-sizing: border-box;top: 0;bottom: 0;left: 50%;z-index: 0;}#sk-container-id-2 div.sk-serial {display: flex;flex-direction: column;align-items: center;background-color: white;padding-right: 0.2em;padding-left: 0.2em;position: relative;}#sk-container-id-2 div.sk-item {position: relative;z-index: 1;}#sk-container-id-2 div.sk-parallel {display: flex;align-items: stretch;justify-content: center;background-color: white;position: relative;}#sk-container-id-2 div.sk-item::before, #sk-container-id-2 div.sk-parallel-item::before {content: \"\";position: absolute;border-left: 1px solid gray;box-sizing: border-box;top: 0;bottom: 0;left: 50%;z-index: -1;}#sk-container-id-2 div.sk-parallel-item {display: flex;flex-direction: column;z-index: 1;position: relative;background-color: white;}#sk-container-id-2 div.sk-parallel-item:first-child::after {align-self: flex-end;width: 50%;}#sk-container-id-2 div.sk-parallel-item:last-child::after {align-self: flex-start;width: 50%;}#sk-container-id-2 div.sk-parallel-item:only-child::after {width: 0;}#sk-container-id-2 div.sk-dashed-wrapped {border: 1px dashed gray;margin: 0 0.4em 0.5em 0.4em;box-sizing: border-box;padding-bottom: 0.4em;background-color: white;}#sk-container-id-2 div.sk-label label {font-family: monospace;font-weight: bold;display: inline-block;line-height: 1.2em;}#sk-container-id-2 div.sk-label-container {text-align: center;}#sk-container-id-2 div.sk-container {/* jupyter's `normalize.less` sets `[hidden] { display: none; }` but bootstrap.min.css set `[hidden] { display: none !important; }` so we also need the `!important` here to be able to override the default hidden behavior on the sphinx rendered scikit-learn.org. See: https://github.com/scikit-learn/scikit-learn/issues/21755 */display: inline-block !important;position: relative;}#sk-container-id-2 div.sk-text-repr-fallback {display: none;}</style><div id=\"sk-container-id-2\" class=\"sk-top-container\"><div class=\"sk-text-repr-fallback\"><pre>GridSearchCV(cv=10, estimator=KNeighborsRegressor(),\n",
       "             param_grid={&#x27;n_neighbors&#x27;: array([ 1,  2,  3,  4,  5,  6,  7,  8,  9, 10, 11, 12, 13, 14, 15, 16, 17,\n",
       "       18, 19, 20, 21, 22, 23, 24, 25, 26, 27, 28, 29])})</pre><b>In a Jupyter environment, please rerun this cell to show the HTML representation or trust the notebook. <br />On GitHub, the HTML representation is unable to render, please try loading this page with nbviewer.org.</b></div><div class=\"sk-container\" hidden><div class=\"sk-item sk-dashed-wrapped\"><div class=\"sk-label-container\"><div class=\"sk-label sk-toggleable\"><input class=\"sk-toggleable__control sk-hidden--visually\" id=\"sk-estimator-id-2\" type=\"checkbox\" ><label for=\"sk-estimator-id-2\" class=\"sk-toggleable__label sk-toggleable__label-arrow\">GridSearchCV</label><div class=\"sk-toggleable__content\"><pre>GridSearchCV(cv=10, estimator=KNeighborsRegressor(),\n",
       "             param_grid={&#x27;n_neighbors&#x27;: array([ 1,  2,  3,  4,  5,  6,  7,  8,  9, 10, 11, 12, 13, 14, 15, 16, 17,\n",
       "       18, 19, 20, 21, 22, 23, 24, 25, 26, 27, 28, 29])})</pre></div></div></div><div class=\"sk-parallel\"><div class=\"sk-parallel-item\"><div class=\"sk-item\"><div class=\"sk-label-container\"><div class=\"sk-label sk-toggleable\"><input class=\"sk-toggleable__control sk-hidden--visually\" id=\"sk-estimator-id-3\" type=\"checkbox\" ><label for=\"sk-estimator-id-3\" class=\"sk-toggleable__label sk-toggleable__label-arrow\">estimator: KNeighborsRegressor</label><div class=\"sk-toggleable__content\"><pre>KNeighborsRegressor()</pre></div></div></div><div class=\"sk-serial\"><div class=\"sk-item\"><div class=\"sk-estimator sk-toggleable\"><input class=\"sk-toggleable__control sk-hidden--visually\" id=\"sk-estimator-id-4\" type=\"checkbox\" ><label for=\"sk-estimator-id-4\" class=\"sk-toggleable__label sk-toggleable__label-arrow\">KNeighborsRegressor</label><div class=\"sk-toggleable__content\"><pre>KNeighborsRegressor()</pre></div></div></div></div></div></div></div></div></div></div>"
      ],
      "text/plain": [
       "GridSearchCV(cv=10, estimator=KNeighborsRegressor(),\n",
       "             param_grid={'n_neighbors': array([ 1,  2,  3,  4,  5,  6,  7,  8,  9, 10, 11, 12, 13, 14, 15, 16, 17,\n",
       "       18, 19, 20, 21, 22, 23, 24, 25, 26, 27, 28, 29])})"
      ]
     },
     "execution_count": 9,
     "metadata": {},
     "output_type": "execute_result"
    }
   ],
   "source": [
    "# GridSearchCV ile optimum k sayısının belirlenmesi\n",
    "# GridSearchCV => birçok farklı hiperparametre değeri kombinasyonunu otomatik olarak değerlendirir ve her bir kombinasyon için+ \n",
    "#çapraz doğrulama (cross-validation) kullanarak modelin performansını değerlendirir. Ardından en iyi performansı sağlayan+ \n",
    "#hiperparametre belirlenebilir.\n",
    "\n",
    "knn_params = {'n_neighbors': np.arange(1,30,1)}\n",
    "knn = KNeighborsRegressor()\n",
    "knn_cv_model = GridSearchCV(knn, knn_params, cv = 10)\n",
    "knn_cv_model.fit(X_train, y_train)"
   ]
  },
  {
   "cell_type": "code",
   "execution_count": 10,
   "id": "a1ea2708",
   "metadata": {},
   "outputs": [
    {
     "data": {
      "text/plain": [
       "24"
      ]
     },
     "execution_count": 10,
     "metadata": {},
     "output_type": "execute_result"
    }
   ],
   "source": [
    "# Modelin en iyi sonuçları elde etmek için kaç tane en yakın komşunun kullanılması gerektiğini bulalım.\n",
    "knn_cv_model.best_params_[\"n_neighbors\"]"
   ]
  },
  {
   "cell_type": "code",
   "execution_count": 11,
   "id": "f2a86cbc",
   "metadata": {},
   "outputs": [
    {
     "name": "stdout",
     "output_type": "stream",
     "text": [
      "k = 1 için RMSE değeri:  2968321.837374847 RMSE_CV değeri:  20431924.884159032\n",
      "k = 2 için RMSE değeri:  10173512.76280935 RMSE_CV değeri:  20588206.96059764\n",
      "k = 3 için RMSE değeri:  13732537.531081066 RMSE_CV değeri:  21784599.87864279\n",
      "k = 4 için RMSE değeri:  16318938.496977925 RMSE_CV değeri:  20824831.105890557\n",
      "k = 5 için RMSE değeri:  16623486.767434701 RMSE_CV değeri:  20799677.065547597\n",
      "k = 6 için RMSE değeri:  16731758.446209403 RMSE_CV değeri:  20460602.229824014\n",
      "k = 7 için RMSE değeri:  17103271.709758602 RMSE_CV değeri:  20331094.617616553\n",
      "k = 8 için RMSE değeri:  17344586.580348026 RMSE_CV değeri:  20347337.206068233\n",
      "k = 9 için RMSE değeri:  17556535.522548974 RMSE_CV değeri:  20406497.105573125\n",
      "k = 10 için RMSE değeri:  17876684.66224692 RMSE_CV değeri:  20184184.310048908\n"
     ]
    }
   ],
   "source": [
    "RMSE = []\n",
    "RMSE_CV = []\n",
    "for k in range(10):\n",
    "    k = k+1\n",
    "    knn_model = KNeighborsRegressor(n_neighbors = k).fit(X_train, y_train)\n",
    "    y_pred = knn_model.predict(X_train)\n",
    "    rmse = np.sqrt(mean_squared_error(y_train,y_pred))\n",
    "    rmse_cv = np.sqrt(-1*cross_val_score(knn_model, X_train, y_train, cv=10,\n",
    "    scoring = \"neg_mean_squared_error\").mean())\n",
    "    # Cross Validation olmadan hatalar\n",
    "    RMSE.append(rmse)\n",
    "    # Cross Validation kullanılarak alınan hatalar\n",
    "    RMSE_CV.append(rmse_cv)\n",
    "    print(\"k =\" , k , \"için RMSE değeri: \", rmse, \"RMSE_CV değeri: \", rmse_cv )"
   ]
  },
  {
   "cell_type": "code",
   "execution_count": 12,
   "id": "d9673234",
   "metadata": {},
   "outputs": [
    {
     "data": {
      "text/plain": [
       "10167714.509221265"
      ]
     },
     "execution_count": 12,
     "metadata": {},
     "output_type": "execute_result"
    }
   ],
   "source": [
    "# k=4 için train değil test setini deneyelim.\n",
    "knn_tuned = KNeighborsRegressor(n_neighbors=4)\n",
    "knn_tuned.fit(X_train, y_train)\n",
    "np.sqrt(mean_squared_error(y_test, knn_tuned.predict(X_test)))"
   ]
  },
  {
   "cell_type": "code",
   "execution_count": 13,
   "id": "78fb7124",
   "metadata": {},
   "outputs": [
    {
     "data": {
      "text/html": [
       "<style>#sk-container-id-3 {color: black;background-color: white;}#sk-container-id-3 pre{padding: 0;}#sk-container-id-3 div.sk-toggleable {background-color: white;}#sk-container-id-3 label.sk-toggleable__label {cursor: pointer;display: block;width: 100%;margin-bottom: 0;padding: 0.3em;box-sizing: border-box;text-align: center;}#sk-container-id-3 label.sk-toggleable__label-arrow:before {content: \"▸\";float: left;margin-right: 0.25em;color: #696969;}#sk-container-id-3 label.sk-toggleable__label-arrow:hover:before {color: black;}#sk-container-id-3 div.sk-estimator:hover label.sk-toggleable__label-arrow:before {color: black;}#sk-container-id-3 div.sk-toggleable__content {max-height: 0;max-width: 0;overflow: hidden;text-align: left;background-color: #f0f8ff;}#sk-container-id-3 div.sk-toggleable__content pre {margin: 0.2em;color: black;border-radius: 0.25em;background-color: #f0f8ff;}#sk-container-id-3 input.sk-toggleable__control:checked~div.sk-toggleable__content {max-height: 200px;max-width: 100%;overflow: auto;}#sk-container-id-3 input.sk-toggleable__control:checked~label.sk-toggleable__label-arrow:before {content: \"▾\";}#sk-container-id-3 div.sk-estimator input.sk-toggleable__control:checked~label.sk-toggleable__label {background-color: #d4ebff;}#sk-container-id-3 div.sk-label input.sk-toggleable__control:checked~label.sk-toggleable__label {background-color: #d4ebff;}#sk-container-id-3 input.sk-hidden--visually {border: 0;clip: rect(1px 1px 1px 1px);clip: rect(1px, 1px, 1px, 1px);height: 1px;margin: -1px;overflow: hidden;padding: 0;position: absolute;width: 1px;}#sk-container-id-3 div.sk-estimator {font-family: monospace;background-color: #f0f8ff;border: 1px dotted black;border-radius: 0.25em;box-sizing: border-box;margin-bottom: 0.5em;}#sk-container-id-3 div.sk-estimator:hover {background-color: #d4ebff;}#sk-container-id-3 div.sk-parallel-item::after {content: \"\";width: 100%;border-bottom: 1px solid gray;flex-grow: 1;}#sk-container-id-3 div.sk-label:hover label.sk-toggleable__label {background-color: #d4ebff;}#sk-container-id-3 div.sk-serial::before {content: \"\";position: absolute;border-left: 1px solid gray;box-sizing: border-box;top: 0;bottom: 0;left: 50%;z-index: 0;}#sk-container-id-3 div.sk-serial {display: flex;flex-direction: column;align-items: center;background-color: white;padding-right: 0.2em;padding-left: 0.2em;position: relative;}#sk-container-id-3 div.sk-item {position: relative;z-index: 1;}#sk-container-id-3 div.sk-parallel {display: flex;align-items: stretch;justify-content: center;background-color: white;position: relative;}#sk-container-id-3 div.sk-item::before, #sk-container-id-3 div.sk-parallel-item::before {content: \"\";position: absolute;border-left: 1px solid gray;box-sizing: border-box;top: 0;bottom: 0;left: 50%;z-index: -1;}#sk-container-id-3 div.sk-parallel-item {display: flex;flex-direction: column;z-index: 1;position: relative;background-color: white;}#sk-container-id-3 div.sk-parallel-item:first-child::after {align-self: flex-end;width: 50%;}#sk-container-id-3 div.sk-parallel-item:last-child::after {align-self: flex-start;width: 50%;}#sk-container-id-3 div.sk-parallel-item:only-child::after {width: 0;}#sk-container-id-3 div.sk-dashed-wrapped {border: 1px dashed gray;margin: 0 0.4em 0.5em 0.4em;box-sizing: border-box;padding-bottom: 0.4em;background-color: white;}#sk-container-id-3 div.sk-label label {font-family: monospace;font-weight: bold;display: inline-block;line-height: 1.2em;}#sk-container-id-3 div.sk-label-container {text-align: center;}#sk-container-id-3 div.sk-container {/* jupyter's `normalize.less` sets `[hidden] { display: none; }` but bootstrap.min.css set `[hidden] { display: none !important; }` so we also need the `!important` here to be able to override the default hidden behavior on the sphinx rendered scikit-learn.org. See: https://github.com/scikit-learn/scikit-learn/issues/21755 */display: inline-block !important;position: relative;}#sk-container-id-3 div.sk-text-repr-fallback {display: none;}</style><div id=\"sk-container-id-3\" class=\"sk-top-container\"><div class=\"sk-text-repr-fallback\"><pre>KNeighborsRegressor(n_neighbors=24)</pre><b>In a Jupyter environment, please rerun this cell to show the HTML representation or trust the notebook. <br />On GitHub, the HTML representation is unable to render, please try loading this page with nbviewer.org.</b></div><div class=\"sk-container\" hidden><div class=\"sk-item\"><div class=\"sk-estimator sk-toggleable\"><input class=\"sk-toggleable__control sk-hidden--visually\" id=\"sk-estimator-id-5\" type=\"checkbox\" checked><label for=\"sk-estimator-id-5\" class=\"sk-toggleable__label sk-toggleable__label-arrow\">KNeighborsRegressor</label><div class=\"sk-toggleable__content\"><pre>KNeighborsRegressor(n_neighbors=24)</pre></div></div></div></div></div>"
      ],
      "text/plain": [
       "KNeighborsRegressor(n_neighbors=24)"
      ]
     },
     "execution_count": 13,
     "metadata": {},
     "output_type": "execute_result"
    }
   ],
   "source": [
    "knn_tuned = KNeighborsRegressor(n_neighbors = knn_cv_model.best_params_[\"n_neighbors\"])\n",
    "knn_tuned.fit(X_train, y_train)"
   ]
  },
  {
   "cell_type": "code",
   "execution_count": 14,
   "id": "c7072e75",
   "metadata": {},
   "outputs": [
    {
     "data": {
      "text/plain": [
       "10044294.658506747"
      ]
     },
     "execution_count": 14,
     "metadata": {},
     "output_type": "execute_result"
    }
   ],
   "source": [
    "np.sqrt(mean_squared_error(y_test, knn_tuned.predict(X_test)))"
   ]
  },
  {
   "cell_type": "markdown",
   "id": "6da9877c",
   "metadata": {},
   "source": [
    "## 2.2. Çok Katmanlı Algılayıcı (Yapay Sinir Ağları YSA)"
   ]
  },
  {
   "cell_type": "markdown",
   "id": "d6ca4ba6",
   "metadata": {},
   "source": [
    "Yapay sinir ağları, insan beyninin bilgi işleme tekniğinden esinlenerek geliştirilmiş bir bilgi işlem teknolojisidir. YSA ile basit biyolojik sinir sisteminin çalışma şekli taklit edilir. Yani biyolojik nöron hücrelerinin ve bu hücrelerin birbirleri ile arasında kurduğu sinaptik bağın dijital olarak modellenmesidir."
   ]
  },
  {
   "cell_type": "markdown",
   "id": "0e0cba00",
   "metadata": {},
   "source": [
    "### 2.2.1. Model"
   ]
  },
  {
   "cell_type": "code",
   "execution_count": 15,
   "id": "23cb42cb",
   "metadata": {},
   "outputs": [],
   "source": [
    "df=pd.read_csv(\"dataset/youtubeGB.csv\")\n",
    "youtube=df.copy()\n",
    "# Yazmazsak hata veriyor!\n",
    "youtube.index = youtube.iloc[:,0]\n",
    "youtube=youtube.iloc[:,7:11]\n",
    "\n",
    "youtube=youtube.sample(n=500) # Veri seti üzerindeki 500 kaydı veri seti üzerinde çalışma süresini azaltabilmek için \n",
    "                               # örneklem olarak alıyoruz.\n",
    "\n",
    "youtube = youtube.dropna()\n",
    "dms = pd.get_dummies(youtube[['likes', 'dislikes', 'comment_count']])\n",
    "y = youtube[\"views\"]\n",
    "X_ = youtube.drop(['views', 'likes', 'dislikes', 'comment_count'], axis=1).astype('int64')\n",
    "X = pd.concat([X_, dms[['likes', 'dislikes', 'comment_count']]], axis=1)\n",
    "X_train, X_test, y_train, y_test = train_test_split(X, y,\n",
    "                                                    test_size=0.25,\n",
    "                                                    random_state=42)"
   ]
  },
  {
   "cell_type": "code",
   "execution_count": 16,
   "id": "d1a78067",
   "metadata": {},
   "outputs": [],
   "source": [
    "# Değişken standartlaştırması\n",
    "scaler = StandardScaler()\n",
    "scaler.fit(X_train)\n",
    "X_train_scaled = scaler.transform(X_train)\n",
    "X_test_scaled = scaler.transform(X_test)"
   ]
  },
  {
   "cell_type": "code",
   "execution_count": 17,
   "id": "9031caf7",
   "metadata": {},
   "outputs": [
    {
     "name": "stdout",
     "output_type": "stream",
     "text": [
      "MLPRegressor(hidden_layer_sizes=(100, 20))\n",
      "4\n",
      "(100, 20)\n"
     ]
    }
   ],
   "source": [
    "filterwarnings('ignore')\n",
    "\n",
    "mlp_model = MLPRegressor(hidden_layer_sizes = (100,20)).fit(X_train_scaled, y_train)# Modelin oluşturulması ve fit edilmesi\n",
    "print(mlp_model)\n",
    "print(mlp_model.n_layers_)\n",
    "print(mlp_model.hidden_layer_sizes)"
   ]
  },
  {
   "cell_type": "markdown",
   "id": "a102bf97",
   "metadata": {},
   "source": [
    "### 2.2.2 Tahmin"
   ]
  },
  {
   "cell_type": "code",
   "execution_count": 18,
   "id": "b46437ad",
   "metadata": {},
   "outputs": [
    {
     "data": {
      "text/plain": [
       "14596867.416089136"
      ]
     },
     "execution_count": 18,
     "metadata": {},
     "output_type": "execute_result"
    }
   ],
   "source": [
    "y_pred = mlp_model.predict(X_test_scaled)\n",
    "np.sqrt(mean_squared_error(y_test, y_pred))"
   ]
  },
  {
   "cell_type": "markdown",
   "id": "fd80d5b2",
   "metadata": {},
   "source": [
    "### 2.2.3. Model Tuning"
   ]
  },
  {
   "cell_type": "code",
   "execution_count": 19,
   "id": "b07aa247",
   "metadata": {},
   "outputs": [
    {
     "data": {
      "text/html": [
       "<style>#sk-container-id-4 {color: black;background-color: white;}#sk-container-id-4 pre{padding: 0;}#sk-container-id-4 div.sk-toggleable {background-color: white;}#sk-container-id-4 label.sk-toggleable__label {cursor: pointer;display: block;width: 100%;margin-bottom: 0;padding: 0.3em;box-sizing: border-box;text-align: center;}#sk-container-id-4 label.sk-toggleable__label-arrow:before {content: \"▸\";float: left;margin-right: 0.25em;color: #696969;}#sk-container-id-4 label.sk-toggleable__label-arrow:hover:before {color: black;}#sk-container-id-4 div.sk-estimator:hover label.sk-toggleable__label-arrow:before {color: black;}#sk-container-id-4 div.sk-toggleable__content {max-height: 0;max-width: 0;overflow: hidden;text-align: left;background-color: #f0f8ff;}#sk-container-id-4 div.sk-toggleable__content pre {margin: 0.2em;color: black;border-radius: 0.25em;background-color: #f0f8ff;}#sk-container-id-4 input.sk-toggleable__control:checked~div.sk-toggleable__content {max-height: 200px;max-width: 100%;overflow: auto;}#sk-container-id-4 input.sk-toggleable__control:checked~label.sk-toggleable__label-arrow:before {content: \"▾\";}#sk-container-id-4 div.sk-estimator input.sk-toggleable__control:checked~label.sk-toggleable__label {background-color: #d4ebff;}#sk-container-id-4 div.sk-label input.sk-toggleable__control:checked~label.sk-toggleable__label {background-color: #d4ebff;}#sk-container-id-4 input.sk-hidden--visually {border: 0;clip: rect(1px 1px 1px 1px);clip: rect(1px, 1px, 1px, 1px);height: 1px;margin: -1px;overflow: hidden;padding: 0;position: absolute;width: 1px;}#sk-container-id-4 div.sk-estimator {font-family: monospace;background-color: #f0f8ff;border: 1px dotted black;border-radius: 0.25em;box-sizing: border-box;margin-bottom: 0.5em;}#sk-container-id-4 div.sk-estimator:hover {background-color: #d4ebff;}#sk-container-id-4 div.sk-parallel-item::after {content: \"\";width: 100%;border-bottom: 1px solid gray;flex-grow: 1;}#sk-container-id-4 div.sk-label:hover label.sk-toggleable__label {background-color: #d4ebff;}#sk-container-id-4 div.sk-serial::before {content: \"\";position: absolute;border-left: 1px solid gray;box-sizing: border-box;top: 0;bottom: 0;left: 50%;z-index: 0;}#sk-container-id-4 div.sk-serial {display: flex;flex-direction: column;align-items: center;background-color: white;padding-right: 0.2em;padding-left: 0.2em;position: relative;}#sk-container-id-4 div.sk-item {position: relative;z-index: 1;}#sk-container-id-4 div.sk-parallel {display: flex;align-items: stretch;justify-content: center;background-color: white;position: relative;}#sk-container-id-4 div.sk-item::before, #sk-container-id-4 div.sk-parallel-item::before {content: \"\";position: absolute;border-left: 1px solid gray;box-sizing: border-box;top: 0;bottom: 0;left: 50%;z-index: -1;}#sk-container-id-4 div.sk-parallel-item {display: flex;flex-direction: column;z-index: 1;position: relative;background-color: white;}#sk-container-id-4 div.sk-parallel-item:first-child::after {align-self: flex-end;width: 50%;}#sk-container-id-4 div.sk-parallel-item:last-child::after {align-self: flex-start;width: 50%;}#sk-container-id-4 div.sk-parallel-item:only-child::after {width: 0;}#sk-container-id-4 div.sk-dashed-wrapped {border: 1px dashed gray;margin: 0 0.4em 0.5em 0.4em;box-sizing: border-box;padding-bottom: 0.4em;background-color: white;}#sk-container-id-4 div.sk-label label {font-family: monospace;font-weight: bold;display: inline-block;line-height: 1.2em;}#sk-container-id-4 div.sk-label-container {text-align: center;}#sk-container-id-4 div.sk-container {/* jupyter's `normalize.less` sets `[hidden] { display: none; }` but bootstrap.min.css set `[hidden] { display: none !important; }` so we also need the `!important` here to be able to override the default hidden behavior on the sphinx rendered scikit-learn.org. See: https://github.com/scikit-learn/scikit-learn/issues/21755 */display: inline-block !important;position: relative;}#sk-container-id-4 div.sk-text-repr-fallback {display: none;}</style><div id=\"sk-container-id-4\" class=\"sk-top-container\"><div class=\"sk-text-repr-fallback\"><pre>MLPRegressor(hidden_layer_sizes=(100, 20))</pre><b>In a Jupyter environment, please rerun this cell to show the HTML representation or trust the notebook. <br />On GitHub, the HTML representation is unable to render, please try loading this page with nbviewer.org.</b></div><div class=\"sk-container\" hidden><div class=\"sk-item\"><div class=\"sk-estimator sk-toggleable\"><input class=\"sk-toggleable__control sk-hidden--visually\" id=\"sk-estimator-id-6\" type=\"checkbox\" checked><label for=\"sk-estimator-id-6\" class=\"sk-toggleable__label sk-toggleable__label-arrow\">MLPRegressor</label><div class=\"sk-toggleable__content\"><pre>MLPRegressor(hidden_layer_sizes=(100, 20))</pre></div></div></div></div></div>"
      ],
      "text/plain": [
       "MLPRegressor(hidden_layer_sizes=(100, 20))"
      ]
     },
     "execution_count": 19,
     "metadata": {},
     "output_type": "execute_result"
    }
   ],
   "source": [
    "mlp_model"
   ]
  },
  {
   "cell_type": "code",
   "execution_count": 20,
   "id": "bc42b0bb",
   "metadata": {},
   "outputs": [
    {
     "data": {
      "text/html": [
       "<style>#sk-container-id-5 {color: black;background-color: white;}#sk-container-id-5 pre{padding: 0;}#sk-container-id-5 div.sk-toggleable {background-color: white;}#sk-container-id-5 label.sk-toggleable__label {cursor: pointer;display: block;width: 100%;margin-bottom: 0;padding: 0.3em;box-sizing: border-box;text-align: center;}#sk-container-id-5 label.sk-toggleable__label-arrow:before {content: \"▸\";float: left;margin-right: 0.25em;color: #696969;}#sk-container-id-5 label.sk-toggleable__label-arrow:hover:before {color: black;}#sk-container-id-5 div.sk-estimator:hover label.sk-toggleable__label-arrow:before {color: black;}#sk-container-id-5 div.sk-toggleable__content {max-height: 0;max-width: 0;overflow: hidden;text-align: left;background-color: #f0f8ff;}#sk-container-id-5 div.sk-toggleable__content pre {margin: 0.2em;color: black;border-radius: 0.25em;background-color: #f0f8ff;}#sk-container-id-5 input.sk-toggleable__control:checked~div.sk-toggleable__content {max-height: 200px;max-width: 100%;overflow: auto;}#sk-container-id-5 input.sk-toggleable__control:checked~label.sk-toggleable__label-arrow:before {content: \"▾\";}#sk-container-id-5 div.sk-estimator input.sk-toggleable__control:checked~label.sk-toggleable__label {background-color: #d4ebff;}#sk-container-id-5 div.sk-label input.sk-toggleable__control:checked~label.sk-toggleable__label {background-color: #d4ebff;}#sk-container-id-5 input.sk-hidden--visually {border: 0;clip: rect(1px 1px 1px 1px);clip: rect(1px, 1px, 1px, 1px);height: 1px;margin: -1px;overflow: hidden;padding: 0;position: absolute;width: 1px;}#sk-container-id-5 div.sk-estimator {font-family: monospace;background-color: #f0f8ff;border: 1px dotted black;border-radius: 0.25em;box-sizing: border-box;margin-bottom: 0.5em;}#sk-container-id-5 div.sk-estimator:hover {background-color: #d4ebff;}#sk-container-id-5 div.sk-parallel-item::after {content: \"\";width: 100%;border-bottom: 1px solid gray;flex-grow: 1;}#sk-container-id-5 div.sk-label:hover label.sk-toggleable__label {background-color: #d4ebff;}#sk-container-id-5 div.sk-serial::before {content: \"\";position: absolute;border-left: 1px solid gray;box-sizing: border-box;top: 0;bottom: 0;left: 50%;z-index: 0;}#sk-container-id-5 div.sk-serial {display: flex;flex-direction: column;align-items: center;background-color: white;padding-right: 0.2em;padding-left: 0.2em;position: relative;}#sk-container-id-5 div.sk-item {position: relative;z-index: 1;}#sk-container-id-5 div.sk-parallel {display: flex;align-items: stretch;justify-content: center;background-color: white;position: relative;}#sk-container-id-5 div.sk-item::before, #sk-container-id-5 div.sk-parallel-item::before {content: \"\";position: absolute;border-left: 1px solid gray;box-sizing: border-box;top: 0;bottom: 0;left: 50%;z-index: -1;}#sk-container-id-5 div.sk-parallel-item {display: flex;flex-direction: column;z-index: 1;position: relative;background-color: white;}#sk-container-id-5 div.sk-parallel-item:first-child::after {align-self: flex-end;width: 50%;}#sk-container-id-5 div.sk-parallel-item:last-child::after {align-self: flex-start;width: 50%;}#sk-container-id-5 div.sk-parallel-item:only-child::after {width: 0;}#sk-container-id-5 div.sk-dashed-wrapped {border: 1px dashed gray;margin: 0 0.4em 0.5em 0.4em;box-sizing: border-box;padding-bottom: 0.4em;background-color: white;}#sk-container-id-5 div.sk-label label {font-family: monospace;font-weight: bold;display: inline-block;line-height: 1.2em;}#sk-container-id-5 div.sk-label-container {text-align: center;}#sk-container-id-5 div.sk-container {/* jupyter's `normalize.less` sets `[hidden] { display: none; }` but bootstrap.min.css set `[hidden] { display: none !important; }` so we also need the `!important` here to be able to override the default hidden behavior on the sphinx rendered scikit-learn.org. See: https://github.com/scikit-learn/scikit-learn/issues/21755 */display: inline-block !important;position: relative;}#sk-container-id-5 div.sk-text-repr-fallback {display: none;}</style><div id=\"sk-container-id-5\" class=\"sk-top-container\"><div class=\"sk-text-repr-fallback\"><pre>GridSearchCV(cv=10, estimator=MLPRegressor(hidden_layer_sizes=(100, 20)),\n",
       "             param_grid={&#x27;activation&#x27;: [&#x27;relu&#x27;, &#x27;logistic&#x27;],\n",
       "                         &#x27;alpha&#x27;: [0.1, 0.01, 0.02, 0.005],\n",
       "                         &#x27;hidden_layer_sizes&#x27;: [(20, 20), (100, 50, 150),\n",
       "                                                (300, 200, 150)]})</pre><b>In a Jupyter environment, please rerun this cell to show the HTML representation or trust the notebook. <br />On GitHub, the HTML representation is unable to render, please try loading this page with nbviewer.org.</b></div><div class=\"sk-container\" hidden><div class=\"sk-item sk-dashed-wrapped\"><div class=\"sk-label-container\"><div class=\"sk-label sk-toggleable\"><input class=\"sk-toggleable__control sk-hidden--visually\" id=\"sk-estimator-id-7\" type=\"checkbox\" ><label for=\"sk-estimator-id-7\" class=\"sk-toggleable__label sk-toggleable__label-arrow\">GridSearchCV</label><div class=\"sk-toggleable__content\"><pre>GridSearchCV(cv=10, estimator=MLPRegressor(hidden_layer_sizes=(100, 20)),\n",
       "             param_grid={&#x27;activation&#x27;: [&#x27;relu&#x27;, &#x27;logistic&#x27;],\n",
       "                         &#x27;alpha&#x27;: [0.1, 0.01, 0.02, 0.005],\n",
       "                         &#x27;hidden_layer_sizes&#x27;: [(20, 20), (100, 50, 150),\n",
       "                                                (300, 200, 150)]})</pre></div></div></div><div class=\"sk-parallel\"><div class=\"sk-parallel-item\"><div class=\"sk-item\"><div class=\"sk-label-container\"><div class=\"sk-label sk-toggleable\"><input class=\"sk-toggleable__control sk-hidden--visually\" id=\"sk-estimator-id-8\" type=\"checkbox\" ><label for=\"sk-estimator-id-8\" class=\"sk-toggleable__label sk-toggleable__label-arrow\">estimator: MLPRegressor</label><div class=\"sk-toggleable__content\"><pre>MLPRegressor(hidden_layer_sizes=(100, 20))</pre></div></div></div><div class=\"sk-serial\"><div class=\"sk-item\"><div class=\"sk-estimator sk-toggleable\"><input class=\"sk-toggleable__control sk-hidden--visually\" id=\"sk-estimator-id-9\" type=\"checkbox\" ><label for=\"sk-estimator-id-9\" class=\"sk-toggleable__label sk-toggleable__label-arrow\">MLPRegressor</label><div class=\"sk-toggleable__content\"><pre>MLPRegressor(hidden_layer_sizes=(100, 20))</pre></div></div></div></div></div></div></div></div></div></div>"
      ],
      "text/plain": [
       "GridSearchCV(cv=10, estimator=MLPRegressor(hidden_layer_sizes=(100, 20)),\n",
       "             param_grid={'activation': ['relu', 'logistic'],\n",
       "                         'alpha': [0.1, 0.01, 0.02, 0.005],\n",
       "                         'hidden_layer_sizes': [(20, 20), (100, 50, 150),\n",
       "                                                (300, 200, 150)]})"
      ]
     },
     "execution_count": 20,
     "metadata": {},
     "output_type": "execute_result"
    }
   ],
   "source": [
    "mlp_params = {'alpha': [0.1, 0.01,0.02,0.005],\n",
    "            'hidden_layer_sizes': [(20,20),(100,50,150),(300,200,150)],\n",
    "            'activation': ['relu','logistic']}\n",
    "mlp_cv_model = GridSearchCV(mlp_model, mlp_params, cv = 10)\n",
    "mlp_cv_model.fit(X_train_scaled, y_train)"
   ]
  },
  {
   "cell_type": "code",
   "execution_count": 21,
   "id": "72effc0d",
   "metadata": {},
   "outputs": [
    {
     "data": {
      "text/plain": [
       "{'activation': 'relu', 'alpha': 0.02, 'hidden_layer_sizes': (300, 200, 150)}"
      ]
     },
     "execution_count": 21,
     "metadata": {},
     "output_type": "execute_result"
    }
   ],
   "source": [
    "mlp_cv_model.best_params_ # En iyi performansı sağlayan hiperparametre değerlerini içeren bir sözlüğü döndürür."
   ]
  },
  {
   "cell_type": "code",
   "execution_count": 22,
   "id": "b31c5d90",
   "metadata": {},
   "outputs": [
    {
     "name": "stdout",
     "output_type": "stream",
     "text": [
      "MLPRegressor(alpha=0.02, hidden_layer_sizes=(300, 200, 150))\n",
      "relu\n"
     ]
    }
   ],
   "source": [
    "mlp_tuned = MLPRegressor(activation=mlp_cv_model.best_params_['activation'],\n",
    "                        alpha = mlp_cv_model.best_params_['alpha'],\n",
    "                        hidden_layer_sizes = mlp_cv_model.best_params_['hidden_layer_sizes'])\n",
    "print(mlp_tuned)\n",
    "print(mlp_tuned.activation)"
   ]
  },
  {
   "cell_type": "code",
   "execution_count": 23,
   "id": "ed16a6e1",
   "metadata": {},
   "outputs": [
    {
     "data": {
      "text/html": [
       "<style>#sk-container-id-6 {color: black;background-color: white;}#sk-container-id-6 pre{padding: 0;}#sk-container-id-6 div.sk-toggleable {background-color: white;}#sk-container-id-6 label.sk-toggleable__label {cursor: pointer;display: block;width: 100%;margin-bottom: 0;padding: 0.3em;box-sizing: border-box;text-align: center;}#sk-container-id-6 label.sk-toggleable__label-arrow:before {content: \"▸\";float: left;margin-right: 0.25em;color: #696969;}#sk-container-id-6 label.sk-toggleable__label-arrow:hover:before {color: black;}#sk-container-id-6 div.sk-estimator:hover label.sk-toggleable__label-arrow:before {color: black;}#sk-container-id-6 div.sk-toggleable__content {max-height: 0;max-width: 0;overflow: hidden;text-align: left;background-color: #f0f8ff;}#sk-container-id-6 div.sk-toggleable__content pre {margin: 0.2em;color: black;border-radius: 0.25em;background-color: #f0f8ff;}#sk-container-id-6 input.sk-toggleable__control:checked~div.sk-toggleable__content {max-height: 200px;max-width: 100%;overflow: auto;}#sk-container-id-6 input.sk-toggleable__control:checked~label.sk-toggleable__label-arrow:before {content: \"▾\";}#sk-container-id-6 div.sk-estimator input.sk-toggleable__control:checked~label.sk-toggleable__label {background-color: #d4ebff;}#sk-container-id-6 div.sk-label input.sk-toggleable__control:checked~label.sk-toggleable__label {background-color: #d4ebff;}#sk-container-id-6 input.sk-hidden--visually {border: 0;clip: rect(1px 1px 1px 1px);clip: rect(1px, 1px, 1px, 1px);height: 1px;margin: -1px;overflow: hidden;padding: 0;position: absolute;width: 1px;}#sk-container-id-6 div.sk-estimator {font-family: monospace;background-color: #f0f8ff;border: 1px dotted black;border-radius: 0.25em;box-sizing: border-box;margin-bottom: 0.5em;}#sk-container-id-6 div.sk-estimator:hover {background-color: #d4ebff;}#sk-container-id-6 div.sk-parallel-item::after {content: \"\";width: 100%;border-bottom: 1px solid gray;flex-grow: 1;}#sk-container-id-6 div.sk-label:hover label.sk-toggleable__label {background-color: #d4ebff;}#sk-container-id-6 div.sk-serial::before {content: \"\";position: absolute;border-left: 1px solid gray;box-sizing: border-box;top: 0;bottom: 0;left: 50%;z-index: 0;}#sk-container-id-6 div.sk-serial {display: flex;flex-direction: column;align-items: center;background-color: white;padding-right: 0.2em;padding-left: 0.2em;position: relative;}#sk-container-id-6 div.sk-item {position: relative;z-index: 1;}#sk-container-id-6 div.sk-parallel {display: flex;align-items: stretch;justify-content: center;background-color: white;position: relative;}#sk-container-id-6 div.sk-item::before, #sk-container-id-6 div.sk-parallel-item::before {content: \"\";position: absolute;border-left: 1px solid gray;box-sizing: border-box;top: 0;bottom: 0;left: 50%;z-index: -1;}#sk-container-id-6 div.sk-parallel-item {display: flex;flex-direction: column;z-index: 1;position: relative;background-color: white;}#sk-container-id-6 div.sk-parallel-item:first-child::after {align-self: flex-end;width: 50%;}#sk-container-id-6 div.sk-parallel-item:last-child::after {align-self: flex-start;width: 50%;}#sk-container-id-6 div.sk-parallel-item:only-child::after {width: 0;}#sk-container-id-6 div.sk-dashed-wrapped {border: 1px dashed gray;margin: 0 0.4em 0.5em 0.4em;box-sizing: border-box;padding-bottom: 0.4em;background-color: white;}#sk-container-id-6 div.sk-label label {font-family: monospace;font-weight: bold;display: inline-block;line-height: 1.2em;}#sk-container-id-6 div.sk-label-container {text-align: center;}#sk-container-id-6 div.sk-container {/* jupyter's `normalize.less` sets `[hidden] { display: none; }` but bootstrap.min.css set `[hidden] { display: none !important; }` so we also need the `!important` here to be able to override the default hidden behavior on the sphinx rendered scikit-learn.org. See: https://github.com/scikit-learn/scikit-learn/issues/21755 */display: inline-block !important;position: relative;}#sk-container-id-6 div.sk-text-repr-fallback {display: none;}</style><div id=\"sk-container-id-6\" class=\"sk-top-container\"><div class=\"sk-text-repr-fallback\"><pre>MLPRegressor(alpha=0.02, hidden_layer_sizes=(300, 200, 150))</pre><b>In a Jupyter environment, please rerun this cell to show the HTML representation or trust the notebook. <br />On GitHub, the HTML representation is unable to render, please try loading this page with nbviewer.org.</b></div><div class=\"sk-container\" hidden><div class=\"sk-item\"><div class=\"sk-estimator sk-toggleable\"><input class=\"sk-toggleable__control sk-hidden--visually\" id=\"sk-estimator-id-10\" type=\"checkbox\" checked><label for=\"sk-estimator-id-10\" class=\"sk-toggleable__label sk-toggleable__label-arrow\">MLPRegressor</label><div class=\"sk-toggleable__content\"><pre>MLPRegressor(alpha=0.02, hidden_layer_sizes=(300, 200, 150))</pre></div></div></div></div></div>"
      ],
      "text/plain": [
       "MLPRegressor(alpha=0.02, hidden_layer_sizes=(300, 200, 150))"
      ]
     },
     "execution_count": 23,
     "metadata": {},
     "output_type": "execute_result"
    }
   ],
   "source": [
    "mlp_tuned.fit(X_train_scaled, y_train)"
   ]
  },
  {
   "cell_type": "code",
   "execution_count": 24,
   "id": "c605f562",
   "metadata": {},
   "outputs": [
    {
     "data": {
      "text/plain": [
       "13420137.199426513"
      ]
     },
     "execution_count": 24,
     "metadata": {},
     "output_type": "execute_result"
    }
   ],
   "source": [
    "y_pred = mlp_tuned.predict(X_test_scaled)\n",
    "np.sqrt(mean_squared_error(y_test, y_pred))"
   ]
  },
  {
   "cell_type": "markdown",
   "id": "f1cf1cd8",
   "metadata": {},
   "source": [
    "## 2.3. Karar Ağaçları / Classification and Regression Trees (CART)"
   ]
  },
  {
   "cell_type": "markdown",
   "id": "c2f7abe2",
   "metadata": {},
   "source": [
    "Temel amaç veri seti içerisindeki karmaşık yapıları basit karar yapılarına dönüştürmektir. Heterojen veri setleri belirlenmiş bir hedef değişkene göre homojen alt gruplara ayrılır."
   ]
  },
  {
   "cell_type": "markdown",
   "id": "2e04b463",
   "metadata": {},
   "source": [
    "### 2.3.1. Model"
   ]
  },
  {
   "cell_type": "code",
   "execution_count": 2,
   "id": "b1818c58",
   "metadata": {},
   "outputs": [],
   "source": [
    "df=pd.read_csv(\"dataset/youtubeGB.csv\")\n",
    "youtube=df.copy()\n",
    "# Yazmazsak hata veriyor!\n",
    "youtube.index = youtube.iloc[:,0]\n",
    "youtube=youtube.iloc[:,7:11]\n",
    "\n",
    "youtube=youtube.sample(n=500) # Veri seti üzerindeki 500 kaydı veri seti üzerinde çalışma süresini azaltabilmek için \n",
    "                               # örneklem olarak alıyoruz.\n",
    "\n",
    "youtube = youtube.dropna()\n",
    "dms = pd.get_dummies(youtube[['likes', 'dislikes', 'comment_count']])\n",
    "y = youtube[\"views\"]\n",
    "X_ = youtube.drop(['views', 'likes', 'dislikes', 'comment_count'], axis=1).astype('int64')\n",
    "X = pd.concat([X_, dms[['likes', 'dislikes', 'comment_count']]], axis=1)\n",
    "X_train, X_test, y_train, y_test = train_test_split(X, y,\n",
    "                                                    test_size=0.25,\n",
    "                                                    random_state=42)"
   ]
  },
  {
   "cell_type": "code",
   "execution_count": 3,
   "id": "68619870",
   "metadata": {},
   "outputs": [],
   "source": [
    "# Tek bir bağımsız değişkenle deneyelim.\n",
    "X_train = pd.DataFrame(X_train[\"likes\"])\n",
    "X_test = pd.DataFrame(X_test[\"likes\"])"
   ]
  },
  {
   "cell_type": "code",
   "execution_count": 4,
   "id": "b5cde61b",
   "metadata": {},
   "outputs": [
    {
     "data": {
      "text/html": [
       "<style>#sk-container-id-1 {color: black;background-color: white;}#sk-container-id-1 pre{padding: 0;}#sk-container-id-1 div.sk-toggleable {background-color: white;}#sk-container-id-1 label.sk-toggleable__label {cursor: pointer;display: block;width: 100%;margin-bottom: 0;padding: 0.3em;box-sizing: border-box;text-align: center;}#sk-container-id-1 label.sk-toggleable__label-arrow:before {content: \"▸\";float: left;margin-right: 0.25em;color: #696969;}#sk-container-id-1 label.sk-toggleable__label-arrow:hover:before {color: black;}#sk-container-id-1 div.sk-estimator:hover label.sk-toggleable__label-arrow:before {color: black;}#sk-container-id-1 div.sk-toggleable__content {max-height: 0;max-width: 0;overflow: hidden;text-align: left;background-color: #f0f8ff;}#sk-container-id-1 div.sk-toggleable__content pre {margin: 0.2em;color: black;border-radius: 0.25em;background-color: #f0f8ff;}#sk-container-id-1 input.sk-toggleable__control:checked~div.sk-toggleable__content {max-height: 200px;max-width: 100%;overflow: auto;}#sk-container-id-1 input.sk-toggleable__control:checked~label.sk-toggleable__label-arrow:before {content: \"▾\";}#sk-container-id-1 div.sk-estimator input.sk-toggleable__control:checked~label.sk-toggleable__label {background-color: #d4ebff;}#sk-container-id-1 div.sk-label input.sk-toggleable__control:checked~label.sk-toggleable__label {background-color: #d4ebff;}#sk-container-id-1 input.sk-hidden--visually {border: 0;clip: rect(1px 1px 1px 1px);clip: rect(1px, 1px, 1px, 1px);height: 1px;margin: -1px;overflow: hidden;padding: 0;position: absolute;width: 1px;}#sk-container-id-1 div.sk-estimator {font-family: monospace;background-color: #f0f8ff;border: 1px dotted black;border-radius: 0.25em;box-sizing: border-box;margin-bottom: 0.5em;}#sk-container-id-1 div.sk-estimator:hover {background-color: #d4ebff;}#sk-container-id-1 div.sk-parallel-item::after {content: \"\";width: 100%;border-bottom: 1px solid gray;flex-grow: 1;}#sk-container-id-1 div.sk-label:hover label.sk-toggleable__label {background-color: #d4ebff;}#sk-container-id-1 div.sk-serial::before {content: \"\";position: absolute;border-left: 1px solid gray;box-sizing: border-box;top: 0;bottom: 0;left: 50%;z-index: 0;}#sk-container-id-1 div.sk-serial {display: flex;flex-direction: column;align-items: center;background-color: white;padding-right: 0.2em;padding-left: 0.2em;position: relative;}#sk-container-id-1 div.sk-item {position: relative;z-index: 1;}#sk-container-id-1 div.sk-parallel {display: flex;align-items: stretch;justify-content: center;background-color: white;position: relative;}#sk-container-id-1 div.sk-item::before, #sk-container-id-1 div.sk-parallel-item::before {content: \"\";position: absolute;border-left: 1px solid gray;box-sizing: border-box;top: 0;bottom: 0;left: 50%;z-index: -1;}#sk-container-id-1 div.sk-parallel-item {display: flex;flex-direction: column;z-index: 1;position: relative;background-color: white;}#sk-container-id-1 div.sk-parallel-item:first-child::after {align-self: flex-end;width: 50%;}#sk-container-id-1 div.sk-parallel-item:last-child::after {align-self: flex-start;width: 50%;}#sk-container-id-1 div.sk-parallel-item:only-child::after {width: 0;}#sk-container-id-1 div.sk-dashed-wrapped {border: 1px dashed gray;margin: 0 0.4em 0.5em 0.4em;box-sizing: border-box;padding-bottom: 0.4em;background-color: white;}#sk-container-id-1 div.sk-label label {font-family: monospace;font-weight: bold;display: inline-block;line-height: 1.2em;}#sk-container-id-1 div.sk-label-container {text-align: center;}#sk-container-id-1 div.sk-container {/* jupyter's `normalize.less` sets `[hidden] { display: none; }` but bootstrap.min.css set `[hidden] { display: none !important; }` so we also need the `!important` here to be able to override the default hidden behavior on the sphinx rendered scikit-learn.org. See: https://github.com/scikit-learn/scikit-learn/issues/21755 */display: inline-block !important;position: relative;}#sk-container-id-1 div.sk-text-repr-fallback {display: none;}</style><div id=\"sk-container-id-1\" class=\"sk-top-container\"><div class=\"sk-text-repr-fallback\"><pre>DecisionTreeRegressor()</pre><b>In a Jupyter environment, please rerun this cell to show the HTML representation or trust the notebook. <br />On GitHub, the HTML representation is unable to render, please try loading this page with nbviewer.org.</b></div><div class=\"sk-container\" hidden><div class=\"sk-item\"><div class=\"sk-estimator sk-toggleable\"><input class=\"sk-toggleable__control sk-hidden--visually\" id=\"sk-estimator-id-1\" type=\"checkbox\" checked><label for=\"sk-estimator-id-1\" class=\"sk-toggleable__label sk-toggleable__label-arrow\">DecisionTreeRegressor</label><div class=\"sk-toggleable__content\"><pre>DecisionTreeRegressor()</pre></div></div></div></div></div>"
      ],
      "text/plain": [
       "DecisionTreeRegressor()"
      ]
     },
     "execution_count": 4,
     "metadata": {},
     "output_type": "execute_result"
    }
   ],
   "source": [
    "# Modelin oluşturulup ardından eğitilmesi.\n",
    "cart_model = DecisionTreeRegressor()\n",
    "cart_model.fit(X_train, y_train)"
   ]
  },
  {
   "cell_type": "code",
   "execution_count": 5,
   "id": "c08c28dd",
   "metadata": {},
   "outputs": [
    {
     "data": {
      "image/png": "[encoded data removed]",
      "text/plain": [
       "<Figure size 640x480 with 1 Axes>"
      ]
     },
     "metadata": {},
     "output_type": "display_data"
    }
   ],
   "source": [
    "filterwarnings('ignore') # Uyarıları görmezden gelmek için\n",
    "\n",
    "X_grid = np.arange(min(np.array(X_train)),max(np.array(X_train)), 0.01) \n",
    "X_grid = X_grid.reshape((len(X_grid), 1))  \n",
    "plt.scatter(X_train, y_train, color = 'red') \n",
    "plt.plot(X_grid, cart_model.predict(X_grid), color = 'blue')  \n",
    "plt.title('CART REGRESON AĞACI')  \n",
    "plt.xlabel('Beğeni Sayısı(likes)') \n",
    "plt.ylabel('İzlenme (views)') ;"
   ]
  },
  {
   "cell_type": "code",
   "execution_count": 10,
   "id": "f7bac1a4",
   "metadata": {},
   "outputs": [
    {
     "name": "stdout",
     "output_type": "stream",
     "text": [
      "(((20130470.666666668 if x[0] <= 16.0 else 348486.67015706806 if x[0] <= \n",
      "    25492.0 else 2766367.871287129) if x[0] <= 137879.0 else \n",
      "    8710610.351851853) if x[0] <= 378923.0 else ((17139834.666666668 if x[0\n",
      "    ] <= 439051.0 else (42382073.0 if x[0] <= 453835.5 else 73711644.0) if \n",
      "    x[0] <= 466561.5 else 24853980.0) if x[0] <= 473978.0 else \n",
      "    11566034.714285715) if x[0] <= 605349.5 else 31030685.692307692)\n",
      "\n"
     ]
    }
   ],
   "source": [
    "# skompiler kütüphanesi ile karar ağacının karar modelini python koduna çeviriyoruz.\n",
    "print(skompile(cart_model.predict).to('python/code'))"
   ]
  },
  {
   "cell_type": "markdown",
   "id": "142abc13",
   "metadata": {},
   "source": [
    "### 2.3.2. Tahmin"
   ]
  },
  {
   "cell_type": "code",
   "execution_count": 11,
   "id": "2b8e28d1",
   "metadata": {},
   "outputs": [],
   "source": [
    "x = [91]"
   ]
  },
  {
   "cell_type": "code",
   "execution_count": 12,
   "id": "f663910e",
   "metadata": {},
   "outputs": [
    {
     "data": {
      "text/plain": [
       "348486.67015706806"
      ]
     },
     "execution_count": 12,
     "metadata": {},
     "output_type": "execute_result"
    }
   ],
   "source": [
    "(((20130470.666666668 if x[0] <= 16.0 else 348486.67015706806 if x[0] <= \n",
    "    25492.0 else 2766367.871287129) if x[0] <= 137879.0 else \n",
    "    8710610.351851853) if x[0] <= 378923.0 else ((17139834.666666668 if x[0\n",
    "    ] <= 439051.0 else (42382073.0 if x[0] <= 453835.5 else 73711644.0) if \n",
    "    x[0] <= 466561.5 else 24853980.0) if x[0] <= 473978.0 else \n",
    "    11566034.714285715) if x[0] <= 605349.5 else 31030685.692307692)"
   ]
  },
  {
   "cell_type": "code",
   "execution_count": 13,
   "id": "a78c3a2d",
   "metadata": {},
   "outputs": [
    {
     "data": {
      "text/html": [
       "<div>\n",
       "<style scoped>\n",
       "    .dataframe tbody tr th:only-of-type {\n",
       "        vertical-align: middle;\n",
       "    }\n",
       "\n",
       "    .dataframe tbody tr th {\n",
       "        vertical-align: top;\n",
       "    }\n",
       "\n",
       "    .dataframe thead th {\n",
       "        text-align: right;\n",
       "    }\n",
       "</style>\n",
       "<table border=\"1\" class=\"dataframe\">\n",
       "  <thead>\n",
       "    <tr style=\"text-align: right;\">\n",
       "      <th></th>\n",
       "      <th>likes</th>\n",
       "    </tr>\n",
       "    <tr>\n",
       "      <th>video_id</th>\n",
       "      <th></th>\n",
       "    </tr>\n",
       "  </thead>\n",
       "  <tbody>\n",
       "    <tr>\n",
       "      <th>HBfEf9MsRr4</th>\n",
       "      <td>3626</td>\n",
       "    </tr>\n",
       "    <tr>\n",
       "      <th>b4vTZx_AtHk</th>\n",
       "      <td>106739</td>\n",
       "    </tr>\n",
       "    <tr>\n",
       "      <th>2m2HLU5uVwg</th>\n",
       "      <td>6829</td>\n",
       "    </tr>\n",
       "    <tr>\n",
       "      <th>7FM_MfpYOLU</th>\n",
       "      <td>65979</td>\n",
       "    </tr>\n",
       "    <tr>\n",
       "      <th>Un8b0JDw0Bc</th>\n",
       "      <td>20697</td>\n",
       "    </tr>\n",
       "  </tbody>\n",
       "</table>\n",
       "</div>"
      ],
      "text/plain": [
       "              likes\n",
       "video_id           \n",
       "HBfEf9MsRr4    3626\n",
       "b4vTZx_AtHk  106739\n",
       "2m2HLU5uVwg    6829\n",
       "7FM_MfpYOLU   65979\n",
       "Un8b0JDw0Bc   20697"
      ]
     },
     "execution_count": 13,
     "metadata": {},
     "output_type": "execute_result"
    }
   ],
   "source": [
    "X_test[0:5]"
   ]
  },
  {
   "cell_type": "code",
   "execution_count": 14,
   "id": "5cdb1ec6",
   "metadata": {},
   "outputs": [
    {
     "data": {
      "text/plain": [
       "array([ 348486.67015707, 2766367.87128713,  348486.67015707,\n",
       "       2766367.87128713,  348486.67015707])"
      ]
     },
     "execution_count": 14,
     "metadata": {},
     "output_type": "execute_result"
    }
   ],
   "source": [
    "cart_model.predict(X_test)[0:5]"
   ]
  },
  {
   "cell_type": "code",
   "execution_count": 15,
   "id": "afb07d25",
   "metadata": {},
   "outputs": [
    {
     "data": {
      "text/plain": [
       "array([348486.67015707])"
      ]
     },
     "execution_count": 15,
     "metadata": {},
     "output_type": "execute_result"
    }
   ],
   "source": [
    "cart_model.predict([[91]]) # Oluşturulan karar ağacı modeli kullanılarak 91 girdisi ile üzerinde tahmin yapmayı sağlar."
   ]
  },
  {
   "cell_type": "code",
   "execution_count": 16,
   "id": "f5617ba9",
   "metadata": {},
   "outputs": [
    {
     "data": {
      "text/plain": [
       "7154835.558925062"
      ]
     },
     "execution_count": 16,
     "metadata": {},
     "output_type": "execute_result"
    }
   ],
   "source": [
    "# Tahmin edilen değerlerle gerçek değerler arasındaki ortalama karesel hatayı hesaplayalım.\n",
    "y_pred =cart_model.predict(X_test)\n",
    "np.sqrt(mean_squared_error(y_test, y_pred))"
   ]
  },
  {
   "cell_type": "markdown",
   "id": "ce95f2be",
   "metadata": {},
   "source": [
    "### 2.3.3. Model Tuning"
   ]
  },
  {
   "cell_type": "code",
   "execution_count": 17,
   "id": "c9086526",
   "metadata": {},
   "outputs": [],
   "source": [
    "cart_model = DecisionTreeRegressor()\n",
    "cart_model.fit(X_train, y_train)\n",
    "y_pred = cart_model.predict(X_test)"
   ]
  },
  {
   "cell_type": "code",
   "execution_count": 18,
   "id": "626c9e45",
   "metadata": {},
   "outputs": [
    {
     "data": {
      "text/plain": [
       "8749545.055345291"
      ]
     },
     "execution_count": 18,
     "metadata": {},
     "output_type": "execute_result"
    }
   ],
   "source": [
    "np.sqrt(mean_squared_error(y_test, y_pred))"
   ]
  },
  {
   "cell_type": "code",
   "execution_count": 19,
   "id": "e86c3fbc",
   "metadata": {},
   "outputs": [
    {
     "data": {
      "text/html": [
       "<style>#sk-container-id-2 {color: black;background-color: white;}#sk-container-id-2 pre{padding: 0;}#sk-container-id-2 div.sk-toggleable {background-color: white;}#sk-container-id-2 label.sk-toggleable__label {cursor: pointer;display: block;width: 100%;margin-bottom: 0;padding: 0.3em;box-sizing: border-box;text-align: center;}#sk-container-id-2 label.sk-toggleable__label-arrow:before {content: \"▸\";float: left;margin-right: 0.25em;color: #696969;}#sk-container-id-2 label.sk-toggleable__label-arrow:hover:before {color: black;}#sk-container-id-2 div.sk-estimator:hover label.sk-toggleable__label-arrow:before {color: black;}#sk-container-id-2 div.sk-toggleable__content {max-height: 0;max-width: 0;overflow: hidden;text-align: left;background-color: #f0f8ff;}#sk-container-id-2 div.sk-toggleable__content pre {margin: 0.2em;color: black;border-radius: 0.25em;background-color: #f0f8ff;}#sk-container-id-2 input.sk-toggleable__control:checked~div.sk-toggleable__content {max-height: 200px;max-width: 100%;overflow: auto;}#sk-container-id-2 input.sk-toggleable__control:checked~label.sk-toggleable__label-arrow:before {content: \"▾\";}#sk-container-id-2 div.sk-estimator input.sk-toggleable__control:checked~label.sk-toggleable__label {background-color: #d4ebff;}#sk-container-id-2 div.sk-label input.sk-toggleable__control:checked~label.sk-toggleable__label {background-color: #d4ebff;}#sk-container-id-2 input.sk-hidden--visually {border: 0;clip: rect(1px 1px 1px 1px);clip: rect(1px, 1px, 1px, 1px);height: 1px;margin: -1px;overflow: hidden;padding: 0;position: absolute;width: 1px;}#sk-container-id-2 div.sk-estimator {font-family: monospace;background-color: #f0f8ff;border: 1px dotted black;border-radius: 0.25em;box-sizing: border-box;margin-bottom: 0.5em;}#sk-container-id-2 div.sk-estimator:hover {background-color: #d4ebff;}#sk-container-id-2 div.sk-parallel-item::after {content: \"\";width: 100%;border-bottom: 1px solid gray;flex-grow: 1;}#sk-container-id-2 div.sk-label:hover label.sk-toggleable__label {background-color: #d4ebff;}#sk-container-id-2 div.sk-serial::before {content: \"\";position: absolute;border-left: 1px solid gray;box-sizing: border-box;top: 0;bottom: 0;left: 50%;z-index: 0;}#sk-container-id-2 div.sk-serial {display: flex;flex-direction: column;align-items: center;background-color: white;padding-right: 0.2em;padding-left: 0.2em;position: relative;}#sk-container-id-2 div.sk-item {position: relative;z-index: 1;}#sk-container-id-2 div.sk-parallel {display: flex;align-items: stretch;justify-content: center;background-color: white;position: relative;}#sk-container-id-2 div.sk-item::before, #sk-container-id-2 div.sk-parallel-item::before {content: \"\";position: absolute;border-left: 1px solid gray;box-sizing: border-box;top: 0;bottom: 0;left: 50%;z-index: -1;}#sk-container-id-2 div.sk-parallel-item {display: flex;flex-direction: column;z-index: 1;position: relative;background-color: white;}#sk-container-id-2 div.sk-parallel-item:first-child::after {align-self: flex-end;width: 50%;}#sk-container-id-2 div.sk-parallel-item:last-child::after {align-self: flex-start;width: 50%;}#sk-container-id-2 div.sk-parallel-item:only-child::after {width: 0;}#sk-container-id-2 div.sk-dashed-wrapped {border: 1px dashed gray;margin: 0 0.4em 0.5em 0.4em;box-sizing: border-box;padding-bottom: 0.4em;background-color: white;}#sk-container-id-2 div.sk-label label {font-family: monospace;font-weight: bold;display: inline-block;line-height: 1.2em;}#sk-container-id-2 div.sk-label-container {text-align: center;}#sk-container-id-2 div.sk-container {/* jupyter's `normalize.less` sets `[hidden] { display: none; }` but bootstrap.min.css set `[hidden] { display: none !important; }` so we also need the `!important` here to be able to override the default hidden behavior on the sphinx rendered scikit-learn.org. See: https://github.com/scikit-learn/scikit-learn/issues/21755 */display: inline-block !important;position: relative;}#sk-container-id-2 div.sk-text-repr-fallback {display: none;}</style><div id=\"sk-container-id-2\" class=\"sk-top-container\"><div class=\"sk-text-repr-fallback\"><pre>GridSearchCV(cv=10, estimator=DecisionTreeRegressor(),\n",
       "             param_grid={&#x27;max_leaf_nodes&#x27;: range(2, 10),\n",
       "                         &#x27;min_samples_split&#x27;: range(2, 100)})</pre><b>In a Jupyter environment, please rerun this cell to show the HTML representation or trust the notebook. <br />On GitHub, the HTML representation is unable to render, please try loading this page with nbviewer.org.</b></div><div class=\"sk-container\" hidden><div class=\"sk-item sk-dashed-wrapped\"><div class=\"sk-label-container\"><div class=\"sk-label sk-toggleable\"><input class=\"sk-toggleable__control sk-hidden--visually\" id=\"sk-estimator-id-2\" type=\"checkbox\" ><label for=\"sk-estimator-id-2\" class=\"sk-toggleable__label sk-toggleable__label-arrow\">GridSearchCV</label><div class=\"sk-toggleable__content\"><pre>GridSearchCV(cv=10, estimator=DecisionTreeRegressor(),\n",
       "             param_grid={&#x27;max_leaf_nodes&#x27;: range(2, 10),\n",
       "                         &#x27;min_samples_split&#x27;: range(2, 100)})</pre></div></div></div><div class=\"sk-parallel\"><div class=\"sk-parallel-item\"><div class=\"sk-item\"><div class=\"sk-label-container\"><div class=\"sk-label sk-toggleable\"><input class=\"sk-toggleable__control sk-hidden--visually\" id=\"sk-estimator-id-3\" type=\"checkbox\" ><label for=\"sk-estimator-id-3\" class=\"sk-toggleable__label sk-toggleable__label-arrow\">estimator: DecisionTreeRegressor</label><div class=\"sk-toggleable__content\"><pre>DecisionTreeRegressor()</pre></div></div></div><div class=\"sk-serial\"><div class=\"sk-item\"><div class=\"sk-estimator sk-toggleable\"><input class=\"sk-toggleable__control sk-hidden--visually\" id=\"sk-estimator-id-4\" type=\"checkbox\" ><label for=\"sk-estimator-id-4\" class=\"sk-toggleable__label sk-toggleable__label-arrow\">DecisionTreeRegressor</label><div class=\"sk-toggleable__content\"><pre>DecisionTreeRegressor()</pre></div></div></div></div></div></div></div></div></div></div>"
      ],
      "text/plain": [
       "GridSearchCV(cv=10, estimator=DecisionTreeRegressor(),\n",
       "             param_grid={'max_leaf_nodes': range(2, 10),\n",
       "                         'min_samples_split': range(2, 100)})"
      ]
     },
     "execution_count": 19,
     "metadata": {},
     "output_type": "execute_result"
    }
   ],
   "source": [
    "cart_params = {\"min_samples_split\": range(2,100),\n",
    "               \"max_leaf_nodes\": range(2,10)}\n",
    "\n",
    "cart_cv_model = GridSearchCV(cart_model, cart_params, cv = 10)\n",
    "cart_cv_model.fit(X_train, y_train)"
   ]
  },
  {
   "cell_type": "code",
   "execution_count": 20,
   "id": "a555565a",
   "metadata": {},
   "outputs": [
    {
     "data": {
      "text/plain": [
       "{'max_leaf_nodes': 9, 'min_samples_split': 10}"
      ]
     },
     "execution_count": 20,
     "metadata": {},
     "output_type": "execute_result"
    }
   ],
   "source": [
    "cart_cv_model.best_params_ # Çapraz doğrulama işlemi sonucunda en iyi hiperparametre değerlerini döndürür."
   ]
  },
  {
   "cell_type": "code",
   "execution_count": 21,
   "id": "2a80c33a",
   "metadata": {},
   "outputs": [
    {
     "data": {
      "text/html": [
       "<style>#sk-container-id-3 {color: black;background-color: white;}#sk-container-id-3 pre{padding: 0;}#sk-container-id-3 div.sk-toggleable {background-color: white;}#sk-container-id-3 label.sk-toggleable__label {cursor: pointer;display: block;width: 100%;margin-bottom: 0;padding: 0.3em;box-sizing: border-box;text-align: center;}#sk-container-id-3 label.sk-toggleable__label-arrow:before {content: \"▸\";float: left;margin-right: 0.25em;color: #696969;}#sk-container-id-3 label.sk-toggleable__label-arrow:hover:before {color: black;}#sk-container-id-3 div.sk-estimator:hover label.sk-toggleable__label-arrow:before {color: black;}#sk-container-id-3 div.sk-toggleable__content {max-height: 0;max-width: 0;overflow: hidden;text-align: left;background-color: #f0f8ff;}#sk-container-id-3 div.sk-toggleable__content pre {margin: 0.2em;color: black;border-radius: 0.25em;background-color: #f0f8ff;}#sk-container-id-3 input.sk-toggleable__control:checked~div.sk-toggleable__content {max-height: 200px;max-width: 100%;overflow: auto;}#sk-container-id-3 input.sk-toggleable__control:checked~label.sk-toggleable__label-arrow:before {content: \"▾\";}#sk-container-id-3 div.sk-estimator input.sk-toggleable__control:checked~label.sk-toggleable__label {background-color: #d4ebff;}#sk-container-id-3 div.sk-label input.sk-toggleable__control:checked~label.sk-toggleable__label {background-color: #d4ebff;}#sk-container-id-3 input.sk-hidden--visually {border: 0;clip: rect(1px 1px 1px 1px);clip: rect(1px, 1px, 1px, 1px);height: 1px;margin: -1px;overflow: hidden;padding: 0;position: absolute;width: 1px;}#sk-container-id-3 div.sk-estimator {font-family: monospace;background-color: #f0f8ff;border: 1px dotted black;border-radius: 0.25em;box-sizing: border-box;margin-bottom: 0.5em;}#sk-container-id-3 div.sk-estimator:hover {background-color: #d4ebff;}#sk-container-id-3 div.sk-parallel-item::after {content: \"\";width: 100%;border-bottom: 1px solid gray;flex-grow: 1;}#sk-container-id-3 div.sk-label:hover label.sk-toggleable__label {background-color: #d4ebff;}#sk-container-id-3 div.sk-serial::before {content: \"\";position: absolute;border-left: 1px solid gray;box-sizing: border-box;top: 0;bottom: 0;left: 50%;z-index: 0;}#sk-container-id-3 div.sk-serial {display: flex;flex-direction: column;align-items: center;background-color: white;padding-right: 0.2em;padding-left: 0.2em;position: relative;}#sk-container-id-3 div.sk-item {position: relative;z-index: 1;}#sk-container-id-3 div.sk-parallel {display: flex;align-items: stretch;justify-content: center;background-color: white;position: relative;}#sk-container-id-3 div.sk-item::before, #sk-container-id-3 div.sk-parallel-item::before {content: \"\";position: absolute;border-left: 1px solid gray;box-sizing: border-box;top: 0;bottom: 0;left: 50%;z-index: -1;}#sk-container-id-3 div.sk-parallel-item {display: flex;flex-direction: column;z-index: 1;position: relative;background-color: white;}#sk-container-id-3 div.sk-parallel-item:first-child::after {align-self: flex-end;width: 50%;}#sk-container-id-3 div.sk-parallel-item:last-child::after {align-self: flex-start;width: 50%;}#sk-container-id-3 div.sk-parallel-item:only-child::after {width: 0;}#sk-container-id-3 div.sk-dashed-wrapped {border: 1px dashed gray;margin: 0 0.4em 0.5em 0.4em;box-sizing: border-box;padding-bottom: 0.4em;background-color: white;}#sk-container-id-3 div.sk-label label {font-family: monospace;font-weight: bold;display: inline-block;line-height: 1.2em;}#sk-container-id-3 div.sk-label-container {text-align: center;}#sk-container-id-3 div.sk-container {/* jupyter's `normalize.less` sets `[hidden] { display: none; }` but bootstrap.min.css set `[hidden] { display: none !important; }` so we also need the `!important` here to be able to override the default hidden behavior on the sphinx rendered scikit-learn.org. See: https://github.com/scikit-learn/scikit-learn/issues/21755 */display: inline-block !important;position: relative;}#sk-container-id-3 div.sk-text-repr-fallback {display: none;}</style><div id=\"sk-container-id-3\" class=\"sk-top-container\"><div class=\"sk-text-repr-fallback\"><pre>DecisionTreeRegressor(max_leaf_nodes=9, min_samples_split=10)</pre><b>In a Jupyter environment, please rerun this cell to show the HTML representation or trust the notebook. <br />On GitHub, the HTML representation is unable to render, please try loading this page with nbviewer.org.</b></div><div class=\"sk-container\" hidden><div class=\"sk-item\"><div class=\"sk-estimator sk-toggleable\"><input class=\"sk-toggleable__control sk-hidden--visually\" id=\"sk-estimator-id-5\" type=\"checkbox\" checked><label for=\"sk-estimator-id-5\" class=\"sk-toggleable__label sk-toggleable__label-arrow\">DecisionTreeRegressor</label><div class=\"sk-toggleable__content\"><pre>DecisionTreeRegressor(max_leaf_nodes=9, min_samples_split=10)</pre></div></div></div></div></div>"
      ],
      "text/plain": [
       "DecisionTreeRegressor(max_leaf_nodes=9, min_samples_split=10)"
      ]
     },
     "execution_count": 21,
     "metadata": {},
     "output_type": "execute_result"
    }
   ],
   "source": [
    "cart_tuned = DecisionTreeRegressor(max_leaf_nodes = 9, min_samples_split = 10)\n",
    "\n",
    "cart_tuned.fit(X_train, y_train)# En iyi hiperparametre değerlerini uygulayarak modeli doğruladık ve fit ettik."
   ]
  },
  {
   "cell_type": "code",
   "execution_count": 22,
   "id": "e2015aa6",
   "metadata": {},
   "outputs": [
    {
     "data": {
      "text/plain": [
       "5413305.09651908"
      ]
     },
     "execution_count": 22,
     "metadata": {},
     "output_type": "execute_result"
    }
   ],
   "source": [
    "y_pred = cart_tuned.predict(X_test)\n",
    "\n",
    "np.sqrt(mean_squared_error(y_test, y_pred)) # Ortalama karesel hata"
   ]
  },
  {
   "cell_type": "code",
   "execution_count": 23,
   "id": "67162250",
   "metadata": {},
   "outputs": [
    {
     "name": "stdout",
     "output_type": "stream",
     "text": [
      "9188667.455273082\n",
      "{'max_leaf_nodes': 9, 'min_samples_split': 4}\n",
      "9969619.077682057\n"
     ]
    }
   ],
   "source": [
    "# Tüm bağımsız değişkenlerle tekrar deneyelim.\n",
    "df=pd.read_csv(\"dataset/youtubeGB.csv\")\n",
    "youtube=df.copy()\n",
    "# Yazmazsak hata veriyor!\n",
    "youtube.index = youtube.iloc[:,0]\n",
    "youtube=youtube.iloc[:,7:11]\n",
    "\n",
    "youtube=youtube.sample(n=500) # Veri seti üzerindeki 500 kaydı veri seti üzerinde çalışma süresini azaltabilmek için \n",
    "                               # örneklem olarak alıyoruz.\n",
    "\n",
    "youtube = youtube.dropna()\n",
    "dms = pd.get_dummies(youtube[['likes', 'dislikes', 'comment_count']])\n",
    "y = youtube[\"views\"]\n",
    "X_ = youtube.drop(['views', 'likes', 'dislikes', 'comment_count'], axis=1).astype('int64')\n",
    "X = pd.concat([X_, dms[['likes', 'dislikes', 'comment_count']]], axis=1)\n",
    "X_train, X_test, y_train, y_test = train_test_split(X, y,\n",
    "                                                    test_size=0.25,\n",
    "                                                    random_state=42)\n",
    "\n",
    "# İlkel test hatasına bakalım.\n",
    "cart_model = DecisionTreeRegressor()\n",
    "cart_model.fit(X_train, y_train)\n",
    "y_pred = cart_model.predict(X_test)\n",
    "print(np.sqrt(mean_squared_error(y_test, y_pred)))\n",
    "\n",
    "# Cross Validation\n",
    "cart_params = {\"min_samples_split\": range(2,100),\n",
    "               \"max_leaf_nodes\": range(2,10)}\n",
    "cart_cv_model = GridSearchCV(cart_model, cart_params, cv = 10)\n",
    "cart_cv_model.fit(X_train, y_train)\n",
    "print(cart_cv_model.best_params_)\n",
    "cart_tuned = DecisionTreeRegressor(max_leaf_nodes = cart_cv_model.best_params_['max_leaf_nodes'], \n",
    "                                   min_samples_split = cart_cv_model.best_params_['min_samples_split'])\n",
    "cart_tuned.fit(X_train, y_train)\n",
    "y_pred = cart_tuned.predict(X_test)\n",
    "print(np.sqrt(mean_squared_error(y_test, y_pred)))"
   ]
  },
  {
   "cell_type": "markdown",
   "id": "f265cae8",
   "metadata": {},
   "source": [
    "## 2.3. Destek Vektör Regresyonu (SVR)"
   ]
  },
  {
   "cell_type": "markdown",
   "id": "cfc6b115",
   "metadata": {},
   "source": [
    "Temel amaç, bir marjin aralığına maksimum noktayı en küçük hata ile alabilecek şekilde doğru ya da eğrinin belirlenmesidir."
   ]
  },
  {
   "cell_type": "markdown",
   "id": "e2677620",
   "metadata": {},
   "source": [
    "### 2.3.1. Model (Doğrusal SVR)"
   ]
  },
  {
   "cell_type": "code",
   "execution_count": 25,
   "id": "9297ba39",
   "metadata": {},
   "outputs": [],
   "source": [
    "df=pd.read_csv(\"dataset/youtubeGB.csv\")\n",
    "youtube=df.copy()\n",
    "\n",
    "youtube.index = youtube.iloc[:,0]\n",
    "youtube=youtube.iloc[:,7:11]\n",
    "\n",
    "youtube=youtube.sample(n=500) # Veri seti üzerindeki 500 kaydı veri seti üzerinde çalışma süresini azaltabilmek için \n",
    "                               # örneklem olarak alıyoruz.\n",
    "\n",
    "youtube = youtube.dropna()\n",
    "dms = pd.get_dummies(youtube[['likes', 'dislikes', 'comment_count']])\n",
    "y = youtube[\"views\"]\n",
    "X_ = youtube.drop(['views', 'likes', 'dislikes', 'comment_count'], axis=1).astype('int64')\n",
    "X = pd.concat([X_, dms[['likes', 'dislikes', 'comment_count']]], axis=1)\n",
    "X_train, X_test, y_train, y_test = train_test_split(X, y,\n",
    "                                                    test_size=0.25,\n",
    "                                                    random_state=42)"
   ]
  },
  {
   "cell_type": "code",
   "execution_count": 28,
   "id": "9d14f713",
   "metadata": {},
   "outputs": [
    {
     "data": {
      "text/plain": [
       "array([ 291539.05213151,  252208.63645008,   56348.62891427,\n",
       "       1169918.33568355,   25567.11608581])"
      ]
     },
     "execution_count": 28,
     "metadata": {},
     "output_type": "execute_result"
    }
   ],
   "source": [
    "# Burada tüm parametreleri de alabiliriz fakat biz örnek olması açısından sadece 'likes' parametresini alacağız.\n",
    "# Model tuning altında tüm parametreler için de deneyeceğiz.\n",
    "X_train = pd.DataFrame(X_train[\"likes\"])\n",
    "X_test = pd.DataFrame(X_test[\"likes\"])\n",
    "svr_model = LinearSVR().fit(X_train, y_train)\n",
    "\n",
    "# İlk değer için modelimizi deneyebiliriz.\n",
    "svr_model.predict(X_train)[0:5]"
   ]
  },
  {
   "cell_type": "code",
   "execution_count": 29,
   "id": "5081d165",
   "metadata": {},
   "outputs": [
    {
     "name": "stdout",
     "output_type": "stream",
     "text": [
      "y = 29.65868154766144 + 27.312788667662904 x\n"
     ]
    }
   ],
   "source": [
    "# Doğrusal modelimizin parametre katsayıları\n",
    "print (\"y = {0} + {1} x\".format(svr_model.intercept_[0],\n",
    "                                svr_model.coef_[0]))"
   ]
  },
  {
   "cell_type": "code",
   "execution_count": 40,
   "id": "5bd201d1",
   "metadata": {},
   "outputs": [
    {
     "data": {
      "text/plain": [
       "video_id\n",
       "TUUUh-51t1k    10673\n",
       "Name: likes, dtype: int64"
      ]
     },
     "execution_count": 40,
     "metadata": {},
     "output_type": "execute_result"
    }
   ],
   "source": [
    "X_train[\"likes\"][0:1] # Aşağıdaki çıktıya göre x değeri 10673 olur."
   ]
  },
  {
   "cell_type": "code",
   "execution_count": 38,
   "id": "09bed9f4",
   "metadata": {},
   "outputs": [
    {
     "data": {
      "text/html": [
       "<div>\n",
       "<style scoped>\n",
       "    .dataframe tbody tr th:only-of-type {\n",
       "        vertical-align: middle;\n",
       "    }\n",
       "\n",
       "    .dataframe tbody tr th {\n",
       "        vertical-align: top;\n",
       "    }\n",
       "\n",
       "    .dataframe thead th {\n",
       "        text-align: right;\n",
       "    }\n",
       "</style>\n",
       "<table border=\"1\" class=\"dataframe\">\n",
       "  <thead>\n",
       "    <tr style=\"text-align: right;\">\n",
       "      <th></th>\n",
       "      <th>views</th>\n",
       "      <th>likes</th>\n",
       "      <th>dislikes</th>\n",
       "      <th>comment_count</th>\n",
       "    </tr>\n",
       "    <tr>\n",
       "      <th>video_id</th>\n",
       "      <th></th>\n",
       "      <th></th>\n",
       "      <th></th>\n",
       "      <th></th>\n",
       "    </tr>\n",
       "  </thead>\n",
       "  <tbody>\n",
       "    <tr>\n",
       "      <th>kTlv5_Bs8aw</th>\n",
       "      <td>54083634</td>\n",
       "      <td>2960250</td>\n",
       "      <td>57944</td>\n",
       "      <td>556154</td>\n",
       "    </tr>\n",
       "    <tr>\n",
       "      <th>elwTgpHlty0</th>\n",
       "      <td>15100123</td>\n",
       "      <td>498726</td>\n",
       "      <td>13140</td>\n",
       "      <td>24380</td>\n",
       "    </tr>\n",
       "    <tr>\n",
       "      <th>WS7f5xpGYn8</th>\n",
       "      <td>29669903</td>\n",
       "      <td>790568</td>\n",
       "      <td>158437</td>\n",
       "      <td>79160</td>\n",
       "    </tr>\n",
       "    <tr>\n",
       "      <th>muAPJiMho2Y</th>\n",
       "      <td>3416096</td>\n",
       "      <td>107854</td>\n",
       "      <td>1110</td>\n",
       "      <td>11496</td>\n",
       "    </tr>\n",
       "    <tr>\n",
       "      <th>bzzk0R14HD4</th>\n",
       "      <td>74021</td>\n",
       "      <td>382</td>\n",
       "      <td>15</td>\n",
       "      <td>39</td>\n",
       "    </tr>\n",
       "  </tbody>\n",
       "</table>\n",
       "</div>"
      ],
      "text/plain": [
       "                views    likes  dislikes  comment_count\n",
       "video_id                                               \n",
       "kTlv5_Bs8aw  54083634  2960250     57944         556154\n",
       "elwTgpHlty0  15100123   498726     13140          24380\n",
       "WS7f5xpGYn8  29669903   790568    158437          79160\n",
       "muAPJiMho2Y   3416096   107854      1110          11496\n",
       "bzzk0R14HD4     74021      382        15             39"
      ]
     },
     "execution_count": 38,
     "metadata": {},
     "output_type": "execute_result"
    }
   ],
   "source": [
    "youtube.head()"
   ]
  },
  {
   "cell_type": "code",
   "execution_count": 41,
   "id": "02a59dbe",
   "metadata": {},
   "outputs": [
    {
     "data": {
      "text/plain": [
       "291539.05213151383"
      ]
     },
     "execution_count": 41,
     "metadata": {},
     "output_type": "execute_result"
    }
   ],
   "source": [
    "# Değerleri formülde yerine yazıp sonucu aldığımızda doğru y değerine ulaştığımızı görüyoruz.\n",
    "29.65868154766144 + 27.312788667662904*10673 "
   ]
  },
  {
   "cell_type": "code",
   "execution_count": 42,
   "id": "b9dd6f95",
   "metadata": {},
   "outputs": [
    {
     "data": {
      "text/plain": [
       "[<matplotlib.lines.Line2D at 0x2209e015e10>]"
      ]
     },
     "execution_count": 42,
     "metadata": {},
     "output_type": "execute_result"
    },
    {
     "data": {
      "image/png": "[encoded data removed]",
      "text/plain": [
       "<Figure size 640x480 with 1 Axes>"
      ]
     },
     "metadata": {},
     "output_type": "display_data"
    }
   ],
   "source": [
    "y_pred = svr_model.predict(X_train)\n",
    "\n",
    "plt.scatter(X_train, y_train)\n",
    "plt.plot(X_train,y_pred, color = \"r\")"
   ]
  },
  {
   "cell_type": "code",
   "execution_count": 43,
   "id": "5138d09f",
   "metadata": {},
   "outputs": [
    {
     "name": "stdout",
     "output_type": "stream",
     "text": [
      "y = 849325.5847883672 + 31.516273094187632 x\n"
     ]
    }
   ],
   "source": [
    "# Lineer regresyon modeliyle svm modelini karşılaştıralım.\n",
    "lm_model = LinearRegression().fit(X_train, y_train)\n",
    "lm_pred = lm_model.predict(X_train)\n",
    "print(\"y = {0} + {1} x\".format(lm_model.intercept_, lm_model.coef_[0]))"
   ]
  },
  {
   "cell_type": "code",
   "execution_count": 44,
   "id": "4b6f70db",
   "metadata": {},
   "outputs": [
    {
     "data": {
      "text/plain": [
       "1185698.7675226317"
      ]
     },
     "execution_count": 44,
     "metadata": {},
     "output_type": "execute_result"
    }
   ],
   "source": [
    "# Lineer regresyon ile elde ettiğimiz parametre katsayıları\n",
    "849325.5847883672 + 31.516273094187632*10673"
   ]
  },
  {
   "cell_type": "code",
   "execution_count": 45,
   "id": "79a64fb4",
   "metadata": {},
   "outputs": [
    {
     "data": {
      "text/plain": [
       "Text(0, 0.5, 'İzlenme (views)')"
      ]
     },
     "execution_count": 45,
     "metadata": {},
     "output_type": "execute_result"
    },
    {
     "data": {
      "image/png": "[encoded data removed]",
      "text/plain": [
       "<Figure size 640x480 with 1 Axes>"
      ]
     },
     "metadata": {},
     "output_type": "display_data"
    }
   ],
   "source": [
    "# İki yöntemi de görsel olarak karşılaştıralım.\n",
    "plt.scatter(X_train, y_train, alpha=0.5, s=23)\n",
    "plt.plot(X_train, lm_pred, 'g')\n",
    "plt.plot(X_train, y_pred, color='r')\n",
    "plt.xlabel(\"Beğeni Sayısı (likes)\")\n",
    "plt.ylabel(\"İzlenme (views)\")"
   ]
  },
  {
   "cell_type": "markdown",
   "id": "4f97e738",
   "metadata": {},
   "source": [
    "##### Not: Yukarıdaki grafik gözlemlendiğinde;\n",
    "Lineer regresyon yöntemiyle elde edilen doğru (yeşil) beğeni sayılarına göre daha fazla izlenme eğilimindedir. Bunun sebebi grafiğin üstünde görülen aykırı değerlerin lineer modelin tahminini yukarı çekmesidir.\n",
    "\n",
    "SVR'de ise (robust bir yöntem olduğundan) aykırı gözlemlerin etkisi daha düşüktür."
   ]
  },
  {
   "cell_type": "markdown",
   "id": "9a432e94",
   "metadata": {},
   "source": [
    "### 2.3.2. Tahmin (Doğrusal SVR)"
   ]
  },
  {
   "cell_type": "code",
   "execution_count": 46,
   "id": "e61741b1",
   "metadata": {},
   "outputs": [
    {
     "name": "stdout",
     "output_type": "stream",
     "text": [
      "y = 29.65868154766144 + 27.312788667662904 x\n"
     ]
    }
   ],
   "source": [
    "print (\"y = {0} + {1} x\".format(svr_model.intercept_[0], svr_model.coef_[0]))"
   ]
  },
  {
   "cell_type": "code",
   "execution_count": 47,
   "id": "3862e72f",
   "metadata": {},
   "outputs": [
    {
     "data": {
      "text/plain": [
       "array([291539.05213151])"
      ]
     },
     "execution_count": 47,
     "metadata": {},
     "output_type": "execute_result"
    }
   ],
   "source": [
    "svr_model.predict([[10673]]) "
   ]
  },
  {
   "cell_type": "code",
   "execution_count": 48,
   "id": "6e7a6915",
   "metadata": {},
   "outputs": [
    {
     "data": {
      "text/plain": [
       "9487412.289933344"
      ]
     },
     "execution_count": 48,
     "metadata": {},
     "output_type": "execute_result"
    }
   ],
   "source": [
    "y_pred = svr_model.predict(X_test)\n",
    "np.sqrt(mean_squared_error(y_test, y_pred))"
   ]
  },
  {
   "cell_type": "markdown",
   "id": "3f74d3b0",
   "metadata": {},
   "source": [
    "### 2.3.3. Model Tuning (Doğrusal SVR)"
   ]
  },
  {
   "cell_type": "code",
   "execution_count": 49,
   "id": "595b9c99",
   "metadata": {},
   "outputs": [
    {
     "data": {
      "text/plain": [
       "1.3000000000000003"
      ]
     },
     "execution_count": 49,
     "metadata": {},
     "output_type": "execute_result"
    }
   ],
   "source": [
    "svr_params = {\"C\": np.arange(0.1,2,0.1)}\n",
    "svr_cv_model = GridSearchCV(svr_model, svr_params, cv = 10).fit(X_train,y_train)\n",
    "\n",
    "# Yapılan çapraz doğrulama işlemi sonucunda elde edilen en iyi hiperparametre değerlerinden ilkini döndürelim.\n",
    "pd.Series(svr_cv_model.best_params_)[0]"
   ]
  },
  {
   "cell_type": "code",
   "execution_count": 50,
   "id": "051993f7",
   "metadata": {},
   "outputs": [
    {
     "data": {
      "text/plain": [
       "8782481.18616097"
      ]
     },
     "execution_count": 50,
     "metadata": {},
     "output_type": "execute_result"
    }
   ],
   "source": [
    "# En iyi C değeriyle eğitilmiş LineerSVR modelini kullanarak X_test veri kümesinde tahmin yaparak tahminlerin gerçek \n",
    "# değerlerle olan ortalama karesel hatasını hesaplayalım.\n",
    "svr_tuned = LinearSVR(C = pd.Series(svr_cv_model.best_params_)[0]).fit(X_train, y_train)\n",
    "\n",
    "y_pred = svr_tuned.predict(X_test)\n",
    "\n",
    "np.sqrt(mean_squared_error(y_test, y_pred))"
   ]
  },
  {
   "cell_type": "code",
   "execution_count": 51,
   "id": "fa829dff",
   "metadata": {},
   "outputs": [
    {
     "name": "stdout",
     "output_type": "stream",
     "text": [
      "0.30000000000000004\n"
     ]
    },
    {
     "data": {
      "text/plain": [
       "10061638.347871626"
      ]
     },
     "execution_count": 51,
     "metadata": {},
     "output_type": "execute_result"
    }
   ],
   "source": [
    "# SVR modelin tüm değişkenler için çalıştırılması.\n",
    "df=pd.read_csv(\"dataset/youtubeGB.csv\")\n",
    "youtube=df.copy()\n",
    "\n",
    "youtube.index = youtube.iloc[:,0]\n",
    "youtube=youtube.iloc[:,7:11]\n",
    "\n",
    "youtube=youtube.sample(n=500) # Veri seti üzerindeki 500 kaydı veri seti üzerinde çalışma süresini azaltabilmek için \n",
    "                               # örneklem olarak alıyoruz.\n",
    "\n",
    "youtube = youtube.dropna()\n",
    "dms = pd.get_dummies(youtube[['likes', 'dislikes', 'comment_count']])\n",
    "y = youtube[\"views\"]\n",
    "X_ = youtube.drop(['views', 'likes', 'dislikes', 'comment_count'], axis=1).astype('int64')\n",
    "X = pd.concat([X_, dms[['likes', 'dislikes', 'comment_count']]], axis=1)\n",
    "X_train, X_test, y_train, y_test = train_test_split(X, y,\n",
    "                                                    test_size=0.25,\n",
    "                                                    random_state=42)\n",
    "\n",
    "svr_model = LinearSVR().fit(X_train, y_train)\n",
    "svr_params = {\"C\": np.arange(0.1,2,0.1)}\n",
    "svr_cv_model = GridSearchCV(svr_model, svr_params, cv = 10).fit(X_train,y_train)\n",
    "\n",
    "print(pd.Series(svr_cv_model.best_params_)[0])\n",
    "\n",
    "svr_tuned = LinearSVR(C = pd.Series(svr_cv_model.best_params_)[0]).fit(X_train, y_train)\n",
    "\n",
    "y_pred = svr_tuned.predict(X_test)\n",
    "\n",
    "np.sqrt(mean_squared_error(y_test, y_pred))"
   ]
  },
  {
   "cell_type": "code",
   "execution_count": 52,
   "id": "66eb820a",
   "metadata": {},
   "outputs": [
    {
     "data": {
      "text/plain": [
       "array([48.85240244])"
      ]
     },
     "execution_count": 52,
     "metadata": {},
     "output_type": "execute_result"
    }
   ],
   "source": [
    "svr_model.intercept_ # Modelin kesme noktasına bakalım."
   ]
  },
  {
   "cell_type": "code",
   "execution_count": 53,
   "id": "6bffaba7",
   "metadata": {},
   "outputs": [
    {
     "data": {
      "text/plain": [
       "array([ 12.92006125,  97.02925088, -25.47987987])"
      ]
     },
     "execution_count": 53,
     "metadata": {},
     "output_type": "execute_result"
    }
   ],
   "source": [
    "svr_model.coef_ # SVR modelin katsayılarını dizi şeklinde gösterir."
   ]
  },
  {
   "cell_type": "markdown",
   "id": "18260fed",
   "metadata": {},
   "source": [
    "### 2.3.4. Model (Doğrusal Olmayan SVR)"
   ]
  },
  {
   "cell_type": "code",
   "execution_count": 56,
   "id": "638af399",
   "metadata": {},
   "outputs": [],
   "source": [
    "# Bir veri seti oluşturup lineer regresyon ile SVR'yi görsel olarak karşılaştıralım.\n",
    "np.random.seed(3)\n",
    "\n",
    "x_sim = np.random.uniform(2, 10, 145)\n",
    "y_sim = np.sin(x_sim) + np.random.normal(0, 0.4, 145)\n",
    "# Aykırı gözlemler\n",
    "x_outliers = np.arange(2.5, 5, 0.5)\n",
    "y_outliers = -5*np.ones(5)\n",
    "\n",
    "x_sim_idx = np.argsort(np.concatenate([x_sim, x_outliers]))\n",
    "x_sim = np.concatenate([x_sim, x_outliers])[x_sim_idx]\n",
    "y_sim = np.concatenate([y_sim, y_outliers])[x_sim_idx]\n",
    "\n",
    "# Lineer regresyon\n",
    "ols = LinearRegression()\n",
    "ols.fit(np.sin(x_sim[:, np.newaxis]), y_sim)\n",
    "ols_pred = ols.predict(np.sin(x_sim[:, np.newaxis]))\n",
    "\n",
    "# SVR\n",
    "eps = 0.1 # Default degeri\n",
    "# rbf=radial bases function (doğrusal olmayan bir form)\n",
    "svr = SVR(kernel='rbf', epsilon = eps)\n",
    "svr.fit(x_sim[:, np.newaxis], y_sim)\n",
    "svr_pred = svr.predict(x_sim[:, np.newaxis])\n"
   ]
  },
  {
   "cell_type": "code",
   "execution_count": 57,
   "id": "84591aaf",
   "metadata": {},
   "outputs": [
    {
     "data": {
      "image/png": "[encoded data removed]",
      "text/plain": [
       "<Figure size 640x480 with 1 Axes>"
      ]
     },
     "metadata": {},
     "output_type": "display_data"
    }
   ],
   "source": [
    "svr_pred = svr.predict(x_sim[:, np.newaxis])\n",
    "plt.scatter(x_sim, y_sim, alpha=0.5, s=26)\n",
    "plt_ols, = plt.plot(x_sim, ols_pred, 'g')\n",
    "plt_svr, = plt.plot(x_sim, svr_pred, color='r')\n",
    "plt.xlabel(\"Bağımsız Değişken\")\n",
    "plt.ylabel(\"Bağımlı Değişken\")\n",
    "plt.ylim(-5.2, 2.2)\n",
    "plt.legend([plt_ols, plt_svr], ['EKK', 'SVR'], loc = 4);"
   ]
  },
  {
   "cell_type": "markdown",
   "id": "bdf8ca6f",
   "metadata": {},
   "source": [
    "#### Not: \n",
    "Grafikte sol altta eklenen aykırı değerlere dikkat edersek önceki bölümde olduğu gibi En Küçük Kareler yöntemini kullanan lineer regresyon yönteminin eğrisini aşağı çektiğini gözlemleyebiliyoruz."
   ]
  },
  {
   "cell_type": "code",
   "execution_count": 59,
   "id": "1b0b4f91",
   "metadata": {},
   "outputs": [],
   "source": [
    "df=pd.read_csv(\"dataset/youtubeGB.csv\")\n",
    "youtube=df.copy()\n",
    "\n",
    "youtube.index = youtube.iloc[:,0]\n",
    "youtube=youtube.iloc[:,7:11]\n",
    "\n",
    "youtube=youtube.sample(n=500) # Veri seti üzerindeki 500 kaydı veri seti üzerinde çalışma süresini azaltabilmek için \n",
    "                               # örneklem olarak alıyoruz.\n",
    "\n",
    "youtube = youtube.dropna()\n",
    "dms = pd.get_dummies(youtube[['likes', 'dislikes', 'comment_count']])\n",
    "y = youtube[\"views\"]\n",
    "X_ = youtube.drop(['views', 'likes', 'dislikes', 'comment_count'], axis=1).astype('int64')\n",
    "X = pd.concat([X_, dms[['likes', 'dislikes', 'comment_count']]], axis=1)\n",
    "X_train, X_test, y_train, y_test = train_test_split(X, y,\n",
    "                                                    test_size=0.25,\n",
    "                                                    random_state=42)\n",
    "\n",
    "svr_rbf = SVR(kernel=\"rbf\").fit(X_train, y_train) # Model oluşturulması ve fit edilmesi"
   ]
  },
  {
   "cell_type": "markdown",
   "id": "69bf4655",
   "metadata": {},
   "source": [
    "### 2.3.5. Tahmin (Doğrusal Olmayan SVR)"
   ]
  },
  {
   "cell_type": "code",
   "execution_count": 61,
   "id": "c076d093",
   "metadata": {},
   "outputs": [
    {
     "data": {
      "text/plain": [
       "17591704.59798848"
      ]
     },
     "execution_count": 61,
     "metadata": {},
     "output_type": "execute_result"
    }
   ],
   "source": [
    "y_pred = svr_rbf.predict(X_test)\n",
    "\n",
    "np.sqrt(mean_squared_error(y_test, y_pred))"
   ]
  },
  {
   "cell_type": "markdown",
   "id": "e0fb57df",
   "metadata": {},
   "source": [
    "### 2.3.6. Model Tuning (Doğrusal Olmayan SVR)"
   ]
  },
  {
   "cell_type": "code",
   "execution_count": 63,
   "id": "1d5dddbe",
   "metadata": {},
   "outputs": [
    {
     "data": {
      "text/html": [
       "<style>#sk-container-id-7 {color: black;background-color: white;}#sk-container-id-7 pre{padding: 0;}#sk-container-id-7 div.sk-toggleable {background-color: white;}#sk-container-id-7 label.sk-toggleable__label {cursor: pointer;display: block;width: 100%;margin-bottom: 0;padding: 0.3em;box-sizing: border-box;text-align: center;}#sk-container-id-7 label.sk-toggleable__label-arrow:before {content: \"▸\";float: left;margin-right: 0.25em;color: #696969;}#sk-container-id-7 label.sk-toggleable__label-arrow:hover:before {color: black;}#sk-container-id-7 div.sk-estimator:hover label.sk-toggleable__label-arrow:before {color: black;}#sk-container-id-7 div.sk-toggleable__content {max-height: 0;max-width: 0;overflow: hidden;text-align: left;background-color: #f0f8ff;}#sk-container-id-7 div.sk-toggleable__content pre {margin: 0.2em;color: black;border-radius: 0.25em;background-color: #f0f8ff;}#sk-container-id-7 input.sk-toggleable__control:checked~div.sk-toggleable__content {max-height: 200px;max-width: 100%;overflow: auto;}#sk-container-id-7 input.sk-toggleable__control:checked~label.sk-toggleable__label-arrow:before {content: \"▾\";}#sk-container-id-7 div.sk-estimator input.sk-toggleable__control:checked~label.sk-toggleable__label {background-color: #d4ebff;}#sk-container-id-7 div.sk-label input.sk-toggleable__control:checked~label.sk-toggleable__label {background-color: #d4ebff;}#sk-container-id-7 input.sk-hidden--visually {border: 0;clip: rect(1px 1px 1px 1px);clip: rect(1px, 1px, 1px, 1px);height: 1px;margin: -1px;overflow: hidden;padding: 0;position: absolute;width: 1px;}#sk-container-id-7 div.sk-estimator {font-family: monospace;background-color: #f0f8ff;border: 1px dotted black;border-radius: 0.25em;box-sizing: border-box;margin-bottom: 0.5em;}#sk-container-id-7 div.sk-estimator:hover {background-color: #d4ebff;}#sk-container-id-7 div.sk-parallel-item::after {content: \"\";width: 100%;border-bottom: 1px solid gray;flex-grow: 1;}#sk-container-id-7 div.sk-label:hover label.sk-toggleable__label {background-color: #d4ebff;}#sk-container-id-7 div.sk-serial::before {content: \"\";position: absolute;border-left: 1px solid gray;box-sizing: border-box;top: 0;bottom: 0;left: 50%;z-index: 0;}#sk-container-id-7 div.sk-serial {display: flex;flex-direction: column;align-items: center;background-color: white;padding-right: 0.2em;padding-left: 0.2em;position: relative;}#sk-container-id-7 div.sk-item {position: relative;z-index: 1;}#sk-container-id-7 div.sk-parallel {display: flex;align-items: stretch;justify-content: center;background-color: white;position: relative;}#sk-container-id-7 div.sk-item::before, #sk-container-id-7 div.sk-parallel-item::before {content: \"\";position: absolute;border-left: 1px solid gray;box-sizing: border-box;top: 0;bottom: 0;left: 50%;z-index: -1;}#sk-container-id-7 div.sk-parallel-item {display: flex;flex-direction: column;z-index: 1;position: relative;background-color: white;}#sk-container-id-7 div.sk-parallel-item:first-child::after {align-self: flex-end;width: 50%;}#sk-container-id-7 div.sk-parallel-item:last-child::after {align-self: flex-start;width: 50%;}#sk-container-id-7 div.sk-parallel-item:only-child::after {width: 0;}#sk-container-id-7 div.sk-dashed-wrapped {border: 1px dashed gray;margin: 0 0.4em 0.5em 0.4em;box-sizing: border-box;padding-bottom: 0.4em;background-color: white;}#sk-container-id-7 div.sk-label label {font-family: monospace;font-weight: bold;display: inline-block;line-height: 1.2em;}#sk-container-id-7 div.sk-label-container {text-align: center;}#sk-container-id-7 div.sk-container {/* jupyter's `normalize.less` sets `[hidden] { display: none; }` but bootstrap.min.css set `[hidden] { display: none !important; }` so we also need the `!important` here to be able to override the default hidden behavior on the sphinx rendered scikit-learn.org. See: https://github.com/scikit-learn/scikit-learn/issues/21755 */display: inline-block !important;position: relative;}#sk-container-id-7 div.sk-text-repr-fallback {display: none;}</style><div id=\"sk-container-id-7\" class=\"sk-top-container\"><div class=\"sk-text-repr-fallback\"><pre>GridSearchCV(cv=10, estimator=SVR(),\n",
       "             param_grid={&#x27;C&#x27;: [0.01, 0.1, 0.4, 5, 10, 20, 30, 40, 50, 60, 70,\n",
       "                               80, 90, 100, 110, 120, 130, 140, 200, 300, 400,\n",
       "                               500, 600, 700, 800, 900, 1000, 2000, 3000, 4000, ...]})</pre><b>In a Jupyter environment, please rerun this cell to show the HTML representation or trust the notebook. <br />On GitHub, the HTML representation is unable to render, please try loading this page with nbviewer.org.</b></div><div class=\"sk-container\" hidden><div class=\"sk-item sk-dashed-wrapped\"><div class=\"sk-label-container\"><div class=\"sk-label sk-toggleable\"><input class=\"sk-toggleable__control sk-hidden--visually\" id=\"sk-estimator-id-11\" type=\"checkbox\" ><label for=\"sk-estimator-id-11\" class=\"sk-toggleable__label sk-toggleable__label-arrow\">GridSearchCV</label><div class=\"sk-toggleable__content\"><pre>GridSearchCV(cv=10, estimator=SVR(),\n",
       "             param_grid={&#x27;C&#x27;: [0.01, 0.1, 0.4, 5, 10, 20, 30, 40, 50, 60, 70,\n",
       "                               80, 90, 100, 110, 120, 130, 140, 200, 300, 400,\n",
       "                               500, 600, 700, 800, 900, 1000, 2000, 3000, 4000, ...]})</pre></div></div></div><div class=\"sk-parallel\"><div class=\"sk-parallel-item\"><div class=\"sk-item\"><div class=\"sk-label-container\"><div class=\"sk-label sk-toggleable\"><input class=\"sk-toggleable__control sk-hidden--visually\" id=\"sk-estimator-id-12\" type=\"checkbox\" ><label for=\"sk-estimator-id-12\" class=\"sk-toggleable__label sk-toggleable__label-arrow\">estimator: SVR</label><div class=\"sk-toggleable__content\"><pre>SVR()</pre></div></div></div><div class=\"sk-serial\"><div class=\"sk-item\"><div class=\"sk-estimator sk-toggleable\"><input class=\"sk-toggleable__control sk-hidden--visually\" id=\"sk-estimator-id-13\" type=\"checkbox\" ><label for=\"sk-estimator-id-13\" class=\"sk-toggleable__label sk-toggleable__label-arrow\">SVR</label><div class=\"sk-toggleable__content\"><pre>SVR()</pre></div></div></div></div></div></div></div></div></div></div>"
      ],
      "text/plain": [
       "GridSearchCV(cv=10, estimator=SVR(),\n",
       "             param_grid={'C': [0.01, 0.1, 0.4, 5, 10, 20, 30, 40, 50, 60, 70,\n",
       "                               80, 90, 100, 110, 120, 130, 140, 200, 300, 400,\n",
       "                               500, 600, 700, 800, 900, 1000, 2000, 3000, 4000, ...]})"
      ]
     },
     "execution_count": 63,
     "metadata": {},
     "output_type": "execute_result"
    }
   ],
   "source": [
    "svr_params = {\"C\": [0.01, 0.1,0.4,5,10,20,30,40,50,60,70,80,90,100,110,120,130,140,200,300,400,500,600,700,800,900,1000,2000,3000,4000,5000,6000]}\n",
    "svr_cv_model = GridSearchCV(svr_rbf,svr_params, cv = 10)\n",
    "svr_cv_model.fit(X_train, y_train)"
   ]
  },
  {
   "cell_type": "code",
   "execution_count": 64,
   "id": "fd08da2c",
   "metadata": {},
   "outputs": [
    {
     "data": {
      "text/plain": [
       "{'C': 6000}"
      ]
     },
     "execution_count": 64,
     "metadata": {},
     "output_type": "execute_result"
    }
   ],
   "source": [
    "svr_cv_model.best_params_\n",
    "# Çıktı sonucuna göre en iyi parametrenin 6000 olduğunu görmekteyiz."
   ]
  },
  {
   "cell_type": "code",
   "execution_count": 65,
   "id": "e7058183",
   "metadata": {},
   "outputs": [
    {
     "data": {
      "text/plain": [
       "17456687.80795424"
      ]
     },
     "execution_count": 65,
     "metadata": {},
     "output_type": "execute_result"
    }
   ],
   "source": [
    "svr_tuned = SVR(kernel=\"rbf\", C = pd.Series(svr_cv_model.best_params_)[0]).fit(X_train,\n",
    "                                                                                y_train)\n",
    "\n",
    "y_pred = svr_tuned.predict(X_test)\n",
    "np.sqrt(mean_squared_error(y_test, y_pred))"
   ]
  },
  {
   "cell_type": "markdown",
   "id": "bee45ca4",
   "metadata": {},
   "source": [
    "## 2.4. Bagged Trees Regresyon (Bootstrap Aggregation)"
   ]
  },
  {
   "cell_type": "markdown",
   "id": "7657a61d",
   "metadata": {},
   "source": [
    "Temeli, Boostrap yöntemi ile oluşturulan birden fazla karar ağacının ürettiği tahminlerin bir araya getirilerek değerlendirilmesine dayanır."
   ]
  },
  {
   "cell_type": "markdown",
   "id": "c1c006f2",
   "metadata": {},
   "source": [
    "### 2.4.1. Model"
   ]
  },
  {
   "cell_type": "code",
   "execution_count": 66,
   "id": "2e297820",
   "metadata": {},
   "outputs": [],
   "source": [
    "df=pd.read_csv(\"dataset/youtubeGB.csv\")\n",
    "youtube=df.copy()\n",
    "\n",
    "youtube.index = youtube.iloc[:,0]\n",
    "youtube=youtube.iloc[:,7:11]\n",
    "\n",
    "youtube=youtube.sample(n=500) # Veri seti üzerindeki 500 kaydı veri seti üzerinde çalışma süresini azaltabilmek için \n",
    "                               # örneklem olarak alıyoruz.\n",
    "\n",
    "youtube = youtube.dropna()\n",
    "dms = pd.get_dummies(youtube[['likes', 'dislikes', 'comment_count']])\n",
    "y = youtube[\"views\"]\n",
    "X_ = youtube.drop(['views', 'likes', 'dislikes', 'comment_count'], axis=1).astype('int64')\n",
    "X = pd.concat([X_, dms[['likes', 'dislikes', 'comment_count']]], axis=1)\n",
    "X_train, X_test, y_train, y_test = train_test_split(X, y,\n",
    "                                                    test_size=0.25,\n",
    "                                                    random_state=42)"
   ]
  },
  {
   "cell_type": "code",
   "execution_count": 69,
   "id": "5f57bccf",
   "metadata": {},
   "outputs": [
    {
     "data": {
      "text/html": [
       "<style>#sk-container-id-8 {color: black;background-color: white;}#sk-container-id-8 pre{padding: 0;}#sk-container-id-8 div.sk-toggleable {background-color: white;}#sk-container-id-8 label.sk-toggleable__label {cursor: pointer;display: block;width: 100%;margin-bottom: 0;padding: 0.3em;box-sizing: border-box;text-align: center;}#sk-container-id-8 label.sk-toggleable__label-arrow:before {content: \"▸\";float: left;margin-right: 0.25em;color: #696969;}#sk-container-id-8 label.sk-toggleable__label-arrow:hover:before {color: black;}#sk-container-id-8 div.sk-estimator:hover label.sk-toggleable__label-arrow:before {color: black;}#sk-container-id-8 div.sk-toggleable__content {max-height: 0;max-width: 0;overflow: hidden;text-align: left;background-color: #f0f8ff;}#sk-container-id-8 div.sk-toggleable__content pre {margin: 0.2em;color: black;border-radius: 0.25em;background-color: #f0f8ff;}#sk-container-id-8 input.sk-toggleable__control:checked~div.sk-toggleable__content {max-height: 200px;max-width: 100%;overflow: auto;}#sk-container-id-8 input.sk-toggleable__control:checked~label.sk-toggleable__label-arrow:before {content: \"▾\";}#sk-container-id-8 div.sk-estimator input.sk-toggleable__control:checked~label.sk-toggleable__label {background-color: #d4ebff;}#sk-container-id-8 div.sk-label input.sk-toggleable__control:checked~label.sk-toggleable__label {background-color: #d4ebff;}#sk-container-id-8 input.sk-hidden--visually {border: 0;clip: rect(1px 1px 1px 1px);clip: rect(1px, 1px, 1px, 1px);height: 1px;margin: -1px;overflow: hidden;padding: 0;position: absolute;width: 1px;}#sk-container-id-8 div.sk-estimator {font-family: monospace;background-color: #f0f8ff;border: 1px dotted black;border-radius: 0.25em;box-sizing: border-box;margin-bottom: 0.5em;}#sk-container-id-8 div.sk-estimator:hover {background-color: #d4ebff;}#sk-container-id-8 div.sk-parallel-item::after {content: \"\";width: 100%;border-bottom: 1px solid gray;flex-grow: 1;}#sk-container-id-8 div.sk-label:hover label.sk-toggleable__label {background-color: #d4ebff;}#sk-container-id-8 div.sk-serial::before {content: \"\";position: absolute;border-left: 1px solid gray;box-sizing: border-box;top: 0;bottom: 0;left: 50%;z-index: 0;}#sk-container-id-8 div.sk-serial {display: flex;flex-direction: column;align-items: center;background-color: white;padding-right: 0.2em;padding-left: 0.2em;position: relative;}#sk-container-id-8 div.sk-item {position: relative;z-index: 1;}#sk-container-id-8 div.sk-parallel {display: flex;align-items: stretch;justify-content: center;background-color: white;position: relative;}#sk-container-id-8 div.sk-item::before, #sk-container-id-8 div.sk-parallel-item::before {content: \"\";position: absolute;border-left: 1px solid gray;box-sizing: border-box;top: 0;bottom: 0;left: 50%;z-index: -1;}#sk-container-id-8 div.sk-parallel-item {display: flex;flex-direction: column;z-index: 1;position: relative;background-color: white;}#sk-container-id-8 div.sk-parallel-item:first-child::after {align-self: flex-end;width: 50%;}#sk-container-id-8 div.sk-parallel-item:last-child::after {align-self: flex-start;width: 50%;}#sk-container-id-8 div.sk-parallel-item:only-child::after {width: 0;}#sk-container-id-8 div.sk-dashed-wrapped {border: 1px dashed gray;margin: 0 0.4em 0.5em 0.4em;box-sizing: border-box;padding-bottom: 0.4em;background-color: white;}#sk-container-id-8 div.sk-label label {font-family: monospace;font-weight: bold;display: inline-block;line-height: 1.2em;}#sk-container-id-8 div.sk-label-container {text-align: center;}#sk-container-id-8 div.sk-container {/* jupyter's `normalize.less` sets `[hidden] { display: none; }` but bootstrap.min.css set `[hidden] { display: none !important; }` so we also need the `!important` here to be able to override the default hidden behavior on the sphinx rendered scikit-learn.org. See: https://github.com/scikit-learn/scikit-learn/issues/21755 */display: inline-block !important;position: relative;}#sk-container-id-8 div.sk-text-repr-fallback {display: none;}</style><div id=\"sk-container-id-8\" class=\"sk-top-container\"><div class=\"sk-text-repr-fallback\"><pre>BaggingRegressor(bootstrap_features=True)</pre><b>In a Jupyter environment, please rerun this cell to show the HTML representation or trust the notebook. <br />On GitHub, the HTML representation is unable to render, please try loading this page with nbviewer.org.</b></div><div class=\"sk-container\" hidden><div class=\"sk-item\"><div class=\"sk-estimator sk-toggleable\"><input class=\"sk-toggleable__control sk-hidden--visually\" id=\"sk-estimator-id-14\" type=\"checkbox\" checked><label for=\"sk-estimator-id-14\" class=\"sk-toggleable__label sk-toggleable__label-arrow\">BaggingRegressor</label><div class=\"sk-toggleable__content\"><pre>BaggingRegressor(bootstrap_features=True)</pre></div></div></div></div></div>"
      ],
      "text/plain": [
       "BaggingRegressor(bootstrap_features=True)"
      ]
     },
     "execution_count": 69,
     "metadata": {},
     "output_type": "execute_result"
    }
   ],
   "source": [
    "# bootstrap_features default değeri false'dır. Biz bootstrap örneklerini gözlemlemek için true verdik.\n",
    "bag_model = BaggingRegressor(bootstrap_features = True)\n",
    "bag_model.fit(X_train, y_train)"
   ]
  },
  {
   "cell_type": "code",
   "execution_count": 70,
   "id": "df9ac991",
   "metadata": {},
   "outputs": [
    {
     "data": {
      "text/plain": [
       "10"
      ]
     },
     "execution_count": 70,
     "metadata": {},
     "output_type": "execute_result"
    }
   ],
   "source": [
    "# Tahminci sayısı\n",
    "bag_model.n_estimators"
   ]
  },
  {
   "cell_type": "code",
   "execution_count": 74,
   "id": "0a038457",
   "metadata": {
    "collapsed": true
   },
   "outputs": [
    {
     "data": {
      "text/plain": [
       "[array([248, 308, 183, 208,  53,  77, 186, 157, 266, 104, 123, 270, 178,\n",
       "         42,  27, 188, 313,  97, 216, 262, 239,  73,  73, 147, 282, 129,\n",
       "         24, 178, 360,  96, 260, 256, 164, 141,  19, 217, 144,  66,  82,\n",
       "        286,  45, 310, 143,  17, 316, 200, 278, 258, 264, 182, 340, 340,\n",
       "        172, 105, 269, 259, 136, 365, 196, 186, 212, 116, 213, 168,  30,\n",
       "        341, 136, 121, 262, 217, 165, 273,  29, 121, 362, 128, 335, 280,\n",
       "        140, 317, 179,   2, 220, 358, 296, 372, 304, 208, 286, 170, 208,\n",
       "        212,  65,  80, 301, 298, 325, 329, 233, 126, 184, 362, 106,  46,\n",
       "        320, 349, 222, 150, 165, 261, 141, 166, 253, 340, 248, 208, 173,\n",
       "        113,  51, 322,  27, 354,   6, 353, 374,  62,  96, 158, 232, 109,\n",
       "         75, 329, 320, 325, 257, 249, 150, 260, 147, 341, 220, 271, 153,\n",
       "        123, 359, 235, 306, 288, 168, 262, 340, 315, 312, 299, 370, 267,\n",
       "         66, 166,  50, 316, 133, 248, 317, 168, 120, 349, 253, 196, 287,\n",
       "        111, 204, 334, 186, 213,  37, 263, 332, 373, 229,  64, 348,  63,\n",
       "        248, 134, 368, 142, 300, 167, 135, 107, 142,  98, 127, 264, 319,\n",
       "        329, 277, 165,  48, 104, 117,  55, 359,  98, 113, 289, 105, 333,\n",
       "        176, 235,  17,  79, 136,  68, 161,  62, 225,   4, 105, 325, 207,\n",
       "        183,  59,  48, 304,  64, 340, 210, 354, 201, 286, 182, 142,  21,\n",
       "        204,  64, 372, 219, 141, 371,  70, 333, 158, 175, 213, 367, 200,\n",
       "        241,  14,  27, 117, 286, 209, 271,  12, 345, 350, 231,  71,  97,\n",
       "        346, 269,  52, 293, 118, 203, 314, 189, 170, 300, 221, 137,   2,\n",
       "        339,  75, 279, 206, 190,  50, 347,  19, 268, 269, 321, 159, 138,\n",
       "        184,  74, 216, 296, 370, 343, 158, 103, 188, 266, 317, 138, 130,\n",
       "        144, 168, 189,  50, 203, 325, 227, 278, 156, 281, 290, 111, 152,\n",
       "        319, 128, 180, 246, 193, 305, 186,  73, 157,  40,  83,   1, 173,\n",
       "         84, 367, 304, 106, 297,  66, 190,  56,  42, 263, 206, 126, 362,\n",
       "        106, 349, 322, 148, 290, 207, 345, 334, 250,  81,  35, 115, 347,\n",
       "         29, 188, 255,  96,  14, 332, 105, 279,  49, 350, 348, 134,  22,\n",
       "        344,  46, 157, 105, 193, 159, 200, 242, 238,  17,  31]),\n",
       " array([243,  65, 207,  11,  64, 208, 227, 180, 207, 294, 264, 166, 172,\n",
       "        333,  90, 360,   0, 313, 356,  97, 149, 270, 310,  11,  42, 130,\n",
       "        103,  80, 299, 207, 168, 203, 326, 344, 126, 204, 101, 247, 114,\n",
       "        284, 140, 168, 224, 344, 171, 116, 225, 214, 277, 109, 322, 146,\n",
       "        167, 211, 165,  26,  35, 240,  43, 318, 266, 293, 258,  34, 349,\n",
       "         32,  24, 103, 220, 224, 348, 302,  17, 229, 179,  77,  63, 266,\n",
       "        119,  14, 353, 168, 134, 345, 172, 323,  44, 123,  23,  86,  70,\n",
       "        339, 348, 252, 338, 201,  55, 208,  63, 193, 248, 155,  81,  55,\n",
       "        116,  80,  34,  31, 247, 197,  26, 366,  15,   5,  76, 249, 319,\n",
       "        252, 305, 299, 352, 143, 235, 192, 373, 221, 214,  53, 222, 158,\n",
       "         13, 140, 194,  93,  11, 106, 225, 336, 271, 229, 177,  44,  85,\n",
       "          5,  75,  38,   5, 220, 264, 347, 250, 314, 253, 223, 140,  97,\n",
       "        219,  42, 160, 171,  89, 328, 146, 256, 272, 109,  87, 316,  66,\n",
       "        232,  65, 172, 276,   4, 167, 165, 189, 342, 338, 256, 286, 104,\n",
       "        216, 302, 236, 305,   7, 245, 339,  18, 231,  91, 292,  80,  87,\n",
       "        163, 242, 201, 323, 230, 341, 151, 184,  99, 101, 350,  24,  57,\n",
       "         50, 154,  80,  90, 192, 226, 349, 347, 270, 137,  18, 316, 155,\n",
       "         57, 267,  90, 110, 373, 283, 312, 209, 292, 358,  15,  58,  86,\n",
       "        251, 124, 268, 155, 359,  73, 132,  74, 315, 306, 331,  46, 355,\n",
       "        169, 110, 349, 238,  59, 252,  54, 218,  96,  15, 196, 185, 237,\n",
       "        117, 347,  87, 224, 193, 362,  75, 161,  78, 295, 117, 340, 141,\n",
       "         94,  32, 285, 304, 360, 276,   6, 179, 185, 305, 191,  17, 165,\n",
       "        169, 183, 156,  62, 194, 242, 284,  69,   6, 296, 289,  76,  88,\n",
       "         36,  58,  74,  87,  59, 340,   5, 361, 218, 102, 214, 163, 322,\n",
       "         63, 345, 304, 356, 311, 284, 245, 365,   2,  35, 338, 267, 152,\n",
       "         96,  13,  11, 251, 342,  81, 204, 235, 157,  63, 184,  52, 230,\n",
       "        109, 114, 266,  73, 102, 303,  20, 217, 352, 218, 208,   1,  90,\n",
       "         74, 371,  36, 292, 154, 276,  96, 165, 276, 161, 233, 320, 193,\n",
       "        260,  29,  79, 322,  95, 286, 218,  63, 129, 253, 181]),\n",
       " array([ 23, 216, 336,  27, 225,  71,   9, 228, 186, 317,   0, 290, 267,\n",
       "        138,  59, 361,  70,   6,  96, 170, 110, 204, 274,  77,  68, 319,\n",
       "        139, 283, 347, 356, 158,   5,  95, 164, 334, 330, 358, 215,  37,\n",
       "        127, 206, 194, 219, 253,  68, 191, 137, 203, 152,  62,  28,   1,\n",
       "        293,  49,  74, 268,  11, 320, 366, 223,  87,   5,  71,  85, 163,\n",
       "        216, 254, 365, 329, 115, 116,  57, 353, 238, 174,   4, 327, 194,\n",
       "        342,  89, 200, 135,  54,  29, 106, 145,  57, 265, 304, 359, 175,\n",
       "         55,  90, 274, 333, 282, 280, 160, 208, 205, 309, 138, 106, 281,\n",
       "        103,  78, 260,  41, 263, 201, 219,   8, 365, 204,  83, 274, 369,\n",
       "        176, 156, 301, 362, 362, 305, 270, 153, 265, 267, 280, 343,  46,\n",
       "        306, 275,  70,  76, 228, 284, 242,  19, 128, 136, 127,  22, 203,\n",
       "        320, 239, 251, 236, 215,  30,  77, 307, 287,  25,   2, 367, 340,\n",
       "         45,  32, 307, 234, 213, 292, 190, 335, 288,  59, 282, 119,  52,\n",
       "        127, 116, 352, 318, 127,  99,  23, 337,  46, 169, 115,  37, 238,\n",
       "        192, 331, 224,  94, 254, 251, 102, 103, 130, 324,  46, 300, 351,\n",
       "        173,  97, 173, 219, 147,  43, 178,  97,  44,  17, 123, 350, 312,\n",
       "        204, 241, 227,  14, 178, 278, 297, 332,  47,  81, 159, 144, 372,\n",
       "        238, 161,  41, 162, 334, 247, 308, 182, 226, 203, 344, 313, 108,\n",
       "        135,  16, 100, 366, 207, 222,  60, 239,   7, 164,  98,  98, 109,\n",
       "        353, 215,  39,  41, 192, 193, 114, 350, 284,  31, 345, 180,  95,\n",
       "        294, 200, 343, 359,  86, 261, 211, 280,  73,   0,  75, 198, 162,\n",
       "        116,  77, 287,  63, 222,  24,  49, 345, 290,  78, 203, 292,  50,\n",
       "         46, 169, 113, 369,   0, 176, 277,  97, 348, 255, 357,  13, 297,\n",
       "        303, 267, 343, 209, 300,   8,  36, 290,  36,  31, 110, 301, 195,\n",
       "        333,   1, 108, 115,  17, 141, 275,   8, 202, 285, 186, 214, 307,\n",
       "        162, 204, 154, 246, 206, 155,  30,  65, 257,   1, 215,  40,  32,\n",
       "        314, 165, 213,  42,  67,  11, 252, 226, 221, 226, 210,  71, 340,\n",
       "        290,  90, 238, 190, 273,  76, 256, 359, 106, 209, 141, 265, 274,\n",
       "        141, 231, 266, 104, 243, 268,   1, 312, 291, 244, 166]),\n",
       " array([195, 245, 112, 282, 129, 197, 348, 209,  43,  93, 259,  11, 147,\n",
       "         18,  26, 321, 160, 150, 289, 232, 337, 139, 201, 244, 350, 216,\n",
       "        199, 235,  16, 208, 311,  87, 143, 346, 287,  15, 346,  94,  24,\n",
       "        114, 309, 203,  98, 227, 133, 278,  51, 223, 132, 280,  28, 313,\n",
       "         79, 282,  39,  81, 149, 157, 359,  63, 145, 176,  87,  78,  49,\n",
       "        211, 342, 304, 305, 344, 240, 276, 147,  90, 236,  89, 316, 114,\n",
       "         15, 363,  24, 188, 354, 164, 194, 361, 350,  58,  69, 181, 188,\n",
       "         46, 141, 207, 348, 354, 240,  52, 155, 109, 121,  19, 204,   6,\n",
       "        234, 219, 359, 318,  37,  33,  36, 290, 248,  78, 309, 254, 225,\n",
       "        265,  10, 274,  43,   6, 338,  67, 174, 304, 207, 264,  40,  28,\n",
       "        373, 117, 114,  72, 163, 325, 154, 332, 183,  44, 130,  25, 225,\n",
       "        213, 118, 186, 272,   0, 205,  17,  32, 308,  92,  80, 292,  91,\n",
       "        166,   4, 127,  44, 258, 355, 361, 280, 329, 325, 292,  22,  48,\n",
       "        315,  68, 306,  55, 157, 335, 373,  92,  66, 110, 173, 311, 266,\n",
       "        101, 250, 306,  46, 135,  88,  79, 112,  60, 309, 361, 233, 287,\n",
       "        307,  38, 275, 139,  38,  68, 156, 217, 371,  46, 103, 328, 354,\n",
       "         56, 170,  55, 346, 138, 334, 122, 143, 153, 183,  48, 284,  77,\n",
       "        199,  94,  19, 266, 156,   6,  62, 124,  69, 290,  90, 101,  11,\n",
       "        176, 170, 163, 219, 352, 141, 140, 211, 149,  52, 165,  24, 366,\n",
       "        322, 325, 292, 206,  27,  60,  47,  70, 344, 249,   1, 274, 186,\n",
       "        345,  42, 284, 365, 224, 128,  41,  25, 320,  30, 111, 100,  58,\n",
       "         59, 141, 344, 211, 180, 163,  63, 124,  37, 305, 337,  13, 229,\n",
       "        335,  93, 239, 180, 370,  19, 112, 164, 254, 109,  92, 371, 216,\n",
       "          0, 233, 132,  50, 223,  94, 155,  33, 128, 108, 251,   5, 322,\n",
       "         31, 372, 133, 249, 102,  51,  53, 320, 326, 235, 214,  55, 125,\n",
       "        370, 239, 249, 345, 115, 320, 177, 261,  14, 122, 187, 116,  93,\n",
       "        156,  66,  86,   8, 232, 239, 302,  30, 151,  59, 348, 130, 363,\n",
       "        365, 372,  90,  56, 344, 289, 137, 196,  66, 328, 165, 205, 288,\n",
       "        141,  98, 169, 165, 321, 167, 155, 215, 357, 244, 294]),\n",
       " array([180,  97,  52, 267,  81, 211, 187,  40, 323,  11, 217,  32, 208,\n",
       "        358, 166, 129, 203, 155, 131,  14, 117,  45, 142, 312, 321, 224,\n",
       "        351,  42, 321, 223, 231, 265, 291, 124, 244,  16,  71, 322,  23,\n",
       "        298, 244, 176, 140, 373, 164, 320, 236, 175,  46, 321, 365, 237,\n",
       "         72,  36, 147, 213, 313, 373, 209, 152,  50,  62, 336, 121,   1,\n",
       "        365, 334, 176, 152,  89,  65, 159, 176, 127, 333,  48, 347, 329,\n",
       "        203, 338,  74, 238, 303, 216,  54,  50, 341, 158, 171, 194, 207,\n",
       "         27, 202,   1, 277, 220, 332, 217, 322, 267, 294, 109,  14,  92,\n",
       "         81, 292, 320, 347, 342, 238, 200, 177, 344, 213, 338,   0, 206,\n",
       "         81, 306, 139, 345, 223, 202,  45, 329, 242, 307, 127, 292, 260,\n",
       "        276, 240, 288, 372, 103,  80, 306, 187, 276, 307, 365, 157, 127,\n",
       "        103, 360, 265, 160, 303, 307, 327, 360, 130, 312, 324, 115, 184,\n",
       "        254, 117, 374,  96, 319, 293, 293, 127, 180, 153, 343, 350, 118,\n",
       "        374,  91, 246,  91, 254, 269, 315, 373, 311, 213, 279,   4,  73,\n",
       "        331, 300,  92, 154,  51, 198, 344, 100, 162, 352,  95,  11, 153,\n",
       "        368,  54,  94,  18,  97, 283, 102, 288, 237, 268, 266, 202, 260,\n",
       "        204, 102, 147, 223,  31, 341, 124, 295, 272, 353, 184,  16,  37,\n",
       "        374,  30, 308, 282, 302, 345, 155,  41, 208, 113, 234, 190, 276,\n",
       "        328, 166, 275, 270, 114,  85, 201, 175, 344, 236, 211,  65, 318,\n",
       "        325, 306, 321,  24, 198,  35, 246, 239, 292, 183, 124,  20, 266,\n",
       "        252,  75,  44, 290, 245,  32, 348, 259, 235, 113, 244,  54, 299,\n",
       "        279, 308,  81,  30,  48, 334, 141, 223,  78, 119,  70,  91, 295,\n",
       "         93, 225,   2, 244, 192, 178, 244, 194, 339,  66, 103,  40, 266,\n",
       "        355,  37,  52,  28,  76, 331, 130,  64, 291, 346, 253, 289,  97,\n",
       "         45, 131, 276, 316, 136, 130, 176, 203, 222,  65,  63, 147, 248,\n",
       "         71, 133,  34,  68, 243, 154, 149,  79, 307, 287, 130, 254,  81,\n",
       "        259, 122, 275,  83, 109, 355, 150, 280,  86, 351, 362, 232, 268,\n",
       "        296, 354,  53, 284, 258,  45, 334, 140,  63,  88,  34, 275, 247,\n",
       "        190, 335, 296, 113,  76, 186, 203,  93,  61, 300, 165]),\n",
       " array([258, 205, 287, 179, 223,  34,  72,  58, 198, 117, 266, 338, 331,\n",
       "        104, 228, 283,  52, 341, 277, 197, 172, 349,  53, 168, 131, 283,\n",
       "        118, 286,   8,  68,  72,  86, 132, 268, 177, 332, 330, 341, 269,\n",
       "         58, 174, 320,  10, 249, 202, 328, 348,  36, 214,  52, 326, 156,\n",
       "        201, 136, 165, 174, 272, 352, 289,  68, 173,  21, 302,  80, 324,\n",
       "         56, 370, 169, 311, 316, 107,  84, 197,  54, 345, 242, 144,  38,\n",
       "        295, 229,  44, 373,   8, 170,  50, 337, 286, 289,  49, 170,  45,\n",
       "         52,  29, 263, 283, 152, 117,  14,  48, 213,  23, 157,  71, 318,\n",
       "        173, 168, 336, 105, 244, 169, 235, 293,  61, 221, 325, 124,   8,\n",
       "        203,   1, 292, 205,  91, 122,  79, 180, 314, 247, 262, 256, 366,\n",
       "        295,  39, 195, 107, 347,  38, 124,  22, 185, 111,  74, 156, 343,\n",
       "        287, 187,  53, 325,  86, 103, 146, 270, 330, 104, 270, 374, 182,\n",
       "        171,  93, 272, 316,  25, 128,   6,  60, 150, 273, 113, 278,   8,\n",
       "         62,  42, 329,  52, 116, 166, 115, 304, 360, 115,   5,   7, 241,\n",
       "        204,  72, 276,  28, 314, 319,  55, 212, 151, 300, 252, 316, 283,\n",
       "         85, 349,  20, 183,  95, 287,  78, 335, 359, 252,  90,  75, 238,\n",
       "        159, 361,  26, 233, 334, 214, 371, 315,  10, 126, 275,  20,  23,\n",
       "        196, 249, 320, 242, 174, 237, 234,   3, 370, 256, 168, 305,  35,\n",
       "          2, 250,  36,  94,  97,  65, 241, 196, 140,  90,  55, 189, 164,\n",
       "         42, 309, 200,   4, 109,  63, 136, 272,  22, 237, 371, 113, 122,\n",
       "         92, 216, 113, 167,  58,  71, 293, 190, 147, 150, 364, 313,  74,\n",
       "         87, 297,  18, 210,  85, 112, 370, 307, 211, 183,  27, 211, 307,\n",
       "         24, 251, 314, 368, 186, 206, 282,  49,  12, 138,  73, 338, 172,\n",
       "         80, 209, 169, 204,   8, 364, 350, 283, 241,  80, 183, 211, 170,\n",
       "        185, 322,  32, 172,  51, 261, 226, 274, 334, 360, 196, 230, 178,\n",
       "        340,   3, 359, 343, 118, 110,   6, 245, 366, 126,  24, 276, 106,\n",
       "         26, 335, 117, 369, 298, 303, 373, 108, 238, 256, 211, 303,  89,\n",
       "        320, 107, 118,  94, 151, 114, 318,  42,  61, 330, 357,  55, 241,\n",
       "        115, 118, 193, 297, 220, 194, 285, 167, 263, 182, 188]),\n",
       " array([ 89, 226, 155,  39, 307, 203, 301, 121, 294, 248, 298,  15, 261,\n",
       "        209, 215, 347, 170, 108,  32, 193, 261, 109,  87, 228, 242, 332,\n",
       "        206, 282, 255, 245, 316, 360, 356, 346, 326, 174,   9, 214, 303,\n",
       "        152, 201,  70, 275, 210, 167, 237, 217, 166, 161,  47,  88,  89,\n",
       "        335,  30, 286, 306,  81,   5, 304, 291, 336, 133, 133, 276, 133,\n",
       "        172, 364, 318, 110, 350,  39, 114, 219, 269, 101, 293, 371,  97,\n",
       "        286,  15, 110, 163,  94, 136, 353,   8, 241, 268,  18, 212, 175,\n",
       "        159,  70,   6, 337,  66,   9, 104, 143, 245, 313, 268, 220, 305,\n",
       "        291, 197, 112,   4,  12,  91, 152, 297,  16, 242,  34, 102, 105,\n",
       "        113, 238, 114, 252,  42,  38, 250, 313, 102,  67, 321, 234,  78,\n",
       "        155, 252, 111,  80,  76, 374, 150, 133, 200, 345,  30, 286,  47,\n",
       "        254, 350, 271, 364, 270,  67, 353, 369, 312,   5,  92, 118, 341,\n",
       "        342, 187, 255,  17, 351, 211,  82, 115, 161, 175,  63, 196,  85,\n",
       "         28, 307, 244, 141,   3,  57, 145, 239, 108, 351, 321,  12, 173,\n",
       "        288, 166,  97,  78,  37,  55, 197, 117, 166,  25, 147, 307, 168,\n",
       "        350, 270, 324,  14,  28, 341,  49, 303, 374,  10,  52, 282, 258,\n",
       "        241, 236, 174, 123, 128,  51, 269, 211, 284, 239, 171, 132, 356,\n",
       "          4, 207,  69,  23, 131, 348,  62, 374,  49, 227,  14, 329,  99,\n",
       "         65, 194, 167, 101,  25, 129, 183,  13, 241,  48, 194, 305, 329,\n",
       "        224, 294, 323, 352, 279, 212, 180, 253,   1,  59, 233, 166, 105,\n",
       "        113,  73, 338, 181, 343,  25,  74, 140,  67, 199,  99, 374, 290,\n",
       "        316, 115, 366,  86,  60, 157,   7, 365, 329, 202, 107,   5, 281,\n",
       "        361,  35, 190,  39, 317, 218, 328, 213, 312,  42, 111,  82, 205,\n",
       "        210, 348,  68, 368,  75, 219,   5,  66, 281, 242, 128,  33, 172,\n",
       "        143,  33, 239, 187, 173, 263,  18, 220, 363, 180, 289, 302, 203,\n",
       "        144, 100, 213, 177,  82, 215, 184, 279, 361, 100, 344, 228, 144,\n",
       "        142, 374, 218, 367,  48, 247, 136, 226,  47, 289,  93,  61,  45,\n",
       "        164,  20,  13,  24, 148, 232,  12, 133,  37,  82, 367, 153,   2,\n",
       "        230, 319, 195, 113, 233, 247, 368, 120,  11,  93, 346]),\n",
       " array([ 93, 120, 235, 128,  40, 347, 127, 155, 160, 327,  32, 348, 198,\n",
       "        193, 130, 248, 153,  69, 312, 213,  39, 224, 202, 370,  64, 109,\n",
       "        131,  76, 151, 217, 265,  70, 326, 301, 196, 358,  50, 327, 216,\n",
       "        250,  63, 229, 203, 190,  87, 161, 198, 292, 178, 263, 371,  38,\n",
       "         63,  67, 205, 362, 218, 312, 147, 234, 228, 267, 358, 302, 211,\n",
       "          4, 324, 123,  22, 196, 149, 139, 272, 236, 311,  61, 290,  21,\n",
       "         92, 196, 169, 210,  77, 236, 207, 100, 228, 165,   4, 147,  31,\n",
       "        265,  99,  86, 219,  91,  81, 242,  71,  68,   0, 110, 174, 159,\n",
       "         13,  39, 104,  79, 244, 254, 368, 259, 307, 359, 126, 127, 152,\n",
       "        258,  59, 284,  76, 248, 102,  42, 224, 303, 208, 226, 154,   7,\n",
       "        109, 237, 311, 100, 198, 356, 180, 274,  32,  71, 222, 114, 224,\n",
       "        291, 271, 209, 355, 183, 286, 367, 322, 251, 155,  78, 176, 126,\n",
       "         62, 179, 192,  31,  86, 308, 158, 135, 275, 281, 146, 302, 269,\n",
       "        266, 316,  97,   4,  33, 326,  71, 270,  71, 214, 172, 251,  35,\n",
       "        335, 273,  46, 299, 367, 291, 111, 144, 270, 175,   3, 356, 105,\n",
       "        107, 129, 271,   2, 145, 160, 223,  56, 143,  35, 142, 198, 309,\n",
       "         29, 308, 136, 357,  57, 182, 149, 114, 200, 128, 287, 285, 334,\n",
       "        344, 315,  75,  46, 190, 361, 169, 204, 126, 279, 190, 110, 103,\n",
       "        334, 149, 355, 296, 290, 163, 287,  49, 284, 327,  90, 227, 157,\n",
       "         88, 134, 141,  89, 187,  22, 129, 136,  56, 231, 197, 210, 128,\n",
       "        330, 316, 210, 240,  23, 271, 312, 193, 185, 201, 222, 347, 364,\n",
       "        283, 177,  27, 214, 142, 333,  82, 290, 320,  68,  39, 284, 321,\n",
       "        262, 374, 271, 220, 263, 338, 358,  83, 370, 175, 146, 178, 160,\n",
       "        290, 163,  19, 346,  97, 274, 262, 294, 265, 309, 156, 156,  92,\n",
       "        147, 196,  50, 259, 144,  67, 244, 266,  85, 331, 205,  18, 127,\n",
       "        225, 306, 278, 220, 339, 139, 293, 210, 150, 270, 204,  95,  45,\n",
       "        317, 234, 314, 262, 347,  97, 100, 157, 372, 299, 240, 145,  32,\n",
       "         14, 194,  14,  17,  37, 178, 263, 199, 174,  40, 205, 147, 306,\n",
       "        121, 269, 214, 204, 106, 328, 175, 128, 318, 115,  93]),\n",
       " array([235, 235, 285,  61, 197, 161, 347, 176, 255,  53, 268, 318,  56,\n",
       "        256, 162,  48, 324, 294, 116, 125,  17,  38, 269, 121, 307,  80,\n",
       "        291, 218,   7,  35, 342,  81,  28, 169, 359, 344,  45,  20,  58,\n",
       "         99, 212, 194, 118, 294, 139, 148, 151, 186,  50, 323,  87, 250,\n",
       "         42,  24,  22, 369, 223, 278, 355, 158, 305,  75, 187, 349, 154,\n",
       "        290, 342, 183, 220, 248, 162, 223, 127,  53,  16, 125, 308, 193,\n",
       "         36,  13, 328,  70, 230,  12, 284, 246, 273, 207,  73, 291, 278,\n",
       "        261, 329, 284,  52,   6, 315, 138,  63, 239,  40, 320, 210, 142,\n",
       "        284, 230,  87, 306, 312,  49,   9, 356,  71, 314, 299,  38,  75,\n",
       "        312, 345, 262, 304,   2,  88, 201, 127, 108, 330, 195,   0, 309,\n",
       "        145, 102, 287, 292, 321, 124,  93,  70, 102, 179,  10,  44, 186,\n",
       "         34, 333, 366, 241, 301, 155,  78,  44, 198, 250, 319, 189,  33,\n",
       "        144,  23, 345, 361, 272, 340,  38,  61,  94,  71, 119,  81, 244,\n",
       "          0,  50,  11, 306, 273, 367, 205, 354, 314, 294,  61, 317, 364,\n",
       "        186, 103, 250, 178, 268, 357, 126, 276,   6, 229, 237,  38,  13,\n",
       "        107,  88, 211, 310, 314, 144,  38, 255, 239, 362, 202,  35,   6,\n",
       "        166,  84,  76, 346, 351,  63, 202, 200,  97, 306, 237, 110, 295,\n",
       "        283, 274,   1,  32, 329, 180, 232, 236, 288, 175, 255,  97,  46,\n",
       "        116, 340, 136,  81,   4, 259, 166, 195, 195, 120, 206, 141, 330,\n",
       "        147,  99, 138, 277, 227, 314, 298, 333, 305,  53, 351, 307, 131,\n",
       "         28, 198, 150, 222, 242,   8,  14, 196, 151, 221, 232, 136, 299,\n",
       "        256,  42, 126, 306, 335, 244, 248, 166,  54, 335, 267, 186,  82,\n",
       "        281,  30, 191, 234, 202, 269, 172,  79,  21,  57, 330,  53, 206,\n",
       "        198, 156,  86,  56, 340,  95, 139, 199, 257, 129, 131, 348, 325,\n",
       "        288, 323, 323, 164, 364, 270, 346, 205, 225,  58, 201, 236, 223,\n",
       "        132,  25, 169,  45, 223, 287, 231, 227,   7, 251, 374,  64,  48,\n",
       "        207, 355, 173, 297,   0, 242,  48, 301, 280,  23, 342, 164,  96,\n",
       "        210, 107, 252, 243, 318, 303,  42, 218, 274, 335,  37, 101,  52,\n",
       "        107, 188, 335, 233,  26, 171, 125, 101, 367, 113, 194]),\n",
       " array([355,  95, 212, 160,  44, 216,  14,  47, 203,  37, 137,  27, 279,\n",
       "        348, 125, 107, 316, 276, 137, 324, 352, 110, 297, 113, 370,  26,\n",
       "         61, 361, 205, 197, 225, 208, 300, 302, 325, 283, 145, 143,  21,\n",
       "        183, 135, 237, 174, 343, 370, 117, 292, 280, 239,  59, 277, 307,\n",
       "        363, 279, 372,  42,  72, 282,  86, 180, 213, 270, 289, 170,  24,\n",
       "         13,  88, 294, 133, 125, 352, 213, 297, 114,  85, 256, 302,  20,\n",
       "        239, 184, 140,  39,  61, 129,  83, 316,  16, 147,  97,  74, 205,\n",
       "        126, 219, 105, 120,  46, 155,  68,  51, 340, 209, 197, 323, 283,\n",
       "        117, 114, 231, 212,  38, 233, 107, 242, 324, 111, 221, 284, 211,\n",
       "         43, 313, 229, 174, 192, 200,  24, 333,  70, 278, 256,  68, 127,\n",
       "        149, 138, 204, 197, 340, 321, 119, 306, 316, 189,  61, 186,  44,\n",
       "        118, 126,  42, 324, 129, 261, 344, 242, 210,  38, 140, 196, 106,\n",
       "        293, 150,  40, 102, 228, 237,  66, 313, 292, 357, 278, 111, 277,\n",
       "         41, 171,   7, 217, 318, 157, 298, 270, 259,  81, 300,  64, 128,\n",
       "        363, 302,  31,  90, 235, 114, 258, 122, 254, 154,  39, 369, 218,\n",
       "        145, 142, 173, 344,  75, 116, 252, 233, 162,  36,  97, 174, 314,\n",
       "        261, 162, 114, 149, 365, 157,  61, 224, 111, 190,  13, 127, 133,\n",
       "        160, 197, 156, 362, 191, 345, 373, 289, 318, 297, 281,  81, 373,\n",
       "        166,  39, 333, 289, 315, 215, 225, 183,  82, 107, 244, 334, 348,\n",
       "        269,  38, 216, 356,   2,  57, 339,  60,  75, 297, 325, 103, 326,\n",
       "        246, 315, 182,  40,   6, 243, 194, 360, 249, 133, 210, 253, 147,\n",
       "        357,  66,  28, 302, 125, 120, 276,  92, 120, 245, 272, 306, 274,\n",
       "        124,  90, 124, 321, 113, 251, 322,  21, 355, 224,  82,  97,  91,\n",
       "        196, 311,  99, 112, 154,  66, 277, 318,  52, 316,  97, 162, 301,\n",
       "         24, 263, 217, 109, 227, 345, 301, 215, 335, 302,  55, 271, 267,\n",
       "        251, 101, 123,  67, 226, 335,  79, 326, 139, 210, 266, 347,   6,\n",
       "        176, 119, 139, 319, 195, 270, 297,  71,  58,  51, 361, 211, 239,\n",
       "        199, 204, 353,  61, 233,   0,  92,  31, 224, 169, 336, 227, 294,\n",
       "        277,  87, 133, 201,   0, 293, 317,  86,   9,  10, 160])]"
      ]
     },
     "execution_count": 74,
     "metadata": {},
     "output_type": "execute_result"
    }
   ],
   "source": [
    "# Her bir ağacın örnekleri\n",
    "bag_model.estimators_samples_"
   ]
  },
  {
   "cell_type": "code",
   "execution_count": 75,
   "id": "c4dfcf02",
   "metadata": {},
   "outputs": [
    {
     "data": {
      "text/plain": [
       "[array([1, 1, 2]),\n",
       " array([2, 1, 2]),\n",
       " array([0, 2, 0]),\n",
       " array([2, 2, 2]),\n",
       " array([0, 2, 0]),\n",
       " array([2, 1, 1]),\n",
       " array([0, 2, 0]),\n",
       " array([2, 0, 0]),\n",
       " array([0, 1, 1]),\n",
       " array([2, 0, 1])]"
      ]
     },
     "execution_count": 75,
     "metadata": {},
     "output_type": "execute_result"
    }
   ],
   "source": [
    "# Her ağacın bağımsız değişkenleri\n",
    "bag_model.estimators_features_"
   ]
  },
  {
   "cell_type": "markdown",
   "id": "9498c0f5",
   "metadata": {},
   "source": [
    "### 2.4.2. Tahmin"
   ]
  },
  {
   "cell_type": "code",
   "execution_count": 76,
   "id": "eab40edc",
   "metadata": {},
   "outputs": [
    {
     "data": {
      "text/plain": [
       "13817246.335512161"
      ]
     },
     "execution_count": 76,
     "metadata": {},
     "output_type": "execute_result"
    }
   ],
   "source": [
    "y_pred = bag_model.predict(X_test)\n",
    "np.sqrt(mean_squared_error(y_test, y_pred))"
   ]
  },
  {
   "cell_type": "code",
   "execution_count": 77,
   "id": "0dab64c1",
   "metadata": {},
   "outputs": [
    {
     "data": {
      "text/plain": [
       "12870959.00482069"
      ]
     },
     "execution_count": 77,
     "metadata": {},
     "output_type": "execute_result"
    }
   ],
   "source": [
    "# Modeldeki 2. tahmin ediciyi kullanarak X_test veri kümesi üzerinde tahmin yapmayı sağlar.\n",
    "iki_y_pred = bag_model.estimators_[1].fit(X_train, y_train).predict(X_test)\n",
    "\n",
    "np.sqrt(mean_squared_error(y_test, iki_y_pred))# y_testin ve iki_y_pred'in ortalama karesel hatası"
   ]
  },
  {
   "cell_type": "code",
   "execution_count": 78,
   "id": "ccaf211b",
   "metadata": {},
   "outputs": [
    {
     "data": {
      "text/plain": [
       "17113482.474140022"
      ]
     },
     "execution_count": 78,
     "metadata": {},
     "output_type": "execute_result"
    }
   ],
   "source": [
    "# Modeldeki 7. tahmin ediciyi kullanarak X_test veri kümesi üzerinde tahmin yapmayı sağlar.\n",
    "yedi_y_pred = bag_model.estimators_[6].fit(X_train, y_train).predict(X_test)\n",
    "\n",
    "np.sqrt(mean_squared_error(y_test, yedi_y_pred))"
   ]
  },
  {
   "cell_type": "markdown",
   "id": "b0fe61a3",
   "metadata": {},
   "source": [
    "### 2.4.3. Model Tuning"
   ]
  },
  {
   "cell_type": "code",
   "execution_count": 79,
   "id": "857191a7",
   "metadata": {},
   "outputs": [
    {
     "data": {
      "text/html": [
       "<style>#sk-container-id-9 {color: black;background-color: white;}#sk-container-id-9 pre{padding: 0;}#sk-container-id-9 div.sk-toggleable {background-color: white;}#sk-container-id-9 label.sk-toggleable__label {cursor: pointer;display: block;width: 100%;margin-bottom: 0;padding: 0.3em;box-sizing: border-box;text-align: center;}#sk-container-id-9 label.sk-toggleable__label-arrow:before {content: \"▸\";float: left;margin-right: 0.25em;color: #696969;}#sk-container-id-9 label.sk-toggleable__label-arrow:hover:before {color: black;}#sk-container-id-9 div.sk-estimator:hover label.sk-toggleable__label-arrow:before {color: black;}#sk-container-id-9 div.sk-toggleable__content {max-height: 0;max-width: 0;overflow: hidden;text-align: left;background-color: #f0f8ff;}#sk-container-id-9 div.sk-toggleable__content pre {margin: 0.2em;color: black;border-radius: 0.25em;background-color: #f0f8ff;}#sk-container-id-9 input.sk-toggleable__control:checked~div.sk-toggleable__content {max-height: 200px;max-width: 100%;overflow: auto;}#sk-container-id-9 input.sk-toggleable__control:checked~label.sk-toggleable__label-arrow:before {content: \"▾\";}#sk-container-id-9 div.sk-estimator input.sk-toggleable__control:checked~label.sk-toggleable__label {background-color: #d4ebff;}#sk-container-id-9 div.sk-label input.sk-toggleable__control:checked~label.sk-toggleable__label {background-color: #d4ebff;}#sk-container-id-9 input.sk-hidden--visually {border: 0;clip: rect(1px 1px 1px 1px);clip: rect(1px, 1px, 1px, 1px);height: 1px;margin: -1px;overflow: hidden;padding: 0;position: absolute;width: 1px;}#sk-container-id-9 div.sk-estimator {font-family: monospace;background-color: #f0f8ff;border: 1px dotted black;border-radius: 0.25em;box-sizing: border-box;margin-bottom: 0.5em;}#sk-container-id-9 div.sk-estimator:hover {background-color: #d4ebff;}#sk-container-id-9 div.sk-parallel-item::after {content: \"\";width: 100%;border-bottom: 1px solid gray;flex-grow: 1;}#sk-container-id-9 div.sk-label:hover label.sk-toggleable__label {background-color: #d4ebff;}#sk-container-id-9 div.sk-serial::before {content: \"\";position: absolute;border-left: 1px solid gray;box-sizing: border-box;top: 0;bottom: 0;left: 50%;z-index: 0;}#sk-container-id-9 div.sk-serial {display: flex;flex-direction: column;align-items: center;background-color: white;padding-right: 0.2em;padding-left: 0.2em;position: relative;}#sk-container-id-9 div.sk-item {position: relative;z-index: 1;}#sk-container-id-9 div.sk-parallel {display: flex;align-items: stretch;justify-content: center;background-color: white;position: relative;}#sk-container-id-9 div.sk-item::before, #sk-container-id-9 div.sk-parallel-item::before {content: \"\";position: absolute;border-left: 1px solid gray;box-sizing: border-box;top: 0;bottom: 0;left: 50%;z-index: -1;}#sk-container-id-9 div.sk-parallel-item {display: flex;flex-direction: column;z-index: 1;position: relative;background-color: white;}#sk-container-id-9 div.sk-parallel-item:first-child::after {align-self: flex-end;width: 50%;}#sk-container-id-9 div.sk-parallel-item:last-child::after {align-self: flex-start;width: 50%;}#sk-container-id-9 div.sk-parallel-item:only-child::after {width: 0;}#sk-container-id-9 div.sk-dashed-wrapped {border: 1px dashed gray;margin: 0 0.4em 0.5em 0.4em;box-sizing: border-box;padding-bottom: 0.4em;background-color: white;}#sk-container-id-9 div.sk-label label {font-family: monospace;font-weight: bold;display: inline-block;line-height: 1.2em;}#sk-container-id-9 div.sk-label-container {text-align: center;}#sk-container-id-9 div.sk-container {/* jupyter's `normalize.less` sets `[hidden] { display: none; }` but bootstrap.min.css set `[hidden] { display: none !important; }` so we also need the `!important` here to be able to override the default hidden behavior on the sphinx rendered scikit-learn.org. See: https://github.com/scikit-learn/scikit-learn/issues/21755 */display: inline-block !important;position: relative;}#sk-container-id-9 div.sk-text-repr-fallback {display: none;}</style><div id=\"sk-container-id-9\" class=\"sk-top-container\"><div class=\"sk-text-repr-fallback\"><pre>BaggingRegressor(bootstrap_features=True)</pre><b>In a Jupyter environment, please rerun this cell to show the HTML representation or trust the notebook. <br />On GitHub, the HTML representation is unable to render, please try loading this page with nbviewer.org.</b></div><div class=\"sk-container\" hidden><div class=\"sk-item\"><div class=\"sk-estimator sk-toggleable\"><input class=\"sk-toggleable__control sk-hidden--visually\" id=\"sk-estimator-id-15\" type=\"checkbox\" checked><label for=\"sk-estimator-id-15\" class=\"sk-toggleable__label sk-toggleable__label-arrow\">BaggingRegressor</label><div class=\"sk-toggleable__content\"><pre>BaggingRegressor(bootstrap_features=True)</pre></div></div></div></div></div>"
      ],
      "text/plain": [
       "BaggingRegressor(bootstrap_features=True)"
      ]
     },
     "execution_count": 79,
     "metadata": {},
     "output_type": "execute_result"
    }
   ],
   "source": [
    "bag_model = BaggingRegressor(bootstrap_features = True)\n",
    "bag_model.fit(X_train, y_train)"
   ]
  },
  {
   "cell_type": "code",
   "execution_count": 80,
   "id": "a9b02f9f",
   "metadata": {},
   "outputs": [
    {
     "data": {
      "text/html": [
       "<style>#sk-container-id-10 {color: black;background-color: white;}#sk-container-id-10 pre{padding: 0;}#sk-container-id-10 div.sk-toggleable {background-color: white;}#sk-container-id-10 label.sk-toggleable__label {cursor: pointer;display: block;width: 100%;margin-bottom: 0;padding: 0.3em;box-sizing: border-box;text-align: center;}#sk-container-id-10 label.sk-toggleable__label-arrow:before {content: \"▸\";float: left;margin-right: 0.25em;color: #696969;}#sk-container-id-10 label.sk-toggleable__label-arrow:hover:before {color: black;}#sk-container-id-10 div.sk-estimator:hover label.sk-toggleable__label-arrow:before {color: black;}#sk-container-id-10 div.sk-toggleable__content {max-height: 0;max-width: 0;overflow: hidden;text-align: left;background-color: #f0f8ff;}#sk-container-id-10 div.sk-toggleable__content pre {margin: 0.2em;color: black;border-radius: 0.25em;background-color: #f0f8ff;}#sk-container-id-10 input.sk-toggleable__control:checked~div.sk-toggleable__content {max-height: 200px;max-width: 100%;overflow: auto;}#sk-container-id-10 input.sk-toggleable__control:checked~label.sk-toggleable__label-arrow:before {content: \"▾\";}#sk-container-id-10 div.sk-estimator input.sk-toggleable__control:checked~label.sk-toggleable__label {background-color: #d4ebff;}#sk-container-id-10 div.sk-label input.sk-toggleable__control:checked~label.sk-toggleable__label {background-color: #d4ebff;}#sk-container-id-10 input.sk-hidden--visually {border: 0;clip: rect(1px 1px 1px 1px);clip: rect(1px, 1px, 1px, 1px);height: 1px;margin: -1px;overflow: hidden;padding: 0;position: absolute;width: 1px;}#sk-container-id-10 div.sk-estimator {font-family: monospace;background-color: #f0f8ff;border: 1px dotted black;border-radius: 0.25em;box-sizing: border-box;margin-bottom: 0.5em;}#sk-container-id-10 div.sk-estimator:hover {background-color: #d4ebff;}#sk-container-id-10 div.sk-parallel-item::after {content: \"\";width: 100%;border-bottom: 1px solid gray;flex-grow: 1;}#sk-container-id-10 div.sk-label:hover label.sk-toggleable__label {background-color: #d4ebff;}#sk-container-id-10 div.sk-serial::before {content: \"\";position: absolute;border-left: 1px solid gray;box-sizing: border-box;top: 0;bottom: 0;left: 50%;z-index: 0;}#sk-container-id-10 div.sk-serial {display: flex;flex-direction: column;align-items: center;background-color: white;padding-right: 0.2em;padding-left: 0.2em;position: relative;}#sk-container-id-10 div.sk-item {position: relative;z-index: 1;}#sk-container-id-10 div.sk-parallel {display: flex;align-items: stretch;justify-content: center;background-color: white;position: relative;}#sk-container-id-10 div.sk-item::before, #sk-container-id-10 div.sk-parallel-item::before {content: \"\";position: absolute;border-left: 1px solid gray;box-sizing: border-box;top: 0;bottom: 0;left: 50%;z-index: -1;}#sk-container-id-10 div.sk-parallel-item {display: flex;flex-direction: column;z-index: 1;position: relative;background-color: white;}#sk-container-id-10 div.sk-parallel-item:first-child::after {align-self: flex-end;width: 50%;}#sk-container-id-10 div.sk-parallel-item:last-child::after {align-self: flex-start;width: 50%;}#sk-container-id-10 div.sk-parallel-item:only-child::after {width: 0;}#sk-container-id-10 div.sk-dashed-wrapped {border: 1px dashed gray;margin: 0 0.4em 0.5em 0.4em;box-sizing: border-box;padding-bottom: 0.4em;background-color: white;}#sk-container-id-10 div.sk-label label {font-family: monospace;font-weight: bold;display: inline-block;line-height: 1.2em;}#sk-container-id-10 div.sk-label-container {text-align: center;}#sk-container-id-10 div.sk-container {/* jupyter's `normalize.less` sets `[hidden] { display: none; }` but bootstrap.min.css set `[hidden] { display: none !important; }` so we also need the `!important` here to be able to override the default hidden behavior on the sphinx rendered scikit-learn.org. See: https://github.com/scikit-learn/scikit-learn/issues/21755 */display: inline-block !important;position: relative;}#sk-container-id-10 div.sk-text-repr-fallback {display: none;}</style><div id=\"sk-container-id-10\" class=\"sk-top-container\"><div class=\"sk-text-repr-fallback\"><pre>GridSearchCV(cv=10, estimator=BaggingRegressor(bootstrap_features=True),\n",
       "             param_grid={&#x27;n_estimators&#x27;: range(2, 20)})</pre><b>In a Jupyter environment, please rerun this cell to show the HTML representation or trust the notebook. <br />On GitHub, the HTML representation is unable to render, please try loading this page with nbviewer.org.</b></div><div class=\"sk-container\" hidden><div class=\"sk-item sk-dashed-wrapped\"><div class=\"sk-label-container\"><div class=\"sk-label sk-toggleable\"><input class=\"sk-toggleable__control sk-hidden--visually\" id=\"sk-estimator-id-16\" type=\"checkbox\" ><label for=\"sk-estimator-id-16\" class=\"sk-toggleable__label sk-toggleable__label-arrow\">GridSearchCV</label><div class=\"sk-toggleable__content\"><pre>GridSearchCV(cv=10, estimator=BaggingRegressor(bootstrap_features=True),\n",
       "             param_grid={&#x27;n_estimators&#x27;: range(2, 20)})</pre></div></div></div><div class=\"sk-parallel\"><div class=\"sk-parallel-item\"><div class=\"sk-item\"><div class=\"sk-label-container\"><div class=\"sk-label sk-toggleable\"><input class=\"sk-toggleable__control sk-hidden--visually\" id=\"sk-estimator-id-17\" type=\"checkbox\" ><label for=\"sk-estimator-id-17\" class=\"sk-toggleable__label sk-toggleable__label-arrow\">estimator: BaggingRegressor</label><div class=\"sk-toggleable__content\"><pre>BaggingRegressor(bootstrap_features=True)</pre></div></div></div><div class=\"sk-serial\"><div class=\"sk-item\"><div class=\"sk-estimator sk-toggleable\"><input class=\"sk-toggleable__control sk-hidden--visually\" id=\"sk-estimator-id-18\" type=\"checkbox\" ><label for=\"sk-estimator-id-18\" class=\"sk-toggleable__label sk-toggleable__label-arrow\">BaggingRegressor</label><div class=\"sk-toggleable__content\"><pre>BaggingRegressor(bootstrap_features=True)</pre></div></div></div></div></div></div></div></div></div></div>"
      ],
      "text/plain": [
       "GridSearchCV(cv=10, estimator=BaggingRegressor(bootstrap_features=True),\n",
       "             param_grid={'n_estimators': range(2, 20)})"
      ]
     },
     "execution_count": 80,
     "metadata": {},
     "output_type": "execute_result"
    }
   ],
   "source": [
    "# Çapraz doğrulama ve modelin fit edilmesi\n",
    "bag_params = {\"n_estimators\": range(2,20)}\n",
    "\n",
    "bag_cv_model = GridSearchCV(bag_model, bag_params, cv = 10)\n",
    "\n",
    "bag_cv_model.fit(X_train, y_train)"
   ]
  },
  {
   "cell_type": "code",
   "execution_count": 81,
   "id": "0f38d7eb",
   "metadata": {},
   "outputs": [
    {
     "data": {
      "text/plain": [
       "{'n_estimators': 10}"
      ]
     },
     "execution_count": 81,
     "metadata": {},
     "output_type": "execute_result"
    }
   ],
   "source": [
    "bag_cv_model.best_params_ # Çapraz doğrulama sonucunda en iyi parametre"
   ]
  },
  {
   "cell_type": "code",
   "execution_count": 82,
   "id": "a550f427",
   "metadata": {},
   "outputs": [
    {
     "data": {
      "text/html": [
       "<style>#sk-container-id-11 {color: black;background-color: white;}#sk-container-id-11 pre{padding: 0;}#sk-container-id-11 div.sk-toggleable {background-color: white;}#sk-container-id-11 label.sk-toggleable__label {cursor: pointer;display: block;width: 100%;margin-bottom: 0;padding: 0.3em;box-sizing: border-box;text-align: center;}#sk-container-id-11 label.sk-toggleable__label-arrow:before {content: \"▸\";float: left;margin-right: 0.25em;color: #696969;}#sk-container-id-11 label.sk-toggleable__label-arrow:hover:before {color: black;}#sk-container-id-11 div.sk-estimator:hover label.sk-toggleable__label-arrow:before {color: black;}#sk-container-id-11 div.sk-toggleable__content {max-height: 0;max-width: 0;overflow: hidden;text-align: left;background-color: #f0f8ff;}#sk-container-id-11 div.sk-toggleable__content pre {margin: 0.2em;color: black;border-radius: 0.25em;background-color: #f0f8ff;}#sk-container-id-11 input.sk-toggleable__control:checked~div.sk-toggleable__content {max-height: 200px;max-width: 100%;overflow: auto;}#sk-container-id-11 input.sk-toggleable__control:checked~label.sk-toggleable__label-arrow:before {content: \"▾\";}#sk-container-id-11 div.sk-estimator input.sk-toggleable__control:checked~label.sk-toggleable__label {background-color: #d4ebff;}#sk-container-id-11 div.sk-label input.sk-toggleable__control:checked~label.sk-toggleable__label {background-color: #d4ebff;}#sk-container-id-11 input.sk-hidden--visually {border: 0;clip: rect(1px 1px 1px 1px);clip: rect(1px, 1px, 1px, 1px);height: 1px;margin: -1px;overflow: hidden;padding: 0;position: absolute;width: 1px;}#sk-container-id-11 div.sk-estimator {font-family: monospace;background-color: #f0f8ff;border: 1px dotted black;border-radius: 0.25em;box-sizing: border-box;margin-bottom: 0.5em;}#sk-container-id-11 div.sk-estimator:hover {background-color: #d4ebff;}#sk-container-id-11 div.sk-parallel-item::after {content: \"\";width: 100%;border-bottom: 1px solid gray;flex-grow: 1;}#sk-container-id-11 div.sk-label:hover label.sk-toggleable__label {background-color: #d4ebff;}#sk-container-id-11 div.sk-serial::before {content: \"\";position: absolute;border-left: 1px solid gray;box-sizing: border-box;top: 0;bottom: 0;left: 50%;z-index: 0;}#sk-container-id-11 div.sk-serial {display: flex;flex-direction: column;align-items: center;background-color: white;padding-right: 0.2em;padding-left: 0.2em;position: relative;}#sk-container-id-11 div.sk-item {position: relative;z-index: 1;}#sk-container-id-11 div.sk-parallel {display: flex;align-items: stretch;justify-content: center;background-color: white;position: relative;}#sk-container-id-11 div.sk-item::before, #sk-container-id-11 div.sk-parallel-item::before {content: \"\";position: absolute;border-left: 1px solid gray;box-sizing: border-box;top: 0;bottom: 0;left: 50%;z-index: -1;}#sk-container-id-11 div.sk-parallel-item {display: flex;flex-direction: column;z-index: 1;position: relative;background-color: white;}#sk-container-id-11 div.sk-parallel-item:first-child::after {align-self: flex-end;width: 50%;}#sk-container-id-11 div.sk-parallel-item:last-child::after {align-self: flex-start;width: 50%;}#sk-container-id-11 div.sk-parallel-item:only-child::after {width: 0;}#sk-container-id-11 div.sk-dashed-wrapped {border: 1px dashed gray;margin: 0 0.4em 0.5em 0.4em;box-sizing: border-box;padding-bottom: 0.4em;background-color: white;}#sk-container-id-11 div.sk-label label {font-family: monospace;font-weight: bold;display: inline-block;line-height: 1.2em;}#sk-container-id-11 div.sk-label-container {text-align: center;}#sk-container-id-11 div.sk-container {/* jupyter's `normalize.less` sets `[hidden] { display: none; }` but bootstrap.min.css set `[hidden] { display: none !important; }` so we also need the `!important` here to be able to override the default hidden behavior on the sphinx rendered scikit-learn.org. See: https://github.com/scikit-learn/scikit-learn/issues/21755 */display: inline-block !important;position: relative;}#sk-container-id-11 div.sk-text-repr-fallback {display: none;}</style><div id=\"sk-container-id-11\" class=\"sk-top-container\"><div class=\"sk-text-repr-fallback\"><pre>BaggingRegressor(random_state=45)</pre><b>In a Jupyter environment, please rerun this cell to show the HTML representation or trust the notebook. <br />On GitHub, the HTML representation is unable to render, please try loading this page with nbviewer.org.</b></div><div class=\"sk-container\" hidden><div class=\"sk-item\"><div class=\"sk-estimator sk-toggleable\"><input class=\"sk-toggleable__control sk-hidden--visually\" id=\"sk-estimator-id-19\" type=\"checkbox\" checked><label for=\"sk-estimator-id-19\" class=\"sk-toggleable__label sk-toggleable__label-arrow\">BaggingRegressor</label><div class=\"sk-toggleable__content\"><pre>BaggingRegressor(random_state=45)</pre></div></div></div></div></div>"
      ],
      "text/plain": [
       "BaggingRegressor(random_state=45)"
      ]
     },
     "execution_count": 82,
     "metadata": {},
     "output_type": "execute_result"
    }
   ],
   "source": [
    "# En iyi parametreyi uygulayarak ve random_state=45 vererek modelin fit edilmesi.\n",
    "bag_tuned = BaggingRegressor( n_estimators = 10, random_state = 45)\n",
    "\n",
    "bag_tuned.fit(X_train, y_train)"
   ]
  },
  {
   "cell_type": "code",
   "execution_count": 83,
   "id": "f6dc777c",
   "metadata": {},
   "outputs": [
    {
     "data": {
      "text/plain": [
       "16983596.133857284"
      ]
     },
     "execution_count": 83,
     "metadata": {},
     "output_type": "execute_result"
    }
   ],
   "source": [
    "y_pred = bag_tuned.predict(X_test)\n",
    "\n",
    "np.sqrt(mean_squared_error(y_test, y_pred))"
   ]
  },
  {
   "cell_type": "markdown",
   "id": "bf32b155",
   "metadata": {},
   "source": [
    "## 2.5. Random Forests"
   ]
  },
  {
   "cell_type": "markdown",
   "id": "3a640535",
   "metadata": {},
   "source": [
    "Temeli birden çok karar ağacının ürettiği tahminlerin bir araya getirilerek değerlendirilmesidir."
   ]
  },
  {
   "cell_type": "markdown",
   "id": "8f6ce355",
   "metadata": {},
   "source": [
    "- Bagging (Breiman, 1996) ile Random Subspace (Ho, 1998) yöntemlerinin birleşimi ile oluşmuştur.\n",
    "- Ağaçlar için gözlemler bootstrap rastgele örnek seçim yöntemi ile değişkenler random subspace yöntemi ile seçilir.\n",
    "- Karar ağacının her bir düğümünde en iyi dallara ayırıcı (bilgi kazancı) değişken tüm değişkenler arasından rastgele seçilen daha az sayıdaki değişken arasından seçilir.\n",
    "- Ağaç oluşturmada veri setinin 2/3'ü kullanılır. Dışarıda kalan veri ağaçların performans değerlendirmesi ve değişken öneminin\n",
    "belirlenmesi için kullanılır.\n",
    "- Her düğüm noktasında rastgele değişken seçimi yapılır. (regresyon'da p/3, sınıflama'da karekök p)\n",
    "- Nihai tahmin için ağaçlardan tahmin değerleri talep edilirken her bir ağacın daha önce hesaplanan hata oranları göz önüne alınarak ağaçlara ağırlık verilir."
   ]
  },
  {
   "cell_type": "markdown",
   "id": "0df5954b",
   "metadata": {},
   "source": [
    "### 2.5.1. Model"
   ]
  },
  {
   "cell_type": "code",
   "execution_count": 43,
   "id": "5bf2526d",
   "metadata": {},
   "outputs": [],
   "source": [
    "df=pd.read_csv(\"dataset/youtubeGB.csv\")\n",
    "youtube=df.copy()\n",
    "\n",
    "youtube.index = youtube.iloc[:,0]\n",
    "youtube=youtube.iloc[:,7:11]\n",
    "\n",
    "youtube=youtube.sample(n=500) # Veri seti üzerindeki 500 kaydı veri seti üzerinde çalışma süresini azaltabilmek için \n",
    "                               # örneklem olarak alıyoruz.\n",
    "\n",
    "youtube = youtube.dropna()\n",
    "dms = pd.get_dummies(youtube[['likes', 'dislikes', 'comment_count']])\n",
    "y = youtube[\"views\"]\n",
    "X_ = youtube.drop(['views', 'likes', 'dislikes', 'comment_count'], axis=1).astype('int64')\n",
    "X = pd.concat([X_, dms[['likes', 'dislikes', 'comment_count']]], axis=1)\n",
    "X_train, X_test, y_train, y_test = train_test_split(X, y,\n",
    "                                                    test_size=0.25,\n",
    "                                                    random_state=42)"
   ]
  },
  {
   "cell_type": "code",
   "execution_count": 44,
   "id": "1cce9e47",
   "metadata": {},
   "outputs": [
    {
     "data": {
      "text/html": [
       "<style>#sk-container-id-6 {color: black;background-color: white;}#sk-container-id-6 pre{padding: 0;}#sk-container-id-6 div.sk-toggleable {background-color: white;}#sk-container-id-6 label.sk-toggleable__label {cursor: pointer;display: block;width: 100%;margin-bottom: 0;padding: 0.3em;box-sizing: border-box;text-align: center;}#sk-container-id-6 label.sk-toggleable__label-arrow:before {content: \"▸\";float: left;margin-right: 0.25em;color: #696969;}#sk-container-id-6 label.sk-toggleable__label-arrow:hover:before {color: black;}#sk-container-id-6 div.sk-estimator:hover label.sk-toggleable__label-arrow:before {color: black;}#sk-container-id-6 div.sk-toggleable__content {max-height: 0;max-width: 0;overflow: hidden;text-align: left;background-color: #f0f8ff;}#sk-container-id-6 div.sk-toggleable__content pre {margin: 0.2em;color: black;border-radius: 0.25em;background-color: #f0f8ff;}#sk-container-id-6 input.sk-toggleable__control:checked~div.sk-toggleable__content {max-height: 200px;max-width: 100%;overflow: auto;}#sk-container-id-6 input.sk-toggleable__control:checked~label.sk-toggleable__label-arrow:before {content: \"▾\";}#sk-container-id-6 div.sk-estimator input.sk-toggleable__control:checked~label.sk-toggleable__label {background-color: #d4ebff;}#sk-container-id-6 div.sk-label input.sk-toggleable__control:checked~label.sk-toggleable__label {background-color: #d4ebff;}#sk-container-id-6 input.sk-hidden--visually {border: 0;clip: rect(1px 1px 1px 1px);clip: rect(1px, 1px, 1px, 1px);height: 1px;margin: -1px;overflow: hidden;padding: 0;position: absolute;width: 1px;}#sk-container-id-6 div.sk-estimator {font-family: monospace;background-color: #f0f8ff;border: 1px dotted black;border-radius: 0.25em;box-sizing: border-box;margin-bottom: 0.5em;}#sk-container-id-6 div.sk-estimator:hover {background-color: #d4ebff;}#sk-container-id-6 div.sk-parallel-item::after {content: \"\";width: 100%;border-bottom: 1px solid gray;flex-grow: 1;}#sk-container-id-6 div.sk-label:hover label.sk-toggleable__label {background-color: #d4ebff;}#sk-container-id-6 div.sk-serial::before {content: \"\";position: absolute;border-left: 1px solid gray;box-sizing: border-box;top: 0;bottom: 0;left: 50%;z-index: 0;}#sk-container-id-6 div.sk-serial {display: flex;flex-direction: column;align-items: center;background-color: white;padding-right: 0.2em;padding-left: 0.2em;position: relative;}#sk-container-id-6 div.sk-item {position: relative;z-index: 1;}#sk-container-id-6 div.sk-parallel {display: flex;align-items: stretch;justify-content: center;background-color: white;position: relative;}#sk-container-id-6 div.sk-item::before, #sk-container-id-6 div.sk-parallel-item::before {content: \"\";position: absolute;border-left: 1px solid gray;box-sizing: border-box;top: 0;bottom: 0;left: 50%;z-index: -1;}#sk-container-id-6 div.sk-parallel-item {display: flex;flex-direction: column;z-index: 1;position: relative;background-color: white;}#sk-container-id-6 div.sk-parallel-item:first-child::after {align-self: flex-end;width: 50%;}#sk-container-id-6 div.sk-parallel-item:last-child::after {align-self: flex-start;width: 50%;}#sk-container-id-6 div.sk-parallel-item:only-child::after {width: 0;}#sk-container-id-6 div.sk-dashed-wrapped {border: 1px dashed gray;margin: 0 0.4em 0.5em 0.4em;box-sizing: border-box;padding-bottom: 0.4em;background-color: white;}#sk-container-id-6 div.sk-label label {font-family: monospace;font-weight: bold;display: inline-block;line-height: 1.2em;}#sk-container-id-6 div.sk-label-container {text-align: center;}#sk-container-id-6 div.sk-container {/* jupyter's `normalize.less` sets `[hidden] { display: none; }` but bootstrap.min.css set `[hidden] { display: none !important; }` so we also need the `!important` here to be able to override the default hidden behavior on the sphinx rendered scikit-learn.org. See: https://github.com/scikit-learn/scikit-learn/issues/21755 */display: inline-block !important;position: relative;}#sk-container-id-6 div.sk-text-repr-fallback {display: none;}</style><div id=\"sk-container-id-6\" class=\"sk-top-container\"><div class=\"sk-text-repr-fallback\"><pre>RandomForestRegressor(random_state=42)</pre><b>In a Jupyter environment, please rerun this cell to show the HTML representation or trust the notebook. <br />On GitHub, the HTML representation is unable to render, please try loading this page with nbviewer.org.</b></div><div class=\"sk-container\" hidden><div class=\"sk-item\"><div class=\"sk-estimator sk-toggleable\"><input class=\"sk-toggleable__control sk-hidden--visually\" id=\"sk-estimator-id-8\" type=\"checkbox\" checked><label for=\"sk-estimator-id-8\" class=\"sk-toggleable__label sk-toggleable__label-arrow\">RandomForestRegressor</label><div class=\"sk-toggleable__content\"><pre>RandomForestRegressor(random_state=42)</pre></div></div></div></div></div>"
      ],
      "text/plain": [
       "RandomForestRegressor(random_state=42)"
      ]
     },
     "execution_count": 44,
     "metadata": {},
     "output_type": "execute_result"
    }
   ],
   "source": [
    "# Random Forest yöntemi ile modelin oluşturularak eğitilmesi\n",
    "rf_model = RandomForestRegressor(random_state = 42)\n",
    "rf_model.fit(X_train, y_train)"
   ]
  },
  {
   "cell_type": "markdown",
   "id": "23e69165",
   "metadata": {},
   "source": [
    "### 2.5.2. Tahmin"
   ]
  },
  {
   "cell_type": "code",
   "execution_count": 45,
   "id": "492347a2",
   "metadata": {},
   "outputs": [
    {
     "data": {
      "text/plain": [
       "array([  750034.91,  3035362.22,   391842.55, 25150235.31,   180744.88])"
      ]
     },
     "execution_count": 45,
     "metadata": {},
     "output_type": "execute_result"
    }
   ],
   "source": [
    "rf_model.predict(X_test)[0:5]"
   ]
  },
  {
   "cell_type": "code",
   "execution_count": 46,
   "id": "9893e792",
   "metadata": {},
   "outputs": [
    {
     "data": {
      "text/plain": [
       "7961805.276063171"
      ]
     },
     "execution_count": 46,
     "metadata": {},
     "output_type": "execute_result"
    }
   ],
   "source": [
    "y_pred = rf_model.predict(X_test)\n",
    "\n",
    "np.sqrt(mean_squared_error(y_test, y_pred))"
   ]
  },
  {
   "cell_type": "markdown",
   "id": "c95f41e2",
   "metadata": {},
   "source": [
    "### 2.5.3. Model Tuning"
   ]
  },
  {
   "cell_type": "code",
   "execution_count": 47,
   "id": "ce2e8b48",
   "metadata": {},
   "outputs": [],
   "source": [
    "rf_params = {'max_depth': list(range(1,10)),\n",
    "            'max_features': [3,5,10,15],\n",
    "            'n_estimators' : [100, 200, 500, 1000, 2000]}\n",
    "rf_model = RandomForestRegressor(random_state = 42)\n",
    "rf_cv_model = GridSearchCV(rf_model, \n",
    "                           rf_params, \n",
    "                           cv = 10, \n",
    "                            n_jobs = -1)\n",
    "# n_jobs = -1 yukarıda yapılacak hesap sayıyı her bir değerin kombinasyonu düşünüldüğünde çok fazla olmaktadır.\n",
    "# n_jobs parametresi işlemcinin paralel yürütebileceği işlemleri aynı anda yürütmesini sağlamaktadır."
   ]
  },
  {
   "cell_type": "code",
   "execution_count": 48,
   "id": "71a058ff",
   "metadata": {},
   "outputs": [
    {
     "data": {
      "text/plain": [
       "{'max_depth': 6, 'max_features': 3, 'n_estimators': 500}"
      ]
     },
     "execution_count": 48,
     "metadata": {},
     "output_type": "execute_result"
    }
   ],
   "source": [
    "rf_cv_model.fit(X_train, y_train)\n",
    "rf_cv_model.best_params_ # Modele uygulanan çapraz doğrulama sonucundaki en iyi parametreler"
   ]
  },
  {
   "cell_type": "code",
   "execution_count": 49,
   "id": "53af989d",
   "metadata": {},
   "outputs": [
    {
     "data": {
      "text/html": [
       "<style>#sk-container-id-7 {color: black;background-color: white;}#sk-container-id-7 pre{padding: 0;}#sk-container-id-7 div.sk-toggleable {background-color: white;}#sk-container-id-7 label.sk-toggleable__label {cursor: pointer;display: block;width: 100%;margin-bottom: 0;padding: 0.3em;box-sizing: border-box;text-align: center;}#sk-container-id-7 label.sk-toggleable__label-arrow:before {content: \"▸\";float: left;margin-right: 0.25em;color: #696969;}#sk-container-id-7 label.sk-toggleable__label-arrow:hover:before {color: black;}#sk-container-id-7 div.sk-estimator:hover label.sk-toggleable__label-arrow:before {color: black;}#sk-container-id-7 div.sk-toggleable__content {max-height: 0;max-width: 0;overflow: hidden;text-align: left;background-color: #f0f8ff;}#sk-container-id-7 div.sk-toggleable__content pre {margin: 0.2em;color: black;border-radius: 0.25em;background-color: #f0f8ff;}#sk-container-id-7 input.sk-toggleable__control:checked~div.sk-toggleable__content {max-height: 200px;max-width: 100%;overflow: auto;}#sk-container-id-7 input.sk-toggleable__control:checked~label.sk-toggleable__label-arrow:before {content: \"▾\";}#sk-container-id-7 div.sk-estimator input.sk-toggleable__control:checked~label.sk-toggleable__label {background-color: #d4ebff;}#sk-container-id-7 div.sk-label input.sk-toggleable__control:checked~label.sk-toggleable__label {background-color: #d4ebff;}#sk-container-id-7 input.sk-hidden--visually {border: 0;clip: rect(1px 1px 1px 1px);clip: rect(1px, 1px, 1px, 1px);height: 1px;margin: -1px;overflow: hidden;padding: 0;position: absolute;width: 1px;}#sk-container-id-7 div.sk-estimator {font-family: monospace;background-color: #f0f8ff;border: 1px dotted black;border-radius: 0.25em;box-sizing: border-box;margin-bottom: 0.5em;}#sk-container-id-7 div.sk-estimator:hover {background-color: #d4ebff;}#sk-container-id-7 div.sk-parallel-item::after {content: \"\";width: 100%;border-bottom: 1px solid gray;flex-grow: 1;}#sk-container-id-7 div.sk-label:hover label.sk-toggleable__label {background-color: #d4ebff;}#sk-container-id-7 div.sk-serial::before {content: \"\";position: absolute;border-left: 1px solid gray;box-sizing: border-box;top: 0;bottom: 0;left: 50%;z-index: 0;}#sk-container-id-7 div.sk-serial {display: flex;flex-direction: column;align-items: center;background-color: white;padding-right: 0.2em;padding-left: 0.2em;position: relative;}#sk-container-id-7 div.sk-item {position: relative;z-index: 1;}#sk-container-id-7 div.sk-parallel {display: flex;align-items: stretch;justify-content: center;background-color: white;position: relative;}#sk-container-id-7 div.sk-item::before, #sk-container-id-7 div.sk-parallel-item::before {content: \"\";position: absolute;border-left: 1px solid gray;box-sizing: border-box;top: 0;bottom: 0;left: 50%;z-index: -1;}#sk-container-id-7 div.sk-parallel-item {display: flex;flex-direction: column;z-index: 1;position: relative;background-color: white;}#sk-container-id-7 div.sk-parallel-item:first-child::after {align-self: flex-end;width: 50%;}#sk-container-id-7 div.sk-parallel-item:last-child::after {align-self: flex-start;width: 50%;}#sk-container-id-7 div.sk-parallel-item:only-child::after {width: 0;}#sk-container-id-7 div.sk-dashed-wrapped {border: 1px dashed gray;margin: 0 0.4em 0.5em 0.4em;box-sizing: border-box;padding-bottom: 0.4em;background-color: white;}#sk-container-id-7 div.sk-label label {font-family: monospace;font-weight: bold;display: inline-block;line-height: 1.2em;}#sk-container-id-7 div.sk-label-container {text-align: center;}#sk-container-id-7 div.sk-container {/* jupyter's `normalize.less` sets `[hidden] { display: none; }` but bootstrap.min.css set `[hidden] { display: none !important; }` so we also need the `!important` here to be able to override the default hidden behavior on the sphinx rendered scikit-learn.org. See: https://github.com/scikit-learn/scikit-learn/issues/21755 */display: inline-block !important;position: relative;}#sk-container-id-7 div.sk-text-repr-fallback {display: none;}</style><div id=\"sk-container-id-7\" class=\"sk-top-container\"><div class=\"sk-text-repr-fallback\"><pre>RandomForestRegressor(max_depth=6, max_features=3, n_estimators=500)</pre><b>In a Jupyter environment, please rerun this cell to show the HTML representation or trust the notebook. <br />On GitHub, the HTML representation is unable to render, please try loading this page with nbviewer.org.</b></div><div class=\"sk-container\" hidden><div class=\"sk-item\"><div class=\"sk-estimator sk-toggleable\"><input class=\"sk-toggleable__control sk-hidden--visually\" id=\"sk-estimator-id-9\" type=\"checkbox\" checked><label for=\"sk-estimator-id-9\" class=\"sk-toggleable__label sk-toggleable__label-arrow\">RandomForestRegressor</label><div class=\"sk-toggleable__content\"><pre>RandomForestRegressor(max_depth=6, max_features=3, n_estimators=500)</pre></div></div></div></div></div>"
      ],
      "text/plain": [
       "RandomForestRegressor(max_depth=6, max_features=3, n_estimators=500)"
      ]
     },
     "execution_count": 49,
     "metadata": {},
     "output_type": "execute_result"
    }
   ],
   "source": [
    "# En iyi parametrelerin modele uygulanarak fit edilmesi.\n",
    "rf_tuned = RandomForestRegressor(max_depth  = 6, \n",
    "                                 max_features = 3, \n",
    "                                 n_estimators =500)\n",
    "\n",
    "rf_tuned.fit(X_train, y_train)"
   ]
  },
  {
   "cell_type": "code",
   "execution_count": 50,
   "id": "2cf60fda",
   "metadata": {},
   "outputs": [
    {
     "data": {
      "text/plain": [
       "7802282.913915791"
      ]
     },
     "execution_count": 50,
     "metadata": {},
     "output_type": "execute_result"
    }
   ],
   "source": [
    "y_pred = rf_tuned.predict(X_test)\n",
    "np.sqrt(mean_squared_error(y_test, y_pred))"
   ]
  },
  {
   "cell_type": "code",
   "execution_count": 51,
   "id": "13baf834",
   "metadata": {},
   "outputs": [
    {
     "data": {
      "text/plain": [
       "Text(0.5, 0, 'Değişken Önem Düzeyleri')"
      ]
     },
     "execution_count": 51,
     "metadata": {},
     "output_type": "execute_result"
    },
    {
     "data": {
      "image/png": "[encoded data removed]",
      "text/plain": [
       "<Figure size 640x480 with 1 Axes>"
      ]
     },
     "metadata": {},
     "output_type": "display_data"
    }
   ],
   "source": [
    "# Değişkenlerin önem düzeyine bakalım.\n",
    "Importance = pd.DataFrame({\"Importance\": rf_tuned.feature_importances_*100},\n",
    "                         index = X_train.columns)\n",
    "Importance.sort_values(by = \"Importance\", \n",
    "                       axis = 0, \n",
    "                       ascending = True).plot(kind =\"barh\", color = \"r\")\n",
    "\n",
    "plt.xlabel(\"Değişken Önem Düzeyleri\")"
   ]
  },
  {
   "cell_type": "markdown",
   "id": "ca95f18c",
   "metadata": {},
   "source": [
    "## 2.6. Gradient Boosting Machines (GBM)"
   ]
  },
  {
   "cell_type": "markdown",
   "id": "d5c10a32",
   "metadata": {},
   "source": [
    "Adaptive Boosting (AdaBoost) zayıf sınıflandırıcıların bir araya gelerek güçlü bir sınıflandırıcı oluşturması için geliştirilen bir yöntemdir.\n",
    "\n",
    "AdaBoost'un sınıflandırma ve regresyon problemlerine kolayca uyarlanabilen genellenmiş bir versiyonudur."
   ]
  },
  {
   "cell_type": "markdown",
   "id": "e6e78a09",
   "metadata": {},
   "source": [
    "• Gradient Boosting tek bir tahminsel model formunda olan modeller serisi oluşturur.\n",
    "\n",
    "• Seri içerisindeki bir model serideki bir önceki modelin tahmin artıklarının/hatalarının (residuals) üzerine kurularak (fit) oluşturulur.\n",
    "\n",
    "• GBM diferansiyellenebilen herhangi bir kayıp fonksiyonunu optimize edebilen Gradient descent algoritmasını kullanmaktadır.\n",
    "\n",
    "• GB bir çok temel öğrenici tipi (base learner type) kullanabilir. (Trees, linear terms, splines,...)\n",
    "\n",
    "• Cost fonksiyonları ve link fonksiyonları modifiye edilebilirdir.\n",
    "\n",
    "• Boosting + Gradient Descent"
   ]
  },
  {
   "cell_type": "markdown",
   "id": "adec3ab6",
   "metadata": {},
   "source": [
    "### 2.6.1. Model"
   ]
  },
  {
   "cell_type": "code",
   "execution_count": 25,
   "id": "da2d0898",
   "metadata": {},
   "outputs": [],
   "source": [
    "df=pd.read_csv(\"dataset/youtubeGB.csv\")\n",
    "youtube=df.copy()\n",
    "\n",
    "youtube.index = youtube.iloc[:,0]\n",
    "youtube=youtube.iloc[:,7:11]\n",
    "\n",
    "youtube=youtube.sample(n=500) # Veri seti üzerindeki 500 kaydı veri seti üzerinde çalışma süresini azaltabilmek için \n",
    "                               # örneklem olarak alıyoruz.\n",
    "\n",
    "youtube = youtube.dropna()\n",
    "dms = pd.get_dummies(youtube[['likes', 'dislikes', 'comment_count']])\n",
    "y = youtube[\"views\"]\n",
    "X_ = youtube.drop(['views', 'likes', 'dislikes', 'comment_count'], axis=1).astype('int64')\n",
    "X = pd.concat([X_, dms[['likes', 'dislikes', 'comment_count']]], axis=1)\n",
    "X_train, X_test, y_train, y_test = train_test_split(X, y,\n",
    "                                                    test_size=0.25,\n",
    "                                                    random_state=42)"
   ]
  },
  {
   "cell_type": "code",
   "execution_count": 26,
   "id": "de9d9ed7",
   "metadata": {},
   "outputs": [
    {
     "data": {
      "text/html": [
       "<style>#sk-container-id-4 {color: black;background-color: white;}#sk-container-id-4 pre{padding: 0;}#sk-container-id-4 div.sk-toggleable {background-color: white;}#sk-container-id-4 label.sk-toggleable__label {cursor: pointer;display: block;width: 100%;margin-bottom: 0;padding: 0.3em;box-sizing: border-box;text-align: center;}#sk-container-id-4 label.sk-toggleable__label-arrow:before {content: \"▸\";float: left;margin-right: 0.25em;color: #696969;}#sk-container-id-4 label.sk-toggleable__label-arrow:hover:before {color: black;}#sk-container-id-4 div.sk-estimator:hover label.sk-toggleable__label-arrow:before {color: black;}#sk-container-id-4 div.sk-toggleable__content {max-height: 0;max-width: 0;overflow: hidden;text-align: left;background-color: #f0f8ff;}#sk-container-id-4 div.sk-toggleable__content pre {margin: 0.2em;color: black;border-radius: 0.25em;background-color: #f0f8ff;}#sk-container-id-4 input.sk-toggleable__control:checked~div.sk-toggleable__content {max-height: 200px;max-width: 100%;overflow: auto;}#sk-container-id-4 input.sk-toggleable__control:checked~label.sk-toggleable__label-arrow:before {content: \"▾\";}#sk-container-id-4 div.sk-estimator input.sk-toggleable__control:checked~label.sk-toggleable__label {background-color: #d4ebff;}#sk-container-id-4 div.sk-label input.sk-toggleable__control:checked~label.sk-toggleable__label {background-color: #d4ebff;}#sk-container-id-4 input.sk-hidden--visually {border: 0;clip: rect(1px 1px 1px 1px);clip: rect(1px, 1px, 1px, 1px);height: 1px;margin: -1px;overflow: hidden;padding: 0;position: absolute;width: 1px;}#sk-container-id-4 div.sk-estimator {font-family: monospace;background-color: #f0f8ff;border: 1px dotted black;border-radius: 0.25em;box-sizing: border-box;margin-bottom: 0.5em;}#sk-container-id-4 div.sk-estimator:hover {background-color: #d4ebff;}#sk-container-id-4 div.sk-parallel-item::after {content: \"\";width: 100%;border-bottom: 1px solid gray;flex-grow: 1;}#sk-container-id-4 div.sk-label:hover label.sk-toggleable__label {background-color: #d4ebff;}#sk-container-id-4 div.sk-serial::before {content: \"\";position: absolute;border-left: 1px solid gray;box-sizing: border-box;top: 0;bottom: 0;left: 50%;z-index: 0;}#sk-container-id-4 div.sk-serial {display: flex;flex-direction: column;align-items: center;background-color: white;padding-right: 0.2em;padding-left: 0.2em;position: relative;}#sk-container-id-4 div.sk-item {position: relative;z-index: 1;}#sk-container-id-4 div.sk-parallel {display: flex;align-items: stretch;justify-content: center;background-color: white;position: relative;}#sk-container-id-4 div.sk-item::before, #sk-container-id-4 div.sk-parallel-item::before {content: \"\";position: absolute;border-left: 1px solid gray;box-sizing: border-box;top: 0;bottom: 0;left: 50%;z-index: -1;}#sk-container-id-4 div.sk-parallel-item {display: flex;flex-direction: column;z-index: 1;position: relative;background-color: white;}#sk-container-id-4 div.sk-parallel-item:first-child::after {align-self: flex-end;width: 50%;}#sk-container-id-4 div.sk-parallel-item:last-child::after {align-self: flex-start;width: 50%;}#sk-container-id-4 div.sk-parallel-item:only-child::after {width: 0;}#sk-container-id-4 div.sk-dashed-wrapped {border: 1px dashed gray;margin: 0 0.4em 0.5em 0.4em;box-sizing: border-box;padding-bottom: 0.4em;background-color: white;}#sk-container-id-4 div.sk-label label {font-family: monospace;font-weight: bold;display: inline-block;line-height: 1.2em;}#sk-container-id-4 div.sk-label-container {text-align: center;}#sk-container-id-4 div.sk-container {/* jupyter's `normalize.less` sets `[hidden] { display: none; }` but bootstrap.min.css set `[hidden] { display: none !important; }` so we also need the `!important` here to be able to override the default hidden behavior on the sphinx rendered scikit-learn.org. See: https://github.com/scikit-learn/scikit-learn/issues/21755 */display: inline-block !important;position: relative;}#sk-container-id-4 div.sk-text-repr-fallback {display: none;}</style><div id=\"sk-container-id-4\" class=\"sk-top-container\"><div class=\"sk-text-repr-fallback\"><pre>GradientBoostingRegressor()</pre><b>In a Jupyter environment, please rerun this cell to show the HTML representation or trust the notebook. <br />On GitHub, the HTML representation is unable to render, please try loading this page with nbviewer.org.</b></div><div class=\"sk-container\" hidden><div class=\"sk-item\"><div class=\"sk-estimator sk-toggleable\"><input class=\"sk-toggleable__control sk-hidden--visually\" id=\"sk-estimator-id-6\" type=\"checkbox\" checked><label for=\"sk-estimator-id-6\" class=\"sk-toggleable__label sk-toggleable__label-arrow\">GradientBoostingRegressor</label><div class=\"sk-toggleable__content\"><pre>GradientBoostingRegressor()</pre></div></div></div></div></div>"
      ],
      "text/plain": [
       "GradientBoostingRegressor()"
      ]
     },
     "execution_count": 26,
     "metadata": {},
     "output_type": "execute_result"
    }
   ],
   "source": [
    "#GBM ile modelin oluşturulması ve eğitilmesi işlemini yapalım.\n",
    "gbm_model = GradientBoostingRegressor()\n",
    "gbm_model.fit(X_train, y_train)"
   ]
  },
  {
   "cell_type": "markdown",
   "id": "6903ddca",
   "metadata": {},
   "source": [
    "### 2.6.2. Tahmin"
   ]
  },
  {
   "cell_type": "code",
   "execution_count": 28,
   "id": "38a82c63",
   "metadata": {},
   "outputs": [
    {
     "data": {
      "text/plain": [
       "4006310.1434801663"
      ]
     },
     "execution_count": 28,
     "metadata": {},
     "output_type": "execute_result"
    }
   ],
   "source": [
    "y_pred = gbm_model.predict(X_test)\n",
    "np.sqrt(mean_squared_error(y_test, y_pred))"
   ]
  },
  {
   "cell_type": "markdown",
   "id": "44b7a8a3",
   "metadata": {},
   "source": [
    "### 2.6.3. Model Tuning"
   ]
  },
  {
   "cell_type": "code",
   "execution_count": 29,
   "id": "6b41ad61",
   "metadata": {},
   "outputs": [],
   "source": [
    "gbm_params = {\n",
    "    'learning_rate': [0.001, 0.01, 0.1, 0.2],\n",
    "    'max_depth': [3, 5, 8,50,100],\n",
    "    'n_estimators': [200, 500, 1000, 2000],\n",
    "    'subsample': [1,0.5,0.75],\n",
    "}"
   ]
  },
  {
   "cell_type": "code",
   "execution_count": 30,
   "id": "d5122e4a",
   "metadata": {},
   "outputs": [
    {
     "name": "stdout",
     "output_type": "stream",
     "text": [
      "Fitting 10 folds for each of 240 candidates, totalling 2400 fits\n",
      "0:14:57.014699\n"
     ]
    }
   ],
   "source": [
    "# Algoritmanın çalışma zamanına bakalım.\n",
    "t1 =  datetime.now()\n",
    "gbm = GradientBoostingRegressor()\n",
    "gbm_cv_model = GridSearchCV(gbm, gbm_params, cv = 10, n_jobs = -1, verbose = 2)\n",
    "gbm_cv_model.fit(X_train, y_train)\n",
    "\n",
    "t2 =  datetime.now()\n",
    "print(t2-t1)"
   ]
  },
  {
   "cell_type": "markdown",
   "id": "26740d7c",
   "metadata": {},
   "source": [
    "GBM algoritmasının veri setimiz üzerindeki çalışma süresi 14 dk 57 saniyedir."
   ]
  },
  {
   "cell_type": "code",
   "execution_count": 32,
   "id": "232be785",
   "metadata": {},
   "outputs": [
    {
     "data": {
      "text/plain": [
       "{'learning_rate': 0.01, 'max_depth': 8, 'n_estimators': 200, 'subsample': 0.5}"
      ]
     },
     "execution_count": 32,
     "metadata": {},
     "output_type": "execute_result"
    }
   ],
   "source": [
    "gbm_cv_model.best_params_ # Çapraz doğrulama sonucu en iyi parametrelerimize bakalım."
   ]
  },
  {
   "cell_type": "code",
   "execution_count": 33,
   "id": "feeeb79f",
   "metadata": {},
   "outputs": [],
   "source": [
    "# Yukarıdaki çıktıda verilen en iyi parametreleri modelimize uygulayıp ardından fit edelim.\n",
    "gbm_tuned = GradientBoostingRegressor(learning_rate = 0.01,  \n",
    "                                      max_depth = 8, \n",
    "                                      n_estimators = 200, \n",
    "                                      subsample = 0.5)\n",
    "\n",
    "gbm_tuned = gbm_tuned.fit(X_train,y_train)"
   ]
  },
  {
   "cell_type": "code",
   "execution_count": 34,
   "id": "45027198",
   "metadata": {},
   "outputs": [
    {
     "data": {
      "text/plain": [
       "3342983.0376822776"
      ]
     },
     "execution_count": 34,
     "metadata": {},
     "output_type": "execute_result"
    }
   ],
   "source": [
    "y_pred = gbm_tuned.predict(X_test)\n",
    "np.sqrt(mean_squared_error(y_test, y_pred))"
   ]
  },
  {
   "cell_type": "code",
   "execution_count": 35,
   "id": "982f1ba8",
   "metadata": {},
   "outputs": [
    {
     "data": {
      "text/plain": [
       "Text(0.5, 0, 'Değişken Önem Düzeyleri')"
      ]
     },
     "execution_count": 35,
     "metadata": {},
     "output_type": "execute_result"
    },
    {
     "data": {
      "image/png": "[encoded data removed]",
      "text/plain": [
       "<Figure size 640x480 with 1 Axes>"
      ]
     },
     "metadata": {},
     "output_type": "display_data"
    }
   ],
   "source": [
    "# Değişkenlerin önem düzeyine bakalım.\n",
    "Importance = pd.DataFrame({\"Importance\": gbm_tuned.feature_importances_*100},\n",
    "                         index = X_train.columns)\n",
    "\n",
    "Importance.sort_values(by = \"Importance\", \n",
    "                       axis = 0, \n",
    "                       ascending = True).plot(kind =\"barh\", color = \"r\")\n",
    "\n",
    "plt.xlabel(\"Değişken Önem Düzeyleri\")"
   ]
  },
  {
   "cell_type": "markdown",
   "id": "676c1456",
   "metadata": {},
   "source": [
    "## 2.7. XGBoost (Extreme Gradient Boosting)"
   ]
  },
  {
   "cell_type": "markdown",
   "id": "768db36d",
   "metadata": {},
   "source": [
    "###### XGBoost, GBM'in hız ve tahmin performansını arttırmak üzere optimize edilmiş; ölçeklenebilir ve farklı platformlara entegre edilebilir halidir.\n",
    "      - R, Python, Hadoop, Scala, Julia ile kullanılabilir.\n",
    "      - Ölçeklenebilir.\n",
    "      - Hızlı.\n",
    "      - Tahmin başarısı yüksek.\n",
    "      - Birçok kaggle yarışmasında başarısını kanıtlamış."
   ]
  },
  {
   "cell_type": "markdown",
   "id": "b8cf3835",
   "metadata": {},
   "source": [
    "### 2.7.1. Model"
   ]
  },
  {
   "cell_type": "code",
   "execution_count": 36,
   "id": "6f247bd4",
   "metadata": {},
   "outputs": [],
   "source": [
    "df=pd.read_csv(\"dataset/youtubeGB.csv\")\n",
    "youtube=df.copy()\n",
    "\n",
    "youtube.index = youtube.iloc[:,0]\n",
    "youtube=youtube.iloc[:,7:11]\n",
    "\n",
    "youtube=youtube.sample(n=500) # Veri seti üzerindeki 500 kaydı veri seti üzerinde çalışma süresini azaltabilmek için \n",
    "                               # örneklem olarak alıyoruz.\n",
    "\n",
    "youtube = youtube.dropna()\n",
    "dms = pd.get_dummies(youtube[['likes', 'dislikes', 'comment_count']])\n",
    "y = youtube[\"views\"]\n",
    "X_ = youtube.drop(['views', 'likes', 'dislikes', 'comment_count'], axis=1).astype('int64')\n",
    "X = pd.concat([X_, dms[['likes', 'dislikes', 'comment_count']]], axis=1)\n",
    "X_train, X_test, y_train, y_test = train_test_split(X, y,\n",
    "                                                    test_size=0.25,\n",
    "                                                    random_state=42)"
   ]
  },
  {
   "cell_type": "code",
   "execution_count": 37,
   "id": "998bf0cb",
   "metadata": {},
   "outputs": [],
   "source": [
    "# Pandas ya da NumPy yerine kendi dataframe'inizi kullanırsanız daha performanslı çalışacaktır.\n",
    "DM_train = xgb.DMatrix(data = X_train, label = y_train)\n",
    "DM_test = xgb.DMatrix(data = X_test, label = y_test)"
   ]
  },
  {
   "cell_type": "code",
   "execution_count": 38,
   "id": "3f407879",
   "metadata": {},
   "outputs": [],
   "source": [
    "# Pandas dataframe'i ile de kullanılabilir.\n",
    "xgb_model = XGBRegressor().fit(X_train, y_train)# Model XGB yöntemiyle oluşturuldu ve fit edildi."
   ]
  },
  {
   "cell_type": "markdown",
   "id": "c844dda3",
   "metadata": {},
   "source": [
    "### 2.7.2. Tahmin"
   ]
  },
  {
   "cell_type": "code",
   "execution_count": 39,
   "id": "0db2b4e6",
   "metadata": {},
   "outputs": [
    {
     "data": {
      "text/plain": [
       "5920889.327622586"
      ]
     },
     "execution_count": 39,
     "metadata": {},
     "output_type": "execute_result"
    }
   ],
   "source": [
    "y_pred = xgb_model.predict(X_test)\n",
    "np.sqrt(mean_squared_error(y_test, y_pred))"
   ]
  },
  {
   "cell_type": "markdown",
   "id": "59843da5",
   "metadata": {},
   "source": [
    "### 2.7.3. Model Tuning"
   ]
  },
  {
   "cell_type": "code",
   "execution_count": 40,
   "id": "6c8de3b6",
   "metadata": {},
   "outputs": [
    {
     "data": {
      "text/html": [
       "<style>#sk-container-id-5 {color: black;background-color: white;}#sk-container-id-5 pre{padding: 0;}#sk-container-id-5 div.sk-toggleable {background-color: white;}#sk-container-id-5 label.sk-toggleable__label {cursor: pointer;display: block;width: 100%;margin-bottom: 0;padding: 0.3em;box-sizing: border-box;text-align: center;}#sk-container-id-5 label.sk-toggleable__label-arrow:before {content: \"▸\";float: left;margin-right: 0.25em;color: #696969;}#sk-container-id-5 label.sk-toggleable__label-arrow:hover:before {color: black;}#sk-container-id-5 div.sk-estimator:hover label.sk-toggleable__label-arrow:before {color: black;}#sk-container-id-5 div.sk-toggleable__content {max-height: 0;max-width: 0;overflow: hidden;text-align: left;background-color: #f0f8ff;}#sk-container-id-5 div.sk-toggleable__content pre {margin: 0.2em;color: black;border-radius: 0.25em;background-color: #f0f8ff;}#sk-container-id-5 input.sk-toggleable__control:checked~div.sk-toggleable__content {max-height: 200px;max-width: 100%;overflow: auto;}#sk-container-id-5 input.sk-toggleable__control:checked~label.sk-toggleable__label-arrow:before {content: \"▾\";}#sk-container-id-5 div.sk-estimator input.sk-toggleable__control:checked~label.sk-toggleable__label {background-color: #d4ebff;}#sk-container-id-5 div.sk-label input.sk-toggleable__control:checked~label.sk-toggleable__label {background-color: #d4ebff;}#sk-container-id-5 input.sk-hidden--visually {border: 0;clip: rect(1px 1px 1px 1px);clip: rect(1px, 1px, 1px, 1px);height: 1px;margin: -1px;overflow: hidden;padding: 0;position: absolute;width: 1px;}#sk-container-id-5 div.sk-estimator {font-family: monospace;background-color: #f0f8ff;border: 1px dotted black;border-radius: 0.25em;box-sizing: border-box;margin-bottom: 0.5em;}#sk-container-id-5 div.sk-estimator:hover {background-color: #d4ebff;}#sk-container-id-5 div.sk-parallel-item::after {content: \"\";width: 100%;border-bottom: 1px solid gray;flex-grow: 1;}#sk-container-id-5 div.sk-label:hover label.sk-toggleable__label {background-color: #d4ebff;}#sk-container-id-5 div.sk-serial::before {content: \"\";position: absolute;border-left: 1px solid gray;box-sizing: border-box;top: 0;bottom: 0;left: 50%;z-index: 0;}#sk-container-id-5 div.sk-serial {display: flex;flex-direction: column;align-items: center;background-color: white;padding-right: 0.2em;padding-left: 0.2em;position: relative;}#sk-container-id-5 div.sk-item {position: relative;z-index: 1;}#sk-container-id-5 div.sk-parallel {display: flex;align-items: stretch;justify-content: center;background-color: white;position: relative;}#sk-container-id-5 div.sk-item::before, #sk-container-id-5 div.sk-parallel-item::before {content: \"\";position: absolute;border-left: 1px solid gray;box-sizing: border-box;top: 0;bottom: 0;left: 50%;z-index: -1;}#sk-container-id-5 div.sk-parallel-item {display: flex;flex-direction: column;z-index: 1;position: relative;background-color: white;}#sk-container-id-5 div.sk-parallel-item:first-child::after {align-self: flex-end;width: 50%;}#sk-container-id-5 div.sk-parallel-item:last-child::after {align-self: flex-start;width: 50%;}#sk-container-id-5 div.sk-parallel-item:only-child::after {width: 0;}#sk-container-id-5 div.sk-dashed-wrapped {border: 1px dashed gray;margin: 0 0.4em 0.5em 0.4em;box-sizing: border-box;padding-bottom: 0.4em;background-color: white;}#sk-container-id-5 div.sk-label label {font-family: monospace;font-weight: bold;display: inline-block;line-height: 1.2em;}#sk-container-id-5 div.sk-label-container {text-align: center;}#sk-container-id-5 div.sk-container {/* jupyter's `normalize.less` sets `[hidden] { display: none; }` but bootstrap.min.css set `[hidden] { display: none !important; }` so we also need the `!important` here to be able to override the default hidden behavior on the sphinx rendered scikit-learn.org. See: https://github.com/scikit-learn/scikit-learn/issues/21755 */display: inline-block !important;position: relative;}#sk-container-id-5 div.sk-text-repr-fallback {display: none;}</style><div id=\"sk-container-id-5\" class=\"sk-top-container\"><div class=\"sk-text-repr-fallback\"><pre>XGBRegressor(base_score=None, booster=None, callbacks=None,\n",
       "             colsample_bylevel=None, colsample_bynode=None,\n",
       "             colsample_bytree=None, early_stopping_rounds=None,\n",
       "             enable_categorical=False, eval_metric=None, feature_types=None,\n",
       "             gamma=None, gpu_id=None, grow_policy=None, importance_type=None,\n",
       "             interaction_constraints=None, learning_rate=None, max_bin=None,\n",
       "             max_cat_threshold=None, max_cat_to_onehot=None,\n",
       "             max_delta_step=None, max_depth=None, max_leaves=None,\n",
       "             min_child_weight=None, missing=nan, monotone_constraints=None,\n",
       "             n_estimators=100, n_jobs=None, num_parallel_tree=None,\n",
       "             predictor=None, random_state=None, ...)</pre><b>In a Jupyter environment, please rerun this cell to show the HTML representation or trust the notebook. <br />On GitHub, the HTML representation is unable to render, please try loading this page with nbviewer.org.</b></div><div class=\"sk-container\" hidden><div class=\"sk-item\"><div class=\"sk-estimator sk-toggleable\"><input class=\"sk-toggleable__control sk-hidden--visually\" id=\"sk-estimator-id-7\" type=\"checkbox\" checked><label for=\"sk-estimator-id-7\" class=\"sk-toggleable__label sk-toggleable__label-arrow\">XGBRegressor</label><div class=\"sk-toggleable__content\"><pre>XGBRegressor(base_score=None, booster=None, callbacks=None,\n",
       "             colsample_bylevel=None, colsample_bynode=None,\n",
       "             colsample_bytree=None, early_stopping_rounds=None,\n",
       "             enable_categorical=False, eval_metric=None, feature_types=None,\n",
       "             gamma=None, gpu_id=None, grow_policy=None, importance_type=None,\n",
       "             interaction_constraints=None, learning_rate=None, max_bin=None,\n",
       "             max_cat_threshold=None, max_cat_to_onehot=None,\n",
       "             max_delta_step=None, max_depth=None, max_leaves=None,\n",
       "             min_child_weight=None, missing=nan, monotone_constraints=None,\n",
       "             n_estimators=100, n_jobs=None, num_parallel_tree=None,\n",
       "             predictor=None, random_state=None, ...)</pre></div></div></div></div></div>"
      ],
      "text/plain": [
       "XGBRegressor(base_score=None, booster=None, callbacks=None,\n",
       "             colsample_bylevel=None, colsample_bynode=None,\n",
       "             colsample_bytree=None, early_stopping_rounds=None,\n",
       "             enable_categorical=False, eval_metric=None, feature_types=None,\n",
       "             gamma=None, gpu_id=None, grow_policy=None, importance_type=None,\n",
       "             interaction_constraints=None, learning_rate=None, max_bin=None,\n",
       "             max_cat_threshold=None, max_cat_to_onehot=None,\n",
       "             max_delta_step=None, max_depth=None, max_leaves=None,\n",
       "             min_child_weight=None, missing=nan, monotone_constraints=None,\n",
       "             n_estimators=100, n_jobs=None, num_parallel_tree=None,\n",
       "             predictor=None, random_state=None, ...)"
      ]
     },
     "execution_count": 40,
     "metadata": {},
     "output_type": "execute_result"
    }
   ],
   "source": [
    "xgb_model"
   ]
  },
  {
   "cell_type": "code",
   "execution_count": 41,
   "id": "ca94a5da",
   "metadata": {},
   "outputs": [],
   "source": [
    "xgb_grid = {\n",
    "     'colsample_bytree': [0.4, 0.5,0.6,0.9,1], \n",
    "     'n_estimators':[100, 200, 500, 1000],\n",
    "     'max_depth': [2,3,4,5,6],\n",
    "     'learning_rate': [0.1, 0.01, 0.5]\n",
    "}"
   ]
  },
  {
   "cell_type": "code",
   "execution_count": 11,
   "id": "b34e7e4e",
   "metadata": {},
   "outputs": [
    {
     "name": "stdout",
     "output_type": "stream",
     "text": [
      "Fitting 10 folds for each of 300 candidates, totalling 3000 fits\n",
      "0:02:44.540577\n"
     ]
    }
   ],
   "source": [
    "t1 =  datetime.now()\n",
    "\n",
    "xgb = XGBRegressor()\n",
    "xgb_cv = GridSearchCV(xgb, \n",
    "                      param_grid = xgb_grid, \n",
    "                      cv = 10, \n",
    "                      n_jobs = -1,\n",
    "                      verbose = 2)\n",
    "\n",
    "xgb_cv.fit(X_train, y_train)\n",
    "# Algoritmanın çalışma süresi;\n",
    "t2 =  datetime.now()\n",
    "print(t2-t1)"
   ]
  },
  {
   "cell_type": "code",
   "execution_count": 12,
   "id": "02915ed8",
   "metadata": {},
   "outputs": [
    {
     "data": {
      "text/plain": [
       "{'colsample_bytree': 1,\n",
       " 'learning_rate': 0.5,\n",
       " 'max_depth': 5,\n",
       " 'n_estimators': 100}"
      ]
     },
     "execution_count": 12,
     "metadata": {},
     "output_type": "execute_result"
    }
   ],
   "source": [
    "xgb_cv.best_params_"
   ]
  },
  {
   "cell_type": "code",
   "execution_count": 13,
   "id": "0c5ea67e",
   "metadata": {},
   "outputs": [
    {
     "data": {
      "text/plain": [
       "4908721.488945145"
      ]
     },
     "execution_count": 13,
     "metadata": {},
     "output_type": "execute_result"
    }
   ],
   "source": [
    "xgb_tuned = XGBRegressor(colsample_bytree = 1, # En iyi parametreleri modelimize uygulayalım.\n",
    "                         learning_rate = 0.5, \n",
    "                         max_depth = 5, \n",
    "                         n_estimators = 100) \n",
    "\n",
    "xgb_tuned = xgb_tuned.fit(X_train,y_train)\n",
    "\n",
    "y_pred = xgb_tuned.predict(X_test)\n",
    "np.sqrt(mean_squared_error(y_test, y_pred))"
   ]
  },
  {
   "cell_type": "markdown",
   "id": "51b00b68",
   "metadata": {},
   "source": [
    "### 2.8. Light GBM"
   ]
  },
  {
   "cell_type": "markdown",
   "id": "365e19f8",
   "metadata": {},
   "source": [
    "##### Light GBM, XGBoost'un eğitim süresini azaltmaya yönelik geliştirilmiş bir diğer GBM türüdür.\n",
    "\n",
    "##### 2017 yılında Microsoft tarafından geliştirilmiştir.\n",
    "      - Daha performanslıdır.\n",
    "      - Level-wise büyüme stratejisi yerine Leaf-wise büyüme stratejisi kullanır.\n",
    "      - Breadth-first search (BSF) yerine depth-first search (DFS) arama algoritmasını kullanır."
   ]
  },
  {
   "cell_type": "markdown",
   "id": "9c616b54",
   "metadata": {},
   "source": [
    "### 2.8.1. Model"
   ]
  },
  {
   "cell_type": "code",
   "execution_count": 14,
   "id": "d42e9ae3",
   "metadata": {},
   "outputs": [],
   "source": [
    "df=pd.read_csv(\"dataset/youtubeGB.csv\")\n",
    "youtube=df.copy()\n",
    "\n",
    "youtube.index = youtube.iloc[:,0]\n",
    "youtube=youtube.iloc[:,7:11]\n",
    "\n",
    "youtube=youtube.sample(n=500) # Veri seti üzerindeki 500 kaydı veri seti üzerinde çalışma süresini azaltabilmek için \n",
    "                               # örneklem olarak alıyoruz.\n",
    "\n",
    "youtube = youtube.dropna()\n",
    "dms = pd.get_dummies(youtube[['likes', 'dislikes', 'comment_count']])\n",
    "y = youtube[\"views\"]\n",
    "X_ = youtube.drop(['views', 'likes', 'dislikes', 'comment_count'], axis=1).astype('int64')\n",
    "X = pd.concat([X_, dms[['likes', 'dislikes', 'comment_count']]], axis=1)\n",
    "X_train, X_test, y_train, y_test = train_test_split(X, y,\n",
    "                                                    test_size=0.25,\n",
    "                                                    random_state=42)"
   ]
  },
  {
   "cell_type": "code",
   "execution_count": 16,
   "id": "fc625330",
   "metadata": {},
   "outputs": [],
   "source": [
    "lgbm = LGBMRegressor()\n",
    "lgbm_model = lgbm.fit(X_train, y_train) # Model oluşturulduktan sonra fit ediliyor."
   ]
  },
  {
   "cell_type": "markdown",
   "id": "b032cfc3",
   "metadata": {},
   "source": [
    "### 2.8.2. Tahmin"
   ]
  },
  {
   "cell_type": "code",
   "execution_count": 17,
   "id": "a88eb05e",
   "metadata": {},
   "outputs": [
    {
     "data": {
      "text/plain": [
       "13654891.61080595"
      ]
     },
     "execution_count": 17,
     "metadata": {},
     "output_type": "execute_result"
    }
   ],
   "source": [
    "y_pred = lgbm_model.predict(X_test, \n",
    "                            num_iteration = lgbm_model.best_iteration_)\n",
    "\n",
    "np.sqrt(mean_squared_error(y_test, y_pred))"
   ]
  },
  {
   "cell_type": "markdown",
   "id": "f658f2d5",
   "metadata": {},
   "source": [
    "### 2.8.3. Model Tuning"
   ]
  },
  {
   "cell_type": "code",
   "execution_count": 19,
   "id": "146a275f",
   "metadata": {},
   "outputs": [
    {
     "data": {
      "text/html": [
       "<style>#sk-container-id-2 {color: black;background-color: white;}#sk-container-id-2 pre{padding: 0;}#sk-container-id-2 div.sk-toggleable {background-color: white;}#sk-container-id-2 label.sk-toggleable__label {cursor: pointer;display: block;width: 100%;margin-bottom: 0;padding: 0.3em;box-sizing: border-box;text-align: center;}#sk-container-id-2 label.sk-toggleable__label-arrow:before {content: \"▸\";float: left;margin-right: 0.25em;color: #696969;}#sk-container-id-2 label.sk-toggleable__label-arrow:hover:before {color: black;}#sk-container-id-2 div.sk-estimator:hover label.sk-toggleable__label-arrow:before {color: black;}#sk-container-id-2 div.sk-toggleable__content {max-height: 0;max-width: 0;overflow: hidden;text-align: left;background-color: #f0f8ff;}#sk-container-id-2 div.sk-toggleable__content pre {margin: 0.2em;color: black;border-radius: 0.25em;background-color: #f0f8ff;}#sk-container-id-2 input.sk-toggleable__control:checked~div.sk-toggleable__content {max-height: 200px;max-width: 100%;overflow: auto;}#sk-container-id-2 input.sk-toggleable__control:checked~label.sk-toggleable__label-arrow:before {content: \"▾\";}#sk-container-id-2 div.sk-estimator input.sk-toggleable__control:checked~label.sk-toggleable__label {background-color: #d4ebff;}#sk-container-id-2 div.sk-label input.sk-toggleable__control:checked~label.sk-toggleable__label {background-color: #d4ebff;}#sk-container-id-2 input.sk-hidden--visually {border: 0;clip: rect(1px 1px 1px 1px);clip: rect(1px, 1px, 1px, 1px);height: 1px;margin: -1px;overflow: hidden;padding: 0;position: absolute;width: 1px;}#sk-container-id-2 div.sk-estimator {font-family: monospace;background-color: #f0f8ff;border: 1px dotted black;border-radius: 0.25em;box-sizing: border-box;margin-bottom: 0.5em;}#sk-container-id-2 div.sk-estimator:hover {background-color: #d4ebff;}#sk-container-id-2 div.sk-parallel-item::after {content: \"\";width: 100%;border-bottom: 1px solid gray;flex-grow: 1;}#sk-container-id-2 div.sk-label:hover label.sk-toggleable__label {background-color: #d4ebff;}#sk-container-id-2 div.sk-serial::before {content: \"\";position: absolute;border-left: 1px solid gray;box-sizing: border-box;top: 0;bottom: 0;left: 50%;z-index: 0;}#sk-container-id-2 div.sk-serial {display: flex;flex-direction: column;align-items: center;background-color: white;padding-right: 0.2em;padding-left: 0.2em;position: relative;}#sk-container-id-2 div.sk-item {position: relative;z-index: 1;}#sk-container-id-2 div.sk-parallel {display: flex;align-items: stretch;justify-content: center;background-color: white;position: relative;}#sk-container-id-2 div.sk-item::before, #sk-container-id-2 div.sk-parallel-item::before {content: \"\";position: absolute;border-left: 1px solid gray;box-sizing: border-box;top: 0;bottom: 0;left: 50%;z-index: -1;}#sk-container-id-2 div.sk-parallel-item {display: flex;flex-direction: column;z-index: 1;position: relative;background-color: white;}#sk-container-id-2 div.sk-parallel-item:first-child::after {align-self: flex-end;width: 50%;}#sk-container-id-2 div.sk-parallel-item:last-child::after {align-self: flex-start;width: 50%;}#sk-container-id-2 div.sk-parallel-item:only-child::after {width: 0;}#sk-container-id-2 div.sk-dashed-wrapped {border: 1px dashed gray;margin: 0 0.4em 0.5em 0.4em;box-sizing: border-box;padding-bottom: 0.4em;background-color: white;}#sk-container-id-2 div.sk-label label {font-family: monospace;font-weight: bold;display: inline-block;line-height: 1.2em;}#sk-container-id-2 div.sk-label-container {text-align: center;}#sk-container-id-2 div.sk-container {/* jupyter's `normalize.less` sets `[hidden] { display: none; }` but bootstrap.min.css set `[hidden] { display: none !important; }` so we also need the `!important` here to be able to override the default hidden behavior on the sphinx rendered scikit-learn.org. See: https://github.com/scikit-learn/scikit-learn/issues/21755 */display: inline-block !important;position: relative;}#sk-container-id-2 div.sk-text-repr-fallback {display: none;}</style><div id=\"sk-container-id-2\" class=\"sk-top-container\"><div class=\"sk-text-repr-fallback\"><pre>LGBMRegressor()</pre><b>In a Jupyter environment, please rerun this cell to show the HTML representation or trust the notebook. <br />On GitHub, the HTML representation is unable to render, please try loading this page with nbviewer.org.</b></div><div class=\"sk-container\" hidden><div class=\"sk-item\"><div class=\"sk-estimator sk-toggleable\"><input class=\"sk-toggleable__control sk-hidden--visually\" id=\"sk-estimator-id-2\" type=\"checkbox\" checked><label for=\"sk-estimator-id-2\" class=\"sk-toggleable__label sk-toggleable__label-arrow\">LGBMRegressor</label><div class=\"sk-toggleable__content\"><pre>LGBMRegressor()</pre></div></div></div></div></div>"
      ],
      "text/plain": [
       "LGBMRegressor()"
      ]
     },
     "execution_count": 19,
     "metadata": {},
     "output_type": "execute_result"
    }
   ],
   "source": [
    "lgbm_model"
   ]
  },
  {
   "cell_type": "code",
   "execution_count": 20,
   "id": "dbd44b64",
   "metadata": {},
   "outputs": [],
   "source": [
    "lgbm_grid = {\n",
    "    'colsample_bytree': [0.4, 0.5,0.6,0.9,1],\n",
    "    'learning_rate': [0.01, 0.1, 0.5,1],\n",
    "    'n_estimators': [20, 40, 100, 200, 500,1000],\n",
    "    'max_depth': [1,2,3,4,5,6,7,8] }\n",
    "\n",
    "lgbm = LGBMRegressor()\n",
    "lgbm_cv_model = GridSearchCV(lgbm, lgbm_grid, cv=10, n_jobs = -1, verbose = 2)"
   ]
  },
  {
   "cell_type": "code",
   "execution_count": 21,
   "id": "c03713e8",
   "metadata": {},
   "outputs": [
    {
     "name": "stdout",
     "output_type": "stream",
     "text": [
      "Fitting 10 folds for each of 960 candidates, totalling 9600 fits\n",
      "0:02:25.320427\n"
     ]
    }
   ],
   "source": [
    "# Algoritmanın çalışma süresini hesaplayarak gözlemleyelim.\n",
    "t1 =  datetime.now()\n",
    "lgbm_cv_model.fit(X_train, y_train)\n",
    "t2 =  datetime.now()\n",
    "print(t2-t1)"
   ]
  },
  {
   "cell_type": "code",
   "execution_count": 22,
   "id": "3eefc915",
   "metadata": {},
   "outputs": [
    {
     "data": {
      "text/plain": [
       "{'colsample_bytree': 0.9,\n",
       " 'learning_rate': 0.01,\n",
       " 'max_depth': 6,\n",
       " 'n_estimators': 40}"
      ]
     },
     "execution_count": 22,
     "metadata": {},
     "output_type": "execute_result"
    }
   ],
   "source": [
    "# En iyi parametrelere bakalım.\n",
    "lgbm_cv_model.best_params_"
   ]
  },
  {
   "cell_type": "code",
   "execution_count": 23,
   "id": "f7f28c35",
   "metadata": {},
   "outputs": [],
   "source": [
    "lgbm_tuned = LGBMRegressor(learning_rate = 0.01, \n",
    "                           max_depth = 6, \n",
    "                           n_estimators = 40,\n",
    "                          colsample_bytree = 0.9)\n",
    "\n",
    "lgbm_tuned = lgbm_tuned.fit(X_train,y_train)"
   ]
  },
  {
   "cell_type": "code",
   "execution_count": 24,
   "id": "16ea829e",
   "metadata": {},
   "outputs": [
    {
     "data": {
      "text/plain": [
       "9725556.519816948"
      ]
     },
     "execution_count": 24,
     "metadata": {},
     "output_type": "execute_result"
    }
   ],
   "source": [
    "y_pred = lgbm_tuned.predict(X_test)\n",
    "\n",
    "np.sqrt(mean_squared_error(y_test, y_pred))"
   ]
  },
  {
   "cell_type": "markdown",
   "id": "e9f1c4c7",
   "metadata": {},
   "source": [
    "## 2.9. CatBoost"
   ]
  },
  {
   "cell_type": "markdown",
   "id": "e8fca00e",
   "metadata": {},
   "source": [
    "##### Kategorik değişkenler ile otomatik olarak mücadele edebilen, hızlı, başarılı bir diğer GBM türevidir. 2017 yılında Yandex tarafından geliştirilmiştir.\n",
    "\n",
    "    - Kategorik değişken desteği vardır.\n",
    "    - Hızlı ve ölçeklenebilir GPU desteği vardır.\n",
    "    - Hızlı train ve hızlı tahmin yapar."
   ]
  },
  {
   "cell_type": "markdown",
   "id": "9c0e0fea",
   "metadata": {},
   "source": [
    "### 2.9.1. Model"
   ]
  },
  {
   "cell_type": "code",
   "execution_count": 25,
   "id": "915cb81c",
   "metadata": {},
   "outputs": [],
   "source": [
    "df=pd.read_csv(\"dataset/youtubeGB.csv\")\n",
    "youtube=df.copy()\n",
    "\n",
    "youtube.index = youtube.iloc[:,0]\n",
    "youtube=youtube.iloc[:,7:11]\n",
    "\n",
    "youtube=youtube.sample(n=500) # Veri seti üzerindeki 500 kaydı veri seti üzerinde çalışma süresini azaltabilmek için \n",
    "                               # örneklem olarak alıyoruz.\n",
    "\n",
    "youtube = youtube.dropna()\n",
    "dms = pd.get_dummies(youtube[['likes', 'dislikes', 'comment_count']])\n",
    "y = youtube[\"views\"]\n",
    "X_ = youtube.drop(['views', 'likes', 'dislikes', 'comment_count'], axis=1).astype('int64')\n",
    "X = pd.concat([X_, dms[['likes', 'dislikes', 'comment_count']]], axis=1)\n",
    "X_train, X_test, y_train, y_test = train_test_split(X, y,\n",
    "                                                    test_size=0.25,\n",
    "                                                    random_state=42)"
   ]
  },
  {
   "cell_type": "code",
   "execution_count": 28,
   "id": "fdf6f5f4",
   "metadata": {
    "collapsed": true
   },
   "outputs": [
    {
     "name": "stdout",
     "output_type": "stream",
     "text": [
      "Learning rate set to 0.035065\n",
      "0:\tlearn: 11603194.5811680\ttotal: 182ms\tremaining: 3m 2s\n",
      "1:\tlearn: 11392241.0398419\ttotal: 190ms\tremaining: 1m 34s\n",
      "2:\tlearn: 11183782.0079298\ttotal: 196ms\tremaining: 1m 5s\n",
      "3:\tlearn: 10977078.0412333\ttotal: 202ms\tremaining: 50.2s\n",
      "4:\tlearn: 10794507.6415420\ttotal: 207ms\tremaining: 41.3s\n",
      "5:\tlearn: 10617304.7781672\ttotal: 214ms\tremaining: 35.4s\n",
      "6:\tlearn: 10435629.0492499\ttotal: 219ms\tremaining: 31.1s\n",
      "7:\tlearn: 10289364.9788916\ttotal: 224ms\tremaining: 27.8s\n",
      "8:\tlearn: 10120330.7985215\ttotal: 230ms\tremaining: 25.3s\n",
      "9:\tlearn: 9939841.7547553\ttotal: 235ms\tremaining: 23.3s\n",
      "10:\tlearn: 9778292.7804099\ttotal: 240ms\tremaining: 21.6s\n",
      "11:\tlearn: 9621479.3078205\ttotal: 246ms\tremaining: 20.3s\n",
      "12:\tlearn: 9463609.1606711\ttotal: 251ms\tremaining: 19.1s\n",
      "13:\tlearn: 9315380.7399808\ttotal: 256ms\tremaining: 18.1s\n",
      "14:\tlearn: 9158370.8742154\ttotal: 262ms\tremaining: 17.2s\n",
      "15:\tlearn: 9016613.6025934\ttotal: 268ms\tremaining: 16.5s\n",
      "16:\tlearn: 8871242.3521467\ttotal: 274ms\tremaining: 15.9s\n",
      "17:\tlearn: 8748033.9791052\ttotal: 280ms\tremaining: 15.3s\n",
      "18:\tlearn: 8612865.2749139\ttotal: 285ms\tremaining: 14.7s\n",
      "19:\tlearn: 8494335.3405909\ttotal: 291ms\tremaining: 14.2s\n",
      "20:\tlearn: 8395282.0164500\ttotal: 296ms\tremaining: 13.8s\n",
      "21:\tlearn: 8285012.8891500\ttotal: 302ms\tremaining: 13.4s\n",
      "22:\tlearn: 8163933.6980449\ttotal: 308ms\tremaining: 13.1s\n",
      "23:\tlearn: 8058780.6337511\ttotal: 314ms\tremaining: 12.8s\n",
      "24:\tlearn: 7948840.9815923\ttotal: 319ms\tremaining: 12.5s\n",
      "25:\tlearn: 7830597.9516936\ttotal: 325ms\tremaining: 12.2s\n",
      "26:\tlearn: 7725978.6081867\ttotal: 331ms\tremaining: 11.9s\n",
      "27:\tlearn: 7626474.0675545\ttotal: 337ms\tremaining: 11.7s\n",
      "28:\tlearn: 7529429.1785332\ttotal: 343ms\tremaining: 11.5s\n",
      "29:\tlearn: 7442681.8025300\ttotal: 349ms\tremaining: 11.3s\n",
      "30:\tlearn: 7348781.6426502\ttotal: 355ms\tremaining: 11.1s\n",
      "31:\tlearn: 7270437.4993108\ttotal: 361ms\tremaining: 10.9s\n",
      "32:\tlearn: 7183912.4067119\ttotal: 364ms\tremaining: 10.7s\n",
      "33:\tlearn: 7084054.9205711\ttotal: 370ms\tremaining: 10.5s\n",
      "34:\tlearn: 6993365.6789625\ttotal: 374ms\tremaining: 10.3s\n",
      "35:\tlearn: 6921009.6208924\ttotal: 379ms\tremaining: 10.1s\n",
      "36:\tlearn: 6833625.8441017\ttotal: 382ms\tremaining: 9.93s\n",
      "37:\tlearn: 6763419.2994144\ttotal: 384ms\tremaining: 9.73s\n",
      "38:\tlearn: 6675102.2163619\ttotal: 387ms\tremaining: 9.54s\n",
      "39:\tlearn: 6608537.5804062\ttotal: 389ms\tremaining: 9.34s\n",
      "40:\tlearn: 6519883.8562041\ttotal: 392ms\tremaining: 9.16s\n",
      "41:\tlearn: 6459750.0033870\ttotal: 394ms\tremaining: 8.99s\n",
      "42:\tlearn: 6394279.3194687\ttotal: 396ms\tremaining: 8.81s\n",
      "43:\tlearn: 6324957.0519397\ttotal: 399ms\tremaining: 8.66s\n",
      "44:\tlearn: 6258019.6860987\ttotal: 401ms\tremaining: 8.51s\n",
      "45:\tlearn: 6178490.2658721\ttotal: 403ms\tremaining: 8.36s\n",
      "46:\tlearn: 6101410.9649005\ttotal: 405ms\tremaining: 8.21s\n",
      "47:\tlearn: 6037124.5363197\ttotal: 407ms\tremaining: 8.06s\n",
      "48:\tlearn: 5982092.5972866\ttotal: 408ms\tremaining: 7.93s\n",
      "49:\tlearn: 5911576.9051895\ttotal: 415ms\tremaining: 7.88s\n",
      "50:\tlearn: 5849824.7231147\ttotal: 420ms\tremaining: 7.82s\n",
      "51:\tlearn: 5796269.7740087\ttotal: 426ms\tremaining: 7.77s\n",
      "52:\tlearn: 5745769.5343008\ttotal: 432ms\tremaining: 7.71s\n",
      "53:\tlearn: 5695939.1301196\ttotal: 437ms\tremaining: 7.66s\n",
      "54:\tlearn: 5647368.6864286\ttotal: 443ms\tremaining: 7.62s\n",
      "55:\tlearn: 5586661.7114487\ttotal: 449ms\tremaining: 7.56s\n",
      "56:\tlearn: 5541385.3251490\ttotal: 454ms\tremaining: 7.51s\n",
      "57:\tlearn: 5486467.4581609\ttotal: 460ms\tremaining: 7.47s\n",
      "58:\tlearn: 5439117.0559660\ttotal: 465ms\tremaining: 7.42s\n",
      "59:\tlearn: 5389967.2420439\ttotal: 471ms\tremaining: 7.38s\n",
      "60:\tlearn: 5347687.9595772\ttotal: 477ms\tremaining: 7.33s\n",
      "61:\tlearn: 5289596.1289552\ttotal: 482ms\tremaining: 7.29s\n",
      "62:\tlearn: 5233083.0205947\ttotal: 488ms\tremaining: 7.25s\n",
      "63:\tlearn: 5191636.4835291\ttotal: 494ms\tremaining: 7.22s\n",
      "64:\tlearn: 5147995.7692935\ttotal: 499ms\tremaining: 7.18s\n",
      "65:\tlearn: 5104705.8687828\ttotal: 504ms\tremaining: 7.13s\n",
      "66:\tlearn: 5071177.4925717\ttotal: 509ms\tremaining: 7.09s\n",
      "67:\tlearn: 5025101.2430064\ttotal: 515ms\tremaining: 7.06s\n",
      "68:\tlearn: 4985085.4742852\ttotal: 521ms\tremaining: 7.03s\n",
      "69:\tlearn: 4949771.5124828\ttotal: 527ms\tremaining: 7s\n",
      "70:\tlearn: 4914537.9513891\ttotal: 532ms\tremaining: 6.96s\n",
      "71:\tlearn: 4882803.1665770\ttotal: 539ms\tremaining: 6.94s\n",
      "72:\tlearn: 4851793.0821290\ttotal: 544ms\tremaining: 6.91s\n",
      "73:\tlearn: 4829249.4861795\ttotal: 550ms\tremaining: 6.88s\n",
      "74:\tlearn: 4794712.0022219\ttotal: 556ms\tremaining: 6.85s\n",
      "75:\tlearn: 4760902.6926736\ttotal: 561ms\tremaining: 6.82s\n",
      "76:\tlearn: 4739842.2824629\ttotal: 568ms\tremaining: 6.81s\n",
      "77:\tlearn: 4712065.7922726\ttotal: 574ms\tremaining: 6.78s\n",
      "78:\tlearn: 4686202.7265120\ttotal: 580ms\tremaining: 6.76s\n",
      "79:\tlearn: 4654738.9784076\ttotal: 585ms\tremaining: 6.73s\n",
      "80:\tlearn: 4629458.4856077\ttotal: 591ms\tremaining: 6.71s\n",
      "81:\tlearn: 4611293.5473026\ttotal: 596ms\tremaining: 6.67s\n",
      "82:\tlearn: 4580787.3983692\ttotal: 602ms\tremaining: 6.65s\n",
      "83:\tlearn: 4538226.1873927\ttotal: 608ms\tremaining: 6.63s\n",
      "84:\tlearn: 4508378.3677742\ttotal: 614ms\tremaining: 6.61s\n",
      "85:\tlearn: 4491122.2863275\ttotal: 619ms\tremaining: 6.58s\n",
      "86:\tlearn: 4454686.0356841\ttotal: 626ms\tremaining: 6.57s\n",
      "87:\tlearn: 4432774.7370810\ttotal: 631ms\tremaining: 6.54s\n",
      "88:\tlearn: 4405393.0609399\ttotal: 636ms\tremaining: 6.51s\n",
      "89:\tlearn: 4377971.2391337\ttotal: 642ms\tremaining: 6.49s\n",
      "90:\tlearn: 4350886.1133586\ttotal: 647ms\tremaining: 6.46s\n",
      "91:\tlearn: 4329639.1208103\ttotal: 652ms\tremaining: 6.44s\n",
      "92:\tlearn: 4300784.5682866\ttotal: 657ms\tremaining: 6.41s\n",
      "93:\tlearn: 4267309.7676928\ttotal: 663ms\tremaining: 6.39s\n",
      "94:\tlearn: 4247228.3715118\ttotal: 668ms\tremaining: 6.36s\n",
      "95:\tlearn: 4219575.6459286\ttotal: 673ms\tremaining: 6.34s\n",
      "96:\tlearn: 4188886.2689364\ttotal: 678ms\tremaining: 6.32s\n",
      "97:\tlearn: 4159397.9862296\ttotal: 684ms\tremaining: 6.29s\n",
      "98:\tlearn: 4134661.8432513\ttotal: 689ms\tremaining: 6.27s\n",
      "99:\tlearn: 4102483.6999780\ttotal: 695ms\tremaining: 6.25s\n",
      "100:\tlearn: 4080401.1182604\ttotal: 700ms\tremaining: 6.23s\n",
      "101:\tlearn: 4058981.8097757\ttotal: 705ms\tremaining: 6.21s\n",
      "102:\tlearn: 4022797.8787489\ttotal: 710ms\tremaining: 6.18s\n",
      "103:\tlearn: 3994473.6947884\ttotal: 715ms\tremaining: 6.16s\n",
      "104:\tlearn: 3968900.7652348\ttotal: 720ms\tremaining: 6.14s\n",
      "105:\tlearn: 3938576.0626982\ttotal: 726ms\tremaining: 6.12s\n",
      "106:\tlearn: 3917497.0541670\ttotal: 731ms\tremaining: 6.1s\n",
      "107:\tlearn: 3884659.0356420\ttotal: 736ms\tremaining: 6.08s\n",
      "108:\tlearn: 3863688.6858582\ttotal: 741ms\tremaining: 6.06s\n",
      "109:\tlearn: 3844031.6749672\ttotal: 746ms\tremaining: 6.04s\n",
      "110:\tlearn: 3811465.0401250\ttotal: 752ms\tremaining: 6.02s\n",
      "111:\tlearn: 3792479.7653985\ttotal: 758ms\tremaining: 6.01s\n",
      "112:\tlearn: 3766117.1040802\ttotal: 763ms\tremaining: 5.99s\n",
      "113:\tlearn: 3741524.9474826\ttotal: 769ms\tremaining: 5.98s\n",
      "114:\tlearn: 3716568.4454418\ttotal: 775ms\tremaining: 5.97s\n",
      "115:\tlearn: 3708694.2894606\ttotal: 781ms\tremaining: 5.95s\n",
      "116:\tlearn: 3682643.8657658\ttotal: 786ms\tremaining: 5.93s\n",
      "117:\tlearn: 3655626.0199667\ttotal: 791ms\tremaining: 5.91s\n",
      "118:\tlearn: 3628288.0992110\ttotal: 797ms\tremaining: 5.9s\n",
      "119:\tlearn: 3609796.3729971\ttotal: 803ms\tremaining: 5.88s\n",
      "120:\tlearn: 3592844.4363229\ttotal: 811ms\tremaining: 5.89s\n",
      "121:\tlearn: 3576010.8251668\ttotal: 817ms\tremaining: 5.88s\n",
      "122:\tlearn: 3559793.6882172\ttotal: 823ms\tremaining: 5.87s\n",
      "123:\tlearn: 3542729.5209413\ttotal: 829ms\tremaining: 5.86s\n",
      "124:\tlearn: 3517086.7099491\ttotal: 835ms\tremaining: 5.84s\n",
      "125:\tlearn: 3493101.4788696\ttotal: 841ms\tremaining: 5.83s\n",
      "126:\tlearn: 3476014.1819926\ttotal: 847ms\tremaining: 5.82s\n",
      "127:\tlearn: 3469287.0943521\ttotal: 853ms\tremaining: 5.81s\n",
      "128:\tlearn: 3455466.0008246\ttotal: 860ms\tremaining: 5.81s\n",
      "129:\tlearn: 3438127.3947501\ttotal: 864ms\tremaining: 5.78s\n",
      "130:\tlearn: 3427835.9018251\ttotal: 867ms\tremaining: 5.75s\n",
      "131:\tlearn: 3421186.6572657\ttotal: 870ms\tremaining: 5.72s\n",
      "132:\tlearn: 3397387.5011040\ttotal: 873ms\tremaining: 5.69s\n",
      "133:\tlearn: 3390270.5475109\ttotal: 877ms\tremaining: 5.67s\n",
      "134:\tlearn: 3374310.2252470\ttotal: 880ms\tremaining: 5.63s\n",
      "135:\tlearn: 3367265.7512167\ttotal: 882ms\tremaining: 5.61s\n",
      "136:\tlearn: 3346447.2054099\ttotal: 885ms\tremaining: 5.58s\n",
      "137:\tlearn: 3332316.1978900\ttotal: 888ms\tremaining: 5.55s\n",
      "138:\tlearn: 3323167.8799921\ttotal: 891ms\tremaining: 5.52s\n",
      "139:\tlearn: 3303463.4708945\ttotal: 894ms\tremaining: 5.49s\n",
      "140:\tlearn: 3286920.8721010\ttotal: 897ms\tremaining: 5.47s\n",
      "141:\tlearn: 3268612.3580458\ttotal: 900ms\tremaining: 5.44s\n",
      "142:\tlearn: 3259662.3090463\ttotal: 903ms\tremaining: 5.41s\n",
      "143:\tlearn: 3254606.7247651\ttotal: 906ms\tremaining: 5.38s\n",
      "144:\tlearn: 3245888.9092428\ttotal: 909ms\tremaining: 5.36s\n",
      "145:\tlearn: 3237700.9182407\ttotal: 912ms\tremaining: 5.33s\n",
      "146:\tlearn: 3223277.9073041\ttotal: 915ms\tremaining: 5.31s\n",
      "147:\tlearn: 3205492.6977778\ttotal: 917ms\tremaining: 5.28s\n",
      "148:\tlearn: 3188944.7099827\ttotal: 920ms\tremaining: 5.25s\n",
      "149:\tlearn: 3180699.9890613\ttotal: 923ms\tremaining: 5.23s\n",
      "150:\tlearn: 3176861.3356928\ttotal: 926ms\tremaining: 5.2s\n",
      "151:\tlearn: 3163264.2174503\ttotal: 929ms\tremaining: 5.18s\n",
      "152:\tlearn: 3147058.9376454\ttotal: 932ms\tremaining: 5.16s\n",
      "153:\tlearn: 3129984.6580546\ttotal: 935ms\tremaining: 5.13s\n",
      "154:\tlearn: 3121953.2917925\ttotal: 937ms\tremaining: 5.11s\n",
      "155:\tlearn: 3106851.8154361\ttotal: 940ms\tremaining: 5.09s\n",
      "156:\tlearn: 3096101.1103116\ttotal: 943ms\tremaining: 5.06s\n",
      "157:\tlearn: 3083735.9118190\ttotal: 946ms\tremaining: 5.04s\n",
      "158:\tlearn: 3076163.2465605\ttotal: 949ms\tremaining: 5.02s\n",
      "159:\tlearn: 3068658.2115765\ttotal: 952ms\tremaining: 5s\n",
      "160:\tlearn: 3053086.1191212\ttotal: 954ms\tremaining: 4.97s\n",
      "161:\tlearn: 3034464.6660613\ttotal: 957ms\tremaining: 4.95s\n",
      "162:\tlearn: 3016969.8388818\ttotal: 960ms\tremaining: 4.93s\n"
     ]
    },
    {
     "name": "stdout",
     "output_type": "stream",
     "text": [
      "163:\tlearn: 3013582.2012864\ttotal: 964ms\tremaining: 4.91s\n",
      "164:\tlearn: 3006714.3552205\ttotal: 967ms\tremaining: 4.89s\n",
      "165:\tlearn: 3002717.2628468\ttotal: 970ms\tremaining: 4.87s\n",
      "166:\tlearn: 2995794.7550012\ttotal: 973ms\tremaining: 4.85s\n",
      "167:\tlearn: 2990214.5881568\ttotal: 976ms\tremaining: 4.83s\n",
      "168:\tlearn: 2971894.4352102\ttotal: 978ms\tremaining: 4.81s\n",
      "169:\tlearn: 2964579.1783036\ttotal: 981ms\tremaining: 4.79s\n",
      "170:\tlearn: 2957883.8887105\ttotal: 984ms\tremaining: 4.77s\n",
      "171:\tlearn: 2946771.8051383\ttotal: 986ms\tremaining: 4.75s\n",
      "172:\tlearn: 2927287.8241646\ttotal: 990ms\tremaining: 4.73s\n",
      "173:\tlearn: 2911311.4907964\ttotal: 993ms\tremaining: 4.71s\n",
      "174:\tlearn: 2907969.4919405\ttotal: 996ms\tremaining: 4.69s\n",
      "175:\tlearn: 2893525.5706347\ttotal: 998ms\tremaining: 4.67s\n",
      "176:\tlearn: 2884080.4163832\ttotal: 1s\tremaining: 4.66s\n",
      "177:\tlearn: 2869154.2116373\ttotal: 1s\tremaining: 4.64s\n",
      "178:\tlearn: 2859730.0561535\ttotal: 1.01s\tremaining: 4.62s\n",
      "179:\tlearn: 2838000.0624089\ttotal: 1.01s\tremaining: 4.6s\n",
      "180:\tlearn: 2831815.8191776\ttotal: 1.01s\tremaining: 4.59s\n",
      "181:\tlearn: 2826316.1883495\ttotal: 1.02s\tremaining: 4.57s\n",
      "182:\tlearn: 2817485.5095333\ttotal: 1.02s\tremaining: 4.55s\n",
      "183:\tlearn: 2813625.2088354\ttotal: 1.02s\tremaining: 4.54s\n",
      "184:\tlearn: 2807692.7829882\ttotal: 1.03s\tremaining: 4.52s\n",
      "185:\tlearn: 2802261.4900639\ttotal: 1.03s\tremaining: 4.5s\n",
      "186:\tlearn: 2796670.6983846\ttotal: 1.03s\tremaining: 4.49s\n",
      "187:\tlearn: 2778873.0096235\ttotal: 1.03s\tremaining: 4.47s\n",
      "188:\tlearn: 2773436.5691723\ttotal: 1.04s\tremaining: 4.45s\n",
      "189:\tlearn: 2767918.5995349\ttotal: 1.04s\tremaining: 4.44s\n",
      "190:\tlearn: 2762595.0391524\ttotal: 1.04s\tremaining: 4.42s\n",
      "191:\tlearn: 2750888.3005420\ttotal: 1.05s\tremaining: 4.4s\n",
      "192:\tlearn: 2745728.3088966\ttotal: 1.05s\tremaining: 4.39s\n",
      "193:\tlearn: 2743483.3114376\ttotal: 1.05s\tremaining: 4.37s\n",
      "194:\tlearn: 2730977.4453089\ttotal: 1.05s\tremaining: 4.35s\n",
      "195:\tlearn: 2720120.6863801\ttotal: 1.06s\tremaining: 4.34s\n",
      "196:\tlearn: 2708161.7913621\ttotal: 1.06s\tremaining: 4.33s\n",
      "197:\tlearn: 2703010.6609957\ttotal: 1.06s\tremaining: 4.31s\n",
      "198:\tlearn: 2688893.1168881\ttotal: 1.07s\tremaining: 4.29s\n",
      "199:\tlearn: 2675088.6790838\ttotal: 1.07s\tremaining: 4.28s\n",
      "200:\tlearn: 2663702.3015921\ttotal: 1.07s\tremaining: 4.26s\n",
      "201:\tlearn: 2657881.7465933\ttotal: 1.07s\tremaining: 4.25s\n",
      "202:\tlearn: 2646288.6192246\ttotal: 1.08s\tremaining: 4.24s\n",
      "203:\tlearn: 2641314.6113644\ttotal: 1.08s\tremaining: 4.22s\n",
      "204:\tlearn: 2631398.0005428\ttotal: 1.08s\tremaining: 4.21s\n",
      "205:\tlearn: 2623598.9518674\ttotal: 1.09s\tremaining: 4.19s\n",
      "206:\tlearn: 2618799.4472104\ttotal: 1.09s\tremaining: 4.18s\n",
      "207:\tlearn: 2606167.1443945\ttotal: 1.09s\tremaining: 4.16s\n",
      "208:\tlearn: 2593021.3410872\ttotal: 1.1s\tremaining: 4.15s\n",
      "209:\tlearn: 2588141.7551073\ttotal: 1.1s\tremaining: 4.14s\n",
      "210:\tlearn: 2577317.6405913\ttotal: 1.1s\tremaining: 4.12s\n",
      "211:\tlearn: 2572689.7007246\ttotal: 1.1s\tremaining: 4.11s\n",
      "212:\tlearn: 2567312.3491531\ttotal: 1.11s\tremaining: 4.1s\n",
      "213:\tlearn: 2557246.4766748\ttotal: 1.11s\tremaining: 4.08s\n",
      "214:\tlearn: 2552625.6591018\ttotal: 1.11s\tremaining: 4.07s\n",
      "215:\tlearn: 2547713.2388299\ttotal: 1.12s\tremaining: 4.05s\n",
      "216:\tlearn: 2542570.8246575\ttotal: 1.12s\tremaining: 4.04s\n",
      "217:\tlearn: 2533054.4074339\ttotal: 1.12s\tremaining: 4.03s\n",
      "218:\tlearn: 2527865.7461103\ttotal: 1.13s\tremaining: 4.01s\n",
      "219:\tlearn: 2523111.8472190\ttotal: 1.13s\tremaining: 4s\n",
      "220:\tlearn: 2518088.5363445\ttotal: 1.13s\tremaining: 3.99s\n",
      "221:\tlearn: 2513563.5645201\ttotal: 1.13s\tremaining: 3.98s\n",
      "222:\tlearn: 2509291.2265585\ttotal: 1.14s\tremaining: 3.96s\n",
      "223:\tlearn: 2505093.9543382\ttotal: 1.14s\tremaining: 3.95s\n",
      "224:\tlearn: 2492053.0111694\ttotal: 1.14s\tremaining: 3.94s\n",
      "225:\tlearn: 2479439.8914662\ttotal: 1.15s\tremaining: 3.92s\n",
      "226:\tlearn: 2469464.7111454\ttotal: 1.15s\tremaining: 3.91s\n",
      "227:\tlearn: 2464689.4733556\ttotal: 1.15s\tremaining: 3.9s\n",
      "228:\tlearn: 2459996.7483322\ttotal: 1.15s\tremaining: 3.89s\n",
      "229:\tlearn: 2447630.4649392\ttotal: 1.16s\tremaining: 3.88s\n",
      "230:\tlearn: 2443009.6820009\ttotal: 1.16s\tremaining: 3.87s\n",
      "231:\tlearn: 2438842.2804106\ttotal: 1.17s\tremaining: 3.86s\n",
      "232:\tlearn: 2426635.6240703\ttotal: 1.17s\tremaining: 3.85s\n",
      "233:\tlearn: 2422713.5322938\ttotal: 1.17s\tremaining: 3.83s\n",
      "234:\tlearn: 2418986.1750412\ttotal: 1.17s\tremaining: 3.82s\n",
      "235:\tlearn: 2409690.7139091\ttotal: 1.18s\tremaining: 3.81s\n",
      "236:\tlearn: 2405622.6324371\ttotal: 1.18s\tremaining: 3.8s\n",
      "237:\tlearn: 2393859.6260455\ttotal: 1.18s\tremaining: 3.79s\n",
      "238:\tlearn: 2390098.2746042\ttotal: 1.19s\tremaining: 3.78s\n",
      "239:\tlearn: 2386144.7172128\ttotal: 1.19s\tremaining: 3.77s\n",
      "240:\tlearn: 2382502.0478849\ttotal: 1.19s\tremaining: 3.76s\n",
      "241:\tlearn: 2370389.0019219\ttotal: 1.2s\tremaining: 3.75s\n",
      "242:\tlearn: 2358633.4287286\ttotal: 1.2s\tremaining: 3.74s\n",
      "243:\tlearn: 2351770.1926955\ttotal: 1.2s\tremaining: 3.73s\n",
      "244:\tlearn: 2340241.8295045\ttotal: 1.21s\tremaining: 3.72s\n",
      "245:\tlearn: 2336758.6627415\ttotal: 1.21s\tremaining: 3.71s\n",
      "246:\tlearn: 2333042.7535384\ttotal: 1.21s\tremaining: 3.69s\n",
      "247:\tlearn: 2329386.4427970\ttotal: 1.21s\tremaining: 3.68s\n",
      "248:\tlearn: 2318143.6334473\ttotal: 1.22s\tremaining: 3.67s\n",
      "249:\tlearn: 2312743.2443261\ttotal: 1.22s\tremaining: 3.66s\n",
      "250:\tlearn: 2309097.7304358\ttotal: 1.22s\tremaining: 3.65s\n",
      "251:\tlearn: 2305721.6279409\ttotal: 1.23s\tremaining: 3.64s\n",
      "252:\tlearn: 2302506.6649341\ttotal: 1.23s\tremaining: 3.63s\n",
      "253:\tlearn: 2297848.8884922\ttotal: 1.23s\tremaining: 3.62s\n",
      "254:\tlearn: 2294414.0206099\ttotal: 1.24s\tremaining: 3.61s\n",
      "255:\tlearn: 2291034.7784687\ttotal: 1.24s\tremaining: 3.6s\n",
      "256:\tlearn: 2287913.7359365\ttotal: 1.24s\tremaining: 3.59s\n",
      "257:\tlearn: 2277163.9941072\ttotal: 1.25s\tremaining: 3.58s\n",
      "258:\tlearn: 2274084.5361472\ttotal: 1.25s\tremaining: 3.57s\n",
      "259:\tlearn: 2270949.5771889\ttotal: 1.25s\tremaining: 3.56s\n",
      "260:\tlearn: 2267866.1247362\ttotal: 1.25s\tremaining: 3.55s\n",
      "261:\tlearn: 2262763.9284984\ttotal: 1.26s\tremaining: 3.54s\n",
      "262:\tlearn: 2258493.9238542\ttotal: 1.26s\tremaining: 3.53s\n",
      "263:\tlearn: 2254326.3230967\ttotal: 1.26s\tremaining: 3.53s\n",
      "264:\tlearn: 2251285.8584107\ttotal: 1.27s\tremaining: 3.52s\n",
      "265:\tlearn: 2248381.2842004\ttotal: 1.27s\tremaining: 3.51s\n",
      "266:\tlearn: 2237580.4944500\ttotal: 1.27s\tremaining: 3.5s\n",
      "267:\tlearn: 2227041.2196148\ttotal: 1.28s\tremaining: 3.49s\n",
      "268:\tlearn: 2224080.2557428\ttotal: 1.28s\tremaining: 3.48s\n",
      "269:\tlearn: 2213747.0184314\ttotal: 1.28s\tremaining: 3.47s\n",
      "270:\tlearn: 2203622.0515017\ttotal: 1.28s\tremaining: 3.46s\n",
      "271:\tlearn: 2193700.6765970\ttotal: 1.29s\tremaining: 3.45s\n",
      "272:\tlearn: 2190847.5179358\ttotal: 1.29s\tremaining: 3.44s\n",
      "273:\tlearn: 2181117.5576311\ttotal: 1.3s\tremaining: 3.43s\n",
      "274:\tlearn: 2176132.7699021\ttotal: 1.3s\tremaining: 3.43s\n",
      "275:\tlearn: 2171302.9105454\ttotal: 1.3s\tremaining: 3.42s\n",
      "276:\tlearn: 2168144.5051688\ttotal: 1.31s\tremaining: 3.41s\n",
      "277:\tlearn: 2158883.3567186\ttotal: 1.31s\tremaining: 3.4s\n",
      "278:\tlearn: 2149712.1372498\ttotal: 1.31s\tremaining: 3.39s\n",
      "279:\tlearn: 2140796.3315840\ttotal: 1.31s\tremaining: 3.38s\n",
      "280:\tlearn: 2131797.0115682\ttotal: 1.32s\tremaining: 3.37s\n",
      "281:\tlearn: 2129006.6646107\ttotal: 1.32s\tremaining: 3.36s\n",
      "282:\tlearn: 2120221.1415799\ttotal: 1.32s\tremaining: 3.36s\n",
      "283:\tlearn: 2117469.7935340\ttotal: 1.33s\tremaining: 3.35s\n",
      "284:\tlearn: 2114420.1013852\ttotal: 1.33s\tremaining: 3.34s\n",
      "285:\tlearn: 2111755.9923286\ttotal: 1.33s\tremaining: 3.33s\n",
      "286:\tlearn: 2103231.8296645\ttotal: 1.34s\tremaining: 3.32s\n",
      "287:\tlearn: 2100271.6071930\ttotal: 1.34s\tremaining: 3.31s\n",
      "288:\tlearn: 2091944.6147846\ttotal: 1.34s\tremaining: 3.3s\n",
      "289:\tlearn: 2089347.4341840\ttotal: 1.35s\tremaining: 3.3s\n",
      "290:\tlearn: 2086793.2355763\ttotal: 1.35s\tremaining: 3.29s\n",
      "291:\tlearn: 2083959.5237998\ttotal: 1.35s\tremaining: 3.28s\n",
      "292:\tlearn: 2079589.3102452\ttotal: 1.35s\tremaining: 3.27s\n",
      "293:\tlearn: 2077120.1802399\ttotal: 1.36s\tremaining: 3.26s\n",
      "294:\tlearn: 2068971.3440770\ttotal: 1.36s\tremaining: 3.25s\n",
      "295:\tlearn: 2066232.1907412\ttotal: 1.36s\tremaining: 3.25s\n",
      "296:\tlearn: 2058254.8930457\ttotal: 1.37s\tremaining: 3.24s\n",
      "297:\tlearn: 2055559.2374250\ttotal: 1.37s\tremaining: 3.23s\n",
      "298:\tlearn: 2053189.2189990\ttotal: 1.37s\tremaining: 3.22s\n",
      "299:\tlearn: 2045371.6670786\ttotal: 1.38s\tremaining: 3.21s\n",
      "300:\tlearn: 2037418.2868021\ttotal: 1.38s\tremaining: 3.21s\n",
      "301:\tlearn: 2034793.7232667\ttotal: 1.38s\tremaining: 3.2s\n",
      "302:\tlearn: 2032482.9865009\ttotal: 1.39s\tremaining: 3.19s\n",
      "303:\tlearn: 2029941.4609726\ttotal: 1.39s\tremaining: 3.18s\n",
      "304:\tlearn: 2022385.1789171\ttotal: 1.39s\tremaining: 3.17s\n",
      "305:\tlearn: 2019898.6358241\ttotal: 1.4s\tremaining: 3.17s\n",
      "306:\tlearn: 2012328.0106450\ttotal: 1.4s\tremaining: 3.16s\n",
      "307:\tlearn: 2009898.0016276\ttotal: 1.4s\tremaining: 3.15s\n",
      "308:\tlearn: 2007742.0038160\ttotal: 1.4s\tremaining: 3.14s\n",
      "309:\tlearn: 1998888.5531674\ttotal: 1.41s\tremaining: 3.13s\n",
      "310:\tlearn: 1996767.4771456\ttotal: 1.41s\tremaining: 3.12s\n",
      "311:\tlearn: 1989866.5160955\ttotal: 1.41s\tremaining: 3.12s\n",
      "312:\tlearn: 1985265.2793116\ttotal: 1.42s\tremaining: 3.11s\n",
      "313:\tlearn: 1983171.8968877\ttotal: 1.42s\tremaining: 3.1s\n",
      "314:\tlearn: 1981053.9132874\ttotal: 1.42s\tremaining: 3.09s\n",
      "315:\tlearn: 1974465.7223157\ttotal: 1.42s\tremaining: 3.08s\n",
      "316:\tlearn: 1968591.5352753\ttotal: 1.43s\tremaining: 3.07s\n",
      "317:\tlearn: 1960257.3613494\ttotal: 1.43s\tremaining: 3.06s\n",
      "318:\tlearn: 1958164.9804359\ttotal: 1.43s\tremaining: 3.06s\n",
      "319:\tlearn: 1956108.3705262\ttotal: 1.44s\tremaining: 3.05s\n",
      "320:\tlearn: 1948204.0646739\ttotal: 1.44s\tremaining: 3.04s\n",
      "321:\tlearn: 1946181.4612294\ttotal: 1.44s\tremaining: 3.03s\n",
      "322:\tlearn: 1938493.9497653\ttotal: 1.44s\tremaining: 3.03s\n",
      "323:\tlearn: 1936504.5178831\ttotal: 1.45s\tremaining: 3.02s\n",
      "324:\tlearn: 1934549.1168808\ttotal: 1.45s\tremaining: 3.01s\n",
      "325:\tlearn: 1928276.3249393\ttotal: 1.45s\tremaining: 3s\n",
      "326:\tlearn: 1922109.6078008\ttotal: 1.46s\tremaining: 3s\n",
      "327:\tlearn: 1920178.0038357\ttotal: 1.46s\tremaining: 2.99s\n",
      "328:\tlearn: 1918279.4793259\ttotal: 1.46s\tremaining: 2.98s\n",
      "329:\tlearn: 1912271.0162516\ttotal: 1.46s\tremaining: 2.97s\n",
      "330:\tlearn: 1910400.8500367\ttotal: 1.47s\tremaining: 2.96s\n",
      "331:\tlearn: 1908562.7356472\ttotal: 1.47s\tremaining: 2.96s\n",
      "332:\tlearn: 1904599.4916546\ttotal: 1.47s\tremaining: 2.95s\n",
      "333:\tlearn: 1902788.1655601\ttotal: 1.48s\tremaining: 2.94s\n",
      "334:\tlearn: 1896856.8756724\ttotal: 1.48s\tremaining: 2.94s\n",
      "335:\tlearn: 1895072.5899762\ttotal: 1.48s\tremaining: 2.93s\n",
      "336:\tlearn: 1893318.9197690\ttotal: 1.48s\tremaining: 2.92s\n",
      "337:\tlearn: 1889528.8519541\ttotal: 1.49s\tremaining: 2.91s\n",
      "338:\tlearn: 1883505.1509859\ttotal: 1.49s\tremaining: 2.91s\n",
      "339:\tlearn: 1881778.5831712\ttotal: 1.49s\tremaining: 2.9s\n",
      "340:\tlearn: 1875844.6077341\ttotal: 1.5s\tremaining: 2.89s\n",
      "341:\tlearn: 1873634.8510709\ttotal: 1.5s\tremaining: 2.88s\n",
      "342:\tlearn: 1867930.4368722\ttotal: 1.5s\tremaining: 2.88s\n",
      "343:\tlearn: 1863336.3517278\ttotal: 1.5s\tremaining: 2.87s\n",
      "344:\tlearn: 1861656.0279930\ttotal: 1.51s\tremaining: 2.86s\n",
      "345:\tlearn: 1859504.7952530\ttotal: 1.51s\tremaining: 2.86s\n",
      "346:\tlearn: 1852628.9923084\ttotal: 1.51s\tremaining: 2.85s\n",
      "347:\tlearn: 1848921.0361526\ttotal: 1.52s\tremaining: 2.84s\n",
      "348:\tlearn: 1847291.9298876\ttotal: 1.52s\tremaining: 2.83s\n",
      "349:\tlearn: 1841347.7677991\ttotal: 1.52s\tremaining: 2.83s\n",
      "350:\tlearn: 1839742.5195532\ttotal: 1.52s\tremaining: 2.82s\n",
      "351:\tlearn: 1833825.8551567\ttotal: 1.53s\tremaining: 2.81s\n",
      "352:\tlearn: 1831758.2267047\ttotal: 1.53s\tremaining: 2.81s\n",
      "353:\tlearn: 1826340.3308262\ttotal: 1.53s\tremaining: 2.8s\n"
     ]
    },
    {
     "name": "stdout",
     "output_type": "stream",
     "text": [
      "354:\tlearn: 1824781.0736273\ttotal: 1.54s\tremaining: 2.79s\n",
      "355:\tlearn: 1821776.2138653\ttotal: 1.54s\tremaining: 2.79s\n",
      "356:\tlearn: 1819771.6061541\ttotal: 1.54s\tremaining: 2.78s\n",
      "357:\tlearn: 1814431.7094866\ttotal: 1.55s\tremaining: 2.77s\n",
      "358:\tlearn: 1809435.7492744\ttotal: 1.55s\tremaining: 2.77s\n",
      "359:\tlearn: 1805308.4444280\ttotal: 1.55s\tremaining: 2.76s\n",
      "360:\tlearn: 1803787.4269241\ttotal: 1.56s\tremaining: 2.75s\n",
      "361:\tlearn: 1798853.5042967\ttotal: 1.56s\tremaining: 2.75s\n",
      "362:\tlearn: 1796907.0582197\ttotal: 1.56s\tremaining: 2.74s\n",
      "363:\tlearn: 1791787.1971986\ttotal: 1.56s\tremaining: 2.73s\n",
      "364:\tlearn: 1788764.3754819\ttotal: 1.57s\tremaining: 2.73s\n",
      "365:\tlearn: 1786854.7741871\ttotal: 1.57s\tremaining: 2.72s\n",
      "366:\tlearn: 1781462.6887888\ttotal: 1.57s\tremaining: 2.72s\n",
      "367:\tlearn: 1776164.3429292\ttotal: 1.58s\tremaining: 2.71s\n",
      "368:\tlearn: 1774702.4711918\ttotal: 1.58s\tremaining: 2.7s\n",
      "369:\tlearn: 1773265.8119993\ttotal: 1.58s\tremaining: 2.7s\n",
      "370:\tlearn: 1768052.2068799\ttotal: 1.59s\tremaining: 2.69s\n",
      "371:\tlearn: 1766636.7037280\ttotal: 1.59s\tremaining: 2.69s\n",
      "372:\tlearn: 1764830.9156893\ttotal: 1.59s\tremaining: 2.68s\n",
      "373:\tlearn: 1759701.4412307\ttotal: 1.6s\tremaining: 2.67s\n",
      "374:\tlearn: 1754661.0428259\ttotal: 1.6s\tremaining: 2.67s\n",
      "375:\tlearn: 1753285.5997628\ttotal: 1.6s\tremaining: 2.66s\n",
      "376:\tlearn: 1748421.4613925\ttotal: 1.6s\tremaining: 2.65s\n",
      "377:\tlearn: 1745190.3476706\ttotal: 1.61s\tremaining: 2.65s\n",
      "378:\tlearn: 1743433.2658795\ttotal: 1.61s\tremaining: 2.64s\n",
      "379:\tlearn: 1738536.5903051\ttotal: 1.61s\tremaining: 2.63s\n",
      "380:\tlearn: 1735601.9278630\ttotal: 1.62s\tremaining: 2.63s\n",
      "381:\tlearn: 1734258.7923426\ttotal: 1.62s\tremaining: 2.62s\n",
      "382:\tlearn: 1729931.0928736\ttotal: 1.62s\tremaining: 2.61s\n",
      "383:\tlearn: 1728224.5540317\ttotal: 1.63s\tremaining: 2.61s\n",
      "384:\tlearn: 1725588.6452702\ttotal: 1.63s\tremaining: 2.6s\n",
      "385:\tlearn: 1720818.6762216\ttotal: 1.63s\tremaining: 2.59s\n",
      "386:\tlearn: 1719141.4531135\ttotal: 1.63s\tremaining: 2.59s\n",
      "387:\tlearn: 1716304.8149045\ttotal: 1.64s\tremaining: 2.58s\n",
      "388:\tlearn: 1711607.3165005\ttotal: 1.64s\tremaining: 2.58s\n",
      "389:\tlearn: 1710316.2036125\ttotal: 1.64s\tremaining: 2.57s\n",
      "390:\tlearn: 1709047.4287761\ttotal: 1.65s\tremaining: 2.56s\n",
      "391:\tlearn: 1704916.0673014\ttotal: 1.65s\tremaining: 2.56s\n",
      "392:\tlearn: 1703666.8059016\ttotal: 1.65s\tremaining: 2.55s\n",
      "393:\tlearn: 1702078.4028115\ttotal: 1.66s\tremaining: 2.55s\n",
      "394:\tlearn: 1697512.5780152\ttotal: 1.66s\tremaining: 2.54s\n",
      "395:\tlearn: 1693026.1955755\ttotal: 1.66s\tremaining: 2.53s\n",
      "396:\tlearn: 1691812.5743896\ttotal: 1.66s\tremaining: 2.53s\n",
      "397:\tlearn: 1686354.0235363\ttotal: 1.67s\tremaining: 2.52s\n",
      "398:\tlearn: 1684814.3542281\ttotal: 1.67s\tremaining: 2.52s\n",
      "399:\tlearn: 1680890.6841182\ttotal: 1.67s\tremaining: 2.51s\n",
      "400:\tlearn: 1677051.7568084\ttotal: 1.68s\tremaining: 2.5s\n",
      "401:\tlearn: 1675879.4125497\ttotal: 1.68s\tremaining: 2.5s\n",
      "402:\tlearn: 1671921.2943136\ttotal: 1.68s\tremaining: 2.49s\n",
      "403:\tlearn: 1670755.6321419\ttotal: 1.68s\tremaining: 2.48s\n",
      "404:\tlearn: 1669276.2972191\ttotal: 1.69s\tremaining: 2.48s\n",
      "405:\tlearn: 1665027.5184602\ttotal: 1.69s\tremaining: 2.47s\n",
      "406:\tlearn: 1660852.9230261\ttotal: 1.69s\tremaining: 2.47s\n",
      "407:\tlearn: 1659729.3758121\ttotal: 1.7s\tremaining: 2.46s\n",
      "408:\tlearn: 1654606.6388888\ttotal: 1.7s\tremaining: 2.46s\n",
      "409:\tlearn: 1651272.7429930\ttotal: 1.7s\tremaining: 2.45s\n",
      "410:\tlearn: 1645370.1682031\ttotal: 1.71s\tremaining: 2.44s\n",
      "411:\tlearn: 1642103.1843380\ttotal: 1.71s\tremaining: 2.44s\n",
      "412:\tlearn: 1639558.7699861\ttotal: 1.71s\tremaining: 2.43s\n",
      "413:\tlearn: 1638463.0350212\ttotal: 1.71s\tremaining: 2.43s\n",
      "414:\tlearn: 1637386.2604461\ttotal: 1.72s\tremaining: 2.42s\n",
      "415:\tlearn: 1633747.9470984\ttotal: 1.72s\tremaining: 2.41s\n",
      "416:\tlearn: 1632687.8917410\ttotal: 1.72s\tremaining: 2.41s\n",
      "417:\tlearn: 1629128.6595614\ttotal: 1.73s\tremaining: 2.4s\n",
      "418:\tlearn: 1626016.0627283\ttotal: 1.73s\tremaining: 2.4s\n",
      "419:\tlearn: 1624987.1507552\ttotal: 1.73s\tremaining: 2.39s\n",
      "420:\tlearn: 1621140.2681946\ttotal: 1.74s\tremaining: 2.39s\n",
      "421:\tlearn: 1620132.4527886\ttotal: 1.74s\tremaining: 2.38s\n",
      "422:\tlearn: 1616248.3995962\ttotal: 1.74s\tremaining: 2.38s\n",
      "423:\tlearn: 1614953.0220470\ttotal: 1.74s\tremaining: 2.37s\n",
      "424:\tlearn: 1610547.0192541\ttotal: 1.75s\tremaining: 2.36s\n",
      "425:\tlearn: 1609560.7890450\ttotal: 1.75s\tremaining: 2.36s\n",
      "426:\tlearn: 1605801.0006912\ttotal: 1.75s\tremaining: 2.35s\n",
      "427:\tlearn: 1604836.2384025\ttotal: 1.76s\tremaining: 2.35s\n",
      "428:\tlearn: 1601338.0092635\ttotal: 1.76s\tremaining: 2.34s\n",
      "429:\tlearn: 1598418.1108725\ttotal: 1.78s\tremaining: 2.36s\n",
      "430:\tlearn: 1594464.3078815\ttotal: 1.78s\tremaining: 2.35s\n",
      "431:\tlearn: 1590578.8270332\ttotal: 1.79s\tremaining: 2.35s\n",
      "432:\tlearn: 1587760.7893355\ttotal: 1.79s\tremaining: 2.34s\n",
      "433:\tlearn: 1586830.4561460\ttotal: 1.79s\tremaining: 2.34s\n",
      "434:\tlearn: 1585907.8639101\ttotal: 1.8s\tremaining: 2.33s\n",
      "435:\tlearn: 1581567.2304362\ttotal: 1.8s\tremaining: 2.33s\n",
      "436:\tlearn: 1578284.6864878\ttotal: 1.8s\tremaining: 2.32s\n",
      "437:\tlearn: 1574506.1343833\ttotal: 1.8s\tremaining: 2.32s\n",
      "438:\tlearn: 1573599.7442033\ttotal: 1.81s\tremaining: 2.31s\n",
      "439:\tlearn: 1569883.9106277\ttotal: 1.81s\tremaining: 2.31s\n",
      "440:\tlearn: 1567236.2412253\ttotal: 1.81s\tremaining: 2.3s\n",
      "441:\tlearn: 1566355.0599099\ttotal: 1.82s\tremaining: 2.29s\n",
      "442:\tlearn: 1562136.5613613\ttotal: 1.82s\tremaining: 2.29s\n",
      "443:\tlearn: 1559548.3562696\ttotal: 1.82s\tremaining: 2.28s\n",
      "444:\tlearn: 1555924.2047356\ttotal: 1.83s\tremaining: 2.28s\n",
      "445:\tlearn: 1552896.2057699\ttotal: 1.83s\tremaining: 2.27s\n",
      "446:\tlearn: 1549365.8791532\ttotal: 1.83s\tremaining: 2.27s\n",
      "447:\tlearn: 1546908.0402804\ttotal: 1.84s\tremaining: 2.26s\n",
      "448:\tlearn: 1543689.7210876\ttotal: 1.84s\tremaining: 2.26s\n",
      "449:\tlearn: 1539878.8646193\ttotal: 1.84s\tremaining: 2.25s\n",
      "450:\tlearn: 1537004.7677965\ttotal: 1.85s\tremaining: 2.25s\n",
      "451:\tlearn: 1534648.3447226\ttotal: 1.85s\tremaining: 2.24s\n",
      "452:\tlearn: 1531292.1634240\ttotal: 1.85s\tremaining: 2.24s\n",
      "453:\tlearn: 1529001.1375110\ttotal: 1.86s\tremaining: 2.23s\n",
      "454:\tlearn: 1525719.6865842\ttotal: 1.86s\tremaining: 2.23s\n",
      "455:\tlearn: 1524878.9373751\ttotal: 1.86s\tremaining: 2.22s\n",
      "456:\tlearn: 1521653.1603320\ttotal: 1.87s\tremaining: 2.22s\n",
      "457:\tlearn: 1520825.2565939\ttotal: 1.87s\tremaining: 2.21s\n",
      "458:\tlearn: 1519973.8986155\ttotal: 1.87s\tremaining: 2.21s\n",
      "459:\tlearn: 1516449.6686018\ttotal: 1.88s\tremaining: 2.2s\n",
      "460:\tlearn: 1515705.0152402\ttotal: 1.88s\tremaining: 2.2s\n",
      "461:\tlearn: 1513331.7906730\ttotal: 1.88s\tremaining: 2.19s\n",
      "462:\tlearn: 1509893.9422077\ttotal: 1.89s\tremaining: 2.19s\n",
      "463:\tlearn: 1506136.0594357\ttotal: 1.89s\tremaining: 2.18s\n",
      "464:\tlearn: 1505406.9676290\ttotal: 1.89s\tremaining: 2.18s\n",
      "465:\tlearn: 1502274.1458749\ttotal: 1.89s\tremaining: 2.17s\n",
      "466:\tlearn: 1497767.7560408\ttotal: 1.9s\tremaining: 2.17s\n",
      "467:\tlearn: 1497049.2519917\ttotal: 1.9s\tremaining: 2.16s\n",
      "468:\tlearn: 1496256.9765173\ttotal: 1.9s\tremaining: 2.15s\n",
      "469:\tlearn: 1495480.7180874\ttotal: 1.91s\tremaining: 2.15s\n",
      "470:\tlearn: 1491995.7635064\ttotal: 1.91s\tremaining: 2.14s\n",
      "471:\tlearn: 1488930.2605118\ttotal: 1.91s\tremaining: 2.14s\n",
      "472:\tlearn: 1488220.2587984\ttotal: 1.91s\tremaining: 2.13s\n",
      "473:\tlearn: 1485243.3389642\ttotal: 1.92s\tremaining: 2.13s\n",
      "474:\tlearn: 1482190.7674359\ttotal: 1.92s\tremaining: 2.12s\n",
      "475:\tlearn: 1478318.5344996\ttotal: 1.92s\tremaining: 2.11s\n",
      "476:\tlearn: 1477685.4413479\ttotal: 1.92s\tremaining: 2.11s\n",
      "477:\tlearn: 1474777.1865232\ttotal: 1.93s\tremaining: 2.1s\n",
      "478:\tlearn: 1471889.8761433\ttotal: 1.93s\tremaining: 2.1s\n",
      "479:\tlearn: 1468131.7454401\ttotal: 1.93s\tremaining: 2.09s\n",
      "480:\tlearn: 1467469.0287015\ttotal: 1.93s\tremaining: 2.08s\n",
      "481:\tlearn: 1464684.0422127\ttotal: 1.94s\tremaining: 2.08s\n",
      "482:\tlearn: 1461044.6518487\ttotal: 1.94s\tremaining: 2.07s\n",
      "483:\tlearn: 1457438.0062974\ttotal: 1.94s\tremaining: 2.07s\n",
      "484:\tlearn: 1454718.1087426\ttotal: 1.94s\tremaining: 2.06s\n",
      "485:\tlearn: 1452305.1327059\ttotal: 1.95s\tremaining: 2.06s\n",
      "486:\tlearn: 1449613.7320567\ttotal: 1.95s\tremaining: 2.05s\n",
      "487:\tlearn: 1447261.5381227\ttotal: 1.95s\tremaining: 2.05s\n",
      "488:\tlearn: 1444653.3829950\ttotal: 1.95s\tremaining: 2.04s\n",
      "489:\tlearn: 1442360.1820509\ttotal: 1.96s\tremaining: 2.04s\n",
      "490:\tlearn: 1438958.1445794\ttotal: 1.96s\tremaining: 2.03s\n",
      "491:\tlearn: 1436733.0924325\ttotal: 1.96s\tremaining: 2.02s\n",
      "492:\tlearn: 1436062.2863086\ttotal: 1.96s\tremaining: 2.02s\n",
      "493:\tlearn: 1433579.9814628\ttotal: 1.96s\tremaining: 2.01s\n",
      "494:\tlearn: 1431408.6265813\ttotal: 1.97s\tremaining: 2.01s\n",
      "495:\tlearn: 1427199.7632947\ttotal: 1.97s\tremaining: 2s\n",
      "496:\tlearn: 1424213.2050170\ttotal: 1.97s\tremaining: 2s\n",
      "497:\tlearn: 1420954.4965311\ttotal: 1.98s\tremaining: 1.99s\n",
      "498:\tlearn: 1418834.5771943\ttotal: 1.98s\tremaining: 1.99s\n",
      "499:\tlearn: 1416327.1335066\ttotal: 1.98s\tremaining: 1.98s\n",
      "500:\tlearn: 1413138.7739931\ttotal: 1.98s\tremaining: 1.98s\n",
      "501:\tlearn: 1412488.8371173\ttotal: 1.99s\tremaining: 1.97s\n",
      "502:\tlearn: 1407730.1233062\ttotal: 1.99s\tremaining: 1.96s\n",
      "503:\tlearn: 1405355.5847209\ttotal: 1.99s\tremaining: 1.96s\n",
      "504:\tlearn: 1403152.3035771\ttotal: 1.99s\tremaining: 1.95s\n",
      "505:\tlearn: 1400405.7831946\ttotal: 1.99s\tremaining: 1.95s\n",
      "506:\tlearn: 1399788.3771772\ttotal: 2s\tremaining: 1.94s\n",
      "507:\tlearn: 1397190.1839538\ttotal: 2s\tremaining: 1.94s\n",
      "508:\tlearn: 1396587.0705862\ttotal: 2s\tremaining: 1.93s\n",
      "509:\tlearn: 1395995.9954038\ttotal: 2s\tremaining: 1.93s\n",
      "510:\tlearn: 1393177.7975401\ttotal: 2.01s\tremaining: 1.92s\n",
      "511:\tlearn: 1391106.0363153\ttotal: 2.01s\tremaining: 1.92s\n",
      "512:\tlearn: 1389177.9390809\ttotal: 2.01s\tremaining: 1.91s\n",
      "513:\tlearn: 1386681.5239157\ttotal: 2.02s\tremaining: 1.91s\n",
      "514:\tlearn: 1384682.6874573\ttotal: 2.02s\tremaining: 1.9s\n",
      "515:\tlearn: 1384103.1494956\ttotal: 2.02s\tremaining: 1.9s\n",
      "516:\tlearn: 1381735.4525333\ttotal: 2.03s\tremaining: 1.89s\n",
      "517:\tlearn: 1379292.4064065\ttotal: 2.03s\tremaining: 1.89s\n",
      "518:\tlearn: 1377801.0573853\ttotal: 2.03s\tremaining: 1.88s\n",
      "519:\tlearn: 1377261.4778102\ttotal: 2.04s\tremaining: 1.88s\n",
      "520:\tlearn: 1375401.1268393\ttotal: 2.04s\tremaining: 1.87s\n",
      "521:\tlearn: 1373004.1370885\ttotal: 2.04s\tremaining: 1.87s\n",
      "522:\tlearn: 1369887.9793989\ttotal: 2.04s\tremaining: 1.86s\n",
      "523:\tlearn: 1369329.0391142\ttotal: 2.05s\tremaining: 1.86s\n",
      "524:\tlearn: 1367889.9531633\ttotal: 2.05s\tremaining: 1.85s\n",
      "525:\tlearn: 1365269.8693712\ttotal: 2.05s\tremaining: 1.85s\n",
      "526:\tlearn: 1362573.3358980\ttotal: 2.06s\tremaining: 1.84s\n",
      "527:\tlearn: 1361160.1410530\ttotal: 2.06s\tremaining: 1.84s\n",
      "528:\tlearn: 1358130.5535189\ttotal: 2.06s\tremaining: 1.83s\n",
      "529:\tlearn: 1355202.6264408\ttotal: 2.06s\tremaining: 1.83s\n",
      "530:\tlearn: 1353391.0242392\ttotal: 2.07s\tremaining: 1.82s\n",
      "531:\tlearn: 1350583.1844383\ttotal: 2.07s\tremaining: 1.82s\n",
      "532:\tlearn: 1348947.5804589\ttotal: 2.07s\tremaining: 1.82s\n",
      "533:\tlearn: 1344806.6495856\ttotal: 2.08s\tremaining: 1.81s\n",
      "534:\tlearn: 1343076.0243393\ttotal: 2.08s\tremaining: 1.81s\n",
      "535:\tlearn: 1340373.8384426\ttotal: 2.08s\tremaining: 1.8s\n",
      "536:\tlearn: 1337975.1176094\ttotal: 2.08s\tremaining: 1.8s\n",
      "537:\tlearn: 1337428.6348661\ttotal: 2.09s\tremaining: 1.79s\n",
      "538:\tlearn: 1336892.9616665\ttotal: 2.09s\tremaining: 1.79s\n",
      "539:\tlearn: 1332741.7561772\ttotal: 2.09s\tremaining: 1.78s\n",
      "540:\tlearn: 1329285.2106580\ttotal: 2.1s\tremaining: 1.78s\n",
      "541:\tlearn: 1328030.1438726\ttotal: 2.1s\tremaining: 1.77s\n",
      "542:\tlearn: 1326650.6338689\ttotal: 2.1s\tremaining: 1.77s\n",
      "543:\tlearn: 1324346.9879815\ttotal: 2.1s\tremaining: 1.76s\n",
      "544:\tlearn: 1323128.5579764\ttotal: 2.11s\tremaining: 1.76s\n"
     ]
    },
    {
     "name": "stdout",
     "output_type": "stream",
     "text": [
      "545:\tlearn: 1321785.3340344\ttotal: 2.11s\tremaining: 1.75s\n",
      "546:\tlearn: 1319435.8822715\ttotal: 2.11s\tremaining: 1.75s\n",
      "547:\tlearn: 1318115.3748302\ttotal: 2.12s\tremaining: 1.75s\n",
      "548:\tlearn: 1316819.7215088\ttotal: 2.12s\tremaining: 1.74s\n",
      "549:\tlearn: 1315664.2456210\ttotal: 2.12s\tremaining: 1.74s\n",
      "550:\tlearn: 1314530.8002361\ttotal: 2.12s\tremaining: 1.73s\n",
      "551:\tlearn: 1311092.9462038\ttotal: 2.13s\tremaining: 1.73s\n",
      "552:\tlearn: 1308429.0346952\ttotal: 2.13s\tremaining: 1.72s\n",
      "553:\tlearn: 1305583.8024441\ttotal: 2.13s\tremaining: 1.72s\n",
      "554:\tlearn: 1302864.6043137\ttotal: 2.14s\tremaining: 1.71s\n",
      "555:\tlearn: 1302367.4642045\ttotal: 2.14s\tremaining: 1.71s\n",
      "556:\tlearn: 1301262.6132797\ttotal: 2.14s\tremaining: 1.7s\n",
      "557:\tlearn: 1300178.8111709\ttotal: 2.15s\tremaining: 1.7s\n",
      "558:\tlearn: 1297900.6142814\ttotal: 2.15s\tremaining: 1.7s\n",
      "559:\tlearn: 1296834.9654982\ttotal: 2.15s\tremaining: 1.69s\n",
      "560:\tlearn: 1293615.8365999\ttotal: 2.15s\tremaining: 1.69s\n",
      "561:\tlearn: 1293191.1494534\ttotal: 2.16s\tremaining: 1.68s\n",
      "562:\tlearn: 1290442.5937516\ttotal: 2.16s\tremaining: 1.68s\n",
      "563:\tlearn: 1287895.7139214\ttotal: 2.16s\tremaining: 1.67s\n",
      "564:\tlearn: 1285740.9683050\ttotal: 2.17s\tremaining: 1.67s\n",
      "565:\tlearn: 1283487.5450858\ttotal: 2.17s\tremaining: 1.66s\n",
      "566:\tlearn: 1280782.9932880\ttotal: 2.17s\tremaining: 1.66s\n",
      "567:\tlearn: 1277432.9544955\ttotal: 2.18s\tremaining: 1.66s\n",
      "568:\tlearn: 1274362.7220212\ttotal: 2.18s\tremaining: 1.65s\n",
      "569:\tlearn: 1270980.6799333\ttotal: 2.18s\tremaining: 1.65s\n",
      "570:\tlearn: 1267651.5637042\ttotal: 2.19s\tremaining: 1.64s\n",
      "571:\tlearn: 1265791.9628967\ttotal: 2.19s\tremaining: 1.64s\n",
      "572:\tlearn: 1265309.9952560\ttotal: 2.19s\tremaining: 1.63s\n",
      "573:\tlearn: 1264837.4235868\ttotal: 2.19s\tremaining: 1.63s\n",
      "574:\tlearn: 1262401.2822308\ttotal: 2.2s\tremaining: 1.62s\n",
      "575:\tlearn: 1261332.7757474\ttotal: 2.2s\tremaining: 1.62s\n",
      "576:\tlearn: 1259829.2131074\ttotal: 2.2s\tremaining: 1.61s\n",
      "577:\tlearn: 1258779.1395493\ttotal: 2.21s\tremaining: 1.61s\n",
      "578:\tlearn: 1256684.0640943\ttotal: 2.21s\tremaining: 1.61s\n",
      "579:\tlearn: 1255652.1855415\ttotal: 2.21s\tremaining: 1.6s\n",
      "580:\tlearn: 1252775.7810201\ttotal: 2.21s\tremaining: 1.6s\n",
      "581:\tlearn: 1252364.6770767\ttotal: 2.22s\tremaining: 1.59s\n",
      "582:\tlearn: 1249186.6151897\ttotal: 2.22s\tremaining: 1.59s\n",
      "583:\tlearn: 1247119.0359990\ttotal: 2.22s\tremaining: 1.58s\n",
      "584:\tlearn: 1246010.1687039\ttotal: 2.23s\tremaining: 1.58s\n",
      "585:\tlearn: 1243152.1497047\ttotal: 2.23s\tremaining: 1.57s\n",
      "586:\tlearn: 1239717.1143122\ttotal: 2.23s\tremaining: 1.57s\n",
      "587:\tlearn: 1237456.6627212\ttotal: 2.23s\tremaining: 1.56s\n",
      "588:\tlearn: 1237002.3283088\ttotal: 2.24s\tremaining: 1.56s\n",
      "589:\tlearn: 1234082.0621093\ttotal: 2.24s\tremaining: 1.56s\n",
      "590:\tlearn: 1230760.6421777\ttotal: 2.24s\tremaining: 1.55s\n",
      "591:\tlearn: 1226270.7249727\ttotal: 2.25s\tremaining: 1.55s\n",
      "592:\tlearn: 1224713.2136526\ttotal: 2.25s\tremaining: 1.54s\n",
      "593:\tlearn: 1221484.4597354\ttotal: 2.25s\tremaining: 1.54s\n",
      "594:\tlearn: 1218307.1284559\ttotal: 2.26s\tremaining: 1.53s\n",
      "595:\tlearn: 1217147.2070566\ttotal: 2.26s\tremaining: 1.53s\n",
      "596:\tlearn: 1214017.7000484\ttotal: 2.26s\tremaining: 1.53s\n",
      "597:\tlearn: 1210953.7086908\ttotal: 2.27s\tremaining: 1.52s\n",
      "598:\tlearn: 1209969.3276374\ttotal: 2.27s\tremaining: 1.52s\n",
      "599:\tlearn: 1206935.7142825\ttotal: 2.27s\tremaining: 1.51s\n",
      "600:\tlearn: 1204063.6686222\ttotal: 2.27s\tremaining: 1.51s\n",
      "601:\tlearn: 1203672.4380581\ttotal: 2.28s\tremaining: 1.5s\n",
      "602:\tlearn: 1200658.9658330\ttotal: 2.28s\tremaining: 1.5s\n",
      "603:\tlearn: 1199138.0918321\ttotal: 2.28s\tremaining: 1.5s\n",
      "604:\tlearn: 1198751.8630951\ttotal: 2.29s\tremaining: 1.49s\n",
      "605:\tlearn: 1197257.1479367\ttotal: 2.29s\tremaining: 1.49s\n",
      "606:\tlearn: 1196047.3842365\ttotal: 2.29s\tremaining: 1.48s\n",
      "607:\tlearn: 1195669.0828082\ttotal: 2.3s\tremaining: 1.48s\n",
      "608:\tlearn: 1192714.2663343\ttotal: 2.3s\tremaining: 1.48s\n",
      "609:\tlearn: 1192342.0324807\ttotal: 2.3s\tremaining: 1.47s\n",
      "610:\tlearn: 1190877.1360622\ttotal: 2.31s\tremaining: 1.47s\n",
      "611:\tlearn: 1187965.9911114\ttotal: 2.31s\tremaining: 1.46s\n",
      "612:\tlearn: 1186524.0314015\ttotal: 2.31s\tremaining: 1.46s\n",
      "613:\tlearn: 1183570.5745108\ttotal: 2.31s\tremaining: 1.46s\n",
      "614:\tlearn: 1180736.0359363\ttotal: 2.32s\tremaining: 1.45s\n",
      "615:\tlearn: 1179819.1084805\ttotal: 2.32s\tremaining: 1.45s\n",
      "616:\tlearn: 1177036.9274041\ttotal: 2.32s\tremaining: 1.44s\n",
      "617:\tlearn: 1174279.8553221\ttotal: 2.33s\tremaining: 1.44s\n",
      "618:\tlearn: 1173853.9178494\ttotal: 2.33s\tremaining: 1.44s\n",
      "619:\tlearn: 1171158.1297077\ttotal: 2.33s\tremaining: 1.43s\n",
      "620:\tlearn: 1169733.6305814\ttotal: 2.34s\tremaining: 1.43s\n",
      "621:\tlearn: 1168334.7499316\ttotal: 2.34s\tremaining: 1.42s\n",
      "622:\tlearn: 1167190.7361563\ttotal: 2.35s\tremaining: 1.42s\n",
      "623:\tlearn: 1164530.1475838\ttotal: 2.35s\tremaining: 1.42s\n",
      "624:\tlearn: 1163412.1679479\ttotal: 2.35s\tremaining: 1.41s\n",
      "625:\tlearn: 1160790.7543234\ttotal: 2.35s\tremaining: 1.41s\n",
      "626:\tlearn: 1158178.8044748\ttotal: 2.36s\tremaining: 1.4s\n",
      "627:\tlearn: 1155555.6780547\ttotal: 2.36s\tremaining: 1.4s\n",
      "628:\tlearn: 1154185.4625839\ttotal: 2.37s\tremaining: 1.4s\n",
      "629:\tlearn: 1152159.8838897\ttotal: 2.37s\tremaining: 1.39s\n",
      "630:\tlearn: 1149797.9189955\ttotal: 2.37s\tremaining: 1.39s\n",
      "631:\tlearn: 1148562.3131501\ttotal: 2.37s\tremaining: 1.38s\n",
      "632:\tlearn: 1146003.4074738\ttotal: 2.38s\tremaining: 1.38s\n",
      "633:\tlearn: 1145141.4867221\ttotal: 2.38s\tremaining: 1.37s\n",
      "634:\tlearn: 1142693.6676362\ttotal: 2.38s\tremaining: 1.37s\n",
      "635:\tlearn: 1141608.2585539\ttotal: 2.39s\tremaining: 1.36s\n",
      "636:\tlearn: 1139205.7429858\ttotal: 2.39s\tremaining: 1.36s\n",
      "637:\tlearn: 1137979.2031171\ttotal: 2.39s\tremaining: 1.36s\n",
      "638:\tlearn: 1136874.7735206\ttotal: 2.4s\tremaining: 1.35s\n",
      "639:\tlearn: 1135554.2031720\ttotal: 2.4s\tremaining: 1.35s\n",
      "640:\tlearn: 1134338.5091490\ttotal: 2.4s\tremaining: 1.34s\n",
      "641:\tlearn: 1133528.8214967\ttotal: 2.4s\tremaining: 1.34s\n",
      "642:\tlearn: 1132573.2061879\ttotal: 2.41s\tremaining: 1.34s\n",
      "643:\tlearn: 1130193.3897464\ttotal: 2.41s\tremaining: 1.33s\n",
      "644:\tlearn: 1127778.0579035\ttotal: 2.41s\tremaining: 1.33s\n",
      "645:\tlearn: 1125427.4150941\ttotal: 2.42s\tremaining: 1.32s\n",
      "646:\tlearn: 1124148.2547763\ttotal: 2.42s\tremaining: 1.32s\n",
      "647:\tlearn: 1121790.0402502\ttotal: 2.42s\tremaining: 1.31s\n",
      "648:\tlearn: 1120595.8608232\ttotal: 2.42s\tremaining: 1.31s\n",
      "649:\tlearn: 1120190.5382111\ttotal: 2.43s\tremaining: 1.31s\n",
      "650:\tlearn: 1119255.1343054\ttotal: 2.43s\tremaining: 1.3s\n",
      "651:\tlearn: 1118337.7812434\ttotal: 2.43s\tremaining: 1.3s\n",
      "652:\tlearn: 1117101.4854748\ttotal: 2.44s\tremaining: 1.29s\n",
      "653:\tlearn: 1115893.8373115\ttotal: 2.44s\tremaining: 1.29s\n",
      "654:\tlearn: 1114737.5585023\ttotal: 2.44s\tremaining: 1.29s\n",
      "655:\tlearn: 1113041.0127890\ttotal: 2.44s\tremaining: 1.28s\n",
      "656:\tlearn: 1112170.2538968\ttotal: 2.45s\tremaining: 1.28s\n",
      "657:\tlearn: 1111064.1276312\ttotal: 2.45s\tremaining: 1.27s\n",
      "658:\tlearn: 1108722.0003959\ttotal: 2.45s\tremaining: 1.27s\n",
      "659:\tlearn: 1106429.8914435\ttotal: 2.46s\tremaining: 1.26s\n",
      "660:\tlearn: 1105351.3058415\ttotal: 2.46s\tremaining: 1.26s\n",
      "661:\tlearn: 1103116.8595633\ttotal: 2.46s\tremaining: 1.26s\n",
      "662:\tlearn: 1099277.9237165\ttotal: 2.46s\tremaining: 1.25s\n",
      "663:\tlearn: 1098264.7781002\ttotal: 2.47s\tremaining: 1.25s\n",
      "664:\tlearn: 1097443.8173781\ttotal: 2.47s\tremaining: 1.24s\n",
      "665:\tlearn: 1096476.3034174\ttotal: 2.47s\tremaining: 1.24s\n",
      "666:\tlearn: 1095493.5385959\ttotal: 2.48s\tremaining: 1.24s\n",
      "667:\tlearn: 1093268.5198776\ttotal: 2.48s\tremaining: 1.23s\n",
      "668:\tlearn: 1090448.3925984\ttotal: 2.48s\tremaining: 1.23s\n",
      "669:\tlearn: 1088271.3782899\ttotal: 2.48s\tremaining: 1.22s\n",
      "670:\tlearn: 1086122.4339560\ttotal: 2.49s\tremaining: 1.22s\n",
      "671:\tlearn: 1084004.2960187\ttotal: 2.49s\tremaining: 1.22s\n",
      "672:\tlearn: 1083047.4648594\ttotal: 2.49s\tremaining: 1.21s\n",
      "673:\tlearn: 1082098.9767858\ttotal: 2.49s\tremaining: 1.21s\n",
      "674:\tlearn: 1078980.2136837\ttotal: 2.5s\tremaining: 1.2s\n",
      "675:\tlearn: 1077860.3085777\ttotal: 2.5s\tremaining: 1.2s\n",
      "676:\tlearn: 1074911.8087198\ttotal: 2.5s\tremaining: 1.19s\n",
      "677:\tlearn: 1072749.1764030\ttotal: 2.5s\tremaining: 1.19s\n",
      "678:\tlearn: 1071648.5481184\ttotal: 2.5s\tremaining: 1.18s\n",
      "679:\tlearn: 1070736.0796233\ttotal: 2.51s\tremaining: 1.18s\n",
      "680:\tlearn: 1068679.6902767\ttotal: 2.51s\tremaining: 1.18s\n",
      "681:\tlearn: 1067602.9326838\ttotal: 2.51s\tremaining: 1.17s\n",
      "682:\tlearn: 1066711.1306894\ttotal: 2.51s\tremaining: 1.17s\n",
      "683:\tlearn: 1062510.8218421\ttotal: 2.52s\tremaining: 1.16s\n",
      "684:\tlearn: 1061110.7248243\ttotal: 2.52s\tremaining: 1.16s\n",
      "685:\tlearn: 1059066.2320138\ttotal: 2.52s\tremaining: 1.15s\n",
      "686:\tlearn: 1057048.4712734\ttotal: 2.52s\tremaining: 1.15s\n",
      "687:\tlearn: 1055059.5871911\ttotal: 2.53s\tremaining: 1.15s\n",
      "688:\tlearn: 1054254.8637345\ttotal: 2.53s\tremaining: 1.14s\n",
      "689:\tlearn: 1052244.1671651\ttotal: 2.53s\tremaining: 1.14s\n",
      "690:\tlearn: 1050263.6046051\ttotal: 2.54s\tremaining: 1.13s\n",
      "691:\tlearn: 1049477.7927499\ttotal: 2.54s\tremaining: 1.13s\n",
      "692:\tlearn: 1046741.2522806\ttotal: 2.54s\tremaining: 1.13s\n",
      "693:\tlearn: 1044847.5297368\ttotal: 2.54s\tremaining: 1.12s\n",
      "694:\tlearn: 1041710.5060106\ttotal: 2.55s\tremaining: 1.12s\n",
      "695:\tlearn: 1040316.4370831\ttotal: 2.55s\tremaining: 1.11s\n",
      "696:\tlearn: 1038430.7427250\ttotal: 2.55s\tremaining: 1.11s\n",
      "697:\tlearn: 1036511.9492812\ttotal: 2.56s\tremaining: 1.1s\n",
      "698:\tlearn: 1033106.5467658\ttotal: 2.56s\tremaining: 1.1s\n",
      "699:\tlearn: 1031199.4103658\ttotal: 2.56s\tremaining: 1.1s\n",
      "700:\tlearn: 1028133.9139029\ttotal: 2.56s\tremaining: 1.09s\n",
      "701:\tlearn: 1027361.5139633\ttotal: 2.57s\tremaining: 1.09s\n",
      "702:\tlearn: 1025435.5789166\ttotal: 2.57s\tremaining: 1.09s\n",
      "703:\tlearn: 1022794.9912752\ttotal: 2.57s\tremaining: 1.08s\n",
      "704:\tlearn: 1020971.9518794\ttotal: 2.58s\tremaining: 1.08s\n",
      "705:\tlearn: 1019501.2626734\ttotal: 2.58s\tremaining: 1.07s\n",
      "706:\tlearn: 1017705.5872076\ttotal: 2.58s\tremaining: 1.07s\n",
      "707:\tlearn: 1015668.7321599\ttotal: 2.58s\tremaining: 1.07s\n",
      "708:\tlearn: 1013491.5433102\ttotal: 2.59s\tremaining: 1.06s\n",
      "709:\tlearn: 1011082.4470911\ttotal: 2.59s\tremaining: 1.06s\n",
      "710:\tlearn: 1010233.7638294\ttotal: 2.59s\tremaining: 1.05s\n",
      "711:\tlearn: 1009214.1067767\ttotal: 2.6s\tremaining: 1.05s\n",
      "712:\tlearn: 1008644.1936361\ttotal: 2.6s\tremaining: 1.05s\n",
      "713:\tlearn: 1006879.1342937\ttotal: 2.6s\tremaining: 1.04s\n",
      "714:\tlearn: 1004555.6980766\ttotal: 2.61s\tremaining: 1.04s\n",
      "715:\tlearn: 1003826.6118649\ttotal: 2.61s\tremaining: 1.03s\n",
      "716:\tlearn: 1002066.0484160\ttotal: 2.61s\tremaining: 1.03s\n",
      "717:\tlearn: 1000350.9210669\ttotal: 2.62s\tremaining: 1.03s\n",
      "718:\tlearn: 998660.2260178\ttotal: 2.62s\tremaining: 1.02s\n",
      "719:\tlearn: 997673.2623454\ttotal: 2.62s\tremaining: 1.02s\n",
      "720:\tlearn: 997027.2923916\ttotal: 2.62s\tremaining: 1.01s\n",
      "721:\tlearn: 995389.6907823\ttotal: 2.63s\tremaining: 1.01s\n",
      "722:\tlearn: 993693.7485304\ttotal: 2.63s\tremaining: 1.01s\n",
      "723:\tlearn: 992101.8792498\ttotal: 2.64s\tremaining: 1.01s\n",
      "724:\tlearn: 990304.6925655\ttotal: 2.64s\tremaining: 1s\n",
      "725:\tlearn: 988713.8935535\ttotal: 2.65s\tremaining: 1000ms\n",
      "726:\tlearn: 986969.0708467\ttotal: 2.65s\tremaining: 996ms\n",
      "727:\tlearn: 985976.9732704\ttotal: 2.66s\tremaining: 993ms\n",
      "728:\tlearn: 985398.2474329\ttotal: 2.66s\tremaining: 990ms\n",
      "729:\tlearn: 983812.7486306\ttotal: 2.67s\tremaining: 987ms\n"
     ]
    },
    {
     "name": "stdout",
     "output_type": "stream",
     "text": [
      "730:\tlearn: 982802.6466794\ttotal: 2.67s\tremaining: 984ms\n",
      "731:\tlearn: 981241.2149169\ttotal: 2.68s\tremaining: 981ms\n",
      "732:\tlearn: 978912.6200566\ttotal: 2.68s\tremaining: 978ms\n",
      "733:\tlearn: 978348.7816845\ttotal: 2.69s\tremaining: 974ms\n",
      "734:\tlearn: 977590.7888619\ttotal: 2.69s\tremaining: 971ms\n",
      "735:\tlearn: 975731.7827596\ttotal: 2.7s\tremaining: 968ms\n",
      "736:\tlearn: 973555.3478755\ttotal: 2.7s\tremaining: 964ms\n",
      "737:\tlearn: 972025.2326583\ttotal: 2.71s\tremaining: 961ms\n",
      "738:\tlearn: 970513.2957445\ttotal: 2.71s\tremaining: 958ms\n",
      "739:\tlearn: 969970.0068981\ttotal: 2.72s\tremaining: 955ms\n",
      "740:\tlearn: 969235.3482358\ttotal: 2.72s\tremaining: 951ms\n",
      "741:\tlearn: 967711.1794739\ttotal: 2.73s\tremaining: 948ms\n",
      "742:\tlearn: 966214.5376125\ttotal: 2.73s\tremaining: 945ms\n",
      "743:\tlearn: 964744.1402705\ttotal: 2.74s\tremaining: 942ms\n",
      "744:\tlearn: 963327.3419143\ttotal: 2.74s\tremaining: 939ms\n",
      "745:\tlearn: 961203.0375612\ttotal: 2.75s\tremaining: 936ms\n",
      "746:\tlearn: 959777.4443389\ttotal: 2.75s\tremaining: 933ms\n",
      "747:\tlearn: 958387.3105192\ttotal: 2.76s\tremaining: 929ms\n",
      "748:\tlearn: 957009.3027816\ttotal: 2.76s\tremaining: 926ms\n",
      "749:\tlearn: 954471.8152854\ttotal: 2.77s\tremaining: 923ms\n",
      "750:\tlearn: 953875.5668375\ttotal: 2.77s\tremaining: 919ms\n",
      "751:\tlearn: 953236.9541678\ttotal: 2.78s\tremaining: 916ms\n",
      "752:\tlearn: 951150.4666031\ttotal: 2.78s\tremaining: 913ms\n",
      "753:\tlearn: 948922.3132849\ttotal: 2.79s\tremaining: 909ms\n",
      "754:\tlearn: 946754.5138917\ttotal: 2.79s\tremaining: 906ms\n",
      "755:\tlearn: 945850.7512858\ttotal: 2.8s\tremaining: 903ms\n",
      "756:\tlearn: 943733.1099666\ttotal: 2.8s\tremaining: 900ms\n",
      "757:\tlearn: 943154.8539046\ttotal: 2.81s\tremaining: 896ms\n",
      "758:\tlearn: 942538.4781591\ttotal: 2.81s\tremaining: 893ms\n",
      "759:\tlearn: 940902.7521733\ttotal: 2.82s\tremaining: 890ms\n",
      "760:\tlearn: 938721.4158131\ttotal: 2.82s\tremaining: 886ms\n",
      "761:\tlearn: 936543.5160966\ttotal: 2.83s\tremaining: 883ms\n",
      "762:\tlearn: 934501.0674600\ttotal: 2.83s\tremaining: 880ms\n",
      "763:\tlearn: 931925.7780719\ttotal: 2.84s\tremaining: 876ms\n",
      "764:\tlearn: 929559.0162566\ttotal: 2.84s\tremaining: 873ms\n",
      "765:\tlearn: 928200.0607973\ttotal: 2.85s\tremaining: 870ms\n",
      "766:\tlearn: 927639.5830325\ttotal: 2.85s\tremaining: 866ms\n",
      "767:\tlearn: 926596.4328456\ttotal: 2.85s\tremaining: 863ms\n",
      "768:\tlearn: 926045.6675680\ttotal: 2.86s\tremaining: 859ms\n",
      "769:\tlearn: 924712.6772066\ttotal: 2.87s\tremaining: 856ms\n",
      "770:\tlearn: 924167.3427161\ttotal: 2.87s\tremaining: 853ms\n",
      "771:\tlearn: 922803.9852237\ttotal: 2.88s\tremaining: 850ms\n",
      "772:\tlearn: 920448.2308375\ttotal: 2.88s\tremaining: 847ms\n",
      "773:\tlearn: 918290.0007045\ttotal: 2.89s\tremaining: 844ms\n",
      "774:\tlearn: 917461.8877882\ttotal: 2.9s\tremaining: 841ms\n",
      "775:\tlearn: 916148.6164153\ttotal: 2.9s\tremaining: 837ms\n",
      "776:\tlearn: 913998.3505135\ttotal: 2.91s\tremaining: 834ms\n",
      "777:\tlearn: 911903.7847596\ttotal: 2.91s\tremaining: 831ms\n",
      "778:\tlearn: 910600.6565018\ttotal: 2.92s\tremaining: 827ms\n",
      "779:\tlearn: 910072.7397537\ttotal: 2.92s\tremaining: 824ms\n",
      "780:\tlearn: 907618.8097052\ttotal: 2.93s\tremaining: 821ms\n",
      "781:\tlearn: 906316.9775344\ttotal: 2.93s\tremaining: 817ms\n",
      "782:\tlearn: 905863.9900714\ttotal: 2.94s\tremaining: 814ms\n",
      "783:\tlearn: 904594.9185677\ttotal: 2.94s\tremaining: 811ms\n",
      "784:\tlearn: 902642.7797805\ttotal: 2.94s\tremaining: 807ms\n",
      "785:\tlearn: 901421.8291114\ttotal: 2.95s\tremaining: 803ms\n",
      "786:\tlearn: 900130.5073971\ttotal: 2.95s\tremaining: 799ms\n",
      "787:\tlearn: 898254.6627881\ttotal: 2.95s\tremaining: 795ms\n",
      "788:\tlearn: 896813.3238959\ttotal: 2.96s\tremaining: 791ms\n",
      "789:\tlearn: 894509.8376064\ttotal: 2.96s\tremaining: 787ms\n",
      "790:\tlearn: 893258.5633937\ttotal: 2.96s\tremaining: 783ms\n",
      "791:\tlearn: 891841.0841001\ttotal: 2.97s\tremaining: 779ms\n",
      "792:\tlearn: 890590.8783512\ttotal: 2.97s\tremaining: 775ms\n",
      "793:\tlearn: 889735.8263442\ttotal: 2.97s\tremaining: 771ms\n",
      "794:\tlearn: 888495.1106396\ttotal: 2.98s\tremaining: 767ms\n",
      "795:\tlearn: 886765.5825605\ttotal: 2.98s\tremaining: 763ms\n",
      "796:\tlearn: 884972.3146520\ttotal: 2.98s\tremaining: 760ms\n",
      "797:\tlearn: 883755.6584607\ttotal: 2.98s\tremaining: 756ms\n",
      "798:\tlearn: 881939.4873945\ttotal: 2.99s\tremaining: 752ms\n",
      "799:\tlearn: 880725.0766519\ttotal: 2.99s\tremaining: 748ms\n",
      "800:\tlearn: 879479.6825343\ttotal: 2.99s\tremaining: 744ms\n",
      "801:\tlearn: 878309.8782547\ttotal: 3s\tremaining: 740ms\n",
      "802:\tlearn: 876923.0818555\ttotal: 3s\tremaining: 736ms\n",
      "803:\tlearn: 875524.4411864\ttotal: 3s\tremaining: 732ms\n",
      "804:\tlearn: 873809.8348182\ttotal: 3.01s\tremaining: 728ms\n",
      "805:\tlearn: 872662.6204592\ttotal: 3.01s\tremaining: 725ms\n",
      "806:\tlearn: 871682.1339625\ttotal: 3.01s\tremaining: 721ms\n",
      "807:\tlearn: 870581.4746896\ttotal: 3.02s\tremaining: 717ms\n",
      "808:\tlearn: 870071.1040172\ttotal: 3.02s\tremaining: 713ms\n",
      "809:\tlearn: 868106.9591989\ttotal: 3.02s\tremaining: 709ms\n",
      "810:\tlearn: 867242.5731719\ttotal: 3.03s\tremaining: 705ms\n",
      "811:\tlearn: 866413.5699696\ttotal: 3.03s\tremaining: 702ms\n",
      "812:\tlearn: 865956.5096684\ttotal: 3.03s\tremaining: 698ms\n",
      "813:\tlearn: 865473.8376206\ttotal: 3.04s\tremaining: 694ms\n",
      "814:\tlearn: 864924.8329183\ttotal: 3.04s\tremaining: 690ms\n",
      "815:\tlearn: 862343.9600016\ttotal: 3.04s\tremaining: 686ms\n",
      "816:\tlearn: 861840.9788730\ttotal: 3.04s\tremaining: 682ms\n",
      "817:\tlearn: 860484.5698012\ttotal: 3.05s\tremaining: 678ms\n",
      "818:\tlearn: 859388.3174574\ttotal: 3.05s\tremaining: 674ms\n",
      "819:\tlearn: 857852.1264791\ttotal: 3.05s\tremaining: 671ms\n",
      "820:\tlearn: 855919.2872268\ttotal: 3.06s\tremaining: 667ms\n",
      "821:\tlearn: 854815.1952343\ttotal: 3.06s\tremaining: 663ms\n",
      "822:\tlearn: 853251.6975976\ttotal: 3.06s\tremaining: 659ms\n",
      "823:\tlearn: 852151.6777937\ttotal: 3.07s\tremaining: 655ms\n",
      "824:\tlearn: 851068.2163538\ttotal: 3.07s\tremaining: 652ms\n",
      "825:\tlearn: 850240.7083474\ttotal: 3.08s\tremaining: 648ms\n",
      "826:\tlearn: 849825.9800175\ttotal: 3.08s\tremaining: 644ms\n",
      "827:\tlearn: 848051.3666280\ttotal: 3.08s\tremaining: 640ms\n",
      "828:\tlearn: 846541.7090718\ttotal: 3.08s\tremaining: 636ms\n",
      "829:\tlearn: 845516.2017437\ttotal: 3.09s\tremaining: 632ms\n",
      "830:\tlearn: 843984.6071383\ttotal: 3.09s\tremaining: 628ms\n",
      "831:\tlearn: 842931.1181883\ttotal: 3.09s\tremaining: 625ms\n",
      "832:\tlearn: 841237.3213694\ttotal: 3.1s\tremaining: 621ms\n",
      "833:\tlearn: 840988.8966400\ttotal: 3.1s\tremaining: 617ms\n",
      "834:\tlearn: 839900.1266655\ttotal: 3.1s\tremaining: 613ms\n",
      "835:\tlearn: 838864.6593889\ttotal: 3.1s\tremaining: 609ms\n",
      "836:\tlearn: 837212.2607972\ttotal: 3.11s\tremaining: 605ms\n",
      "837:\tlearn: 836428.0642790\ttotal: 3.11s\tremaining: 602ms\n",
      "838:\tlearn: 835391.6314172\ttotal: 3.11s\tremaining: 598ms\n",
      "839:\tlearn: 834383.1530241\ttotal: 3.12s\tremaining: 594ms\n",
      "840:\tlearn: 834122.2719596\ttotal: 3.12s\tremaining: 590ms\n",
      "841:\tlearn: 832411.9640192\ttotal: 3.12s\tremaining: 586ms\n",
      "842:\tlearn: 832168.8445645\ttotal: 3.13s\tremaining: 582ms\n",
      "843:\tlearn: 831929.4899257\ttotal: 3.13s\tremaining: 578ms\n",
      "844:\tlearn: 830956.3885770\ttotal: 3.13s\tremaining: 574ms\n",
      "845:\tlearn: 830192.9340959\ttotal: 3.13s\tremaining: 571ms\n",
      "846:\tlearn: 829017.7518697\ttotal: 3.14s\tremaining: 567ms\n",
      "847:\tlearn: 827344.8344077\ttotal: 3.14s\tremaining: 563ms\n",
      "848:\tlearn: 826388.6848139\ttotal: 3.14s\tremaining: 559ms\n",
      "849:\tlearn: 825612.4477063\ttotal: 3.15s\tremaining: 555ms\n",
      "850:\tlearn: 824849.8999337\ttotal: 3.15s\tremaining: 551ms\n",
      "851:\tlearn: 824079.0111712\ttotal: 3.15s\tremaining: 547ms\n",
      "852:\tlearn: 823150.2096645\ttotal: 3.15s\tremaining: 544ms\n",
      "853:\tlearn: 821449.9327272\ttotal: 3.16s\tremaining: 540ms\n",
      "854:\tlearn: 820549.8068815\ttotal: 3.16s\tremaining: 536ms\n",
      "855:\tlearn: 818808.4431346\ttotal: 3.16s\tremaining: 532ms\n",
      "856:\tlearn: 816340.3586897\ttotal: 3.17s\tremaining: 528ms\n",
      "857:\tlearn: 815415.6737698\ttotal: 3.17s\tremaining: 524ms\n",
      "858:\tlearn: 813986.2375584\ttotal: 3.17s\tremaining: 521ms\n",
      "859:\tlearn: 812898.9441854\ttotal: 3.17s\tremaining: 517ms\n",
      "860:\tlearn: 812677.7336352\ttotal: 3.18s\tremaining: 513ms\n",
      "861:\tlearn: 811780.1940901\ttotal: 3.18s\tremaining: 509ms\n",
      "862:\tlearn: 810876.9414720\ttotal: 3.18s\tremaining: 505ms\n",
      "863:\tlearn: 809471.1203848\ttotal: 3.19s\tremaining: 501ms\n",
      "864:\tlearn: 808590.6185359\ttotal: 3.19s\tremaining: 498ms\n",
      "865:\tlearn: 806714.0201687\ttotal: 3.19s\tremaining: 494ms\n",
      "866:\tlearn: 804333.4172917\ttotal: 3.19s\tremaining: 490ms\n",
      "867:\tlearn: 803507.5982208\ttotal: 3.2s\tremaining: 486ms\n",
      "868:\tlearn: 802960.1324288\ttotal: 3.2s\tremaining: 482ms\n",
      "869:\tlearn: 802434.8550676\ttotal: 3.2s\tremaining: 479ms\n",
      "870:\tlearn: 801574.3551164\ttotal: 3.21s\tremaining: 475ms\n",
      "871:\tlearn: 800746.1432953\ttotal: 3.21s\tremaining: 471ms\n",
      "872:\tlearn: 798980.9727615\ttotal: 3.21s\tremaining: 467ms\n",
      "873:\tlearn: 797877.2901063\ttotal: 3.21s\tremaining: 463ms\n",
      "874:\tlearn: 797189.0664768\ttotal: 3.22s\tremaining: 460ms\n",
      "875:\tlearn: 795809.4130795\ttotal: 3.22s\tremaining: 456ms\n",
      "876:\tlearn: 794130.0994047\ttotal: 3.22s\tremaining: 452ms\n",
      "877:\tlearn: 793306.3466803\ttotal: 3.23s\tremaining: 448ms\n",
      "878:\tlearn: 791932.3953411\ttotal: 3.23s\tremaining: 444ms\n",
      "879:\tlearn: 790825.5836445\ttotal: 3.23s\tremaining: 441ms\n",
      "880:\tlearn: 790608.6153543\ttotal: 3.23s\tremaining: 437ms\n",
      "881:\tlearn: 789798.9881332\ttotal: 3.24s\tremaining: 433ms\n",
      "882:\tlearn: 788082.5066051\ttotal: 3.24s\tremaining: 429ms\n",
      "883:\tlearn: 787280.9113233\ttotal: 3.24s\tremaining: 426ms\n",
      "884:\tlearn: 785622.2961287\ttotal: 3.25s\tremaining: 422ms\n",
      "885:\tlearn: 784990.0965550\ttotal: 3.25s\tremaining: 418ms\n",
      "886:\tlearn: 784365.9729862\ttotal: 3.25s\tremaining: 414ms\n",
      "887:\tlearn: 783593.4695395\ttotal: 3.25s\tremaining: 411ms\n"
     ]
    },
    {
     "name": "stdout",
     "output_type": "stream",
     "text": [
      "888:\tlearn: 781908.1308910\ttotal: 3.26s\tremaining: 407ms\n",
      "889:\tlearn: 781155.3667755\ttotal: 3.26s\tremaining: 403ms\n",
      "890:\tlearn: 780405.2655748\ttotal: 3.26s\tremaining: 399ms\n",
      "891:\tlearn: 779838.7339511\ttotal: 3.27s\tremaining: 396ms\n",
      "892:\tlearn: 778512.1946076\ttotal: 3.27s\tremaining: 392ms\n",
      "893:\tlearn: 777821.5530731\ttotal: 3.27s\tremaining: 388ms\n",
      "894:\tlearn: 777115.5354792\ttotal: 3.28s\tremaining: 385ms\n",
      "895:\tlearn: 776426.3121110\ttotal: 3.28s\tremaining: 381ms\n",
      "896:\tlearn: 775660.8894453\ttotal: 3.29s\tremaining: 377ms\n",
      "897:\tlearn: 775150.7372781\ttotal: 3.29s\tremaining: 374ms\n",
      "898:\tlearn: 774611.6708975\ttotal: 3.29s\tremaining: 370ms\n",
      "899:\tlearn: 773124.0017950\ttotal: 3.29s\tremaining: 366ms\n",
      "900:\tlearn: 772433.2996680\ttotal: 3.3s\tremaining: 362ms\n",
      "901:\tlearn: 770708.4121804\ttotal: 3.3s\tremaining: 359ms\n",
      "902:\tlearn: 770067.5979069\ttotal: 3.3s\tremaining: 355ms\n",
      "903:\tlearn: 769435.2666915\ttotal: 3.31s\tremaining: 351ms\n",
      "904:\tlearn: 768215.6545465\ttotal: 3.31s\tremaining: 347ms\n",
      "905:\tlearn: 767584.6128165\ttotal: 3.31s\tremaining: 344ms\n",
      "906:\tlearn: 766993.6052180\ttotal: 3.31s\tremaining: 340ms\n",
      "907:\tlearn: 766380.3240026\ttotal: 3.32s\tremaining: 336ms\n",
      "908:\tlearn: 765897.6971451\ttotal: 3.32s\tremaining: 333ms\n",
      "909:\tlearn: 764465.5504899\ttotal: 3.32s\tremaining: 329ms\n",
      "910:\tlearn: 762056.0789417\ttotal: 3.33s\tremaining: 325ms\n",
      "911:\tlearn: 761446.7415826\ttotal: 3.33s\tremaining: 321ms\n",
      "912:\tlearn: 760127.4421333\ttotal: 3.33s\tremaining: 318ms\n",
      "913:\tlearn: 759024.8383129\ttotal: 3.34s\tremaining: 314ms\n",
      "914:\tlearn: 757581.6948779\ttotal: 3.34s\tremaining: 310ms\n",
      "915:\tlearn: 756485.5531576\ttotal: 3.34s\tremaining: 307ms\n",
      "916:\tlearn: 756241.8887486\ttotal: 3.35s\tremaining: 303ms\n",
      "917:\tlearn: 754704.0705998\ttotal: 3.35s\tremaining: 299ms\n",
      "918:\tlearn: 754229.6558525\ttotal: 3.35s\tremaining: 295ms\n",
      "919:\tlearn: 753684.2103088\ttotal: 3.35s\tremaining: 292ms\n",
      "920:\tlearn: 753087.5611812\ttotal: 3.36s\tremaining: 288ms\n",
      "921:\tlearn: 751910.1574666\ttotal: 3.36s\tremaining: 284ms\n",
      "922:\tlearn: 751361.2476769\ttotal: 3.36s\tremaining: 281ms\n",
      "923:\tlearn: 750007.0197691\ttotal: 3.37s\tremaining: 277ms\n",
      "924:\tlearn: 749567.4348143\ttotal: 3.37s\tremaining: 273ms\n",
      "925:\tlearn: 749014.4597597\ttotal: 3.37s\tremaining: 269ms\n",
      "926:\tlearn: 747721.5028545\ttotal: 3.37s\tremaining: 266ms\n",
      "927:\tlearn: 747186.8207955\ttotal: 3.38s\tremaining: 262ms\n",
      "928:\tlearn: 745424.6621706\ttotal: 3.38s\tremaining: 258ms\n",
      "929:\tlearn: 744942.5884542\ttotal: 3.38s\tremaining: 255ms\n",
      "930:\tlearn: 743739.1286766\ttotal: 3.39s\tremaining: 251ms\n",
      "931:\tlearn: 743178.5325551\ttotal: 3.39s\tremaining: 247ms\n",
      "932:\tlearn: 742133.1065568\ttotal: 3.39s\tremaining: 244ms\n",
      "933:\tlearn: 741753.3477773\ttotal: 3.4s\tremaining: 240ms\n",
      "934:\tlearn: 741220.5429517\ttotal: 3.4s\tremaining: 236ms\n",
      "935:\tlearn: 739765.7610659\ttotal: 3.4s\tremaining: 233ms\n",
      "936:\tlearn: 739388.1787845\ttotal: 3.4s\tremaining: 229ms\n",
      "937:\tlearn: 737670.4501821\ttotal: 3.41s\tremaining: 225ms\n",
      "938:\tlearn: 736642.2431152\ttotal: 3.41s\tremaining: 222ms\n",
      "939:\tlearn: 736124.1756039\ttotal: 3.41s\tremaining: 218ms\n",
      "940:\tlearn: 735076.8938886\ttotal: 3.42s\tremaining: 214ms\n",
      "941:\tlearn: 733103.7376651\ttotal: 3.42s\tremaining: 211ms\n",
      "942:\tlearn: 731679.3889368\ttotal: 3.42s\tremaining: 207ms\n",
      "943:\tlearn: 729774.6115296\ttotal: 3.42s\tremaining: 203ms\n",
      "944:\tlearn: 729392.6517359\ttotal: 3.43s\tremaining: 200ms\n",
      "945:\tlearn: 728876.4659487\ttotal: 3.43s\tremaining: 196ms\n",
      "946:\tlearn: 726652.6684249\ttotal: 3.43s\tremaining: 192ms\n",
      "947:\tlearn: 725496.9080257\ttotal: 3.44s\tremaining: 189ms\n",
      "948:\tlearn: 725001.7975099\ttotal: 3.44s\tremaining: 185ms\n",
      "949:\tlearn: 724510.6837522\ttotal: 3.44s\tremaining: 181ms\n",
      "950:\tlearn: 724032.4307022\ttotal: 3.45s\tremaining: 178ms\n",
      "951:\tlearn: 723576.3135030\ttotal: 3.45s\tremaining: 174ms\n",
      "952:\tlearn: 722241.4605535\ttotal: 3.45s\tremaining: 170ms\n",
      "953:\tlearn: 722011.4856081\ttotal: 3.46s\tremaining: 167ms\n",
      "954:\tlearn: 721406.1738311\ttotal: 3.46s\tremaining: 163ms\n",
      "955:\tlearn: 720921.3792273\ttotal: 3.46s\tremaining: 159ms\n",
      "956:\tlearn: 719806.2630956\ttotal: 3.47s\tremaining: 156ms\n",
      "957:\tlearn: 718723.4806995\ttotal: 3.47s\tremaining: 152ms\n",
      "958:\tlearn: 718244.9793336\ttotal: 3.47s\tremaining: 148ms\n",
      "959:\tlearn: 717779.0426543\ttotal: 3.48s\tremaining: 145ms\n",
      "960:\tlearn: 716967.4028726\ttotal: 3.48s\tremaining: 141ms\n",
      "961:\tlearn: 715982.8680501\ttotal: 3.48s\tremaining: 138ms\n",
      "962:\tlearn: 713958.1503021\ttotal: 3.48s\tremaining: 134ms\n",
      "963:\tlearn: 713493.5521287\ttotal: 3.49s\tremaining: 130ms\n",
      "964:\tlearn: 711619.6570462\ttotal: 3.49s\tremaining: 127ms\n",
      "965:\tlearn: 711432.6289416\ttotal: 3.49s\tremaining: 123ms\n",
      "966:\tlearn: 710036.1864226\ttotal: 3.5s\tremaining: 119ms\n",
      "967:\tlearn: 709571.8211378\ttotal: 3.5s\tremaining: 116ms\n",
      "968:\tlearn: 708520.2981269\ttotal: 3.5s\tremaining: 112ms\n",
      "969:\tlearn: 708062.0079659\ttotal: 3.51s\tremaining: 108ms\n",
      "970:\tlearn: 707609.5456297\ttotal: 3.51s\tremaining: 105ms\n",
      "971:\tlearn: 707161.4828321\ttotal: 3.51s\tremaining: 101ms\n",
      "972:\tlearn: 705805.6923411\ttotal: 3.52s\tremaining: 97.5ms\n",
      "973:\tlearn: 705371.2096958\ttotal: 3.52s\tremaining: 93.9ms\n",
      "974:\tlearn: 704127.2760007\ttotal: 3.52s\tremaining: 90.3ms\n",
      "975:\tlearn: 703137.4583653\ttotal: 3.52s\tremaining: 86.7ms\n",
      "976:\tlearn: 702232.3885780\ttotal: 3.53s\tremaining: 83ms\n",
      "977:\tlearn: 701814.2154449\ttotal: 3.53s\tremaining: 79.4ms\n",
      "978:\tlearn: 701396.1586488\ttotal: 3.53s\tremaining: 75.8ms\n",
      "979:\tlearn: 700987.9562799\ttotal: 3.54s\tremaining: 72.2ms\n",
      "980:\tlearn: 699819.8710672\ttotal: 3.54s\tremaining: 68.5ms\n",
      "981:\tlearn: 699409.1035955\ttotal: 3.54s\tremaining: 64.9ms\n",
      "982:\tlearn: 699011.7861020\ttotal: 3.54s\tremaining: 61.3ms\n",
      "983:\tlearn: 698828.7342627\ttotal: 3.55s\tremaining: 57.7ms\n",
      "984:\tlearn: 696887.9164007\ttotal: 3.55s\tremaining: 54.1ms\n",
      "985:\tlearn: 696493.7252794\ttotal: 3.55s\tremaining: 50.4ms\n",
      "986:\tlearn: 696272.6830211\ttotal: 3.56s\tremaining: 46.8ms\n",
      "987:\tlearn: 695706.9957855\ttotal: 3.56s\tremaining: 43.2ms\n",
      "988:\tlearn: 695316.2329391\ttotal: 3.56s\tremaining: 39.6ms\n",
      "989:\tlearn: 695139.8193157\ttotal: 3.56s\tremaining: 36ms\n",
      "990:\tlearn: 694157.4629738\ttotal: 3.57s\tremaining: 32.4ms\n",
      "991:\tlearn: 693775.1310281\ttotal: 3.57s\tremaining: 28.8ms\n",
      "992:\tlearn: 692625.6489070\ttotal: 3.57s\tremaining: 25.2ms\n",
      "993:\tlearn: 692248.6697786\ttotal: 3.57s\tremaining: 21.6ms\n",
      "994:\tlearn: 691394.2176124\ttotal: 3.58s\tremaining: 18ms\n",
      "995:\tlearn: 691188.9326473\ttotal: 3.58s\tremaining: 14.4ms\n",
      "996:\tlearn: 690958.5505153\ttotal: 3.58s\tremaining: 10.8ms\n",
      "997:\tlearn: 690721.6508170\ttotal: 3.59s\tremaining: 7.19ms\n",
      "998:\tlearn: 689095.4988168\ttotal: 3.59s\tremaining: 3.59ms\n",
      "999:\tlearn: 688809.9659227\ttotal: 3.59s\tremaining: 0us\n"
     ]
    }
   ],
   "source": [
    "catb = CatBoostRegressor()\n",
    "catb_model = catb.fit(X_train, y_train)"
   ]
  },
  {
   "cell_type": "markdown",
   "id": "d351fc7b",
   "metadata": {},
   "source": [
    "### 2.9.2. Tahmin"
   ]
  },
  {
   "cell_type": "code",
   "execution_count": 29,
   "id": "02255101",
   "metadata": {},
   "outputs": [
    {
     "data": {
      "text/plain": [
       "20245396.38465905"
      ]
     },
     "execution_count": 29,
     "metadata": {},
     "output_type": "execute_result"
    }
   ],
   "source": [
    "y_pred = catb_model.predict(X_test)\n",
    "np.sqrt(mean_squared_error(y_test, y_pred))"
   ]
  },
  {
   "cell_type": "markdown",
   "id": "998c4ba4",
   "metadata": {},
   "source": [
    "### 2.9.3. Model Tuning"
   ]
  },
  {
   "cell_type": "code",
   "execution_count": 32,
   "id": "b72b65ce",
   "metadata": {},
   "outputs": [],
   "source": [
    "catb_grid = {\n",
    "    'iterations': [200,500,1000,2000],\n",
    "    'learning_rate': [0.01, 0.03, 0.05, 0.1],\n",
    "    'depth': [3,4,5,6,7,8] }\n",
    "\n",
    "catb = CatBoostRegressor()\n",
    "catb_cv_model = GridSearchCV(catb, catb_grid, cv=5, n_jobs = -1, verbose = 2)"
   ]
  },
  {
   "cell_type": "code",
   "execution_count": 33,
   "id": "aa1ec453",
   "metadata": {
    "collapsed": true
   },
   "outputs": [
    {
     "name": "stdout",
     "output_type": "stream",
     "text": [
      "Fitting 5 folds for each of 96 candidates, totalling 480 fits\n",
      "0:\tlearn: 11755073.3777926\ttotal: 6.02ms\tremaining: 6.02s\n",
      "1:\tlearn: 11695938.9759451\ttotal: 12.2ms\tremaining: 6.09s\n",
      "2:\tlearn: 11634115.8726865\ttotal: 17ms\tremaining: 5.66s\n",
      "3:\tlearn: 11575888.4561498\ttotal: 22.4ms\tremaining: 5.57s\n",
      "4:\tlearn: 11517251.2013188\ttotal: 27.8ms\tremaining: 5.53s\n",
      "5:\tlearn: 11462589.6549271\ttotal: 32.8ms\tremaining: 5.43s\n",
      "6:\tlearn: 11402998.8316421\ttotal: 37.9ms\tremaining: 5.38s\n",
      "7:\tlearn: 11344575.0646080\ttotal: 44.2ms\tremaining: 5.48s\n",
      "8:\tlearn: 11284694.0450410\ttotal: 50.1ms\tremaining: 5.52s\n",
      "9:\tlearn: 11226007.6371186\ttotal: 56ms\tremaining: 5.55s\n",
      "10:\tlearn: 11175955.7219027\ttotal: 61.9ms\tremaining: 5.56s\n",
      "11:\tlearn: 11124030.1147350\ttotal: 67.6ms\tremaining: 5.56s\n",
      "12:\tlearn: 11069456.6052224\ttotal: 73.5ms\tremaining: 5.58s\n",
      "13:\tlearn: 11018141.6310824\ttotal: 78.6ms\tremaining: 5.54s\n",
      "14:\tlearn: 10960715.0613742\ttotal: 84.9ms\tremaining: 5.57s\n",
      "15:\tlearn: 10904864.6510833\ttotal: 90.2ms\tremaining: 5.54s\n",
      "16:\tlearn: 10852062.5747336\ttotal: 95.1ms\tremaining: 5.5s\n",
      "17:\tlearn: 10800058.3965476\ttotal: 101ms\tremaining: 5.49s\n",
      "18:\tlearn: 10747703.9205667\ttotal: 106ms\tremaining: 5.46s\n",
      "19:\tlearn: 10695903.6648533\ttotal: 112ms\tremaining: 5.47s\n",
      "20:\tlearn: 10643059.9893898\ttotal: 117ms\tremaining: 5.47s\n",
      "21:\tlearn: 10592834.5060886\ttotal: 123ms\tremaining: 5.47s\n",
      "22:\tlearn: 10544944.8882369\ttotal: 129ms\tremaining: 5.47s\n",
      "23:\tlearn: 10495445.3656660\ttotal: 134ms\tremaining: 5.47s\n",
      "24:\tlearn: 10443298.4825234\ttotal: 140ms\tremaining: 5.46s\n",
      "25:\tlearn: 10391480.7827559\ttotal: 145ms\tremaining: 5.44s\n",
      "26:\tlearn: 10340349.2308682\ttotal: 151ms\tremaining: 5.43s\n",
      "27:\tlearn: 10294250.7019560\ttotal: 156ms\tremaining: 5.41s\n",
      "28:\tlearn: 10245745.4815981\ttotal: 161ms\tremaining: 5.39s\n",
      "29:\tlearn: 10194933.9502627\ttotal: 167ms\tremaining: 5.41s\n",
      "30:\tlearn: 10150570.2808765\ttotal: 173ms\tremaining: 5.4s\n",
      "31:\tlearn: 10106241.4972140\ttotal: 178ms\tremaining: 5.38s\n",
      "32:\tlearn: 10057547.4437232\ttotal: 185ms\tremaining: 5.42s\n",
      "33:\tlearn: 10007692.1829307\ttotal: 190ms\tremaining: 5.4s\n",
      "34:\tlearn: 9963528.6814052\ttotal: 196ms\tremaining: 5.39s\n",
      "35:\tlearn: 9914890.5918792\ttotal: 202ms\tremaining: 5.4s\n",
      "36:\tlearn: 9870787.8000202\ttotal: 209ms\tremaining: 5.43s\n",
      "37:\tlearn: 9832814.1941256\ttotal: 217ms\tremaining: 5.49s\n",
      "38:\tlearn: 9783751.4697089\ttotal: 222ms\tremaining: 5.46s\n",
      "39:\tlearn: 9740226.1717121\ttotal: 226ms\tremaining: 5.43s\n",
      "40:\tlearn: 9694665.5110609\ttotal: 234ms\tremaining: 5.46s\n",
      "41:\tlearn: 9645095.4244868\ttotal: 239ms\tremaining: 5.44s\n",
      "42:\tlearn: 9597483.0059101\ttotal: 244ms\tremaining: 5.43s\n",
      "43:\tlearn: 9553318.8344779\ttotal: 250ms\tremaining: 5.42s\n",
      "44:\tlearn: 9506231.9542136\ttotal: 254ms\tremaining: 5.39s\n",
      "45:\tlearn: 9463470.2369810\ttotal: 260ms\tremaining: 5.38s\n",
      "46:\tlearn: 9423748.0470570\ttotal: 264ms\tremaining: 5.36s\n",
      "47:\tlearn: 9385005.6034959\ttotal: 269ms\tremaining: 5.33s\n",
      "48:\tlearn: 9340428.2003673\ttotal: 274ms\tremaining: 5.31s\n",
      "49:\tlearn: 9300654.0292243\ttotal: 278ms\tremaining: 5.29s\n",
      "50:\tlearn: 9261262.7034941\ttotal: 283ms\tremaining: 5.27s\n",
      "51:\tlearn: 9217412.6047527\ttotal: 288ms\tremaining: 5.24s\n",
      "52:\tlearn: 9178350.1161835\ttotal: 293ms\tremaining: 5.23s\n",
      "53:\tlearn: 9137036.1718565\ttotal: 298ms\tremaining: 5.21s\n",
      "54:\tlearn: 9099015.1169062\ttotal: 303ms\tremaining: 5.21s\n",
      "55:\tlearn: 9059798.8210081\ttotal: 308ms\tremaining: 5.19s\n",
      "56:\tlearn: 9021446.0907235\ttotal: 313ms\tremaining: 5.18s\n",
      "57:\tlearn: 8977761.6003900\ttotal: 317ms\tremaining: 5.16s\n",
      "58:\tlearn: 8941064.7331335\ttotal: 322ms\tremaining: 5.14s\n",
      "59:\tlearn: 8905792.9821885\ttotal: 328ms\tremaining: 5.13s\n",
      "60:\tlearn: 8866569.8998943\ttotal: 335ms\tremaining: 5.15s\n",
      "61:\tlearn: 8822865.3972567\ttotal: 341ms\tremaining: 5.16s\n",
      "62:\tlearn: 8785136.0141659\ttotal: 348ms\tremaining: 5.18s\n",
      "63:\tlearn: 8748572.4709906\ttotal: 355ms\tremaining: 5.2s\n",
      "64:\tlearn: 8714127.2418348\ttotal: 360ms\tremaining: 5.18s\n",
      "65:\tlearn: 8676243.8487903\ttotal: 365ms\tremaining: 5.17s\n",
      "66:\tlearn: 8638377.9307237\ttotal: 369ms\tremaining: 5.14s\n",
      "67:\tlearn: 8598697.2232945\ttotal: 374ms\tremaining: 5.12s\n",
      "68:\tlearn: 8562857.1478082\ttotal: 380ms\tremaining: 5.13s\n",
      "69:\tlearn: 8524567.9252590\ttotal: 386ms\tremaining: 5.13s\n",
      "70:\tlearn: 8494089.3537080\ttotal: 393ms\tremaining: 5.14s\n",
      "71:\tlearn: 8459134.5244346\ttotal: 402ms\tremaining: 5.18s\n",
      "72:\tlearn: 8421506.1683838\ttotal: 409ms\tremaining: 5.2s\n",
      "73:\tlearn: 8387951.3316652\ttotal: 417ms\tremaining: 5.21s\n",
      "74:\tlearn: 8351360.5131156\ttotal: 424ms\tremaining: 5.22s\n",
      "75:\tlearn: 8315574.0811331\ttotal: 431ms\tremaining: 5.24s\n",
      "76:\tlearn: 8279879.9360862\ttotal: 437ms\tremaining: 5.24s\n",
      "77:\tlearn: 8244469.2327385\ttotal: 444ms\tremaining: 5.25s\n",
      "78:\tlearn: 8213088.5447257\ttotal: 445ms\tremaining: 5.19s\n",
      "79:\tlearn: 8180806.9683197\ttotal: 453ms\tremaining: 5.21s\n",
      "80:\tlearn: 8152151.5128849\ttotal: 460ms\tremaining: 5.22s\n",
      "81:\tlearn: 8121158.1982219\ttotal: 467ms\tremaining: 5.23s\n",
      "82:\tlearn: 8086965.3454249\ttotal: 473ms\tremaining: 5.22s\n",
      "83:\tlearn: 8049909.1550046\ttotal: 478ms\tremaining: 5.21s\n",
      "84:\tlearn: 8012324.9839137\ttotal: 484ms\tremaining: 5.21s\n",
      "85:\tlearn: 7978766.2921760\ttotal: 489ms\tremaining: 5.2s\n",
      "86:\tlearn: 7946789.4184627\ttotal: 494ms\tremaining: 5.19s\n",
      "87:\tlearn: 7912027.0863329\ttotal: 500ms\tremaining: 5.19s\n",
      "88:\tlearn: 7881763.9033832\ttotal: 507ms\tremaining: 5.19s\n",
      "89:\tlearn: 7847684.1129727\ttotal: 514ms\tremaining: 5.2s\n",
      "90:\tlearn: 7814014.9468790\ttotal: 520ms\tremaining: 5.2s\n",
      "91:\tlearn: 7784176.5508477\ttotal: 525ms\tremaining: 5.18s\n",
      "92:\tlearn: 7758786.3953101\ttotal: 533ms\tremaining: 5.19s\n",
      "93:\tlearn: 7725551.7356428\ttotal: 540ms\tremaining: 5.2s\n",
      "94:\tlearn: 7696790.2355910\ttotal: 548ms\tremaining: 5.22s\n",
      "95:\tlearn: 7671949.1186627\ttotal: 555ms\tremaining: 5.23s\n",
      "96:\tlearn: 7640860.5444830\ttotal: 562ms\tremaining: 5.23s\n",
      "97:\tlearn: 7612701.1224843\ttotal: 569ms\tremaining: 5.24s\n",
      "98:\tlearn: 7585906.2959931\ttotal: 576ms\tremaining: 5.24s\n",
      "99:\tlearn: 7556941.5491800\ttotal: 583ms\tremaining: 5.25s\n",
      "100:\tlearn: 7526341.6142997\ttotal: 590ms\tremaining: 5.25s\n",
      "101:\tlearn: 7494914.4346060\ttotal: 597ms\tremaining: 5.25s\n",
      "102:\tlearn: 7468125.8497570\ttotal: 604ms\tremaining: 5.26s\n",
      "103:\tlearn: 7440744.9165300\ttotal: 612ms\tremaining: 5.27s\n",
      "104:\tlearn: 7413436.1397176\ttotal: 619ms\tremaining: 5.28s\n",
      "105:\tlearn: 7387933.0287978\ttotal: 625ms\tremaining: 5.27s\n",
      "106:\tlearn: 7361095.5470126\ttotal: 631ms\tremaining: 5.26s\n",
      "107:\tlearn: 7329561.9930722\ttotal: 638ms\tremaining: 5.27s\n",
      "108:\tlearn: 7302754.5982176\ttotal: 644ms\tremaining: 5.26s\n",
      "109:\tlearn: 7279372.0150389\ttotal: 650ms\tremaining: 5.26s\n",
      "110:\tlearn: 7253487.7471197\ttotal: 656ms\tremaining: 5.25s\n",
      "111:\tlearn: 7225122.3956249\ttotal: 661ms\tremaining: 5.24s\n",
      "112:\tlearn: 7197535.3660469\ttotal: 666ms\tremaining: 5.22s\n",
      "113:\tlearn: 7168053.7200774\ttotal: 670ms\tremaining: 5.21s\n",
      "114:\tlearn: 7147232.2292942\ttotal: 675ms\tremaining: 5.2s\n",
      "115:\tlearn: 7122818.3424639\ttotal: 680ms\tremaining: 5.18s\n",
      "116:\tlearn: 7097668.5611320\ttotal: 685ms\tremaining: 5.17s\n",
      "117:\tlearn: 7073603.7320575\ttotal: 690ms\tremaining: 5.16s\n",
      "118:\tlearn: 7049873.5121465\ttotal: 695ms\tremaining: 5.15s\n",
      "119:\tlearn: 7029125.8894113\ttotal: 700ms\tremaining: 5.13s\n",
      "120:\tlearn: 7000721.9918219\ttotal: 705ms\tremaining: 5.12s\n",
      "121:\tlearn: 6975137.0247141\ttotal: 710ms\tremaining: 5.11s\n",
      "122:\tlearn: 6949013.1341657\ttotal: 716ms\tremaining: 5.1s\n",
      "123:\tlearn: 6924202.0147683\ttotal: 723ms\tremaining: 5.11s\n",
      "124:\tlearn: 6897811.7914517\ttotal: 731ms\tremaining: 5.11s\n",
      "125:\tlearn: 6874733.2712457\ttotal: 739ms\tremaining: 5.13s\n",
      "126:\tlearn: 6848877.9487424\ttotal: 746ms\tremaining: 5.13s\n",
      "127:\tlearn: 6818234.8671945\ttotal: 753ms\tremaining: 5.13s\n",
      "128:\tlearn: 6796045.7818239\ttotal: 761ms\tremaining: 5.14s\n",
      "129:\tlearn: 6774960.0437892\ttotal: 769ms\tremaining: 5.14s\n",
      "130:\tlearn: 6751086.7769390\ttotal: 776ms\tremaining: 5.15s\n",
      "131:\tlearn: 6726945.3385319\ttotal: 784ms\tremaining: 5.15s\n",
      "132:\tlearn: 6704564.9565707\ttotal: 792ms\tremaining: 5.16s\n",
      "133:\tlearn: 6683879.6059750\ttotal: 799ms\tremaining: 5.16s\n",
      "134:\tlearn: 6659812.3964776\ttotal: 805ms\tremaining: 5.16s\n",
      "135:\tlearn: 6633896.7470344\ttotal: 812ms\tremaining: 5.16s\n",
      "136:\tlearn: 6609490.7736402\ttotal: 818ms\tremaining: 5.15s\n",
      "137:\tlearn: 6587040.8312999\ttotal: 824ms\tremaining: 5.15s\n",
      "138:\tlearn: 6565967.2409893\ttotal: 830ms\tremaining: 5.14s\n",
      "139:\tlearn: 6540935.7997656\ttotal: 836ms\tremaining: 5.14s\n",
      "140:\tlearn: 6520292.2943964\ttotal: 842ms\tremaining: 5.13s\n",
      "141:\tlearn: 6497691.6747959\ttotal: 847ms\tremaining: 5.12s\n",
      "142:\tlearn: 6475952.5209359\ttotal: 852ms\tremaining: 5.11s\n",
      "143:\tlearn: 6452882.3150674\ttotal: 859ms\tremaining: 5.1s\n",
      "144:\tlearn: 6434399.1312716\ttotal: 864ms\tremaining: 5.09s\n",
      "145:\tlearn: 6410893.4385025\ttotal: 869ms\tremaining: 5.08s\n",
      "146:\tlearn: 6393511.0197481\ttotal: 875ms\tremaining: 5.07s\n",
      "147:\tlearn: 6370912.2589399\ttotal: 880ms\tremaining: 5.06s\n",
      "148:\tlearn: 6347466.6087323\ttotal: 885ms\tremaining: 5.05s\n",
      "149:\tlearn: 6326905.2349621\ttotal: 891ms\tremaining: 5.05s\n",
      "150:\tlearn: 6307060.4324958\ttotal: 898ms\tremaining: 5.05s\n",
      "151:\tlearn: 6290444.9011379\ttotal: 905ms\tremaining: 5.05s\n",
      "152:\tlearn: 6270757.4155357\ttotal: 911ms\tremaining: 5.04s\n",
      "153:\tlearn: 6253133.5425219\ttotal: 916ms\tremaining: 5.03s\n",
      "154:\tlearn: 6235917.5575852\ttotal: 922ms\tremaining: 5.02s\n",
      "155:\tlearn: 6216154.6763454\ttotal: 927ms\tremaining: 5.01s\n",
      "156:\tlearn: 6198698.1228052\ttotal: 934ms\tremaining: 5.02s\n",
      "157:\tlearn: 6182833.8552077\ttotal: 940ms\tremaining: 5.01s\n",
      "158:\tlearn: 6166177.7441052\ttotal: 947ms\tremaining: 5.01s\n",
      "159:\tlearn: 6146749.5001191\ttotal: 953ms\tremaining: 5s\n",
      "160:\tlearn: 6123634.8289966\ttotal: 960ms\tremaining: 5s\n",
      "161:\tlearn: 6109695.9756385\ttotal: 967ms\tremaining: 5s\n",
      "162:\tlearn: 6088816.8126722\ttotal: 974ms\tremaining: 5s\n",
      "163:\tlearn: 6070703.9594534\ttotal: 982ms\tremaining: 5s\n",
      "164:\tlearn: 6050777.6408338\ttotal: 989ms\tremaining: 5.01s\n",
      "165:\tlearn: 6031136.3265971\ttotal: 997ms\tremaining: 5.01s\n",
      "166:\tlearn: 6012287.8634791\ttotal: 1s\tremaining: 5.01s\n"
     ]
    },
    {
     "name": "stdout",
     "output_type": "stream",
     "text": [
      "167:\tlearn: 5990553.1512089\ttotal: 1.01s\tremaining: 5.01s\n",
      "168:\tlearn: 5970377.8379178\ttotal: 1.02s\tremaining: 5.01s\n",
      "169:\tlearn: 5947931.9021509\ttotal: 1.03s\tremaining: 5.02s\n",
      "170:\tlearn: 5935653.8696149\ttotal: 1.04s\tremaining: 5.03s\n",
      "171:\tlearn: 5914648.3406435\ttotal: 1.04s\tremaining: 5.03s\n",
      "172:\tlearn: 5895720.6653860\ttotal: 1.05s\tremaining: 5.02s\n",
      "173:\tlearn: 5877764.5923897\ttotal: 1.05s\tremaining: 5.01s\n",
      "174:\tlearn: 5859869.9265618\ttotal: 1.06s\tremaining: 5.01s\n",
      "175:\tlearn: 5841858.4231342\ttotal: 1.07s\tremaining: 5s\n",
      "176:\tlearn: 5824397.2599782\ttotal: 1.07s\tremaining: 4.99s\n",
      "177:\tlearn: 5806002.0684841\ttotal: 1.08s\tremaining: 4.98s\n",
      "178:\tlearn: 5788898.9389600\ttotal: 1.08s\tremaining: 4.97s\n",
      "179:\tlearn: 5769122.6752171\ttotal: 1.09s\tremaining: 4.96s\n",
      "180:\tlearn: 5752048.0765789\ttotal: 1.09s\tremaining: 4.95s\n",
      "181:\tlearn: 5738332.9862077\ttotal: 1.1s\tremaining: 4.94s\n",
      "182:\tlearn: 5722686.3417393\ttotal: 1.1s\tremaining: 4.93s\n",
      "183:\tlearn: 5706511.7390910\ttotal: 1.11s\tremaining: 4.92s\n",
      "184:\tlearn: 5689776.2959288\ttotal: 1.11s\tremaining: 4.91s\n",
      "185:\tlearn: 5674431.4666074\ttotal: 1.12s\tremaining: 4.9s\n",
      "186:\tlearn: 5660462.5728792\ttotal: 1.12s\tremaining: 4.89s\n",
      "187:\tlearn: 5645432.7817083\ttotal: 1.13s\tremaining: 4.88s\n",
      "188:\tlearn: 5628972.8739668\ttotal: 1.13s\tremaining: 4.86s\n",
      "189:\tlearn: 5612722.2991830\ttotal: 1.14s\tremaining: 4.86s\n",
      "190:\tlearn: 5598665.2744540\ttotal: 1.14s\tremaining: 4.85s\n",
      "191:\tlearn: 5584769.0622934\ttotal: 1.15s\tremaining: 4.84s\n",
      "192:\tlearn: 5571573.0472128\ttotal: 1.15s\tremaining: 4.83s\n",
      "193:\tlearn: 5560679.5487529\ttotal: 1.16s\tremaining: 4.82s\n",
      "194:\tlearn: 5543949.8584517\ttotal: 1.17s\tremaining: 4.83s\n",
      "195:\tlearn: 5527276.9001328\ttotal: 1.18s\tremaining: 4.83s\n",
      "196:\tlearn: 5513182.3663940\ttotal: 1.18s\tremaining: 4.82s\n",
      "197:\tlearn: 5497868.9136883\ttotal: 1.19s\tremaining: 4.8s\n",
      "198:\tlearn: 5482966.4681076\ttotal: 1.19s\tremaining: 4.79s\n",
      "199:\tlearn: 5468996.0426581\ttotal: 1.2s\tremaining: 4.78s\n",
      "200:\tlearn: 5450271.2666019\ttotal: 1.2s\tremaining: 4.78s\n",
      "201:\tlearn: 5433605.0554100\ttotal: 1.21s\tremaining: 4.77s\n",
      "202:\tlearn: 5419867.5147445\ttotal: 1.21s\tremaining: 4.76s\n",
      "203:\tlearn: 5401398.4176474\ttotal: 1.22s\tremaining: 4.76s\n",
      "204:\tlearn: 5387497.9100831\ttotal: 1.23s\tremaining: 4.76s\n",
      "205:\tlearn: 5371476.5663437\ttotal: 1.23s\tremaining: 4.75s\n",
      "206:\tlearn: 5352668.3881912\ttotal: 1.24s\tremaining: 4.75s\n",
      "207:\tlearn: 5337202.1837206\ttotal: 1.25s\tremaining: 4.76s\n",
      "208:\tlearn: 5319864.5479072\ttotal: 1.25s\tremaining: 4.75s\n",
      "209:\tlearn: 5306431.3560265\ttotal: 1.26s\tremaining: 4.74s\n",
      "210:\tlearn: 5291577.4941706\ttotal: 1.26s\tremaining: 4.73s\n",
      "211:\tlearn: 5276181.7280263\ttotal: 1.27s\tremaining: 4.72s\n",
      "212:\tlearn: 5264122.9044866\ttotal: 1.27s\tremaining: 4.71s\n",
      "213:\tlearn: 5250303.4816748\ttotal: 1.28s\tremaining: 4.71s\n",
      "214:\tlearn: 5233936.6366078\ttotal: 1.29s\tremaining: 4.7s\n",
      "215:\tlearn: 5219215.9984707\ttotal: 1.29s\tremaining: 4.7s\n",
      "216:\tlearn: 5205452.9814736\ttotal: 1.3s\tremaining: 4.69s\n",
      "217:\tlearn: 5193857.2979542\ttotal: 1.31s\tremaining: 4.68s\n",
      "218:\tlearn: 5181671.8822417\ttotal: 1.31s\tremaining: 4.67s\n",
      "219:\tlearn: 5166467.9966154\ttotal: 1.32s\tremaining: 4.67s\n",
      "220:\tlearn: 5150726.8582454\ttotal: 1.32s\tremaining: 4.66s\n",
      "221:\tlearn: 5135383.4116346\ttotal: 1.33s\tremaining: 4.65s\n",
      "222:\tlearn: 5122030.7609302\ttotal: 1.33s\tremaining: 4.64s\n",
      "223:\tlearn: 5109211.0505931\ttotal: 1.34s\tremaining: 4.64s\n",
      "224:\tlearn: 5095541.4974119\ttotal: 1.34s\tremaining: 4.63s\n",
      "225:\tlearn: 5083171.7788956\ttotal: 1.35s\tremaining: 4.62s\n",
      "226:\tlearn: 5068954.0850158\ttotal: 1.35s\tremaining: 4.62s\n",
      "227:\tlearn: 5059802.3739031\ttotal: 1.36s\tremaining: 4.61s\n",
      "228:\tlearn: 5046946.8815229\ttotal: 1.36s\tremaining: 4.6s\n",
      "229:\tlearn: 5033991.9047682\ttotal: 1.37s\tremaining: 4.59s\n",
      "230:\tlearn: 5019243.9089725\ttotal: 1.38s\tremaining: 4.59s\n",
      "231:\tlearn: 5004132.2738643\ttotal: 1.38s\tremaining: 4.58s\n",
      "232:\tlearn: 4994206.6759251\ttotal: 1.39s\tremaining: 4.57s\n",
      "233:\tlearn: 4979290.1554169\ttotal: 1.39s\tremaining: 4.56s\n",
      "234:\tlearn: 4967460.6354593\ttotal: 1.4s\tremaining: 4.55s\n",
      "235:\tlearn: 4955690.5132847\ttotal: 1.4s\tremaining: 4.55s\n",
      "236:\tlearn: 4943374.8527507\ttotal: 1.41s\tremaining: 4.54s\n",
      "237:\tlearn: 4932603.7311897\ttotal: 1.42s\tremaining: 4.54s\n",
      "238:\tlearn: 4921701.0985054\ttotal: 1.42s\tremaining: 4.54s\n",
      "239:\tlearn: 4906990.8050557\ttotal: 1.43s\tremaining: 4.53s\n",
      "240:\tlearn: 4891558.8588703\ttotal: 1.44s\tremaining: 4.52s\n",
      "241:\tlearn: 4878409.0941350\ttotal: 1.44s\tremaining: 4.52s\n",
      "242:\tlearn: 4865574.6963727\ttotal: 1.45s\tremaining: 4.52s\n",
      "243:\tlearn: 4853148.7477507\ttotal: 1.46s\tremaining: 4.52s\n",
      "244:\tlearn: 4841887.0275311\ttotal: 1.46s\tremaining: 4.51s\n",
      "245:\tlearn: 4828048.8093038\ttotal: 1.47s\tremaining: 4.51s\n",
      "246:\tlearn: 4814952.9911193\ttotal: 1.48s\tremaining: 4.5s\n",
      "247:\tlearn: 4800620.4815216\ttotal: 1.48s\tremaining: 4.5s\n",
      "248:\tlearn: 4786351.2378186\ttotal: 1.49s\tremaining: 4.5s\n",
      "249:\tlearn: 4775178.2110460\ttotal: 1.5s\tremaining: 4.49s\n",
      "250:\tlearn: 4762174.9402368\ttotal: 1.5s\tremaining: 4.48s\n",
      "251:\tlearn: 4747596.7889065\ttotal: 1.51s\tremaining: 4.48s\n",
      "252:\tlearn: 4737704.6809393\ttotal: 1.52s\tremaining: 4.48s\n",
      "253:\tlearn: 4726206.9857001\ttotal: 1.52s\tremaining: 4.47s\n",
      "254:\tlearn: 4715932.0787887\ttotal: 1.53s\tremaining: 4.47s\n",
      "255:\tlearn: 4705301.3228022\ttotal: 1.54s\tremaining: 4.47s\n",
      "256:\tlearn: 4691300.8024839\ttotal: 1.54s\tremaining: 4.46s\n",
      "257:\tlearn: 4684742.4373081\ttotal: 1.55s\tremaining: 4.46s\n",
      "258:\tlearn: 4673251.2860831\ttotal: 1.55s\tremaining: 4.45s\n",
      "259:\tlearn: 4661324.5204754\ttotal: 1.56s\tremaining: 4.45s\n",
      "260:\tlearn: 4650336.9355621\ttotal: 1.57s\tremaining: 4.44s\n",
      "261:\tlearn: 4635971.8174463\ttotal: 1.57s\tremaining: 4.43s\n",
      "262:\tlearn: 4625052.0616007\ttotal: 1.58s\tremaining: 4.42s\n",
      "263:\tlearn: 4612811.1109758\ttotal: 1.58s\tremaining: 4.41s\n",
      "264:\tlearn: 4602311.4128346\ttotal: 1.59s\tremaining: 4.4s\n",
      "265:\tlearn: 4590697.8236613\ttotal: 1.59s\tremaining: 4.4s\n",
      "266:\tlearn: 4582814.2497673\ttotal: 1.6s\tremaining: 4.39s\n",
      "267:\tlearn: 4574294.8582989\ttotal: 1.61s\tremaining: 4.39s\n",
      "268:\tlearn: 4563371.0091538\ttotal: 1.61s\tremaining: 4.38s\n",
      "269:\tlearn: 4554062.4022913\ttotal: 1.62s\tremaining: 4.38s\n",
      "270:\tlearn: 4545890.1583565\ttotal: 1.63s\tremaining: 4.38s\n",
      "271:\tlearn: 4534441.3269562\ttotal: 1.64s\tremaining: 4.38s\n",
      "272:\tlearn: 4529221.6548101\ttotal: 1.64s\tremaining: 4.38s\n",
      "273:\tlearn: 4521477.0160774\ttotal: 1.65s\tremaining: 4.37s\n",
      "274:\tlearn: 4512686.2981884\ttotal: 1.66s\tremaining: 4.37s\n",
      "275:\tlearn: 4501344.2091629\ttotal: 1.66s\tremaining: 4.37s\n",
      "276:\tlearn: 4491559.0848528\ttotal: 1.67s\tremaining: 4.36s\n",
      "277:\tlearn: 4477937.1734907\ttotal: 1.68s\tremaining: 4.36s\n",
      "278:\tlearn: 4468647.3460056\ttotal: 1.69s\tremaining: 4.36s\n",
      "279:\tlearn: 4460213.7239577\ttotal: 1.69s\tremaining: 4.36s\n",
      "280:\tlearn: 4450429.8108048\ttotal: 1.7s\tremaining: 4.35s\n",
      "281:\tlearn: 4444418.5527476\ttotal: 1.71s\tremaining: 4.35s\n",
      "282:\tlearn: 4434421.1176137\ttotal: 1.72s\tremaining: 4.35s\n",
      "283:\tlearn: 4426141.3511614\ttotal: 1.72s\tremaining: 4.34s\n",
      "284:\tlearn: 4420547.6534990\ttotal: 1.73s\tremaining: 4.34s\n",
      "285:\tlearn: 4408848.7727552\ttotal: 1.74s\tremaining: 4.33s\n",
      "286:\tlearn: 4401331.5751021\ttotal: 1.74s\tremaining: 4.33s\n",
      "287:\tlearn: 4392787.4514101\ttotal: 1.75s\tremaining: 4.33s\n",
      "288:\tlearn: 4384231.3808295\ttotal: 1.76s\tremaining: 4.32s\n",
      "289:\tlearn: 4372688.1330894\ttotal: 1.76s\tremaining: 4.32s\n",
      "290:\tlearn: 4358735.8579321\ttotal: 1.77s\tremaining: 4.32s\n",
      "291:\tlearn: 4350821.7489239\ttotal: 1.78s\tremaining: 4.31s\n",
      "292:\tlearn: 4341184.8634508\ttotal: 1.79s\tremaining: 4.31s\n",
      "293:\tlearn: 4330496.6463623\ttotal: 1.79s\tremaining: 4.31s\n",
      "294:\tlearn: 4323094.2379466\ttotal: 1.8s\tremaining: 4.3s\n",
      "295:\tlearn: 4315701.8432183\ttotal: 1.81s\tremaining: 4.3s\n",
      "296:\tlearn: 4306655.7376542\ttotal: 1.81s\tremaining: 4.3s\n",
      "297:\tlearn: 4295842.1790859\ttotal: 1.82s\tremaining: 4.29s\n",
      "298:\tlearn: 4287282.9599361\ttotal: 1.83s\tremaining: 4.29s\n",
      "299:\tlearn: 4277066.9117114\ttotal: 1.83s\tremaining: 4.28s\n",
      "300:\tlearn: 4268463.8249829\ttotal: 1.84s\tremaining: 4.28s\n",
      "301:\tlearn: 4259342.1099986\ttotal: 1.85s\tremaining: 4.28s\n",
      "302:\tlearn: 4248691.2156474\ttotal: 1.86s\tremaining: 4.27s\n",
      "303:\tlearn: 4239449.7167361\ttotal: 1.86s\tremaining: 4.27s\n",
      "304:\tlearn: 4230518.5697475\ttotal: 1.87s\tremaining: 4.26s\n",
      "305:\tlearn: 4222135.4217549\ttotal: 1.87s\tremaining: 4.25s\n",
      "306:\tlearn: 4210602.2605128\ttotal: 1.88s\tremaining: 4.24s\n",
      "307:\tlearn: 4201994.0682435\ttotal: 1.88s\tremaining: 4.23s\n",
      "308:\tlearn: 4193099.1715581\ttotal: 1.89s\tremaining: 4.23s\n",
      "309:\tlearn: 4185280.1770362\ttotal: 1.9s\tremaining: 4.22s\n",
      "310:\tlearn: 4177240.7129152\ttotal: 1.91s\tremaining: 4.22s\n",
      "311:\tlearn: 4167176.0177284\ttotal: 1.91s\tremaining: 4.22s\n",
      "312:\tlearn: 4159357.7591691\ttotal: 1.92s\tremaining: 4.21s\n",
      "313:\tlearn: 4151265.5285287\ttotal: 1.92s\tremaining: 4.2s\n",
      "314:\tlearn: 4143713.3866514\ttotal: 1.93s\tremaining: 4.19s\n",
      "315:\tlearn: 4132889.2356692\ttotal: 1.94s\tremaining: 4.19s\n",
      "316:\tlearn: 4126354.8469065\ttotal: 1.94s\tremaining: 4.18s\n",
      "317:\tlearn: 4116539.0026709\ttotal: 1.95s\tremaining: 4.18s\n",
      "318:\tlearn: 4109344.2630413\ttotal: 1.96s\tremaining: 4.18s\n",
      "319:\tlearn: 4098585.2926713\ttotal: 1.96s\tremaining: 4.17s\n",
      "320:\tlearn: 4089067.1908018\ttotal: 1.97s\tremaining: 4.17s\n",
      "321:\tlearn: 4079447.3157556\ttotal: 1.98s\tremaining: 4.16s\n"
     ]
    },
    {
     "name": "stdout",
     "output_type": "stream",
     "text": [
      "322:\tlearn: 4072146.7839751\ttotal: 1.99s\tremaining: 4.16s\n",
      "323:\tlearn: 4060598.4866397\ttotal: 1.99s\tremaining: 4.16s\n",
      "324:\tlearn: 4051317.9251518\ttotal: 2s\tremaining: 4.16s\n",
      "325:\tlearn: 4041202.7120992\ttotal: 2.01s\tremaining: 4.15s\n",
      "326:\tlearn: 4032777.4978508\ttotal: 2.02s\tremaining: 4.15s\n",
      "327:\tlearn: 4025541.8913993\ttotal: 2.02s\tremaining: 4.14s\n",
      "328:\tlearn: 4014328.9036386\ttotal: 2.03s\tremaining: 4.14s\n",
      "329:\tlearn: 4006685.9456146\ttotal: 2.04s\tremaining: 4.13s\n",
      "330:\tlearn: 3996369.8867481\ttotal: 2.04s\tremaining: 4.13s\n",
      "331:\tlearn: 3988872.2628046\ttotal: 2.05s\tremaining: 4.13s\n",
      "332:\tlearn: 3982089.1750862\ttotal: 2.06s\tremaining: 4.12s\n",
      "333:\tlearn: 3975149.6243493\ttotal: 2.06s\tremaining: 4.12s\n",
      "334:\tlearn: 3963494.1232527\ttotal: 2.07s\tremaining: 4.11s\n",
      "335:\tlearn: 3959166.7914301\ttotal: 2.08s\tremaining: 4.11s\n",
      "336:\tlearn: 3948892.9757225\ttotal: 2.09s\tremaining: 4.1s\n",
      "337:\tlearn: 3941128.0528661\ttotal: 2.09s\tremaining: 4.1s\n",
      "338:\tlearn: 3936479.6260022\ttotal: 2.1s\tremaining: 4.09s\n",
      "339:\tlearn: 3926737.4570219\ttotal: 2.11s\tremaining: 4.09s\n",
      "340:\tlearn: 3918683.8976964\ttotal: 2.12s\tremaining: 4.09s\n",
      "341:\tlearn: 3907849.7355904\ttotal: 2.12s\tremaining: 4.08s\n",
      "342:\tlearn: 3895863.4762500\ttotal: 2.13s\tremaining: 4.08s\n",
      "343:\tlearn: 3888879.7800416\ttotal: 2.14s\tremaining: 4.08s\n",
      "344:\tlearn: 3881836.7662636\ttotal: 2.15s\tremaining: 4.08s\n",
      "345:\tlearn: 3872883.6890575\ttotal: 2.15s\tremaining: 4.07s\n",
      "346:\tlearn: 3866679.7569387\ttotal: 2.16s\tremaining: 4.07s\n",
      "347:\tlearn: 3862451.6551482\ttotal: 2.17s\tremaining: 4.06s\n",
      "348:\tlearn: 3853618.6273655\ttotal: 2.17s\tremaining: 4.06s\n",
      "349:\tlearn: 3847170.8366166\ttotal: 2.18s\tremaining: 4.05s\n",
      "350:\tlearn: 3838171.2651141\ttotal: 2.19s\tremaining: 4.05s\n",
      "351:\tlearn: 3830855.5398964\ttotal: 2.2s\tremaining: 4.04s\n",
      "352:\tlearn: 3822949.6826204\ttotal: 2.2s\tremaining: 4.04s\n",
      "353:\tlearn: 3819006.2681879\ttotal: 2.21s\tremaining: 4.04s\n",
      "354:\tlearn: 3812720.5540296\ttotal: 2.22s\tremaining: 4.03s\n",
      "355:\tlearn: 3804372.1217149\ttotal: 2.23s\tremaining: 4.03s\n",
      "356:\tlearn: 3796538.0823435\ttotal: 2.23s\tremaining: 4.02s\n",
      "357:\tlearn: 3792439.5896908\ttotal: 2.24s\tremaining: 4.01s\n",
      "358:\tlearn: 3788784.4621955\ttotal: 2.25s\tremaining: 4.01s\n",
      "359:\tlearn: 3782105.3806689\ttotal: 2.25s\tremaining: 4s\n",
      "360:\tlearn: 3776297.9256727\ttotal: 2.26s\tremaining: 4s\n",
      "361:\tlearn: 3765914.5882703\ttotal: 2.27s\tremaining: 4s\n",
      "362:\tlearn: 3759664.9069113\ttotal: 2.27s\tremaining: 3.99s\n",
      "363:\tlearn: 3753351.7249254\ttotal: 2.28s\tremaining: 3.98s\n",
      "364:\tlearn: 3749041.7811079\ttotal: 2.29s\tremaining: 3.98s\n",
      "365:\tlearn: 3740021.7652667\ttotal: 2.29s\tremaining: 3.98s\n",
      "366:\tlearn: 3731899.9642684\ttotal: 2.3s\tremaining: 3.97s\n",
      "367:\tlearn: 3725465.6186068\ttotal: 2.31s\tremaining: 3.96s\n",
      "368:\tlearn: 3717518.4891553\ttotal: 2.31s\tremaining: 3.96s\n",
      "369:\tlearn: 3711590.2788531\ttotal: 2.32s\tremaining: 3.96s\n",
      "370:\tlearn: 3705472.0184942\ttotal: 2.33s\tremaining: 3.95s\n",
      "371:\tlearn: 3700646.3225265\ttotal: 2.34s\tremaining: 3.94s\n",
      "372:\tlearn: 3692214.5247627\ttotal: 2.34s\tremaining: 3.94s\n",
      "373:\tlearn: 3687136.7491323\ttotal: 2.35s\tremaining: 3.93s\n",
      "374:\tlearn: 3681039.6578425\ttotal: 2.36s\tremaining: 3.93s\n",
      "375:\tlearn: 3674173.8868955\ttotal: 2.36s\tremaining: 3.92s\n",
      "376:\tlearn: 3667957.7138452\ttotal: 2.37s\tremaining: 3.92s\n",
      "377:\tlearn: 3661263.9053301\ttotal: 2.38s\tremaining: 3.92s\n",
      "378:\tlearn: 3654983.5035131\ttotal: 2.39s\tremaining: 3.91s\n",
      "379:\tlearn: 3649430.6449255\ttotal: 2.4s\tremaining: 3.91s\n",
      "380:\tlearn: 3641923.5149184\ttotal: 2.4s\tremaining: 3.9s\n",
      "381:\tlearn: 3634345.2240016\ttotal: 2.41s\tremaining: 3.9s\n",
      "382:\tlearn: 3627415.2283226\ttotal: 2.42s\tremaining: 3.89s\n",
      "383:\tlearn: 3621336.9271340\ttotal: 2.42s\tremaining: 3.89s\n",
      "384:\tlearn: 3615254.9134466\ttotal: 2.43s\tremaining: 3.88s\n",
      "385:\tlearn: 3607032.9076649\ttotal: 2.44s\tremaining: 3.88s\n",
      "386:\tlearn: 3599903.4382864\ttotal: 2.44s\tremaining: 3.87s\n",
      "387:\tlearn: 3593279.9831652\ttotal: 2.45s\tremaining: 3.87s\n",
      "388:\tlearn: 3584757.8346111\ttotal: 2.46s\tremaining: 3.86s\n",
      "389:\tlearn: 3577711.3631466\ttotal: 2.46s\tremaining: 3.86s\n",
      "390:\tlearn: 3572204.1774204\ttotal: 2.47s\tremaining: 3.85s\n",
      "391:\tlearn: 3564616.5576687\ttotal: 2.48s\tremaining: 3.85s\n",
      "392:\tlearn: 3555016.9372461\ttotal: 2.49s\tremaining: 3.84s\n",
      "393:\tlearn: 3549187.0781544\ttotal: 2.49s\tremaining: 3.84s\n",
      "394:\tlearn: 3543676.3570334\ttotal: 2.5s\tremaining: 3.83s\n",
      "395:\tlearn: 3537556.6710661\ttotal: 2.51s\tremaining: 3.83s\n",
      "396:\tlearn: 3529191.2028705\ttotal: 2.52s\tremaining: 3.82s\n",
      "397:\tlearn: 3523806.3778169\ttotal: 2.52s\tremaining: 3.82s\n",
      "398:\tlearn: 3516755.1231450\ttotal: 2.53s\tremaining: 3.81s\n",
      "399:\tlearn: 3510888.4246901\ttotal: 2.54s\tremaining: 3.81s\n",
      "400:\tlearn: 3505756.3531543\ttotal: 2.54s\tremaining: 3.8s\n",
      "401:\tlearn: 3500507.1678444\ttotal: 2.55s\tremaining: 3.79s\n",
      "402:\tlearn: 3492281.1106048\ttotal: 2.56s\tremaining: 3.79s\n",
      "403:\tlearn: 3483313.6992739\ttotal: 2.56s\tremaining: 3.78s\n",
      "404:\tlearn: 3479595.3796065\ttotal: 2.57s\tremaining: 3.78s\n",
      "405:\tlearn: 3476299.6398376\ttotal: 2.58s\tremaining: 3.77s\n",
      "406:\tlearn: 3470953.2595940\ttotal: 2.59s\tremaining: 3.77s\n",
      "407:\tlearn: 3465524.0620553\ttotal: 2.59s\tremaining: 3.76s\n",
      "408:\tlearn: 3458797.3738667\ttotal: 2.6s\tremaining: 3.75s\n",
      "409:\tlearn: 3455342.3538011\ttotal: 2.61s\tremaining: 3.75s\n",
      "410:\tlearn: 3447587.0099939\ttotal: 2.61s\tremaining: 3.75s\n",
      "411:\tlearn: 3442306.6661789\ttotal: 2.62s\tremaining: 3.74s\n",
      "412:\tlearn: 3437449.7667945\ttotal: 2.63s\tremaining: 3.73s\n",
      "413:\tlearn: 3431480.7026380\ttotal: 2.63s\tremaining: 3.73s\n",
      "414:\tlearn: 3425790.8183675\ttotal: 2.64s\tremaining: 3.72s\n",
      "415:\tlearn: 3419986.7154788\ttotal: 2.65s\tremaining: 3.72s\n",
      "416:\tlearn: 3416483.9122050\ttotal: 2.66s\tremaining: 3.71s\n",
      "417:\tlearn: 3411639.0679689\ttotal: 2.66s\tremaining: 3.7s\n",
      "418:\tlearn: 3405853.4179266\ttotal: 2.67s\tremaining: 3.7s\n",
      "419:\tlearn: 3400945.1323328\ttotal: 2.67s\tremaining: 3.69s\n",
      "420:\tlearn: 3393454.2190415\ttotal: 2.68s\tremaining: 3.69s\n",
      "421:\tlearn: 3386684.0985302\ttotal: 2.69s\tremaining: 3.68s\n",
      "422:\tlearn: 3381541.3499405\ttotal: 2.7s\tremaining: 3.68s\n",
      "423:\tlearn: 3373978.1472620\ttotal: 2.7s\tremaining: 3.67s\n",
      "424:\tlearn: 3366774.8192295\ttotal: 2.71s\tremaining: 3.67s\n",
      "425:\tlearn: 3361413.8076151\ttotal: 2.72s\tremaining: 3.66s\n",
      "426:\tlearn: 3356490.9457077\ttotal: 2.73s\tremaining: 3.66s\n",
      "427:\tlearn: 3351802.3535590\ttotal: 2.73s\tremaining: 3.65s\n",
      "428:\tlearn: 3344452.8637307\ttotal: 2.74s\tremaining: 3.65s\n",
      "429:\tlearn: 3337610.5291047\ttotal: 2.75s\tremaining: 3.64s\n",
      "430:\tlearn: 3330860.7857628\ttotal: 2.75s\tremaining: 3.64s\n",
      "431:\tlearn: 3325810.0733944\ttotal: 2.76s\tremaining: 3.63s\n",
      "432:\tlearn: 3320051.8315885\ttotal: 2.77s\tremaining: 3.63s\n",
      "433:\tlearn: 3315818.7943794\ttotal: 2.78s\tremaining: 3.62s\n",
      "434:\tlearn: 3311180.3330892\ttotal: 2.78s\tremaining: 3.61s\n",
      "435:\tlearn: 3306120.9952409\ttotal: 2.79s\tremaining: 3.61s\n",
      "436:\tlearn: 3299764.7899627\ttotal: 2.8s\tremaining: 3.6s\n",
      "437:\tlearn: 3294511.6180750\ttotal: 2.81s\tremaining: 3.6s\n",
      "438:\tlearn: 3289319.1180144\ttotal: 2.82s\tremaining: 3.6s\n",
      "439:\tlearn: 3285489.9417597\ttotal: 2.83s\tremaining: 3.6s\n",
      "440:\tlearn: 3280721.9664813\ttotal: 2.83s\tremaining: 3.59s\n",
      "441:\tlearn: 3275240.0307811\ttotal: 2.84s\tremaining: 3.58s\n",
      "442:\tlearn: 3269289.8426878\ttotal: 2.85s\tremaining: 3.58s\n",
      "443:\tlearn: 3264618.8587822\ttotal: 2.85s\tremaining: 3.57s\n",
      "444:\tlearn: 3259355.0637231\ttotal: 2.86s\tremaining: 3.57s\n",
      "445:\tlearn: 3255652.9184694\ttotal: 2.87s\tremaining: 3.56s\n",
      "446:\tlearn: 3251093.7269594\ttotal: 2.87s\tremaining: 3.55s\n",
      "447:\tlearn: 3248290.1221151\ttotal: 2.88s\tremaining: 3.55s\n",
      "448:\tlearn: 3241812.5553388\ttotal: 2.88s\tremaining: 3.54s\n",
      "449:\tlearn: 3236062.8477014\ttotal: 2.89s\tremaining: 3.53s\n",
      "450:\tlearn: 3233139.6111795\ttotal: 2.9s\tremaining: 3.52s\n",
      "451:\tlearn: 3228928.0987234\ttotal: 2.9s\tremaining: 3.52s\n",
      "452:\tlearn: 3223077.3576245\ttotal: 2.9s\tremaining: 3.51s\n",
      "453:\tlearn: 3218750.0454103\ttotal: 2.91s\tremaining: 3.5s\n",
      "454:\tlearn: 3216045.5652701\ttotal: 2.91s\tremaining: 3.49s\n",
      "455:\tlearn: 3212154.6773840\ttotal: 2.92s\tremaining: 3.48s\n",
      "456:\tlearn: 3207564.3122768\ttotal: 2.92s\tremaining: 3.47s\n",
      "457:\tlearn: 3202981.8927123\ttotal: 2.93s\tremaining: 3.47s\n",
      "458:\tlearn: 3198146.4728429\ttotal: 2.94s\tremaining: 3.46s\n",
      "459:\tlearn: 3191720.6983526\ttotal: 2.94s\tremaining: 3.46s\n",
      "460:\tlearn: 3187000.1172994\ttotal: 2.95s\tremaining: 3.45s\n",
      "461:\tlearn: 3181178.0793877\ttotal: 2.96s\tremaining: 3.45s\n",
      "462:\tlearn: 3175816.5913883\ttotal: 2.97s\tremaining: 3.44s\n",
      "463:\tlearn: 3169646.4002506\ttotal: 2.97s\tremaining: 3.44s\n",
      "464:\tlearn: 3167580.8778533\ttotal: 2.98s\tremaining: 3.43s\n",
      "465:\tlearn: 3162283.5964116\ttotal: 2.99s\tremaining: 3.42s\n",
      "466:\tlearn: 3158282.5032742\ttotal: 3s\tremaining: 3.42s\n",
      "467:\tlearn: 3153731.2114647\ttotal: 3s\tremaining: 3.42s\n"
     ]
    },
    {
     "name": "stdout",
     "output_type": "stream",
     "text": [
      "468:\tlearn: 3146425.6516248\ttotal: 3.01s\tremaining: 3.41s\n",
      "469:\tlearn: 3141531.8559368\ttotal: 3.02s\tremaining: 3.4s\n",
      "470:\tlearn: 3136597.0327093\ttotal: 3.03s\tremaining: 3.4s\n",
      "471:\tlearn: 3129931.7498640\ttotal: 3.03s\tremaining: 3.39s\n",
      "472:\tlearn: 3124871.4424070\ttotal: 3.04s\tremaining: 3.39s\n",
      "473:\tlearn: 3117363.6097449\ttotal: 3.05s\tremaining: 3.38s\n",
      "474:\tlearn: 3114915.1236639\ttotal: 3.06s\tremaining: 3.38s\n",
      "475:\tlearn: 3112277.2560016\ttotal: 3.06s\tremaining: 3.37s\n",
      "476:\tlearn: 3106396.8881839\ttotal: 3.07s\tremaining: 3.37s\n",
      "477:\tlearn: 3101947.1420410\ttotal: 3.08s\tremaining: 3.36s\n",
      "478:\tlearn: 3098219.8294067\ttotal: 3.08s\tremaining: 3.36s\n",
      "479:\tlearn: 3092967.3766701\ttotal: 3.09s\tremaining: 3.35s\n",
      "480:\tlearn: 3089541.4932173\ttotal: 3.1s\tremaining: 3.35s\n",
      "481:\tlearn: 3086727.4077035\ttotal: 3.1s\tremaining: 3.33s\n",
      "482:\tlearn: 3081871.6783300\ttotal: 3.11s\tremaining: 3.33s\n",
      "483:\tlearn: 3079446.4529941\ttotal: 3.12s\tremaining: 3.32s\n",
      "484:\tlearn: 3075678.7396025\ttotal: 3.12s\tremaining: 3.32s\n",
      "485:\tlearn: 3069549.4192255\ttotal: 3.13s\tremaining: 3.31s\n",
      "486:\tlearn: 3065868.4293404\ttotal: 3.14s\tremaining: 3.31s\n",
      "487:\tlearn: 3059240.8098904\ttotal: 3.15s\tremaining: 3.3s\n",
      "488:\tlearn: 3052893.0269639\ttotal: 3.15s\tremaining: 3.3s\n",
      "489:\tlearn: 3050461.2067292\ttotal: 3.16s\tremaining: 3.29s\n",
      "490:\tlearn: 3043542.9710582\ttotal: 3.17s\tremaining: 3.29s\n",
      "491:\tlearn: 3038760.0181521\ttotal: 3.18s\tremaining: 3.28s\n",
      "492:\tlearn: 3034974.7217353\ttotal: 3.18s\tremaining: 3.27s\n",
      "493:\tlearn: 3032803.4398341\ttotal: 3.19s\tremaining: 3.27s\n",
      "494:\tlearn: 3029769.1613458\ttotal: 3.2s\tremaining: 3.26s\n",
      "495:\tlearn: 3025472.2045553\ttotal: 3.21s\tremaining: 3.26s\n",
      "496:\tlearn: 3021207.9242145\ttotal: 3.21s\tremaining: 3.25s\n",
      "497:\tlearn: 3018397.0285142\ttotal: 3.22s\tremaining: 3.25s\n",
      "498:\tlearn: 3012987.4161995\ttotal: 3.23s\tremaining: 3.24s\n",
      "499:\tlearn: 3008025.7771083\ttotal: 3.23s\tremaining: 3.23s\n",
      "500:\tlearn: 3004072.0944135\ttotal: 3.24s\tremaining: 3.23s\n",
      "501:\tlearn: 2996982.9144299\ttotal: 3.25s\tremaining: 3.22s\n",
      "502:\tlearn: 2993043.1867081\ttotal: 3.25s\tremaining: 3.22s\n",
      "503:\tlearn: 2989696.4734321\ttotal: 3.26s\tremaining: 3.21s\n",
      "504:\tlearn: 2985982.2533851\ttotal: 3.27s\tremaining: 3.2s\n",
      "505:\tlearn: 2980120.9097819\ttotal: 3.27s\tremaining: 3.19s\n",
      "506:\tlearn: 2977892.3391388\ttotal: 3.28s\tremaining: 3.19s\n",
      "507:\tlearn: 2971532.1525033\ttotal: 3.28s\tremaining: 3.18s\n",
      "508:\tlearn: 2968416.7256871\ttotal: 3.29s\tremaining: 3.17s\n",
      "509:\tlearn: 2965343.0705713\ttotal: 3.3s\tremaining: 3.17s\n",
      "510:\tlearn: 2960770.7367795\ttotal: 3.3s\tremaining: 3.16s\n",
      "511:\tlearn: 2954888.8081429\ttotal: 3.31s\tremaining: 3.16s\n",
      "512:\tlearn: 2949466.3138171\ttotal: 3.32s\tremaining: 3.15s\n",
      "513:\tlearn: 2943165.8176597\ttotal: 3.33s\tremaining: 3.14s\n",
      "514:\tlearn: 2937395.3735242\ttotal: 3.33s\tremaining: 3.14s\n",
      "515:\tlearn: 2931523.7518402\ttotal: 3.34s\tremaining: 3.13s\n",
      "516:\tlearn: 2929255.3254790\ttotal: 3.35s\tremaining: 3.13s\n",
      "517:\tlearn: 2925482.4903512\ttotal: 3.35s\tremaining: 3.12s\n",
      "518:\tlearn: 2923386.1737954\ttotal: 3.36s\tremaining: 3.12s\n",
      "519:\tlearn: 2919625.4443181\ttotal: 3.37s\tremaining: 3.11s\n",
      "520:\tlearn: 2914386.4149988\ttotal: 3.38s\tremaining: 3.1s\n",
      "521:\tlearn: 2909886.6208018\ttotal: 3.38s\tremaining: 3.1s\n",
      "522:\tlearn: 2907225.1637179\ttotal: 3.39s\tremaining: 3.09s\n",
      "523:\tlearn: 2904022.2782758\ttotal: 3.4s\tremaining: 3.08s\n",
      "524:\tlearn: 2898697.1379129\ttotal: 3.4s\tremaining: 3.08s\n",
      "525:\tlearn: 2894682.8206523\ttotal: 3.41s\tremaining: 3.07s\n",
      "526:\tlearn: 2892618.1228458\ttotal: 3.42s\tremaining: 3.07s\n",
      "527:\tlearn: 2886458.2452960\ttotal: 3.42s\tremaining: 3.06s\n",
      "528:\tlearn: 2882974.5053941\ttotal: 3.43s\tremaining: 3.06s\n",
      "529:\tlearn: 2876813.3393129\ttotal: 3.44s\tremaining: 3.05s\n",
      "530:\tlearn: 2872491.1855932\ttotal: 3.44s\tremaining: 3.04s\n",
      "531:\tlearn: 2869592.8934398\ttotal: 3.45s\tremaining: 3.04s\n",
      "532:\tlearn: 2864790.7486589\ttotal: 3.46s\tremaining: 3.03s\n",
      "533:\tlearn: 2861774.9603225\ttotal: 3.47s\tremaining: 3.02s\n",
      "534:\tlearn: 2858820.0897491\ttotal: 3.47s\tremaining: 3.02s\n",
      "535:\tlearn: 2855347.8782132\ttotal: 3.48s\tremaining: 3.01s\n",
      "536:\tlearn: 2851098.5500717\ttotal: 3.49s\tremaining: 3.01s\n",
      "537:\tlearn: 2847172.0580405\ttotal: 3.5s\tremaining: 3s\n",
      "538:\tlearn: 2842194.5536095\ttotal: 3.5s\tremaining: 3s\n",
      "539:\tlearn: 2839259.9317742\ttotal: 3.51s\tremaining: 2.99s\n",
      "540:\tlearn: 2835561.6731510\ttotal: 3.52s\tremaining: 2.98s\n",
      "541:\tlearn: 2832168.8724189\ttotal: 3.52s\tremaining: 2.98s\n",
      "542:\tlearn: 2829752.8346681\ttotal: 3.53s\tremaining: 2.97s\n",
      "543:\tlearn: 2826693.4141147\ttotal: 3.54s\tremaining: 2.96s\n",
      "544:\tlearn: 2821924.5197710\ttotal: 3.54s\tremaining: 2.96s\n",
      "545:\tlearn: 2819452.7381297\ttotal: 3.55s\tremaining: 2.95s\n",
      "546:\tlearn: 2813172.3227190\ttotal: 3.56s\tremaining: 2.95s\n",
      "547:\tlearn: 2807384.5106090\ttotal: 3.57s\tremaining: 2.94s\n",
      "548:\tlearn: 2805524.2207438\ttotal: 3.57s\tremaining: 2.94s\n",
      "549:\tlearn: 2803696.2530990\ttotal: 3.58s\tremaining: 2.93s\n",
      "550:\tlearn: 2798502.6134920\ttotal: 3.59s\tremaining: 2.92s\n",
      "551:\tlearn: 2797339.3762607\ttotal: 3.59s\tremaining: 2.92s\n",
      "552:\tlearn: 2793108.8211304\ttotal: 3.6s\tremaining: 2.91s\n",
      "553:\tlearn: 2791550.1182590\ttotal: 3.61s\tremaining: 2.9s\n",
      "554:\tlearn: 2785598.6424474\ttotal: 3.61s\tremaining: 2.9s\n",
      "555:\tlearn: 2782471.1229652\ttotal: 3.62s\tremaining: 2.89s\n",
      "556:\tlearn: 2779149.4454297\ttotal: 3.63s\tremaining: 2.88s\n",
      "557:\tlearn: 2777394.4686289\ttotal: 3.64s\tremaining: 2.88s\n",
      "558:\tlearn: 2772514.6049029\ttotal: 3.64s\tremaining: 2.87s\n",
      "559:\tlearn: 2768635.4198472\ttotal: 3.65s\tremaining: 2.87s\n",
      "560:\tlearn: 2763371.4460306\ttotal: 3.66s\tremaining: 2.86s\n",
      "561:\tlearn: 2760135.1801699\ttotal: 3.66s\tremaining: 2.85s\n",
      "562:\tlearn: 2758334.1882592\ttotal: 3.67s\tremaining: 2.85s\n",
      "563:\tlearn: 2756632.7383929\ttotal: 3.68s\tremaining: 2.84s\n",
      "564:\tlearn: 2754848.1794090\ttotal: 3.68s\tremaining: 2.83s\n",
      "565:\tlearn: 2753165.0680615\ttotal: 3.69s\tremaining: 2.83s\n",
      "566:\tlearn: 2747380.5042506\ttotal: 3.69s\tremaining: 2.82s\n",
      "567:\tlearn: 2743398.7159844\ttotal: 3.7s\tremaining: 2.82s\n",
      "568:\tlearn: 2740479.1901958\ttotal: 3.71s\tremaining: 2.81s\n",
      "569:\tlearn: 2735667.2737110\ttotal: 3.72s\tremaining: 2.8s\n",
      "570:\tlearn: 2732438.5532416\ttotal: 3.72s\tremaining: 2.8s\n",
      "571:\tlearn: 2727220.9395463\ttotal: 3.73s\tremaining: 2.79s\n",
      "572:\tlearn: 2724284.4347010\ttotal: 3.74s\tremaining: 2.78s\n",
      "573:\tlearn: 2722467.9516261\ttotal: 3.74s\tremaining: 2.78s\n",
      "574:\tlearn: 2719070.0478048\ttotal: 3.75s\tremaining: 2.77s\n",
      "575:\tlearn: 2717356.1211023\ttotal: 3.75s\tremaining: 2.76s\n",
      "576:\tlearn: 2712280.7768329\ttotal: 3.76s\tremaining: 2.76s\n",
      "577:\tlearn: 2708703.1532214\ttotal: 3.77s\tremaining: 2.75s\n",
      "578:\tlearn: 2703276.4927565\ttotal: 3.77s\tremaining: 2.75s\n",
      "579:\tlearn: 2698902.8100019\ttotal: 3.78s\tremaining: 2.74s\n",
      "580:\tlearn: 2696067.2106665\ttotal: 3.79s\tremaining: 2.73s\n",
      "581:\tlearn: 2693404.7798489\ttotal: 3.79s\tremaining: 2.73s\n",
      "582:\tlearn: 2688732.8604758\ttotal: 3.8s\tremaining: 2.72s\n",
      "583:\tlearn: 2687069.7883113\ttotal: 3.81s\tremaining: 2.71s\n",
      "584:\tlearn: 2682547.0479496\ttotal: 3.82s\tremaining: 2.71s\n",
      "585:\tlearn: 2677794.8356896\ttotal: 3.82s\tremaining: 2.7s\n",
      "586:\tlearn: 2675963.1425281\ttotal: 3.83s\tremaining: 2.69s\n",
      "587:\tlearn: 2670325.3101864\ttotal: 3.84s\tremaining: 2.69s\n",
      "588:\tlearn: 2668220.5150703\ttotal: 3.84s\tremaining: 2.68s\n",
      "589:\tlearn: 2664658.0209758\ttotal: 3.85s\tremaining: 2.68s\n",
      "590:\tlearn: 2660300.8991833\ttotal: 3.86s\tremaining: 2.67s\n",
      "591:\tlearn: 2657388.8310425\ttotal: 3.86s\tremaining: 2.66s\n",
      "592:\tlearn: 2654369.2872954\ttotal: 3.87s\tremaining: 2.66s\n",
      "593:\tlearn: 2652539.9494654\ttotal: 3.88s\tremaining: 2.65s\n",
      "594:\tlearn: 2648164.5011447\ttotal: 3.88s\tremaining: 2.64s\n",
      "595:\tlearn: 2644498.1570692\ttotal: 3.89s\tremaining: 2.64s\n",
      "596:\tlearn: 2641320.3309601\ttotal: 3.9s\tremaining: 2.63s\n",
      "597:\tlearn: 2637026.6436304\ttotal: 3.9s\tremaining: 2.63s\n",
      "598:\tlearn: 2634334.8259505\ttotal: 3.91s\tremaining: 2.62s\n",
      "599:\tlearn: 2631547.2976864\ttotal: 3.92s\tremaining: 2.61s\n",
      "600:\tlearn: 2629085.8272686\ttotal: 3.93s\tremaining: 2.61s\n",
      "601:\tlearn: 2626115.8180039\ttotal: 3.93s\tremaining: 2.6s\n",
      "602:\tlearn: 2622645.7071247\ttotal: 3.94s\tremaining: 2.59s\n",
      "603:\tlearn: 2618749.9661652\ttotal: 3.95s\tremaining: 2.59s\n",
      "604:\tlearn: 2615050.9394401\ttotal: 3.95s\tremaining: 2.58s\n",
      "605:\tlearn: 2612144.0610693\ttotal: 3.96s\tremaining: 2.58s\n",
      "606:\tlearn: 2608794.7680807\ttotal: 3.97s\tremaining: 2.57s\n",
      "607:\tlearn: 2604946.7231988\ttotal: 3.98s\tremaining: 2.56s\n",
      "608:\tlearn: 2600426.3759323\ttotal: 3.98s\tremaining: 2.56s\n",
      "609:\tlearn: 2598976.2913490\ttotal: 3.99s\tremaining: 2.55s\n",
      "610:\tlearn: 2595772.7785734\ttotal: 4s\tremaining: 2.54s\n",
      "611:\tlearn: 2594387.7621297\ttotal: 4s\tremaining: 2.53s\n",
      "612:\tlearn: 2590557.1454953\ttotal: 4s\tremaining: 2.53s\n",
      "613:\tlearn: 2584701.1687457\ttotal: 4.01s\tremaining: 2.52s\n",
      "614:\tlearn: 2581861.0311435\ttotal: 4.02s\tremaining: 2.52s\n"
     ]
    },
    {
     "name": "stdout",
     "output_type": "stream",
     "text": [
      "615:\tlearn: 2580333.1284531\ttotal: 4.03s\tremaining: 2.51s\n",
      "616:\tlearn: 2578800.9125228\ttotal: 4.03s\tremaining: 2.5s\n",
      "617:\tlearn: 2577348.1086546\ttotal: 4.04s\tremaining: 2.5s\n",
      "618:\tlearn: 2572944.0846212\ttotal: 4.05s\tremaining: 2.49s\n",
      "619:\tlearn: 2569504.0687969\ttotal: 4.05s\tremaining: 2.48s\n",
      "620:\tlearn: 2566397.2886118\ttotal: 4.06s\tremaining: 2.48s\n",
      "621:\tlearn: 2560478.9693868\ttotal: 4.07s\tremaining: 2.47s\n",
      "622:\tlearn: 2558065.8898110\ttotal: 4.08s\tremaining: 2.47s\n",
      "623:\tlearn: 2556481.9478945\ttotal: 4.08s\tremaining: 2.46s\n",
      "624:\tlearn: 2552617.5555754\ttotal: 4.09s\tremaining: 2.46s\n",
      "625:\tlearn: 2549769.5857211\ttotal: 4.1s\tremaining: 2.45s\n",
      "626:\tlearn: 2548238.2774557\ttotal: 4.11s\tremaining: 2.44s\n",
      "627:\tlearn: 2544627.7228548\ttotal: 4.12s\tremaining: 2.44s\n",
      "628:\tlearn: 2542325.7490018\ttotal: 4.12s\tremaining: 2.43s\n",
      "629:\tlearn: 2539696.2647108\ttotal: 4.13s\tremaining: 2.43s\n",
      "630:\tlearn: 2536052.7856610\ttotal: 4.14s\tremaining: 2.42s\n",
      "631:\tlearn: 2532905.7939181\ttotal: 4.14s\tremaining: 2.41s\n",
      "632:\tlearn: 2531157.3798464\ttotal: 4.15s\tremaining: 2.41s\n",
      "633:\tlearn: 2527612.3385635\ttotal: 4.16s\tremaining: 2.4s\n",
      "634:\tlearn: 2525251.2934299\ttotal: 4.17s\tremaining: 2.4s\n",
      "635:\tlearn: 2520254.6113656\ttotal: 4.17s\tremaining: 2.39s\n",
      "636:\tlearn: 2518771.9094445\ttotal: 4.18s\tremaining: 2.38s\n",
      "637:\tlearn: 2513830.3404295\ttotal: 4.19s\tremaining: 2.38s\n",
      "638:\tlearn: 2510023.2165609\ttotal: 4.2s\tremaining: 2.37s\n",
      "639:\tlearn: 2505058.0219517\ttotal: 4.2s\tremaining: 2.36s\n",
      "640:\tlearn: 2500813.4524462\ttotal: 4.21s\tremaining: 2.36s\n",
      "641:\tlearn: 2499442.6030783\ttotal: 4.22s\tremaining: 2.35s\n",
      "642:\tlearn: 2497197.5246212\ttotal: 4.22s\tremaining: 2.35s\n",
      "643:\tlearn: 2493855.4175889\ttotal: 4.23s\tremaining: 2.34s\n",
      "644:\tlearn: 2491430.6018862\ttotal: 4.24s\tremaining: 2.33s\n",
      "645:\tlearn: 2486115.2012083\ttotal: 4.25s\tremaining: 2.33s\n",
      "646:\tlearn: 2482694.8956044\ttotal: 4.26s\tremaining: 2.32s\n",
      "647:\tlearn: 2478955.7549682\ttotal: 4.26s\tremaining: 2.32s\n",
      "648:\tlearn: 2477625.7932997\ttotal: 4.27s\tremaining: 2.31s\n",
      "649:\tlearn: 2474430.2676796\ttotal: 4.28s\tremaining: 2.3s\n",
      "650:\tlearn: 2473206.3492491\ttotal: 4.29s\tremaining: 2.3s\n",
      "651:\tlearn: 2470062.2746628\ttotal: 4.29s\tremaining: 2.29s\n",
      "652:\tlearn: 2467959.9743063\ttotal: 4.3s\tremaining: 2.29s\n",
      "653:\tlearn: 2466635.4402226\ttotal: 4.31s\tremaining: 2.28s\n",
      "654:\tlearn: 2465251.4118823\ttotal: 4.32s\tremaining: 2.27s\n",
      "655:\tlearn: 2461826.4951731\ttotal: 4.33s\tremaining: 2.27s\n",
      "656:\tlearn: 2458173.3825901\ttotal: 4.33s\tremaining: 2.26s\n",
      "657:\tlearn: 2456799.5233749\ttotal: 4.34s\tremaining: 2.25s\n",
      "658:\tlearn: 2453626.9517812\ttotal: 4.34s\tremaining: 2.25s\n",
      "659:\tlearn: 2449403.9320427\ttotal: 4.35s\tremaining: 2.24s\n",
      "660:\tlearn: 2444005.8925939\ttotal: 4.36s\tremaining: 2.24s\n",
      "661:\tlearn: 2442666.5462424\ttotal: 4.37s\tremaining: 2.23s\n",
      "662:\tlearn: 2438463.0027801\ttotal: 4.38s\tremaining: 2.22s\n",
      "663:\tlearn: 2434856.3999330\ttotal: 4.38s\tremaining: 2.22s\n",
      "664:\tlearn: 2431767.2105128\ttotal: 4.39s\tremaining: 2.21s\n",
      "665:\tlearn: 2430474.3199859\ttotal: 4.4s\tremaining: 2.21s\n",
      "666:\tlearn: 2429186.5779400\ttotal: 4.41s\tremaining: 2.2s\n",
      "667:\tlearn: 2425943.5197496\ttotal: 4.41s\tremaining: 2.19s\n",
      "668:\tlearn: 2424082.2928832\ttotal: 4.42s\tremaining: 2.19s\n",
      "669:\tlearn: 2421391.6922644\ttotal: 4.43s\tremaining: 2.18s\n",
      "670:\tlearn: 2417283.8079272\ttotal: 4.44s\tremaining: 2.18s\n",
      "671:\tlearn: 2413370.9713227\ttotal: 4.45s\tremaining: 2.17s\n",
      "672:\tlearn: 2410071.8097253\ttotal: 4.46s\tremaining: 2.16s\n",
      "673:\tlearn: 2408752.2329548\ttotal: 4.46s\tremaining: 2.16s\n",
      "674:\tlearn: 2405729.9598987\ttotal: 4.47s\tremaining: 2.15s\n",
      "675:\tlearn: 2402380.9932786\ttotal: 4.48s\tremaining: 2.15s\n",
      "676:\tlearn: 2401006.9219564\ttotal: 4.48s\tremaining: 2.14s\n",
      "677:\tlearn: 2397581.6485118\ttotal: 4.49s\tremaining: 2.13s\n",
      "678:\tlearn: 2393747.0392854\ttotal: 4.5s\tremaining: 2.13s\n",
      "679:\tlearn: 2392420.3168278\ttotal: 4.5s\tremaining: 2.12s\n",
      "680:\tlearn: 2391204.5562332\ttotal: 4.51s\tremaining: 2.11s\n",
      "681:\tlearn: 2389869.9992832\ttotal: 4.52s\tremaining: 2.11s\n",
      "682:\tlearn: 2388563.1079187\ttotal: 4.53s\tremaining: 2.1s\n",
      "683:\tlearn: 2385101.8639732\ttotal: 4.54s\tremaining: 2.1s\n",
      "684:\tlearn: 2383823.9148244\ttotal: 4.54s\tremaining: 2.09s\n",
      "685:\tlearn: 2381441.9839412\ttotal: 4.55s\tremaining: 2.08s\n",
      "686:\tlearn: 2378385.2605424\ttotal: 4.56s\tremaining: 2.08s\n",
      "687:\tlearn: 2377083.7414619\ttotal: 4.57s\tremaining: 2.07s\n",
      "688:\tlearn: 2375788.6329021\ttotal: 4.57s\tremaining: 2.06s\n",
      "689:\tlearn: 2374295.0209841\ttotal: 4.58s\tremaining: 2.06s\n",
      "690:\tlearn: 2371869.1661121\ttotal: 4.59s\tremaining: 2.05s\n",
      "691:\tlearn: 2369631.4042168\ttotal: 4.6s\tremaining: 2.05s\n",
      "692:\tlearn: 2366570.0283797\ttotal: 4.6s\tremaining: 2.04s\n",
      "693:\tlearn: 2362992.5401572\ttotal: 4.61s\tremaining: 2.03s\n",
      "694:\tlearn: 2361741.2566678\ttotal: 4.62s\tremaining: 2.03s\n",
      "695:\tlearn: 2360496.1533860\ttotal: 4.63s\tremaining: 2.02s\n",
      "696:\tlearn: 2359404.8492300\ttotal: 4.63s\tremaining: 2.01s\n",
      "697:\tlearn: 2358085.6260604\ttotal: 4.63s\tremaining: 2s\n",
      "698:\tlearn: 2355063.4031627\ttotal: 4.64s\tremaining: 2s\n",
      "699:\tlearn: 2352669.4018083\ttotal: 4.65s\tremaining: 1.99s\n",
      "700:\tlearn: 2349659.7792156\ttotal: 4.66s\tremaining: 1.99s\n",
      "701:\tlearn: 2348416.7130944\ttotal: 4.66s\tremaining: 1.98s\n",
      "702:\tlearn: 2347108.5987056\ttotal: 4.67s\tremaining: 1.97s\n",
      "703:\tlearn: 2343691.3655507\ttotal: 4.68s\tremaining: 1.97s\n",
      "704:\tlearn: 2341837.2940305\ttotal: 4.68s\tremaining: 1.96s\n",
      "705:\tlearn: 2340625.2029864\ttotal: 4.69s\tremaining: 1.95s\n",
      "706:\tlearn: 2339417.5148580\ttotal: 4.7s\tremaining: 1.95s\n",
      "707:\tlearn: 2338226.3178130\ttotal: 4.7s\tremaining: 1.94s\n",
      "708:\tlearn: 2337048.8075070\ttotal: 4.71s\tremaining: 1.93s\n",
      "709:\tlearn: 2335896.0917853\ttotal: 4.72s\tremaining: 1.93s\n",
      "710:\tlearn: 2333113.3114937\ttotal: 4.72s\tremaining: 1.92s\n",
      "711:\tlearn: 2329627.9664173\ttotal: 4.73s\tremaining: 1.91s\n",
      "712:\tlearn: 2328461.7483061\ttotal: 4.74s\tremaining: 1.91s\n",
      "713:\tlearn: 2327290.5306128\ttotal: 4.75s\tremaining: 1.9s\n",
      "714:\tlearn: 2326117.3987732\ttotal: 4.75s\tremaining: 1.89s\n",
      "715:\tlearn: 2322630.5371230\ttotal: 4.76s\tremaining: 1.89s\n",
      "716:\tlearn: 2320722.9840166\ttotal: 4.77s\tremaining: 1.88s\n",
      "717:\tlearn: 2318562.6765804\ttotal: 4.77s\tremaining: 1.88s\n",
      "718:\tlearn: 2317404.1009693\ttotal: 4.78s\tremaining: 1.87s\n",
      "719:\tlearn: 2316174.3194653\ttotal: 4.79s\tremaining: 1.86s\n",
      "720:\tlearn: 2315088.2620491\ttotal: 4.79s\tremaining: 1.85s\n",
      "721:\tlearn: 2311707.0981125\ttotal: 4.8s\tremaining: 1.85s\n",
      "722:\tlearn: 2308047.7775819\ttotal: 4.81s\tremaining: 1.84s\n",
      "723:\tlearn: 2306963.1375507\ttotal: 4.81s\tremaining: 1.83s\n",
      "724:\tlearn: 2305527.9862527\ttotal: 4.82s\tremaining: 1.83s\n",
      "725:\tlearn: 2302574.5359569\ttotal: 4.83s\tremaining: 1.82s\n",
      "726:\tlearn: 2299318.9746127\ttotal: 4.83s\tremaining: 1.81s\n",
      "727:\tlearn: 2296994.5480966\ttotal: 4.84s\tremaining: 1.81s\n",
      "728:\tlearn: 2295901.8457799\ttotal: 4.85s\tremaining: 1.8s\n",
      "729:\tlearn: 2293413.8527603\ttotal: 4.85s\tremaining: 1.79s\n",
      "730:\tlearn: 2290376.0879853\ttotal: 4.86s\tremaining: 1.79s\n",
      "731:\tlearn: 2287325.0569315\ttotal: 4.87s\tremaining: 1.78s\n",
      "732:\tlearn: 2286079.4547355\ttotal: 4.88s\tremaining: 1.78s\n",
      "733:\tlearn: 2285045.7182177\ttotal: 4.88s\tremaining: 1.77s\n",
      "734:\tlearn: 2283995.3672592\ttotal: 4.89s\tremaining: 1.76s\n",
      "735:\tlearn: 2281198.9831669\ttotal: 4.89s\tremaining: 1.75s\n",
      "736:\tlearn: 2278579.7956786\ttotal: 4.9s\tremaining: 1.75s\n",
      "737:\tlearn: 2274839.8723352\ttotal: 4.91s\tremaining: 1.74s\n",
      "738:\tlearn: 2273809.6746461\ttotal: 4.92s\tremaining: 1.74s\n",
      "739:\tlearn: 2272705.6836347\ttotal: 4.92s\tremaining: 1.73s\n",
      "740:\tlearn: 2269395.1389220\ttotal: 4.93s\tremaining: 1.72s\n",
      "741:\tlearn: 2266030.8581482\ttotal: 4.94s\tremaining: 1.72s\n",
      "742:\tlearn: 2264959.5731112\ttotal: 4.94s\tremaining: 1.71s\n",
      "743:\tlearn: 2263874.6546228\ttotal: 4.95s\tremaining: 1.7s\n",
      "744:\tlearn: 2261896.5486341\ttotal: 4.95s\tremaining: 1.7s\n",
      "745:\tlearn: 2260746.4194556\ttotal: 4.96s\tremaining: 1.69s\n",
      "746:\tlearn: 2259512.3974136\ttotal: 4.97s\tremaining: 1.68s\n",
      "747:\tlearn: 2258456.6492741\ttotal: 4.97s\tremaining: 1.68s\n",
      "748:\tlearn: 2255967.0428585\ttotal: 4.98s\tremaining: 1.67s\n",
      "749:\tlearn: 2252861.1930717\ttotal: 4.98s\tremaining: 1.66s\n",
      "750:\tlearn: 2251654.8609769\ttotal: 4.99s\tremaining: 1.65s\n",
      "751:\tlearn: 2249864.8070940\ttotal: 4.99s\tremaining: 1.65s\n",
      "752:\tlearn: 2246332.6632785\ttotal: 5s\tremaining: 1.64s\n",
      "753:\tlearn: 2245306.3020826\ttotal: 5s\tremaining: 1.63s\n",
      "754:\tlearn: 2241862.4139435\ttotal: 5.01s\tremaining: 1.63s\n",
      "755:\tlearn: 2240821.0516425\ttotal: 5.01s\tremaining: 1.62s\n",
      "756:\tlearn: 2237395.0748756\ttotal: 5.02s\tremaining: 1.61s\n",
      "757:\tlearn: 2234890.2072424\ttotal: 5.02s\tremaining: 1.6s\n",
      "758:\tlearn: 2232671.3820117\ttotal: 5.03s\tremaining: 1.6s\n",
      "759:\tlearn: 2231604.9230230\ttotal: 5.03s\tremaining: 1.59s\n",
      "760:\tlearn: 2228435.2947288\ttotal: 5.04s\tremaining: 1.58s\n",
      "761:\tlearn: 2226428.7808633\ttotal: 5.04s\tremaining: 1.57s\n",
      "762:\tlearn: 2225340.9824550\ttotal: 5.05s\tremaining: 1.57s\n"
     ]
    },
    {
     "name": "stdout",
     "output_type": "stream",
     "text": [
      "763:\tlearn: 2222268.4367211\ttotal: 5.05s\tremaining: 1.56s\n",
      "764:\tlearn: 2221229.0691008\ttotal: 5.06s\tremaining: 1.55s\n",
      "765:\tlearn: 2218118.4579447\ttotal: 5.06s\tremaining: 1.55s\n",
      "766:\tlearn: 2215634.3695592\ttotal: 5.07s\tremaining: 1.54s\n",
      "767:\tlearn: 2214619.4185345\ttotal: 5.07s\tremaining: 1.53s\n",
      "768:\tlearn: 2213606.2003738\ttotal: 5.07s\tremaining: 1.52s\n",
      "769:\tlearn: 2211651.1281316\ttotal: 5.08s\tremaining: 1.52s\n",
      "770:\tlearn: 2210561.5078210\ttotal: 5.08s\tremaining: 1.51s\n",
      "771:\tlearn: 2209564.2500409\ttotal: 5.09s\tremaining: 1.5s\n",
      "772:\tlearn: 2208578.5561205\ttotal: 5.09s\tremaining: 1.49s\n",
      "773:\tlearn: 2205725.8790097\ttotal: 5.09s\tremaining: 1.49s\n",
      "774:\tlearn: 2202653.2905872\ttotal: 5.1s\tremaining: 1.48s\n",
      "775:\tlearn: 2200192.0519091\ttotal: 5.1s\tremaining: 1.47s\n",
      "776:\tlearn: 2197207.1380860\ttotal: 5.11s\tremaining: 1.47s\n",
      "777:\tlearn: 2194630.8257772\ttotal: 5.11s\tremaining: 1.46s\n",
      "778:\tlearn: 2191499.8265215\ttotal: 5.12s\tremaining: 1.45s\n",
      "779:\tlearn: 2188989.0552388\ttotal: 5.12s\tremaining: 1.44s\n",
      "780:\tlearn: 2188004.3088841\ttotal: 5.12s\tremaining: 1.44s\n",
      "781:\tlearn: 2186953.6665419\ttotal: 5.13s\tremaining: 1.43s\n",
      "782:\tlearn: 2185899.1491576\ttotal: 5.13s\tremaining: 1.42s\n",
      "783:\tlearn: 2184931.9530455\ttotal: 5.13s\tremaining: 1.41s\n",
      "784:\tlearn: 2183605.1417033\ttotal: 5.14s\tremaining: 1.41s\n",
      "785:\tlearn: 2180658.4365728\ttotal: 5.14s\tremaining: 1.4s\n",
      "786:\tlearn: 2179664.0396494\ttotal: 5.15s\tremaining: 1.39s\n",
      "787:\tlearn: 2176276.8572348\ttotal: 5.15s\tremaining: 1.39s\n",
      "788:\tlearn: 2175239.0484656\ttotal: 5.16s\tremaining: 1.38s\n",
      "789:\tlearn: 2173083.1224441\ttotal: 5.16s\tremaining: 1.37s\n",
      "790:\tlearn: 2170631.6321293\ttotal: 5.17s\tremaining: 1.36s\n",
      "791:\tlearn: 2169687.0942445\ttotal: 5.17s\tremaining: 1.36s\n",
      "792:\tlearn: 2166931.1041795\ttotal: 5.17s\tremaining: 1.35s\n",
      "793:\tlearn: 2165976.4355985\ttotal: 5.18s\tremaining: 1.34s\n",
      "794:\tlearn: 2164992.7956749\ttotal: 5.18s\tremaining: 1.33s\n",
      "795:\tlearn: 2164038.8945534\ttotal: 5.18s\tremaining: 1.33s\n",
      "796:\tlearn: 2163014.0290753\ttotal: 5.19s\tremaining: 1.32s\n",
      "797:\tlearn: 2161103.4201025\ttotal: 5.19s\tremaining: 1.31s\n",
      "798:\tlearn: 2157967.7379312\ttotal: 5.2s\tremaining: 1.31s\n",
      "799:\tlearn: 2155534.3375824\ttotal: 5.2s\tremaining: 1.3s\n",
      "800:\tlearn: 2152895.8190481\ttotal: 5.2s\tremaining: 1.29s\n",
      "801:\tlearn: 2151716.8977451\ttotal: 5.21s\tremaining: 1.28s\n",
      "802:\tlearn: 2148731.5237853\ttotal: 5.21s\tremaining: 1.28s\n",
      "803:\tlearn: 2147737.6202092\ttotal: 5.21s\tremaining: 1.27s\n",
      "804:\tlearn: 2146779.7511175\ttotal: 5.22s\tremaining: 1.26s\n",
      "805:\tlearn: 2144678.0846055\ttotal: 5.22s\tremaining: 1.26s\n",
      "806:\tlearn: 2143762.8605972\ttotal: 5.22s\tremaining: 1.25s\n",
      "807:\tlearn: 2142844.0381946\ttotal: 5.23s\tremaining: 1.24s\n",
      "808:\tlearn: 2141494.4834254\ttotal: 5.23s\tremaining: 1.24s\n",
      "809:\tlearn: 2140574.4229667\ttotal: 5.24s\tremaining: 1.23s\n",
      "810:\tlearn: 2139596.1141761\ttotal: 5.24s\tremaining: 1.22s\n",
      "811:\tlearn: 2138702.2576426\ttotal: 5.24s\tremaining: 1.21s\n",
      "812:\tlearn: 2135802.3152971\ttotal: 5.25s\tremaining: 1.21s\n",
      "813:\tlearn: 2134268.9115504\ttotal: 5.25s\tremaining: 1.2s\n",
      "814:\tlearn: 2131386.4423967\ttotal: 5.26s\tremaining: 1.19s\n",
      "815:\tlearn: 2128760.6303971\ttotal: 5.26s\tremaining: 1.19s\n",
      "816:\tlearn: 2125921.2116193\ttotal: 5.26s\tremaining: 1.18s\n",
      "817:\tlearn: 2122793.2220269\ttotal: 5.27s\tremaining: 1.17s\n",
      "818:\tlearn: 2121898.8585264\ttotal: 5.27s\tremaining: 1.17s\n",
      "819:\tlearn: 2121028.7758230\ttotal: 5.27s\tremaining: 1.16s\n",
      "820:\tlearn: 2118104.5163705\ttotal: 5.28s\tremaining: 1.15s\n",
      "821:\tlearn: 2115194.4692827\ttotal: 5.28s\tremaining: 1.14s\n",
      "822:\tlearn: 2112857.3293347\ttotal: 5.29s\tremaining: 1.14s\n",
      "823:\tlearn: 2111971.3003343\ttotal: 5.29s\tremaining: 1.13s\n",
      "824:\tlearn: 2109232.7604423\ttotal: 5.29s\tremaining: 1.12s\n",
      "825:\tlearn: 2107302.0555241\ttotal: 5.3s\tremaining: 1.11s\n",
      "826:\tlearn: 2106424.0994305\ttotal: 5.3s\tremaining: 1.11s\n",
      "827:\tlearn: 2104658.3345739\ttotal: 5.3s\tremaining: 1.1s\n",
      "828:\tlearn: 2103034.4791915\ttotal: 5.31s\tremaining: 1.09s\n",
      "829:\tlearn: 2102163.8135727\ttotal: 5.31s\tremaining: 1.09s\n",
      "830:\tlearn: 2101300.3679519\ttotal: 5.32s\tremaining: 1.08s\n",
      "831:\tlearn: 2100436.3704360\ttotal: 5.32s\tremaining: 1.07s\n",
      "832:\tlearn: 2097752.5537579\ttotal: 5.32s\tremaining: 1.07s\n",
      "833:\tlearn: 2096891.7138357\ttotal: 5.33s\tremaining: 1.06s\n",
      "834:\tlearn: 2095973.6026410\ttotal: 5.33s\tremaining: 1.05s\n",
      "835:\tlearn: 2095064.4918986\ttotal: 5.34s\tremaining: 1.05s\n",
      "836:\tlearn: 2092522.4057675\ttotal: 5.35s\tremaining: 1.04s\n",
      "837:\tlearn: 2089789.1549673\ttotal: 5.35s\tremaining: 1.03s\n",
      "838:\tlearn: 2088857.6926675\ttotal: 5.36s\tremaining: 1.03s\n",
      "839:\tlearn: 2087948.5858169\ttotal: 5.37s\tremaining: 1.02s\n",
      "840:\tlearn: 2087082.5991430\ttotal: 5.37s\tremaining: 1.02s\n",
      "841:\tlearn: 2086047.5369348\ttotal: 5.38s\tremaining: 1.01s\n",
      "842:\tlearn: 2085204.0377868\ttotal: 5.39s\tremaining: 1s\n",
      "843:\tlearn: 2084021.3282553\ttotal: 5.39s\tremaining: 997ms\n",
      "844:\tlearn: 2081489.5372789\ttotal: 5.4s\tremaining: 991ms\n",
      "845:\tlearn: 2079593.1290185\ttotal: 5.41s\tremaining: 985ms\n",
      "846:\tlearn: 2077068.0422370\ttotal: 5.42s\tremaining: 978ms\n",
      "847:\tlearn: 2075406.0217032\ttotal: 5.42s\tremaining: 972ms\n",
      "848:\tlearn: 2074478.9248105\ttotal: 5.43s\tremaining: 966ms\n",
      "849:\tlearn: 2071717.0087480\ttotal: 5.44s\tremaining: 959ms\n",
      "850:\tlearn: 2070845.6945612\ttotal: 5.44s\tremaining: 953ms\n",
      "851:\tlearn: 2068045.7107296\ttotal: 5.45s\tremaining: 947ms\n",
      "852:\tlearn: 2067192.9745909\ttotal: 5.46s\tremaining: 941ms\n",
      "853:\tlearn: 2064432.9014581\ttotal: 5.46s\tremaining: 934ms\n",
      "854:\tlearn: 2061661.9431007\ttotal: 5.47s\tremaining: 928ms\n",
      "855:\tlearn: 2060840.8093969\ttotal: 5.48s\tremaining: 922ms\n",
      "856:\tlearn: 2059756.9219450\ttotal: 5.49s\tremaining: 915ms\n",
      "857:\tlearn: 2057010.0313643\ttotal: 5.49s\tremaining: 909ms\n",
      "858:\tlearn: 2056122.1234827\ttotal: 5.5s\tremaining: 903ms\n",
      "859:\tlearn: 2053489.9927997\ttotal: 5.5s\tremaining: 896ms\n",
      "860:\tlearn: 2050807.5176642\ttotal: 5.51s\tremaining: 890ms\n",
      "861:\tlearn: 2049924.0681908\ttotal: 5.52s\tremaining: 884ms\n",
      "862:\tlearn: 2048837.8746607\ttotal: 5.53s\tremaining: 877ms\n",
      "863:\tlearn: 2047957.1088598\ttotal: 5.54s\tremaining: 871ms\n",
      "864:\tlearn: 2045249.3723467\ttotal: 5.54s\tremaining: 865ms\n",
      "865:\tlearn: 2043601.4878017\ttotal: 5.55s\tremaining: 859ms\n",
      "866:\tlearn: 2040925.0406155\ttotal: 5.56s\tremaining: 853ms\n",
      "867:\tlearn: 2040134.5294199\ttotal: 5.57s\tremaining: 846ms\n",
      "868:\tlearn: 2039156.9934289\ttotal: 5.57s\tremaining: 840ms\n",
      "869:\tlearn: 2036484.6813438\ttotal: 5.58s\tremaining: 834ms\n",
      "870:\tlearn: 2035690.9535133\ttotal: 5.58s\tremaining: 827ms\n",
      "871:\tlearn: 2033120.1052335\ttotal: 5.59s\tremaining: 820ms\n",
      "872:\tlearn: 2031494.2969924\ttotal: 5.59s\tremaining: 814ms\n",
      "873:\tlearn: 2030722.1515834\ttotal: 5.6s\tremaining: 807ms\n",
      "874:\tlearn: 2029893.0458862\ttotal: 5.6s\tremaining: 801ms\n",
      "875:\tlearn: 2028322.7373297\ttotal: 5.61s\tremaining: 794ms\n",
      "876:\tlearn: 2026128.4714057\ttotal: 5.62s\tremaining: 788ms\n",
      "877:\tlearn: 2023469.5652854\ttotal: 5.62s\tremaining: 781ms\n",
      "878:\tlearn: 2020903.9553112\ttotal: 5.63s\tremaining: 774ms\n",
      "879:\tlearn: 2020100.0801261\ttotal: 5.63s\tremaining: 768ms\n",
      "880:\tlearn: 2019331.3697336\ttotal: 5.63s\tremaining: 761ms\n",
      "881:\tlearn: 2018226.6065576\ttotal: 5.64s\tremaining: 755ms\n",
      "882:\tlearn: 2015620.9582901\ttotal: 5.64s\tremaining: 748ms\n",
      "883:\tlearn: 2014844.0266821\ttotal: 5.65s\tremaining: 741ms\n",
      "884:\tlearn: 2013275.9021770\ttotal: 5.65s\tremaining: 735ms\n",
      "885:\tlearn: 2012261.2314613\ttotal: 5.66s\tremaining: 728ms\n",
      "886:\tlearn: 2010908.8181145\ttotal: 5.66s\tremaining: 721ms\n",
      "887:\tlearn: 2010135.9097005\ttotal: 5.67s\tremaining: 715ms\n",
      "888:\tlearn: 2007583.4479734\ttotal: 5.67s\tremaining: 708ms\n",
      "889:\tlearn: 2006583.1763960\ttotal: 5.67s\tremaining: 702ms\n",
      "890:\tlearn: 2004034.4335117\ttotal: 5.68s\tremaining: 695ms\n",
      "891:\tlearn: 2003267.2777503\ttotal: 5.68s\tremaining: 688ms\n",
      "892:\tlearn: 2000633.4051056\ttotal: 5.69s\tremaining: 682ms\n",
      "893:\tlearn: 1998117.7210938\ttotal: 5.69s\tremaining: 675ms\n",
      "894:\tlearn: 1996740.4254303\ttotal: 5.7s\tremaining: 668ms\n",
      "895:\tlearn: 1995669.6618827\ttotal: 5.7s\tremaining: 662ms\n",
      "896:\tlearn: 1993095.6456249\ttotal: 5.71s\tremaining: 655ms\n",
      "897:\tlearn: 1992229.2608957\ttotal: 5.71s\tremaining: 649ms\n",
      "898:\tlearn: 1991419.3837453\ttotal: 5.71s\tremaining: 642ms\n",
      "899:\tlearn: 1990355.8506054\ttotal: 5.72s\tremaining: 635ms\n",
      "900:\tlearn: 1988822.9055629\ttotal: 5.72s\tremaining: 629ms\n",
      "901:\tlearn: 1988016.6609314\ttotal: 5.73s\tremaining: 622ms\n",
      "902:\tlearn: 1987271.8473708\ttotal: 5.73s\tremaining: 616ms\n",
      "903:\tlearn: 1986535.3482197\ttotal: 5.74s\tremaining: 610ms\n",
      "904:\tlearn: 1984044.9041590\ttotal: 5.75s\tremaining: 603ms\n",
      "905:\tlearn: 1981605.1779498\ttotal: 5.75s\tremaining: 597ms\n",
      "906:\tlearn: 1979022.2415689\ttotal: 5.76s\tremaining: 591ms\n",
      "907:\tlearn: 1978283.1562188\ttotal: 5.76s\tremaining: 584ms\n",
      "908:\tlearn: 1975662.4581998\ttotal: 5.77s\tremaining: 578ms\n",
      "909:\tlearn: 1974875.5847895\ttotal: 5.78s\tremaining: 571ms\n",
      "910:\tlearn: 1972611.9343896\ttotal: 5.78s\tremaining: 565ms\n",
      "911:\tlearn: 1970163.9157366\ttotal: 5.79s\tremaining: 558ms\n",
      "912:\tlearn: 1967729.2629300\ttotal: 5.79s\tremaining: 552ms\n",
      "913:\tlearn: 1965356.5188672\ttotal: 5.8s\tremaining: 545ms\n",
      "914:\tlearn: 1964565.6876350\ttotal: 5.8s\tremaining: 539ms\n",
      "915:\tlearn: 1962526.7268812\ttotal: 5.81s\tremaining: 532ms\n",
      "916:\tlearn: 1961068.7816963\ttotal: 5.81s\tremaining: 526ms\n",
      "917:\tlearn: 1960033.9201676\ttotal: 5.82s\tremaining: 519ms\n",
      "918:\tlearn: 1957609.7721246\ttotal: 5.82s\tremaining: 513ms\n",
      "919:\tlearn: 1956587.1484666\ttotal: 5.82s\tremaining: 506ms\n",
      "920:\tlearn: 1955863.2769013\ttotal: 5.83s\tremaining: 500ms\n",
      "921:\tlearn: 1953497.9806397\ttotal: 5.83s\tremaining: 493ms\n",
      "922:\tlearn: 1950952.1735697\ttotal: 5.84s\tremaining: 487ms\n",
      "923:\tlearn: 1950236.6638192\ttotal: 5.84s\tremaining: 480ms\n",
      "924:\tlearn: 1947830.6858249\ttotal: 5.84s\tremaining: 474ms\n"
     ]
    },
    {
     "name": "stdout",
     "output_type": "stream",
     "text": [
      "925:\tlearn: 1947064.1167085\ttotal: 5.85s\tremaining: 468ms\n",
      "926:\tlearn: 1944735.6281667\ttotal: 5.85s\tremaining: 461ms\n",
      "927:\tlearn: 1942240.6023902\ttotal: 5.86s\tremaining: 455ms\n",
      "928:\tlearn: 1941512.6844595\ttotal: 5.86s\tremaining: 448ms\n",
      "929:\tlearn: 1939115.8611360\ttotal: 5.87s\tremaining: 442ms\n",
      "930:\tlearn: 1938109.4988648\ttotal: 5.87s\tremaining: 435ms\n",
      "931:\tlearn: 1937334.3969550\ttotal: 5.88s\tremaining: 429ms\n",
      "932:\tlearn: 1934985.0769464\ttotal: 5.88s\tremaining: 422ms\n",
      "933:\tlearn: 1933017.2420612\ttotal: 5.88s\tremaining: 416ms\n",
      "934:\tlearn: 1930688.6890175\ttotal: 5.89s\tremaining: 409ms\n",
      "935:\tlearn: 1928311.2257758\ttotal: 5.89s\tremaining: 403ms\n",
      "936:\tlearn: 1926019.9502977\ttotal: 5.9s\tremaining: 397ms\n",
      "937:\tlearn: 1923750.2861284\ttotal: 5.9s\tremaining: 390ms\n",
      "938:\tlearn: 1923045.8647812\ttotal: 5.91s\tremaining: 384ms\n",
      "939:\tlearn: 1922298.0042922\ttotal: 5.91s\tremaining: 377ms\n",
      "940:\tlearn: 1921600.3260077\ttotal: 5.92s\tremaining: 371ms\n",
      "941:\tlearn: 1920854.1653543\ttotal: 5.92s\tremaining: 364ms\n",
      "942:\tlearn: 1918436.7826853\ttotal: 5.92s\tremaining: 358ms\n",
      "943:\tlearn: 1916135.4015381\ttotal: 5.93s\tremaining: 352ms\n",
      "944:\tlearn: 1915241.2667510\ttotal: 5.93s\tremaining: 345ms\n",
      "945:\tlearn: 1914483.6116845\ttotal: 5.94s\tremaining: 339ms\n",
      "946:\tlearn: 1913790.7405554\ttotal: 5.94s\tremaining: 332ms\n",
      "947:\tlearn: 1911400.0057664\ttotal: 5.95s\tremaining: 326ms\n",
      "948:\tlearn: 1910699.3092835\ttotal: 5.95s\tremaining: 320ms\n",
      "949:\tlearn: 1908441.2943016\ttotal: 5.95s\tremaining: 313ms\n",
      "950:\tlearn: 1907235.5036921\ttotal: 5.96s\tremaining: 307ms\n",
      "951:\tlearn: 1906507.4333371\ttotal: 5.96s\tremaining: 301ms\n",
      "952:\tlearn: 1905535.0549254\ttotal: 5.97s\tremaining: 294ms\n",
      "953:\tlearn: 1903353.4485547\ttotal: 5.97s\tremaining: 288ms\n",
      "954:\tlearn: 1901118.7379936\ttotal: 5.97s\tremaining: 282ms\n",
      "955:\tlearn: 1900378.8851570\ttotal: 5.98s\tremaining: 275ms\n",
      "956:\tlearn: 1898510.9892960\ttotal: 5.98s\tremaining: 269ms\n",
      "957:\tlearn: 1897154.6668797\ttotal: 5.99s\tremaining: 263ms\n",
      "958:\tlearn: 1894832.5258679\ttotal: 5.99s\tremaining: 256ms\n",
      "959:\tlearn: 1893872.1551959\ttotal: 6s\tremaining: 250ms\n",
      "960:\tlearn: 1893141.4538816\ttotal: 6s\tremaining: 244ms\n",
      "961:\tlearn: 1890928.1271983\ttotal: 6.01s\tremaining: 237ms\n",
      "962:\tlearn: 1889975.2714399\ttotal: 6.01s\tremaining: 231ms\n",
      "963:\tlearn: 1888505.8282410\ttotal: 6.01s\tremaining: 225ms\n",
      "964:\tlearn: 1886276.9194685\ttotal: 6.02s\tremaining: 218ms\n",
      "965:\tlearn: 1884943.0263075\ttotal: 6.02s\tremaining: 212ms\n",
      "966:\tlearn: 1884271.4564756\ttotal: 6.03s\tremaining: 206ms\n",
      "967:\tlearn: 1883332.2022766\ttotal: 6.03s\tremaining: 199ms\n",
      "968:\tlearn: 1881020.6743909\ttotal: 6.04s\tremaining: 193ms\n",
      "969:\tlearn: 1880086.8448639\ttotal: 6.04s\tremaining: 187ms\n",
      "970:\tlearn: 1877924.8596246\ttotal: 6.05s\tremaining: 181ms\n",
      "971:\tlearn: 1876420.9058611\ttotal: 6.05s\tremaining: 174ms\n",
      "972:\tlearn: 1874819.0479893\ttotal: 6.05s\tremaining: 168ms\n",
      "973:\tlearn: 1872475.9842948\ttotal: 6.06s\tremaining: 162ms\n",
      "974:\tlearn: 1870201.8360325\ttotal: 6.06s\tremaining: 155ms\n",
      "975:\tlearn: 1869495.1212113\ttotal: 6.07s\tremaining: 149ms\n",
      "976:\tlearn: 1868837.7369394\ttotal: 6.07s\tremaining: 143ms\n",
      "977:\tlearn: 1866759.3004133\ttotal: 6.08s\tremaining: 137ms\n",
      "978:\tlearn: 1866104.4574074\ttotal: 6.08s\tremaining: 130ms\n",
      "979:\tlearn: 1865406.5673255\ttotal: 6.08s\tremaining: 124ms\n",
      "980:\tlearn: 1864494.1994113\ttotal: 6.09s\tremaining: 118ms\n",
      "981:\tlearn: 1862387.2212347\ttotal: 6.09s\tremaining: 112ms\n",
      "982:\tlearn: 1860142.8578715\ttotal: 6.09s\tremaining: 105ms\n",
      "983:\tlearn: 1858034.8589411\ttotal: 6.1s\tremaining: 99.2ms\n",
      "984:\tlearn: 1857113.4309281\ttotal: 6.1s\tremaining: 92.9ms\n",
      "985:\tlearn: 1855119.2403106\ttotal: 6.11s\tremaining: 86.7ms\n",
      "986:\tlearn: 1854484.1334481\ttotal: 6.11s\tremaining: 80.5ms\n",
      "987:\tlearn: 1852420.1265751\ttotal: 6.12s\tremaining: 74.3ms\n",
      "988:\tlearn: 1850396.8725859\ttotal: 6.12s\tremaining: 68.1ms\n",
      "989:\tlearn: 1848209.6542201\ttotal: 6.12s\tremaining: 61.9ms\n",
      "990:\tlearn: 1847480.2819432\ttotal: 6.13s\tremaining: 55.6ms\n",
      "991:\tlearn: 1845439.3593561\ttotal: 6.13s\tremaining: 49.4ms\n",
      "992:\tlearn: 1844540.8800628\ttotal: 6.14s\tremaining: 43.3ms\n",
      "993:\tlearn: 1842566.8679808\ttotal: 6.14s\tremaining: 37.1ms\n",
      "994:\tlearn: 1841658.7066616\ttotal: 6.14s\tremaining: 30.9ms\n",
      "995:\tlearn: 1839608.8160614\ttotal: 6.15s\tremaining: 24.7ms\n",
      "996:\tlearn: 1838720.3612585\ttotal: 6.15s\tremaining: 18.5ms\n",
      "997:\tlearn: 1837160.3637792\ttotal: 6.16s\tremaining: 12.3ms\n",
      "998:\tlearn: 1835049.7183195\ttotal: 6.16s\tremaining: 6.17ms\n",
      "999:\tlearn: 1834167.4278465\ttotal: 6.17s\tremaining: 0us\n",
      "0:08:42.302407\n"
     ]
    }
   ],
   "source": [
    "# Modellerin her birini ne kadar sürede fit ettiğine bakalım.\n",
    "t1 =  datetime.now()\n",
    "catb_cv_model.fit(X_train, y_train)\n",
    "t2 =  datetime.now()\n",
    "print(t2-t1)"
   ]
  },
  {
   "cell_type": "code",
   "execution_count": 34,
   "id": "bab949a9",
   "metadata": {},
   "outputs": [
    {
     "data": {
      "text/plain": [
       "{'depth': 8, 'iterations': 1000, 'learning_rate': 0.01}"
      ]
     },
     "execution_count": 34,
     "metadata": {},
     "output_type": "execute_result"
    }
   ],
   "source": [
    "# En iyi parametreler\n",
    "catb_cv_model.best_params_"
   ]
  },
  {
   "cell_type": "code",
   "execution_count": 35,
   "id": "c04839ff",
   "metadata": {
    "collapsed": true
   },
   "outputs": [
    {
     "name": "stdout",
     "output_type": "stream",
     "text": [
      "0:\tlearn: 11755073.3777926\ttotal: 6.9ms\tremaining: 6.9s\n",
      "1:\tlearn: 11695938.9759451\ttotal: 13.3ms\tremaining: 6.66s\n",
      "2:\tlearn: 11634115.8726865\ttotal: 20ms\tremaining: 6.64s\n",
      "3:\tlearn: 11575888.4561498\ttotal: 26.4ms\tremaining: 6.56s\n",
      "4:\tlearn: 11517251.2013188\ttotal: 32.7ms\tremaining: 6.51s\n",
      "5:\tlearn: 11462589.6549271\ttotal: 38.9ms\tremaining: 6.45s\n",
      "6:\tlearn: 11402998.8316421\ttotal: 45.1ms\tremaining: 6.4s\n",
      "7:\tlearn: 11344575.0646080\ttotal: 52ms\tremaining: 6.44s\n",
      "8:\tlearn: 11284694.0450410\ttotal: 58.8ms\tremaining: 6.48s\n",
      "9:\tlearn: 11226007.6371186\ttotal: 65.9ms\tremaining: 6.53s\n",
      "10:\tlearn: 11175955.7219027\ttotal: 72.7ms\tremaining: 6.53s\n",
      "11:\tlearn: 11124030.1147350\ttotal: 79.8ms\tremaining: 6.57s\n",
      "12:\tlearn: 11069456.6052224\ttotal: 86.9ms\tremaining: 6.6s\n",
      "13:\tlearn: 11018141.6310824\ttotal: 94.4ms\tremaining: 6.65s\n",
      "14:\tlearn: 10960715.0613742\ttotal: 102ms\tremaining: 6.71s\n",
      "15:\tlearn: 10904864.6510833\ttotal: 109ms\tremaining: 6.72s\n",
      "16:\tlearn: 10852062.5747336\ttotal: 117ms\tremaining: 6.76s\n",
      "17:\tlearn: 10800058.3965476\ttotal: 124ms\tremaining: 6.78s\n",
      "18:\tlearn: 10747703.9205667\ttotal: 132ms\tremaining: 6.8s\n",
      "19:\tlearn: 10695903.6648533\ttotal: 139ms\tremaining: 6.82s\n",
      "20:\tlearn: 10643059.9893898\ttotal: 146ms\tremaining: 6.8s\n",
      "21:\tlearn: 10592834.5060886\ttotal: 153ms\tremaining: 6.79s\n",
      "22:\tlearn: 10544944.8882369\ttotal: 159ms\tremaining: 6.77s\n",
      "23:\tlearn: 10495445.3656660\ttotal: 166ms\tremaining: 6.76s\n",
      "24:\tlearn: 10443298.4825234\ttotal: 173ms\tremaining: 6.74s\n",
      "25:\tlearn: 10391480.7827559\ttotal: 180ms\tremaining: 6.72s\n",
      "26:\tlearn: 10340349.2308682\ttotal: 186ms\tremaining: 6.71s\n",
      "27:\tlearn: 10294250.7019560\ttotal: 193ms\tremaining: 6.69s\n",
      "28:\tlearn: 10245745.4815981\ttotal: 200ms\tremaining: 6.68s\n",
      "29:\tlearn: 10194933.9502627\ttotal: 208ms\tremaining: 6.71s\n",
      "30:\tlearn: 10150570.2808765\ttotal: 217ms\tremaining: 6.78s\n",
      "31:\tlearn: 10106241.4972140\ttotal: 226ms\tremaining: 6.84s\n",
      "32:\tlearn: 10057547.4437232\ttotal: 234ms\tremaining: 6.86s\n",
      "33:\tlearn: 10007692.1829307\ttotal: 240ms\tremaining: 6.81s\n",
      "34:\tlearn: 9963528.6814052\ttotal: 246ms\tremaining: 6.78s\n",
      "35:\tlearn: 9914890.5918792\ttotal: 251ms\tremaining: 6.72s\n",
      "36:\tlearn: 9870787.8000202\ttotal: 257ms\tremaining: 6.68s\n",
      "37:\tlearn: 9832814.1941256\ttotal: 264ms\tremaining: 6.69s\n",
      "38:\tlearn: 9783751.4697089\ttotal: 271ms\tremaining: 6.68s\n",
      "39:\tlearn: 9740226.1717121\ttotal: 280ms\tremaining: 6.73s\n",
      "40:\tlearn: 9694665.5110609\ttotal: 288ms\tremaining: 6.73s\n",
      "41:\tlearn: 9645095.4244868\ttotal: 295ms\tremaining: 6.73s\n",
      "42:\tlearn: 9597483.0059101\ttotal: 301ms\tremaining: 6.71s\n",
      "43:\tlearn: 9553318.8344779\ttotal: 307ms\tremaining: 6.68s\n",
      "44:\tlearn: 9506231.9542136\ttotal: 314ms\tremaining: 6.66s\n",
      "45:\tlearn: 9463470.2369810\ttotal: 320ms\tremaining: 6.64s\n",
      "46:\tlearn: 9423748.0470570\ttotal: 327ms\tremaining: 6.63s\n",
      "47:\tlearn: 9385005.6034959\ttotal: 335ms\tremaining: 6.64s\n",
      "48:\tlearn: 9340428.2003673\ttotal: 342ms\tremaining: 6.63s\n",
      "49:\tlearn: 9300654.0292243\ttotal: 348ms\tremaining: 6.62s\n",
      "50:\tlearn: 9261262.7034941\ttotal: 355ms\tremaining: 6.6s\n",
      "51:\tlearn: 9217412.6047527\ttotal: 362ms\tremaining: 6.6s\n",
      "52:\tlearn: 9178350.1161835\ttotal: 369ms\tremaining: 6.59s\n",
      "53:\tlearn: 9137036.1718565\ttotal: 375ms\tremaining: 6.57s\n",
      "54:\tlearn: 9099015.1169062\ttotal: 381ms\tremaining: 6.54s\n",
      "55:\tlearn: 9059798.8210081\ttotal: 387ms\tremaining: 6.52s\n",
      "56:\tlearn: 9021446.0907235\ttotal: 392ms\tremaining: 6.49s\n",
      "57:\tlearn: 8977761.6003900\ttotal: 399ms\tremaining: 6.48s\n",
      "58:\tlearn: 8941064.7331335\ttotal: 406ms\tremaining: 6.48s\n",
      "59:\tlearn: 8905792.9821885\ttotal: 413ms\tremaining: 6.47s\n",
      "60:\tlearn: 8866569.8998943\ttotal: 421ms\tremaining: 6.47s\n",
      "61:\tlearn: 8822865.3972567\ttotal: 427ms\tremaining: 6.47s\n",
      "62:\tlearn: 8785136.0141659\ttotal: 434ms\tremaining: 6.46s\n",
      "63:\tlearn: 8748572.4709906\ttotal: 441ms\tremaining: 6.45s\n",
      "64:\tlearn: 8714127.2418348\ttotal: 448ms\tremaining: 6.44s\n",
      "65:\tlearn: 8676243.8487903\ttotal: 455ms\tremaining: 6.43s\n",
      "66:\tlearn: 8638377.9307237\ttotal: 461ms\tremaining: 6.42s\n",
      "67:\tlearn: 8598697.2232945\ttotal: 470ms\tremaining: 6.43s\n",
      "68:\tlearn: 8562857.1478082\ttotal: 476ms\tremaining: 6.42s\n",
      "69:\tlearn: 8524567.9252590\ttotal: 483ms\tremaining: 6.42s\n",
      "70:\tlearn: 8494089.3537080\ttotal: 490ms\tremaining: 6.41s\n",
      "71:\tlearn: 8459134.5244346\ttotal: 497ms\tremaining: 6.4s\n",
      "72:\tlearn: 8421506.1683838\ttotal: 503ms\tremaining: 6.39s\n",
      "73:\tlearn: 8387951.3316652\ttotal: 510ms\tremaining: 6.39s\n",
      "74:\tlearn: 8351360.5131156\ttotal: 517ms\tremaining: 6.38s\n",
      "75:\tlearn: 8315574.0811331\ttotal: 525ms\tremaining: 6.38s\n",
      "76:\tlearn: 8279879.9360862\ttotal: 531ms\tremaining: 6.37s\n",
      "77:\tlearn: 8244469.2327385\ttotal: 538ms\tremaining: 6.36s\n",
      "78:\tlearn: 8213088.5447257\ttotal: 539ms\tremaining: 6.29s\n",
      "79:\tlearn: 8180806.9683197\ttotal: 547ms\tremaining: 6.29s\n",
      "80:\tlearn: 8152151.5128849\ttotal: 554ms\tremaining: 6.28s\n",
      "81:\tlearn: 8121158.1982219\ttotal: 560ms\tremaining: 6.27s\n",
      "82:\tlearn: 8086965.3454249\ttotal: 567ms\tremaining: 6.26s\n",
      "83:\tlearn: 8049909.1550046\ttotal: 573ms\tremaining: 6.25s\n",
      "84:\tlearn: 8012324.9839137\ttotal: 580ms\tremaining: 6.24s\n",
      "85:\tlearn: 7978766.2921760\ttotal: 586ms\tremaining: 6.23s\n",
      "86:\tlearn: 7946789.4184627\ttotal: 594ms\tremaining: 6.23s\n",
      "87:\tlearn: 7912027.0863329\ttotal: 601ms\tremaining: 6.22s\n",
      "88:\tlearn: 7881763.9033832\ttotal: 607ms\tremaining: 6.22s\n",
      "89:\tlearn: 7847684.1129727\ttotal: 615ms\tremaining: 6.22s\n",
      "90:\tlearn: 7814014.9468790\ttotal: 622ms\tremaining: 6.21s\n",
      "91:\tlearn: 7784176.5508477\ttotal: 627ms\tremaining: 6.19s\n",
      "92:\tlearn: 7758786.3953101\ttotal: 634ms\tremaining: 6.18s\n",
      "93:\tlearn: 7725551.7356428\ttotal: 641ms\tremaining: 6.18s\n",
      "94:\tlearn: 7696790.2355910\ttotal: 648ms\tremaining: 6.17s\n",
      "95:\tlearn: 7671949.1186627\ttotal: 656ms\tremaining: 6.18s\n",
      "96:\tlearn: 7640860.5444830\ttotal: 663ms\tremaining: 6.17s\n",
      "97:\tlearn: 7612701.1224843\ttotal: 670ms\tremaining: 6.16s\n",
      "98:\tlearn: 7585906.2959931\ttotal: 677ms\tremaining: 6.16s\n",
      "99:\tlearn: 7556941.5491800\ttotal: 684ms\tremaining: 6.15s\n",
      "100:\tlearn: 7526341.6142997\ttotal: 691ms\tremaining: 6.15s\n",
      "101:\tlearn: 7494914.4346060\ttotal: 698ms\tremaining: 6.14s\n",
      "102:\tlearn: 7468125.8497570\ttotal: 705ms\tremaining: 6.14s\n",
      "103:\tlearn: 7440744.9165300\ttotal: 711ms\tremaining: 6.13s\n",
      "104:\tlearn: 7413436.1397176\ttotal: 719ms\tremaining: 6.12s\n",
      "105:\tlearn: 7387933.0287978\ttotal: 723ms\tremaining: 6.1s\n",
      "106:\tlearn: 7361095.5470126\ttotal: 730ms\tremaining: 6.09s\n",
      "107:\tlearn: 7329561.9930722\ttotal: 737ms\tremaining: 6.08s\n",
      "108:\tlearn: 7302754.5982176\ttotal: 743ms\tremaining: 6.08s\n",
      "109:\tlearn: 7279372.0150389\ttotal: 750ms\tremaining: 6.07s\n",
      "110:\tlearn: 7253487.7471197\ttotal: 757ms\tremaining: 6.06s\n",
      "111:\tlearn: 7225122.3956249\ttotal: 764ms\tremaining: 6.06s\n",
      "112:\tlearn: 7197535.3660469\ttotal: 771ms\tremaining: 6.05s\n",
      "113:\tlearn: 7168053.7200774\ttotal: 778ms\tremaining: 6.05s\n",
      "114:\tlearn: 7147232.2292942\ttotal: 786ms\tremaining: 6.05s\n",
      "115:\tlearn: 7122818.3424639\ttotal: 793ms\tremaining: 6.04s\n",
      "116:\tlearn: 7097668.5611320\ttotal: 799ms\tremaining: 6.03s\n",
      "117:\tlearn: 7073603.7320575\ttotal: 806ms\tremaining: 6.02s\n",
      "118:\tlearn: 7049873.5121465\ttotal: 813ms\tremaining: 6.02s\n",
      "119:\tlearn: 7029125.8894113\ttotal: 820ms\tremaining: 6.02s\n",
      "120:\tlearn: 7000721.9918219\ttotal: 827ms\tremaining: 6.01s\n",
      "121:\tlearn: 6975137.0247141\ttotal: 834ms\tremaining: 6s\n",
      "122:\tlearn: 6949013.1341657\ttotal: 841ms\tremaining: 6s\n",
      "123:\tlearn: 6924202.0147683\ttotal: 848ms\tremaining: 5.99s\n",
      "124:\tlearn: 6897811.7914517\ttotal: 855ms\tremaining: 5.99s\n",
      "125:\tlearn: 6874733.2712457\ttotal: 864ms\tremaining: 5.99s\n",
      "126:\tlearn: 6848877.9487424\ttotal: 871ms\tremaining: 5.99s\n",
      "127:\tlearn: 6818234.8671945\ttotal: 879ms\tremaining: 5.99s\n",
      "128:\tlearn: 6796045.7818239\ttotal: 885ms\tremaining: 5.98s\n",
      "129:\tlearn: 6774960.0437892\ttotal: 892ms\tremaining: 5.97s\n",
      "130:\tlearn: 6751086.7769390\ttotal: 900ms\tremaining: 5.97s\n",
      "131:\tlearn: 6726945.3385319\ttotal: 906ms\tremaining: 5.96s\n",
      "132:\tlearn: 6704564.9565707\ttotal: 913ms\tremaining: 5.95s\n",
      "133:\tlearn: 6683879.6059750\ttotal: 920ms\tremaining: 5.94s\n",
      "134:\tlearn: 6659812.3964776\ttotal: 927ms\tremaining: 5.94s\n",
      "135:\tlearn: 6633896.7470344\ttotal: 933ms\tremaining: 5.93s\n",
      "136:\tlearn: 6609490.7736402\ttotal: 940ms\tremaining: 5.92s\n",
      "137:\tlearn: 6587040.8312999\ttotal: 948ms\tremaining: 5.92s\n",
      "138:\tlearn: 6565967.2409893\ttotal: 954ms\tremaining: 5.91s\n",
      "139:\tlearn: 6540935.7997656\ttotal: 961ms\tremaining: 5.9s\n",
      "140:\tlearn: 6520292.2943964\ttotal: 968ms\tremaining: 5.9s\n",
      "141:\tlearn: 6497691.6747959\ttotal: 975ms\tremaining: 5.89s\n",
      "142:\tlearn: 6475952.5209359\ttotal: 981ms\tremaining: 5.88s\n",
      "143:\tlearn: 6452882.3150674\ttotal: 988ms\tremaining: 5.88s\n",
      "144:\tlearn: 6434399.1312716\ttotal: 995ms\tremaining: 5.87s\n",
      "145:\tlearn: 6410893.4385025\ttotal: 1s\tremaining: 5.86s\n",
      "146:\tlearn: 6393511.0197481\ttotal: 1.01s\tremaining: 5.86s\n"
     ]
    },
    {
     "name": "stdout",
     "output_type": "stream",
     "text": [
      "147:\tlearn: 6370912.2589399\ttotal: 1.02s\tremaining: 5.85s\n",
      "148:\tlearn: 6347466.6087323\ttotal: 1.02s\tremaining: 5.84s\n",
      "149:\tlearn: 6326905.2349621\ttotal: 1.03s\tremaining: 5.84s\n",
      "150:\tlearn: 6307060.4324958\ttotal: 1.04s\tremaining: 5.83s\n",
      "151:\tlearn: 6290444.9011379\ttotal: 1.04s\tremaining: 5.83s\n",
      "152:\tlearn: 6270757.4155357\ttotal: 1.05s\tremaining: 5.83s\n",
      "153:\tlearn: 6253133.5425219\ttotal: 1.06s\tremaining: 5.83s\n",
      "154:\tlearn: 6235917.5575852\ttotal: 1.07s\tremaining: 5.82s\n",
      "155:\tlearn: 6216154.6763454\ttotal: 1.07s\tremaining: 5.81s\n",
      "156:\tlearn: 6198698.1228052\ttotal: 1.08s\tremaining: 5.81s\n",
      "157:\tlearn: 6182833.8552077\ttotal: 1.09s\tremaining: 5.8s\n",
      "158:\tlearn: 6166177.7441052\ttotal: 1.1s\tremaining: 5.8s\n",
      "159:\tlearn: 6146749.5001191\ttotal: 1.1s\tremaining: 5.79s\n",
      "160:\tlearn: 6123634.8289966\ttotal: 1.11s\tremaining: 5.79s\n",
      "161:\tlearn: 6109695.9756385\ttotal: 1.12s\tremaining: 5.78s\n",
      "162:\tlearn: 6088816.8126722\ttotal: 1.12s\tremaining: 5.78s\n",
      "163:\tlearn: 6070703.9594534\ttotal: 1.13s\tremaining: 5.77s\n",
      "164:\tlearn: 6050777.6408338\ttotal: 1.14s\tremaining: 5.76s\n",
      "165:\tlearn: 6031136.3265971\ttotal: 1.14s\tremaining: 5.75s\n",
      "166:\tlearn: 6012287.8634791\ttotal: 1.15s\tremaining: 5.75s\n",
      "167:\tlearn: 5990553.1512089\ttotal: 1.16s\tremaining: 5.74s\n",
      "168:\tlearn: 5970377.8379178\ttotal: 1.17s\tremaining: 5.73s\n",
      "169:\tlearn: 5947931.9021509\ttotal: 1.17s\tremaining: 5.73s\n",
      "170:\tlearn: 5935653.8696149\ttotal: 1.18s\tremaining: 5.72s\n",
      "171:\tlearn: 5914648.3406435\ttotal: 1.19s\tremaining: 5.71s\n",
      "172:\tlearn: 5895720.6653860\ttotal: 1.19s\tremaining: 5.71s\n",
      "173:\tlearn: 5877764.5923897\ttotal: 1.2s\tremaining: 5.7s\n",
      "174:\tlearn: 5859869.9265618\ttotal: 1.21s\tremaining: 5.7s\n",
      "175:\tlearn: 5841858.4231342\ttotal: 1.22s\tremaining: 5.69s\n",
      "176:\tlearn: 5824397.2599782\ttotal: 1.22s\tremaining: 5.68s\n",
      "177:\tlearn: 5806002.0684841\ttotal: 1.23s\tremaining: 5.69s\n",
      "178:\tlearn: 5788898.9389600\ttotal: 1.24s\tremaining: 5.68s\n",
      "179:\tlearn: 5769122.6752171\ttotal: 1.25s\tremaining: 5.68s\n",
      "180:\tlearn: 5752048.0765789\ttotal: 1.25s\tremaining: 5.67s\n",
      "181:\tlearn: 5738332.9862077\ttotal: 1.26s\tremaining: 5.67s\n",
      "182:\tlearn: 5722686.3417393\ttotal: 1.27s\tremaining: 5.66s\n",
      "183:\tlearn: 5706511.7390910\ttotal: 1.27s\tremaining: 5.66s\n",
      "184:\tlearn: 5689776.2959288\ttotal: 1.28s\tremaining: 5.65s\n",
      "185:\tlearn: 5674431.4666074\ttotal: 1.29s\tremaining: 5.64s\n",
      "186:\tlearn: 5660462.5728792\ttotal: 1.3s\tremaining: 5.64s\n",
      "187:\tlearn: 5645432.7817083\ttotal: 1.3s\tremaining: 5.63s\n",
      "188:\tlearn: 5628972.8739668\ttotal: 1.31s\tremaining: 5.63s\n",
      "189:\tlearn: 5612722.2991830\ttotal: 1.32s\tremaining: 5.62s\n",
      "190:\tlearn: 5598665.2744540\ttotal: 1.32s\tremaining: 5.61s\n",
      "191:\tlearn: 5584769.0622934\ttotal: 1.33s\tremaining: 5.61s\n",
      "192:\tlearn: 5571573.0472128\ttotal: 1.34s\tremaining: 5.6s\n",
      "193:\tlearn: 5560679.5487529\ttotal: 1.35s\tremaining: 5.59s\n",
      "194:\tlearn: 5543949.8584517\ttotal: 1.35s\tremaining: 5.59s\n",
      "195:\tlearn: 5527276.9001328\ttotal: 1.36s\tremaining: 5.58s\n",
      "196:\tlearn: 5513182.3663940\ttotal: 1.37s\tremaining: 5.57s\n",
      "197:\tlearn: 5497868.9136883\ttotal: 1.37s\tremaining: 5.56s\n",
      "198:\tlearn: 5482966.4681076\ttotal: 1.38s\tremaining: 5.56s\n",
      "199:\tlearn: 5468996.0426581\ttotal: 1.39s\tremaining: 5.55s\n",
      "200:\tlearn: 5450271.2666019\ttotal: 1.39s\tremaining: 5.54s\n",
      "201:\tlearn: 5433605.0554100\ttotal: 1.4s\tremaining: 5.53s\n",
      "202:\tlearn: 5419867.5147445\ttotal: 1.41s\tremaining: 5.53s\n",
      "203:\tlearn: 5401398.4176474\ttotal: 1.41s\tremaining: 5.52s\n",
      "204:\tlearn: 5387497.9100831\ttotal: 1.42s\tremaining: 5.51s\n",
      "205:\tlearn: 5371476.5663437\ttotal: 1.43s\tremaining: 5.51s\n",
      "206:\tlearn: 5352668.3881912\ttotal: 1.44s\tremaining: 5.5s\n",
      "207:\tlearn: 5337202.1837206\ttotal: 1.44s\tremaining: 5.49s\n",
      "208:\tlearn: 5319864.5479072\ttotal: 1.45s\tremaining: 5.49s\n",
      "209:\tlearn: 5306431.3560265\ttotal: 1.46s\tremaining: 5.48s\n",
      "210:\tlearn: 5291577.4941706\ttotal: 1.46s\tremaining: 5.47s\n",
      "211:\tlearn: 5276181.7280263\ttotal: 1.47s\tremaining: 5.46s\n",
      "212:\tlearn: 5264122.9044866\ttotal: 1.48s\tremaining: 5.46s\n",
      "213:\tlearn: 5250303.4816748\ttotal: 1.48s\tremaining: 5.45s\n",
      "214:\tlearn: 5233936.6366078\ttotal: 1.49s\tremaining: 5.44s\n",
      "215:\tlearn: 5219215.9984707\ttotal: 1.5s\tremaining: 5.43s\n",
      "216:\tlearn: 5205452.9814736\ttotal: 1.5s\tremaining: 5.42s\n",
      "217:\tlearn: 5193857.2979542\ttotal: 1.51s\tremaining: 5.42s\n",
      "218:\tlearn: 5181671.8822417\ttotal: 1.52s\tremaining: 5.41s\n",
      "219:\tlearn: 5166467.9966154\ttotal: 1.52s\tremaining: 5.4s\n",
      "220:\tlearn: 5150726.8582454\ttotal: 1.53s\tremaining: 5.4s\n",
      "221:\tlearn: 5135383.4116346\ttotal: 1.54s\tremaining: 5.39s\n",
      "222:\tlearn: 5122030.7609302\ttotal: 1.54s\tremaining: 5.38s\n",
      "223:\tlearn: 5109211.0505931\ttotal: 1.55s\tremaining: 5.37s\n",
      "224:\tlearn: 5095541.4974119\ttotal: 1.56s\tremaining: 5.37s\n",
      "225:\tlearn: 5083171.7788956\ttotal: 1.56s\tremaining: 5.36s\n",
      "226:\tlearn: 5068954.0850158\ttotal: 1.57s\tremaining: 5.35s\n",
      "227:\tlearn: 5059802.3739031\ttotal: 1.58s\tremaining: 5.34s\n",
      "228:\tlearn: 5046946.8815229\ttotal: 1.58s\tremaining: 5.33s\n",
      "229:\tlearn: 5033991.9047682\ttotal: 1.59s\tremaining: 5.33s\n",
      "230:\tlearn: 5019243.9089725\ttotal: 1.6s\tremaining: 5.32s\n",
      "231:\tlearn: 5004132.2738643\ttotal: 1.6s\tremaining: 5.31s\n",
      "232:\tlearn: 4994206.6759251\ttotal: 1.61s\tremaining: 5.3s\n",
      "233:\tlearn: 4979290.1554169\ttotal: 1.62s\tremaining: 5.3s\n",
      "234:\tlearn: 4967460.6354593\ttotal: 1.63s\tremaining: 5.29s\n",
      "235:\tlearn: 4955690.5132847\ttotal: 1.63s\tremaining: 5.29s\n",
      "236:\tlearn: 4943374.8527507\ttotal: 1.64s\tremaining: 5.28s\n",
      "237:\tlearn: 4932603.7311897\ttotal: 1.65s\tremaining: 5.28s\n",
      "238:\tlearn: 4921701.0985054\ttotal: 1.65s\tremaining: 5.27s\n",
      "239:\tlearn: 4906990.8050557\ttotal: 1.66s\tremaining: 5.26s\n",
      "240:\tlearn: 4891558.8588703\ttotal: 1.67s\tremaining: 5.25s\n",
      "241:\tlearn: 4878409.0941350\ttotal: 1.68s\tremaining: 5.25s\n",
      "242:\tlearn: 4865574.6963727\ttotal: 1.68s\tremaining: 5.24s\n",
      "243:\tlearn: 4853148.7477507\ttotal: 1.69s\tremaining: 5.23s\n",
      "244:\tlearn: 4841887.0275311\ttotal: 1.7s\tremaining: 5.23s\n",
      "245:\tlearn: 4828048.8093038\ttotal: 1.7s\tremaining: 5.22s\n",
      "246:\tlearn: 4814952.9911193\ttotal: 1.71s\tremaining: 5.21s\n",
      "247:\tlearn: 4800620.4815216\ttotal: 1.72s\tremaining: 5.21s\n",
      "248:\tlearn: 4786351.2378186\ttotal: 1.72s\tremaining: 5.2s\n",
      "249:\tlearn: 4775178.2110460\ttotal: 1.73s\tremaining: 5.2s\n",
      "250:\tlearn: 4762174.9402368\ttotal: 1.74s\tremaining: 5.19s\n",
      "251:\tlearn: 4747596.7889065\ttotal: 1.75s\tremaining: 5.18s\n",
      "252:\tlearn: 4737704.6809393\ttotal: 1.75s\tremaining: 5.17s\n",
      "253:\tlearn: 4726206.9857001\ttotal: 1.76s\tremaining: 5.17s\n",
      "254:\tlearn: 4715932.0787887\ttotal: 1.77s\tremaining: 5.16s\n",
      "255:\tlearn: 4705301.3228022\ttotal: 1.77s\tremaining: 5.15s\n",
      "256:\tlearn: 4691300.8024839\ttotal: 1.78s\tremaining: 5.15s\n",
      "257:\tlearn: 4684742.4373081\ttotal: 1.79s\tremaining: 5.14s\n",
      "258:\tlearn: 4673251.2860831\ttotal: 1.79s\tremaining: 5.13s\n",
      "259:\tlearn: 4661324.5204754\ttotal: 1.8s\tremaining: 5.12s\n",
      "260:\tlearn: 4650336.9355621\ttotal: 1.81s\tremaining: 5.12s\n",
      "261:\tlearn: 4635971.8174463\ttotal: 1.81s\tremaining: 5.11s\n",
      "262:\tlearn: 4625052.0616007\ttotal: 1.82s\tremaining: 5.11s\n",
      "263:\tlearn: 4612811.1109758\ttotal: 1.83s\tremaining: 5.1s\n",
      "264:\tlearn: 4602311.4128346\ttotal: 1.84s\tremaining: 5.1s\n",
      "265:\tlearn: 4590697.8236613\ttotal: 1.84s\tremaining: 5.09s\n",
      "266:\tlearn: 4582814.2497673\ttotal: 1.85s\tremaining: 5.08s\n",
      "267:\tlearn: 4574294.8582989\ttotal: 1.86s\tremaining: 5.08s\n",
      "268:\tlearn: 4563371.0091538\ttotal: 1.86s\tremaining: 5.07s\n",
      "269:\tlearn: 4554062.4022913\ttotal: 1.88s\tremaining: 5.07s\n",
      "270:\tlearn: 4545890.1583565\ttotal: 1.88s\tremaining: 5.07s\n",
      "271:\tlearn: 4534441.3269562\ttotal: 1.89s\tremaining: 5.06s\n",
      "272:\tlearn: 4529221.6548101\ttotal: 1.9s\tremaining: 5.05s\n",
      "273:\tlearn: 4521477.0160774\ttotal: 1.9s\tremaining: 5.04s\n",
      "274:\tlearn: 4512686.2981884\ttotal: 1.91s\tremaining: 5.04s\n",
      "275:\tlearn: 4501344.2091629\ttotal: 1.92s\tremaining: 5.03s\n",
      "276:\tlearn: 4491559.0848528\ttotal: 1.92s\tremaining: 5.02s\n",
      "277:\tlearn: 4477937.1734907\ttotal: 1.93s\tremaining: 5.02s\n",
      "278:\tlearn: 4468647.3460056\ttotal: 1.94s\tremaining: 5.01s\n",
      "279:\tlearn: 4460213.7239577\ttotal: 1.95s\tremaining: 5.01s\n",
      "280:\tlearn: 4450429.8108048\ttotal: 1.96s\tremaining: 5s\n",
      "281:\tlearn: 4444418.5527476\ttotal: 1.96s\tremaining: 5s\n",
      "282:\tlearn: 4434421.1176137\ttotal: 1.97s\tremaining: 5s\n",
      "283:\tlearn: 4426141.3511614\ttotal: 1.98s\tremaining: 4.99s\n",
      "284:\tlearn: 4420547.6534990\ttotal: 1.99s\tremaining: 4.99s\n",
      "285:\tlearn: 4408848.7727552\ttotal: 2s\tremaining: 4.98s\n",
      "286:\tlearn: 4401331.5751021\ttotal: 2s\tremaining: 4.98s\n",
      "287:\tlearn: 4392787.4514101\ttotal: 2.01s\tremaining: 4.98s\n",
      "288:\tlearn: 4384231.3808295\ttotal: 2.02s\tremaining: 4.97s\n",
      "289:\tlearn: 4372688.1330894\ttotal: 2.03s\tremaining: 4.97s\n",
      "290:\tlearn: 4358735.8579321\ttotal: 2.04s\tremaining: 4.97s\n",
      "291:\tlearn: 4350821.7489239\ttotal: 2.05s\tremaining: 4.97s\n",
      "292:\tlearn: 4341184.8634508\ttotal: 2.06s\tremaining: 4.96s\n",
      "293:\tlearn: 4330496.6463623\ttotal: 2.06s\tremaining: 4.95s\n",
      "294:\tlearn: 4323094.2379466\ttotal: 2.07s\tremaining: 4.95s\n",
      "295:\tlearn: 4315701.8432183\ttotal: 2.08s\tremaining: 4.95s\n",
      "296:\tlearn: 4306655.7376542\ttotal: 2.09s\tremaining: 4.95s\n",
      "297:\tlearn: 4295842.1790859\ttotal: 2.1s\tremaining: 4.94s\n",
      "298:\tlearn: 4287282.9599361\ttotal: 2.11s\tremaining: 4.94s\n",
      "299:\tlearn: 4277066.9117114\ttotal: 2.11s\tremaining: 4.93s\n",
      "300:\tlearn: 4268463.8249829\ttotal: 2.12s\tremaining: 4.92s\n",
      "301:\tlearn: 4259342.1099986\ttotal: 2.12s\tremaining: 4.91s\n",
      "302:\tlearn: 4248691.2156474\ttotal: 2.13s\tremaining: 4.9s\n",
      "303:\tlearn: 4239449.7167361\ttotal: 2.13s\tremaining: 4.89s\n",
      "304:\tlearn: 4230518.5697475\ttotal: 2.14s\tremaining: 4.88s\n",
      "305:\tlearn: 4222135.4217549\ttotal: 2.14s\tremaining: 4.86s\n",
      "306:\tlearn: 4210602.2605128\ttotal: 2.15s\tremaining: 4.84s\n",
      "307:\tlearn: 4201994.0682435\ttotal: 2.15s\tremaining: 4.84s\n",
      "308:\tlearn: 4193099.1715581\ttotal: 2.16s\tremaining: 4.83s\n",
      "309:\tlearn: 4185280.1770362\ttotal: 2.16s\tremaining: 4.81s\n",
      "310:\tlearn: 4177240.7129152\ttotal: 2.17s\tremaining: 4.81s\n",
      "311:\tlearn: 4167176.0177284\ttotal: 2.18s\tremaining: 4.8s\n",
      "312:\tlearn: 4159357.7591691\ttotal: 2.19s\tremaining: 4.8s\n",
      "313:\tlearn: 4151265.5285287\ttotal: 2.19s\tremaining: 4.79s\n",
      "314:\tlearn: 4143713.3866514\ttotal: 2.2s\tremaining: 4.78s\n",
      "315:\tlearn: 4132889.2356692\ttotal: 2.2s\tremaining: 4.77s\n",
      "316:\tlearn: 4126354.8469065\ttotal: 2.21s\tremaining: 4.76s\n"
     ]
    },
    {
     "name": "stdout",
     "output_type": "stream",
     "text": [
      "317:\tlearn: 4116539.0026709\ttotal: 2.22s\tremaining: 4.76s\n",
      "318:\tlearn: 4109344.2630413\ttotal: 2.23s\tremaining: 4.75s\n",
      "319:\tlearn: 4098585.2926713\ttotal: 2.23s\tremaining: 4.75s\n",
      "320:\tlearn: 4089067.1908018\ttotal: 2.24s\tremaining: 4.74s\n",
      "321:\tlearn: 4079447.3157556\ttotal: 2.25s\tremaining: 4.73s\n",
      "322:\tlearn: 4072146.7839751\ttotal: 2.25s\tremaining: 4.73s\n",
      "323:\tlearn: 4060598.4866397\ttotal: 2.26s\tremaining: 4.72s\n",
      "324:\tlearn: 4051317.9251518\ttotal: 2.27s\tremaining: 4.71s\n",
      "325:\tlearn: 4041202.7120992\ttotal: 2.28s\tremaining: 4.71s\n",
      "326:\tlearn: 4032777.4978508\ttotal: 2.28s\tremaining: 4.7s\n",
      "327:\tlearn: 4025541.8913993\ttotal: 2.29s\tremaining: 4.69s\n",
      "328:\tlearn: 4014328.9036386\ttotal: 2.3s\tremaining: 4.68s\n",
      "329:\tlearn: 4006685.9456146\ttotal: 2.3s\tremaining: 4.68s\n",
      "330:\tlearn: 3996369.8867481\ttotal: 2.31s\tremaining: 4.67s\n",
      "331:\tlearn: 3988872.2628046\ttotal: 2.32s\tremaining: 4.66s\n",
      "332:\tlearn: 3982089.1750862\ttotal: 2.32s\tremaining: 4.66s\n",
      "333:\tlearn: 3975149.6243493\ttotal: 2.33s\tremaining: 4.65s\n",
      "334:\tlearn: 3963494.1232527\ttotal: 2.34s\tremaining: 4.64s\n",
      "335:\tlearn: 3959166.7914301\ttotal: 2.34s\tremaining: 4.63s\n",
      "336:\tlearn: 3948892.9757225\ttotal: 2.35s\tremaining: 4.63s\n",
      "337:\tlearn: 3941128.0528661\ttotal: 2.36s\tremaining: 4.62s\n",
      "338:\tlearn: 3936479.6260022\ttotal: 2.36s\tremaining: 4.61s\n",
      "339:\tlearn: 3926737.4570219\ttotal: 2.37s\tremaining: 4.6s\n",
      "340:\tlearn: 3918683.8976964\ttotal: 2.38s\tremaining: 4.59s\n",
      "341:\tlearn: 3907849.7355904\ttotal: 2.38s\tremaining: 4.59s\n",
      "342:\tlearn: 3895863.4762500\ttotal: 2.39s\tremaining: 4.58s\n",
      "343:\tlearn: 3888879.7800416\ttotal: 2.4s\tremaining: 4.57s\n",
      "344:\tlearn: 3881836.7662636\ttotal: 2.4s\tremaining: 4.56s\n",
      "345:\tlearn: 3872883.6890575\ttotal: 2.41s\tremaining: 4.56s\n",
      "346:\tlearn: 3866679.7569387\ttotal: 2.42s\tremaining: 4.55s\n",
      "347:\tlearn: 3862451.6551482\ttotal: 2.42s\tremaining: 4.54s\n",
      "348:\tlearn: 3853618.6273655\ttotal: 2.43s\tremaining: 4.53s\n",
      "349:\tlearn: 3847170.8366166\ttotal: 2.44s\tremaining: 4.52s\n",
      "350:\tlearn: 3838171.2651141\ttotal: 2.44s\tremaining: 4.52s\n",
      "351:\tlearn: 3830855.5398964\ttotal: 2.45s\tremaining: 4.51s\n",
      "352:\tlearn: 3822949.6826204\ttotal: 2.47s\tremaining: 4.53s\n",
      "353:\tlearn: 3819006.2681879\ttotal: 2.48s\tremaining: 4.53s\n",
      "354:\tlearn: 3812720.5540296\ttotal: 2.49s\tremaining: 4.52s\n",
      "355:\tlearn: 3804372.1217149\ttotal: 2.5s\tremaining: 4.51s\n",
      "356:\tlearn: 3796538.0823435\ttotal: 2.5s\tremaining: 4.51s\n",
      "357:\tlearn: 3792439.5896908\ttotal: 2.51s\tremaining: 4.5s\n",
      "358:\tlearn: 3788784.4621955\ttotal: 2.51s\tremaining: 4.49s\n",
      "359:\tlearn: 3782105.3806689\ttotal: 2.52s\tremaining: 4.48s\n",
      "360:\tlearn: 3776297.9256727\ttotal: 2.53s\tremaining: 4.47s\n",
      "361:\tlearn: 3765914.5882703\ttotal: 2.53s\tremaining: 4.47s\n",
      "362:\tlearn: 3759664.9069113\ttotal: 2.54s\tremaining: 4.46s\n",
      "363:\tlearn: 3753351.7249254\ttotal: 2.55s\tremaining: 4.45s\n",
      "364:\tlearn: 3749041.7811079\ttotal: 2.56s\tremaining: 4.45s\n",
      "365:\tlearn: 3740021.7652667\ttotal: 2.56s\tremaining: 4.44s\n",
      "366:\tlearn: 3731899.9642684\ttotal: 2.57s\tremaining: 4.43s\n",
      "367:\tlearn: 3725465.6186068\ttotal: 2.58s\tremaining: 4.42s\n",
      "368:\tlearn: 3717518.4891553\ttotal: 2.58s\tremaining: 4.42s\n",
      "369:\tlearn: 3711590.2788531\ttotal: 2.59s\tremaining: 4.41s\n",
      "370:\tlearn: 3705472.0184942\ttotal: 2.6s\tremaining: 4.4s\n",
      "371:\tlearn: 3700646.3225265\ttotal: 2.6s\tremaining: 4.39s\n",
      "372:\tlearn: 3692214.5247627\ttotal: 2.61s\tremaining: 4.39s\n",
      "373:\tlearn: 3687136.7491323\ttotal: 2.62s\tremaining: 4.38s\n",
      "374:\tlearn: 3681039.6578425\ttotal: 2.63s\tremaining: 4.38s\n",
      "375:\tlearn: 3674173.8868955\ttotal: 2.63s\tremaining: 4.37s\n",
      "376:\tlearn: 3667957.7138452\ttotal: 2.64s\tremaining: 4.36s\n",
      "377:\tlearn: 3661263.9053301\ttotal: 2.65s\tremaining: 4.36s\n",
      "378:\tlearn: 3654983.5035131\ttotal: 2.65s\tremaining: 4.35s\n",
      "379:\tlearn: 3649430.6449255\ttotal: 2.66s\tremaining: 4.34s\n",
      "380:\tlearn: 3641923.5149184\ttotal: 2.67s\tremaining: 4.33s\n",
      "381:\tlearn: 3634345.2240016\ttotal: 2.68s\tremaining: 4.33s\n",
      "382:\tlearn: 3627415.2283226\ttotal: 2.68s\tremaining: 4.32s\n",
      "383:\tlearn: 3621336.9271340\ttotal: 2.69s\tremaining: 4.32s\n",
      "384:\tlearn: 3615254.9134466\ttotal: 2.7s\tremaining: 4.31s\n",
      "385:\tlearn: 3607032.9076649\ttotal: 2.7s\tremaining: 4.3s\n",
      "386:\tlearn: 3599903.4382864\ttotal: 2.71s\tremaining: 4.29s\n",
      "387:\tlearn: 3593279.9831652\ttotal: 2.72s\tremaining: 4.29s\n",
      "388:\tlearn: 3584757.8346111\ttotal: 2.73s\tremaining: 4.28s\n",
      "389:\tlearn: 3577711.3631466\ttotal: 2.73s\tremaining: 4.27s\n",
      "390:\tlearn: 3572204.1774204\ttotal: 2.74s\tremaining: 4.27s\n",
      "391:\tlearn: 3564616.5576687\ttotal: 2.75s\tremaining: 4.26s\n",
      "392:\tlearn: 3555016.9372461\ttotal: 2.75s\tremaining: 4.25s\n",
      "393:\tlearn: 3549187.0781544\ttotal: 2.76s\tremaining: 4.24s\n",
      "394:\tlearn: 3543676.3570334\ttotal: 2.77s\tremaining: 4.24s\n",
      "395:\tlearn: 3537556.6710661\ttotal: 2.77s\tremaining: 4.23s\n",
      "396:\tlearn: 3529191.2028705\ttotal: 2.78s\tremaining: 4.22s\n",
      "397:\tlearn: 3523806.3778169\ttotal: 2.79s\tremaining: 4.22s\n",
      "398:\tlearn: 3516755.1231450\ttotal: 2.79s\tremaining: 4.21s\n",
      "399:\tlearn: 3510888.4246901\ttotal: 2.8s\tremaining: 4.2s\n",
      "400:\tlearn: 3505756.3531543\ttotal: 2.8s\tremaining: 4.19s\n",
      "401:\tlearn: 3500507.1678444\ttotal: 2.81s\tremaining: 4.18s\n",
      "402:\tlearn: 3492281.1106048\ttotal: 2.82s\tremaining: 4.17s\n",
      "403:\tlearn: 3483313.6992739\ttotal: 2.82s\tremaining: 4.17s\n",
      "404:\tlearn: 3479595.3796065\ttotal: 2.83s\tremaining: 4.16s\n",
      "405:\tlearn: 3476299.6398376\ttotal: 2.84s\tremaining: 4.15s\n",
      "406:\tlearn: 3470953.2595940\ttotal: 2.85s\tremaining: 4.15s\n",
      "407:\tlearn: 3465524.0620553\ttotal: 2.85s\tremaining: 4.14s\n",
      "408:\tlearn: 3458797.3738667\ttotal: 2.86s\tremaining: 4.13s\n",
      "409:\tlearn: 3455342.3538011\ttotal: 2.87s\tremaining: 4.12s\n",
      "410:\tlearn: 3447587.0099939\ttotal: 2.87s\tremaining: 4.12s\n",
      "411:\tlearn: 3442306.6661789\ttotal: 2.88s\tremaining: 4.11s\n",
      "412:\tlearn: 3437449.7667945\ttotal: 2.89s\tremaining: 4.1s\n",
      "413:\tlearn: 3431480.7026380\ttotal: 2.89s\tremaining: 4.09s\n",
      "414:\tlearn: 3425790.8183675\ttotal: 2.9s\tremaining: 4.09s\n",
      "415:\tlearn: 3419986.7154788\ttotal: 2.91s\tremaining: 4.08s\n",
      "416:\tlearn: 3416483.9122050\ttotal: 2.91s\tremaining: 4.07s\n",
      "417:\tlearn: 3411639.0679689\ttotal: 2.92s\tremaining: 4.06s\n",
      "418:\tlearn: 3405853.4179266\ttotal: 2.92s\tremaining: 4.05s\n",
      "419:\tlearn: 3400945.1323328\ttotal: 2.93s\tremaining: 4.05s\n",
      "420:\tlearn: 3393454.2190415\ttotal: 2.94s\tremaining: 4.04s\n",
      "421:\tlearn: 3386684.0985302\ttotal: 2.94s\tremaining: 4.03s\n",
      "422:\tlearn: 3381541.3499405\ttotal: 2.95s\tremaining: 4.03s\n",
      "423:\tlearn: 3373978.1472620\ttotal: 2.96s\tremaining: 4.02s\n",
      "424:\tlearn: 3366774.8192295\ttotal: 2.96s\tremaining: 4.01s\n",
      "425:\tlearn: 3361413.8076151\ttotal: 2.97s\tremaining: 4s\n",
      "426:\tlearn: 3356490.9457077\ttotal: 2.98s\tremaining: 4s\n",
      "427:\tlearn: 3351802.3535590\ttotal: 2.98s\tremaining: 3.99s\n",
      "428:\tlearn: 3344452.8637307\ttotal: 2.99s\tremaining: 3.98s\n",
      "429:\tlearn: 3337610.5291047\ttotal: 3s\tremaining: 3.97s\n",
      "430:\tlearn: 3330860.7857628\ttotal: 3s\tremaining: 3.96s\n",
      "431:\tlearn: 3325810.0733944\ttotal: 3.01s\tremaining: 3.96s\n",
      "432:\tlearn: 3320051.8315885\ttotal: 3.02s\tremaining: 3.95s\n",
      "433:\tlearn: 3315818.7943794\ttotal: 3.03s\tremaining: 3.95s\n",
      "434:\tlearn: 3311180.3330892\ttotal: 3.03s\tremaining: 3.94s\n",
      "435:\tlearn: 3306120.9952409\ttotal: 3.04s\tremaining: 3.93s\n",
      "436:\tlearn: 3299764.7899627\ttotal: 3.05s\tremaining: 3.92s\n",
      "437:\tlearn: 3294511.6180750\ttotal: 3.05s\tremaining: 3.92s\n",
      "438:\tlearn: 3289319.1180144\ttotal: 3.06s\tremaining: 3.91s\n",
      "439:\tlearn: 3285489.9417597\ttotal: 3.07s\tremaining: 3.9s\n",
      "440:\tlearn: 3280721.9664813\ttotal: 3.07s\tremaining: 3.9s\n",
      "441:\tlearn: 3275240.0307811\ttotal: 3.08s\tremaining: 3.89s\n",
      "442:\tlearn: 3269289.8426878\ttotal: 3.09s\tremaining: 3.88s\n",
      "443:\tlearn: 3264618.8587822\ttotal: 3.09s\tremaining: 3.88s\n",
      "444:\tlearn: 3259355.0637231\ttotal: 3.1s\tremaining: 3.87s\n",
      "445:\tlearn: 3255652.9184694\ttotal: 3.11s\tremaining: 3.86s\n",
      "446:\tlearn: 3251093.7269594\ttotal: 3.12s\tremaining: 3.85s\n",
      "447:\tlearn: 3248290.1221151\ttotal: 3.12s\tremaining: 3.85s\n",
      "448:\tlearn: 3241812.5553388\ttotal: 3.13s\tremaining: 3.84s\n",
      "449:\tlearn: 3236062.8477014\ttotal: 3.14s\tremaining: 3.83s\n",
      "450:\tlearn: 3233139.6111795\ttotal: 3.15s\tremaining: 3.83s\n",
      "451:\tlearn: 3228928.0987234\ttotal: 3.15s\tremaining: 3.82s\n",
      "452:\tlearn: 3223077.3576245\ttotal: 3.16s\tremaining: 3.82s\n",
      "453:\tlearn: 3218750.0454103\ttotal: 3.17s\tremaining: 3.81s\n",
      "454:\tlearn: 3216045.5652701\ttotal: 3.17s\tremaining: 3.8s\n",
      "455:\tlearn: 3212154.6773840\ttotal: 3.17s\tremaining: 3.79s\n",
      "456:\tlearn: 3207564.3122768\ttotal: 3.18s\tremaining: 3.78s\n",
      "457:\tlearn: 3202981.8927123\ttotal: 3.19s\tremaining: 3.77s\n",
      "458:\tlearn: 3198146.4728429\ttotal: 3.19s\tremaining: 3.77s\n",
      "459:\tlearn: 3191720.6983526\ttotal: 3.2s\tremaining: 3.76s\n",
      "460:\tlearn: 3187000.1172994\ttotal: 3.21s\tremaining: 3.75s\n",
      "461:\tlearn: 3181178.0793877\ttotal: 3.21s\tremaining: 3.74s\n",
      "462:\tlearn: 3175816.5913883\ttotal: 3.22s\tremaining: 3.74s\n",
      "463:\tlearn: 3169646.4002506\ttotal: 3.23s\tremaining: 3.73s\n"
     ]
    },
    {
     "name": "stdout",
     "output_type": "stream",
     "text": [
      "464:\tlearn: 3167580.8778533\ttotal: 3.24s\tremaining: 3.73s\n",
      "465:\tlearn: 3162283.5964116\ttotal: 3.24s\tremaining: 3.72s\n",
      "466:\tlearn: 3158282.5032742\ttotal: 3.25s\tremaining: 3.71s\n",
      "467:\tlearn: 3153731.2114647\ttotal: 3.26s\tremaining: 3.7s\n",
      "468:\tlearn: 3146425.6516248\ttotal: 3.27s\tremaining: 3.7s\n",
      "469:\tlearn: 3141531.8559368\ttotal: 3.27s\tremaining: 3.69s\n",
      "470:\tlearn: 3136597.0327093\ttotal: 3.28s\tremaining: 3.68s\n",
      "471:\tlearn: 3129931.7498640\ttotal: 3.29s\tremaining: 3.68s\n",
      "472:\tlearn: 3124871.4424070\ttotal: 3.29s\tremaining: 3.67s\n",
      "473:\tlearn: 3117363.6097449\ttotal: 3.3s\tremaining: 3.66s\n",
      "474:\tlearn: 3114915.1236639\ttotal: 3.31s\tremaining: 3.65s\n",
      "475:\tlearn: 3112277.2560016\ttotal: 3.31s\tremaining: 3.65s\n",
      "476:\tlearn: 3106396.8881839\ttotal: 3.32s\tremaining: 3.64s\n",
      "477:\tlearn: 3101947.1420410\ttotal: 3.33s\tremaining: 3.63s\n",
      "478:\tlearn: 3098219.8294067\ttotal: 3.33s\tremaining: 3.63s\n",
      "479:\tlearn: 3092967.3766701\ttotal: 3.34s\tremaining: 3.62s\n",
      "480:\tlearn: 3089541.4932173\ttotal: 3.35s\tremaining: 3.61s\n",
      "481:\tlearn: 3086727.4077035\ttotal: 3.35s\tremaining: 3.6s\n",
      "482:\tlearn: 3081871.6783300\ttotal: 3.36s\tremaining: 3.59s\n",
      "483:\tlearn: 3079446.4529941\ttotal: 3.36s\tremaining: 3.59s\n",
      "484:\tlearn: 3075678.7396025\ttotal: 3.37s\tremaining: 3.58s\n",
      "485:\tlearn: 3069549.4192255\ttotal: 3.38s\tremaining: 3.57s\n",
      "486:\tlearn: 3065868.4293404\ttotal: 3.38s\tremaining: 3.56s\n",
      "487:\tlearn: 3059240.8098904\ttotal: 3.39s\tremaining: 3.56s\n",
      "488:\tlearn: 3052893.0269639\ttotal: 3.4s\tremaining: 3.55s\n",
      "489:\tlearn: 3050461.2067292\ttotal: 3.4s\tremaining: 3.54s\n",
      "490:\tlearn: 3043542.9710582\ttotal: 3.41s\tremaining: 3.54s\n",
      "491:\tlearn: 3038760.0181521\ttotal: 3.43s\tremaining: 3.54s\n",
      "492:\tlearn: 3034974.7217353\ttotal: 3.44s\tremaining: 3.54s\n",
      "493:\tlearn: 3032803.4398341\ttotal: 3.45s\tremaining: 3.53s\n",
      "494:\tlearn: 3029769.1613458\ttotal: 3.46s\tremaining: 3.52s\n",
      "495:\tlearn: 3025472.2045553\ttotal: 3.46s\tremaining: 3.52s\n",
      "496:\tlearn: 3021207.9242145\ttotal: 3.47s\tremaining: 3.51s\n",
      "497:\tlearn: 3018397.0285142\ttotal: 3.48s\tremaining: 3.5s\n",
      "498:\tlearn: 3012987.4161995\ttotal: 3.48s\tremaining: 3.5s\n",
      "499:\tlearn: 3008025.7771083\ttotal: 3.49s\tremaining: 3.49s\n",
      "500:\tlearn: 3004072.0944135\ttotal: 3.5s\tremaining: 3.48s\n",
      "501:\tlearn: 2996982.9144299\ttotal: 3.5s\tremaining: 3.48s\n",
      "502:\tlearn: 2993043.1867081\ttotal: 3.51s\tremaining: 3.47s\n",
      "503:\tlearn: 2989696.4734321\ttotal: 3.51s\tremaining: 3.46s\n",
      "504:\tlearn: 2985982.2533851\ttotal: 3.52s\tremaining: 3.45s\n",
      "505:\tlearn: 2980120.9097819\ttotal: 3.53s\tremaining: 3.44s\n",
      "506:\tlearn: 2977892.3391388\ttotal: 3.53s\tremaining: 3.43s\n",
      "507:\tlearn: 2971532.1525033\ttotal: 3.54s\tremaining: 3.43s\n",
      "508:\tlearn: 2968416.7256871\ttotal: 3.54s\tremaining: 3.42s\n",
      "509:\tlearn: 2965343.0705713\ttotal: 3.55s\tremaining: 3.41s\n",
      "510:\tlearn: 2960770.7367795\ttotal: 3.56s\tremaining: 3.4s\n",
      "511:\tlearn: 2954888.8081429\ttotal: 3.56s\tremaining: 3.4s\n",
      "512:\tlearn: 2949466.3138171\ttotal: 3.57s\tremaining: 3.39s\n",
      "513:\tlearn: 2943165.8176597\ttotal: 3.58s\tremaining: 3.38s\n",
      "514:\tlearn: 2937395.3735242\ttotal: 3.59s\tremaining: 3.38s\n",
      "515:\tlearn: 2931523.7518402\ttotal: 3.59s\tremaining: 3.37s\n",
      "516:\tlearn: 2929255.3254790\ttotal: 3.6s\tremaining: 3.37s\n",
      "517:\tlearn: 2925482.4903512\ttotal: 3.61s\tremaining: 3.36s\n",
      "518:\tlearn: 2923386.1737954\ttotal: 3.62s\tremaining: 3.35s\n",
      "519:\tlearn: 2919625.4443181\ttotal: 3.62s\tremaining: 3.35s\n",
      "520:\tlearn: 2914386.4149988\ttotal: 3.63s\tremaining: 3.34s\n",
      "521:\tlearn: 2909886.6208018\ttotal: 3.64s\tremaining: 3.33s\n",
      "522:\tlearn: 2907225.1637179\ttotal: 3.65s\tremaining: 3.33s\n",
      "523:\tlearn: 2904022.2782758\ttotal: 3.66s\tremaining: 3.32s\n",
      "524:\tlearn: 2898697.1379129\ttotal: 3.66s\tremaining: 3.31s\n",
      "525:\tlearn: 2894682.8206523\ttotal: 3.67s\tremaining: 3.31s\n",
      "526:\tlearn: 2892618.1228458\ttotal: 3.68s\tremaining: 3.3s\n",
      "527:\tlearn: 2886458.2452960\ttotal: 3.69s\tremaining: 3.29s\n",
      "528:\tlearn: 2882974.5053941\ttotal: 3.69s\tremaining: 3.29s\n",
      "529:\tlearn: 2876813.3393129\ttotal: 3.7s\tremaining: 3.28s\n",
      "530:\tlearn: 2872491.1855932\ttotal: 3.71s\tremaining: 3.28s\n",
      "531:\tlearn: 2869592.8934398\ttotal: 3.72s\tremaining: 3.27s\n",
      "532:\tlearn: 2864790.7486589\ttotal: 3.73s\tremaining: 3.27s\n",
      "533:\tlearn: 2861774.9603225\ttotal: 3.73s\tremaining: 3.26s\n",
      "534:\tlearn: 2858820.0897491\ttotal: 3.74s\tremaining: 3.25s\n",
      "535:\tlearn: 2855347.8782132\ttotal: 3.75s\tremaining: 3.25s\n",
      "536:\tlearn: 2851098.5500717\ttotal: 3.76s\tremaining: 3.24s\n",
      "537:\tlearn: 2847172.0580405\ttotal: 3.76s\tremaining: 3.23s\n",
      "538:\tlearn: 2842194.5536095\ttotal: 3.77s\tremaining: 3.23s\n",
      "539:\tlearn: 2839259.9317742\ttotal: 3.78s\tremaining: 3.22s\n",
      "540:\tlearn: 2835561.6731510\ttotal: 3.79s\tremaining: 3.21s\n",
      "541:\tlearn: 2832168.8724189\ttotal: 3.79s\tremaining: 3.21s\n",
      "542:\tlearn: 2829752.8346681\ttotal: 3.8s\tremaining: 3.2s\n",
      "543:\tlearn: 2826693.4141147\ttotal: 3.81s\tremaining: 3.19s\n",
      "544:\tlearn: 2821924.5197710\ttotal: 3.81s\tremaining: 3.19s\n",
      "545:\tlearn: 2819452.7381297\ttotal: 3.82s\tremaining: 3.18s\n",
      "546:\tlearn: 2813172.3227190\ttotal: 3.83s\tremaining: 3.17s\n",
      "547:\tlearn: 2807384.5106090\ttotal: 3.83s\tremaining: 3.16s\n",
      "548:\tlearn: 2805524.2207438\ttotal: 3.84s\tremaining: 3.16s\n",
      "549:\tlearn: 2803696.2530990\ttotal: 3.85s\tremaining: 3.15s\n",
      "550:\tlearn: 2798502.6134920\ttotal: 3.86s\tremaining: 3.14s\n",
      "551:\tlearn: 2797339.3762607\ttotal: 3.86s\tremaining: 3.13s\n",
      "552:\tlearn: 2793108.8211304\ttotal: 3.87s\tremaining: 3.13s\n",
      "553:\tlearn: 2791550.1182590\ttotal: 3.88s\tremaining: 3.12s\n",
      "554:\tlearn: 2785598.6424474\ttotal: 3.88s\tremaining: 3.11s\n",
      "555:\tlearn: 2782471.1229652\ttotal: 3.89s\tremaining: 3.11s\n",
      "556:\tlearn: 2779149.4454297\ttotal: 3.9s\tremaining: 3.1s\n",
      "557:\tlearn: 2777394.4686289\ttotal: 3.9s\tremaining: 3.09s\n",
      "558:\tlearn: 2772514.6049029\ttotal: 3.91s\tremaining: 3.09s\n",
      "559:\tlearn: 2768635.4198472\ttotal: 3.92s\tremaining: 3.08s\n",
      "560:\tlearn: 2763371.4460306\ttotal: 3.92s\tremaining: 3.07s\n",
      "561:\tlearn: 2760135.1801699\ttotal: 3.93s\tremaining: 3.06s\n",
      "562:\tlearn: 2758334.1882592\ttotal: 3.94s\tremaining: 3.06s\n",
      "563:\tlearn: 2756632.7383929\ttotal: 3.94s\tremaining: 3.05s\n",
      "564:\tlearn: 2754848.1794090\ttotal: 3.95s\tremaining: 3.04s\n",
      "565:\tlearn: 2753165.0680615\ttotal: 3.96s\tremaining: 3.03s\n",
      "566:\tlearn: 2747380.5042506\ttotal: 3.96s\tremaining: 3.03s\n",
      "567:\tlearn: 2743398.7159844\ttotal: 3.97s\tremaining: 3.02s\n",
      "568:\tlearn: 2740479.1901958\ttotal: 3.98s\tremaining: 3.01s\n",
      "569:\tlearn: 2735667.2737110\ttotal: 3.98s\tremaining: 3s\n",
      "570:\tlearn: 2732438.5532416\ttotal: 3.99s\tremaining: 3s\n",
      "571:\tlearn: 2727220.9395463\ttotal: 4s\tremaining: 2.99s\n",
      "572:\tlearn: 2724284.4347010\ttotal: 4s\tremaining: 2.98s\n",
      "573:\tlearn: 2722467.9516261\ttotal: 4.01s\tremaining: 2.98s\n",
      "574:\tlearn: 2719070.0478048\ttotal: 4.01s\tremaining: 2.97s\n",
      "575:\tlearn: 2717356.1211023\ttotal: 4.02s\tremaining: 2.96s\n",
      "576:\tlearn: 2712280.7768329\ttotal: 4.03s\tremaining: 2.95s\n",
      "577:\tlearn: 2708703.1532214\ttotal: 4.03s\tremaining: 2.94s\n",
      "578:\tlearn: 2703276.4927565\ttotal: 4.04s\tremaining: 2.94s\n",
      "579:\tlearn: 2698902.8100019\ttotal: 4.04s\tremaining: 2.93s\n",
      "580:\tlearn: 2696067.2106665\ttotal: 4.05s\tremaining: 2.92s\n",
      "581:\tlearn: 2693404.7798489\ttotal: 4.06s\tremaining: 2.92s\n",
      "582:\tlearn: 2688732.8604758\ttotal: 4.07s\tremaining: 2.91s\n",
      "583:\tlearn: 2687069.7883113\ttotal: 4.07s\tremaining: 2.9s\n",
      "584:\tlearn: 2682547.0479496\ttotal: 4.08s\tremaining: 2.9s\n",
      "585:\tlearn: 2677794.8356896\ttotal: 4.09s\tremaining: 2.89s\n",
      "586:\tlearn: 2675963.1425281\ttotal: 4.09s\tremaining: 2.88s\n",
      "587:\tlearn: 2670325.3101864\ttotal: 4.1s\tremaining: 2.87s\n",
      "588:\tlearn: 2668220.5150703\ttotal: 4.11s\tremaining: 2.87s\n",
      "589:\tlearn: 2664658.0209758\ttotal: 4.12s\tremaining: 2.86s\n",
      "590:\tlearn: 2660300.8991833\ttotal: 4.12s\tremaining: 2.85s\n",
      "591:\tlearn: 2657388.8310425\ttotal: 4.13s\tremaining: 2.85s\n",
      "592:\tlearn: 2654369.2872954\ttotal: 4.14s\tremaining: 2.84s\n",
      "593:\tlearn: 2652539.9494654\ttotal: 4.14s\tremaining: 2.83s\n",
      "594:\tlearn: 2648164.5011447\ttotal: 4.15s\tremaining: 2.83s\n",
      "595:\tlearn: 2644498.1570692\ttotal: 4.16s\tremaining: 2.82s\n",
      "596:\tlearn: 2641320.3309601\ttotal: 4.16s\tremaining: 2.81s\n",
      "597:\tlearn: 2637026.6436304\ttotal: 4.17s\tremaining: 2.8s\n",
      "598:\tlearn: 2634334.8259505\ttotal: 4.18s\tremaining: 2.8s\n",
      "599:\tlearn: 2631547.2976864\ttotal: 4.18s\tremaining: 2.79s\n",
      "600:\tlearn: 2629085.8272686\ttotal: 4.19s\tremaining: 2.78s\n",
      "601:\tlearn: 2626115.8180039\ttotal: 4.2s\tremaining: 2.77s\n",
      "602:\tlearn: 2622645.7071247\ttotal: 4.2s\tremaining: 2.77s\n",
      "603:\tlearn: 2618749.9661652\ttotal: 4.21s\tremaining: 2.76s\n",
      "604:\tlearn: 2615050.9394401\ttotal: 4.22s\tremaining: 2.75s\n",
      "605:\tlearn: 2612144.0610693\ttotal: 4.22s\tremaining: 2.75s\n",
      "606:\tlearn: 2608794.7680807\ttotal: 4.23s\tremaining: 2.74s\n",
      "607:\tlearn: 2604946.7231988\ttotal: 4.24s\tremaining: 2.73s\n",
      "608:\tlearn: 2600426.3759323\ttotal: 4.24s\tremaining: 2.73s\n",
      "609:\tlearn: 2598976.2913490\ttotal: 4.25s\tremaining: 2.72s\n",
      "610:\tlearn: 2595772.7785734\ttotal: 4.26s\tremaining: 2.71s\n",
      "611:\tlearn: 2594387.7621297\ttotal: 4.26s\tremaining: 2.7s\n"
     ]
    },
    {
     "name": "stdout",
     "output_type": "stream",
     "text": [
      "612:\tlearn: 2590557.1454953\ttotal: 4.27s\tremaining: 2.69s\n",
      "613:\tlearn: 2584701.1687457\ttotal: 4.27s\tremaining: 2.69s\n",
      "614:\tlearn: 2581861.0311435\ttotal: 4.28s\tremaining: 2.68s\n",
      "615:\tlearn: 2580333.1284531\ttotal: 4.29s\tremaining: 2.67s\n",
      "616:\tlearn: 2578800.9125228\ttotal: 4.3s\tremaining: 2.67s\n",
      "617:\tlearn: 2577348.1086546\ttotal: 4.3s\tremaining: 2.66s\n",
      "618:\tlearn: 2572944.0846212\ttotal: 4.31s\tremaining: 2.65s\n",
      "619:\tlearn: 2569504.0687969\ttotal: 4.32s\tremaining: 2.65s\n",
      "620:\tlearn: 2566397.2886118\ttotal: 4.32s\tremaining: 2.64s\n",
      "621:\tlearn: 2560478.9693868\ttotal: 4.33s\tremaining: 2.63s\n",
      "622:\tlearn: 2558065.8898110\ttotal: 4.34s\tremaining: 2.63s\n",
      "623:\tlearn: 2556481.9478945\ttotal: 4.35s\tremaining: 2.62s\n",
      "624:\tlearn: 2552617.5555754\ttotal: 4.35s\tremaining: 2.61s\n",
      "625:\tlearn: 2549769.5857211\ttotal: 4.36s\tremaining: 2.6s\n",
      "626:\tlearn: 2548238.2774557\ttotal: 4.37s\tremaining: 2.6s\n",
      "627:\tlearn: 2544627.7228548\ttotal: 4.37s\tremaining: 2.59s\n",
      "628:\tlearn: 2542325.7490018\ttotal: 4.38s\tremaining: 2.58s\n",
      "629:\tlearn: 2539696.2647108\ttotal: 4.39s\tremaining: 2.58s\n",
      "630:\tlearn: 2536052.7856610\ttotal: 4.39s\tremaining: 2.57s\n",
      "631:\tlearn: 2532905.7939181\ttotal: 4.4s\tremaining: 2.56s\n",
      "632:\tlearn: 2531157.3798464\ttotal: 4.41s\tremaining: 2.56s\n",
      "633:\tlearn: 2527612.3385635\ttotal: 4.42s\tremaining: 2.55s\n",
      "634:\tlearn: 2525251.2934299\ttotal: 4.42s\tremaining: 2.54s\n",
      "635:\tlearn: 2520254.6113656\ttotal: 4.43s\tremaining: 2.53s\n",
      "636:\tlearn: 2518771.9094445\ttotal: 4.44s\tremaining: 2.53s\n",
      "637:\tlearn: 2513830.3404295\ttotal: 4.44s\tremaining: 2.52s\n",
      "638:\tlearn: 2510023.2165609\ttotal: 4.45s\tremaining: 2.51s\n",
      "639:\tlearn: 2505058.0219517\ttotal: 4.46s\tremaining: 2.51s\n",
      "640:\tlearn: 2500813.4524462\ttotal: 4.46s\tremaining: 2.5s\n",
      "641:\tlearn: 2499442.6030783\ttotal: 4.47s\tremaining: 2.49s\n",
      "642:\tlearn: 2497197.5246212\ttotal: 4.48s\tremaining: 2.49s\n",
      "643:\tlearn: 2493855.4175889\ttotal: 4.49s\tremaining: 2.48s\n",
      "644:\tlearn: 2491430.6018862\ttotal: 4.49s\tremaining: 2.47s\n",
      "645:\tlearn: 2486115.2012083\ttotal: 4.5s\tremaining: 2.46s\n",
      "646:\tlearn: 2482694.8956044\ttotal: 4.51s\tremaining: 2.46s\n",
      "647:\tlearn: 2478955.7549682\ttotal: 4.51s\tremaining: 2.45s\n",
      "648:\tlearn: 2477625.7932997\ttotal: 4.52s\tremaining: 2.44s\n",
      "649:\tlearn: 2474430.2676796\ttotal: 4.53s\tremaining: 2.44s\n",
      "650:\tlearn: 2473206.3492491\ttotal: 4.53s\tremaining: 2.43s\n",
      "651:\tlearn: 2470062.2746628\ttotal: 4.54s\tremaining: 2.42s\n",
      "652:\tlearn: 2467959.9743063\ttotal: 4.55s\tremaining: 2.42s\n",
      "653:\tlearn: 2466635.4402226\ttotal: 4.55s\tremaining: 2.41s\n",
      "654:\tlearn: 2465251.4118823\ttotal: 4.56s\tremaining: 2.4s\n",
      "655:\tlearn: 2461826.4951731\ttotal: 4.57s\tremaining: 2.39s\n",
      "656:\tlearn: 2458173.3825901\ttotal: 4.57s\tremaining: 2.39s\n",
      "657:\tlearn: 2456799.5233749\ttotal: 4.58s\tremaining: 2.38s\n",
      "658:\tlearn: 2453626.9517812\ttotal: 4.58s\tremaining: 2.37s\n",
      "659:\tlearn: 2449403.9320427\ttotal: 4.59s\tremaining: 2.37s\n",
      "660:\tlearn: 2444005.8925939\ttotal: 4.6s\tremaining: 2.36s\n",
      "661:\tlearn: 2442666.5462424\ttotal: 4.61s\tremaining: 2.35s\n",
      "662:\tlearn: 2438463.0027801\ttotal: 4.61s\tremaining: 2.34s\n",
      "663:\tlearn: 2434856.3999330\ttotal: 4.62s\tremaining: 2.34s\n",
      "664:\tlearn: 2431767.2105128\ttotal: 4.63s\tremaining: 2.33s\n",
      "665:\tlearn: 2430474.3199859\ttotal: 4.63s\tremaining: 2.32s\n",
      "666:\tlearn: 2429186.5779400\ttotal: 4.64s\tremaining: 2.32s\n",
      "667:\tlearn: 2425943.5197496\ttotal: 4.65s\tremaining: 2.31s\n",
      "668:\tlearn: 2424082.2928832\ttotal: 4.65s\tremaining: 2.3s\n",
      "669:\tlearn: 2421391.6922644\ttotal: 4.66s\tremaining: 2.29s\n",
      "670:\tlearn: 2417283.8079272\ttotal: 4.67s\tremaining: 2.29s\n",
      "671:\tlearn: 2413370.9713227\ttotal: 4.67s\tremaining: 2.28s\n",
      "672:\tlearn: 2410071.8097253\ttotal: 4.68s\tremaining: 2.27s\n",
      "673:\tlearn: 2408752.2329548\ttotal: 4.69s\tremaining: 2.27s\n",
      "674:\tlearn: 2405729.9598987\ttotal: 4.7s\tremaining: 2.26s\n",
      "675:\tlearn: 2402380.9932786\ttotal: 4.7s\tremaining: 2.25s\n",
      "676:\tlearn: 2401006.9219564\ttotal: 4.71s\tremaining: 2.25s\n",
      "677:\tlearn: 2397581.6485118\ttotal: 4.72s\tremaining: 2.24s\n",
      "678:\tlearn: 2393747.0392854\ttotal: 4.72s\tremaining: 2.23s\n",
      "679:\tlearn: 2392420.3168278\ttotal: 4.73s\tremaining: 2.23s\n",
      "680:\tlearn: 2391204.5562332\ttotal: 4.74s\tremaining: 2.22s\n",
      "681:\tlearn: 2389869.9992832\ttotal: 4.74s\tremaining: 2.21s\n",
      "682:\tlearn: 2388563.1079187\ttotal: 4.75s\tremaining: 2.21s\n",
      "683:\tlearn: 2385101.8639732\ttotal: 4.76s\tremaining: 2.2s\n",
      "684:\tlearn: 2383823.9148244\ttotal: 4.76s\tremaining: 2.19s\n",
      "685:\tlearn: 2381441.9839412\ttotal: 4.77s\tremaining: 2.18s\n",
      "686:\tlearn: 2378385.2605424\ttotal: 4.78s\tremaining: 2.18s\n",
      "687:\tlearn: 2377083.7414619\ttotal: 4.79s\tremaining: 2.17s\n",
      "688:\tlearn: 2375788.6329021\ttotal: 4.79s\tremaining: 2.16s\n",
      "689:\tlearn: 2374295.0209841\ttotal: 4.8s\tremaining: 2.16s\n",
      "690:\tlearn: 2371869.1661121\ttotal: 4.81s\tremaining: 2.15s\n",
      "691:\tlearn: 2369631.4042168\ttotal: 4.81s\tremaining: 2.14s\n",
      "692:\tlearn: 2366570.0283797\ttotal: 4.82s\tremaining: 2.13s\n",
      "693:\tlearn: 2362992.5401572\ttotal: 4.83s\tremaining: 2.13s\n",
      "694:\tlearn: 2361741.2566678\ttotal: 4.83s\tremaining: 2.12s\n",
      "695:\tlearn: 2360496.1533860\ttotal: 4.84s\tremaining: 2.11s\n",
      "696:\tlearn: 2359404.8492300\ttotal: 4.84s\tremaining: 2.1s\n",
      "697:\tlearn: 2358085.6260604\ttotal: 4.85s\tremaining: 2.1s\n",
      "698:\tlearn: 2355063.4031627\ttotal: 4.85s\tremaining: 2.09s\n",
      "699:\tlearn: 2352669.4018083\ttotal: 4.86s\tremaining: 2.08s\n",
      "700:\tlearn: 2349659.7792156\ttotal: 4.87s\tremaining: 2.08s\n",
      "701:\tlearn: 2348416.7130944\ttotal: 4.88s\tremaining: 2.07s\n",
      "702:\tlearn: 2347108.5987056\ttotal: 4.88s\tremaining: 2.06s\n",
      "703:\tlearn: 2343691.3655507\ttotal: 4.89s\tremaining: 2.06s\n",
      "704:\tlearn: 2341837.2940305\ttotal: 4.89s\tremaining: 2.05s\n",
      "705:\tlearn: 2340625.2029864\ttotal: 4.9s\tremaining: 2.04s\n",
      "706:\tlearn: 2339417.5148580\ttotal: 4.91s\tremaining: 2.03s\n",
      "707:\tlearn: 2338226.3178130\ttotal: 4.91s\tremaining: 2.03s\n",
      "708:\tlearn: 2337048.8075070\ttotal: 4.92s\tremaining: 2.02s\n",
      "709:\tlearn: 2335896.0917853\ttotal: 4.93s\tremaining: 2.01s\n",
      "710:\tlearn: 2333113.3114937\ttotal: 4.94s\tremaining: 2.01s\n",
      "711:\tlearn: 2329627.9664173\ttotal: 4.95s\tremaining: 2s\n",
      "712:\tlearn: 2328461.7483061\ttotal: 4.95s\tremaining: 1.99s\n",
      "713:\tlearn: 2327290.5306128\ttotal: 4.96s\tremaining: 1.99s\n",
      "714:\tlearn: 2326117.3987732\ttotal: 4.96s\tremaining: 1.98s\n",
      "715:\tlearn: 2322630.5371230\ttotal: 4.97s\tremaining: 1.97s\n",
      "716:\tlearn: 2320722.9840166\ttotal: 4.98s\tremaining: 1.97s\n",
      "717:\tlearn: 2318562.6765804\ttotal: 4.99s\tremaining: 1.96s\n",
      "718:\tlearn: 2317404.1009693\ttotal: 4.99s\tremaining: 1.95s\n",
      "719:\tlearn: 2316174.3194653\ttotal: 5s\tremaining: 1.94s\n",
      "720:\tlearn: 2315088.2620491\ttotal: 5.01s\tremaining: 1.94s\n",
      "721:\tlearn: 2311707.0981125\ttotal: 5.01s\tremaining: 1.93s\n",
      "722:\tlearn: 2308047.7775819\ttotal: 5.02s\tremaining: 1.92s\n",
      "723:\tlearn: 2306963.1375507\ttotal: 5.03s\tremaining: 1.92s\n",
      "724:\tlearn: 2305527.9862527\ttotal: 5.03s\tremaining: 1.91s\n",
      "725:\tlearn: 2302574.5359569\ttotal: 5.04s\tremaining: 1.9s\n",
      "726:\tlearn: 2299318.9746127\ttotal: 5.05s\tremaining: 1.9s\n",
      "727:\tlearn: 2296994.5480966\ttotal: 5.05s\tremaining: 1.89s\n",
      "728:\tlearn: 2295901.8457799\ttotal: 5.06s\tremaining: 1.88s\n",
      "729:\tlearn: 2293413.8527603\ttotal: 5.07s\tremaining: 1.87s\n",
      "730:\tlearn: 2290376.0879853\ttotal: 5.07s\tremaining: 1.87s\n",
      "731:\tlearn: 2287325.0569315\ttotal: 5.08s\tremaining: 1.86s\n",
      "732:\tlearn: 2286079.4547355\ttotal: 5.09s\tremaining: 1.85s\n",
      "733:\tlearn: 2285045.7182177\ttotal: 5.09s\tremaining: 1.84s\n",
      "734:\tlearn: 2283995.3672592\ttotal: 5.1s\tremaining: 1.84s\n",
      "735:\tlearn: 2281198.9831669\ttotal: 5.1s\tremaining: 1.83s\n",
      "736:\tlearn: 2278579.7956786\ttotal: 5.11s\tremaining: 1.82s\n",
      "737:\tlearn: 2274839.8723352\ttotal: 5.12s\tremaining: 1.82s\n",
      "738:\tlearn: 2273809.6746461\ttotal: 5.12s\tremaining: 1.81s\n",
      "739:\tlearn: 2272705.6836347\ttotal: 5.13s\tremaining: 1.8s\n",
      "740:\tlearn: 2269395.1389220\ttotal: 5.14s\tremaining: 1.79s\n",
      "741:\tlearn: 2266030.8581482\ttotal: 5.14s\tremaining: 1.79s\n",
      "742:\tlearn: 2264959.5731112\ttotal: 5.15s\tremaining: 1.78s\n",
      "743:\tlearn: 2263874.6546228\ttotal: 5.15s\tremaining: 1.77s\n",
      "744:\tlearn: 2261896.5486341\ttotal: 5.16s\tremaining: 1.77s\n",
      "745:\tlearn: 2260746.4194556\ttotal: 5.17s\tremaining: 1.76s\n",
      "746:\tlearn: 2259512.3974136\ttotal: 5.18s\tremaining: 1.75s\n",
      "747:\tlearn: 2258456.6492741\ttotal: 5.18s\tremaining: 1.75s\n",
      "748:\tlearn: 2255967.0428585\ttotal: 5.19s\tremaining: 1.74s\n",
      "749:\tlearn: 2252861.1930717\ttotal: 5.2s\tremaining: 1.73s\n",
      "750:\tlearn: 2251654.8609769\ttotal: 5.21s\tremaining: 1.73s\n",
      "751:\tlearn: 2249864.8070940\ttotal: 5.21s\tremaining: 1.72s\n",
      "752:\tlearn: 2246332.6632785\ttotal: 5.22s\tremaining: 1.71s\n",
      "753:\tlearn: 2245306.3020826\ttotal: 5.23s\tremaining: 1.71s\n",
      "754:\tlearn: 2241862.4139435\ttotal: 5.24s\tremaining: 1.7s\n",
      "755:\tlearn: 2240821.0516425\ttotal: 5.24s\tremaining: 1.69s\n",
      "756:\tlearn: 2237395.0748756\ttotal: 5.25s\tremaining: 1.69s\n",
      "757:\tlearn: 2234890.2072424\ttotal: 5.26s\tremaining: 1.68s\n",
      "758:\tlearn: 2232671.3820117\ttotal: 5.26s\tremaining: 1.67s\n",
      "759:\tlearn: 2231604.9230230\ttotal: 5.27s\tremaining: 1.66s\n",
      "760:\tlearn: 2228435.2947288\ttotal: 5.28s\tremaining: 1.66s\n"
     ]
    },
    {
     "name": "stdout",
     "output_type": "stream",
     "text": [
      "761:\tlearn: 2226428.7808633\ttotal: 5.28s\tremaining: 1.65s\n",
      "762:\tlearn: 2225340.9824550\ttotal: 5.29s\tremaining: 1.64s\n",
      "763:\tlearn: 2222268.4367211\ttotal: 5.3s\tremaining: 1.64s\n",
      "764:\tlearn: 2221229.0691008\ttotal: 5.3s\tremaining: 1.63s\n",
      "765:\tlearn: 2218118.4579447\ttotal: 5.31s\tremaining: 1.62s\n",
      "766:\tlearn: 2215634.3695592\ttotal: 5.32s\tremaining: 1.61s\n",
      "767:\tlearn: 2214619.4185345\ttotal: 5.33s\tremaining: 1.61s\n",
      "768:\tlearn: 2213606.2003738\ttotal: 5.33s\tremaining: 1.6s\n",
      "769:\tlearn: 2211651.1281316\ttotal: 5.33s\tremaining: 1.59s\n",
      "770:\tlearn: 2210561.5078210\ttotal: 5.34s\tremaining: 1.59s\n",
      "771:\tlearn: 2209564.2500409\ttotal: 5.35s\tremaining: 1.58s\n",
      "772:\tlearn: 2208578.5561205\ttotal: 5.35s\tremaining: 1.57s\n",
      "773:\tlearn: 2205725.8790097\ttotal: 5.36s\tremaining: 1.56s\n",
      "774:\tlearn: 2202653.2905872\ttotal: 5.37s\tremaining: 1.56s\n",
      "775:\tlearn: 2200192.0519091\ttotal: 5.37s\tremaining: 1.55s\n",
      "776:\tlearn: 2197207.1380860\ttotal: 5.38s\tremaining: 1.54s\n",
      "777:\tlearn: 2194630.8257772\ttotal: 5.39s\tremaining: 1.54s\n",
      "778:\tlearn: 2191499.8265215\ttotal: 5.39s\tremaining: 1.53s\n",
      "779:\tlearn: 2188989.0552388\ttotal: 5.4s\tremaining: 1.52s\n",
      "780:\tlearn: 2188004.3088841\ttotal: 5.41s\tremaining: 1.52s\n",
      "781:\tlearn: 2186953.6665419\ttotal: 5.42s\tremaining: 1.51s\n",
      "782:\tlearn: 2185899.1491576\ttotal: 5.42s\tremaining: 1.5s\n",
      "783:\tlearn: 2184931.9530455\ttotal: 5.43s\tremaining: 1.5s\n",
      "784:\tlearn: 2183605.1417033\ttotal: 5.43s\tremaining: 1.49s\n",
      "785:\tlearn: 2180658.4365728\ttotal: 5.44s\tremaining: 1.48s\n",
      "786:\tlearn: 2179664.0396494\ttotal: 5.45s\tremaining: 1.47s\n",
      "787:\tlearn: 2176276.8572348\ttotal: 5.45s\tremaining: 1.47s\n",
      "788:\tlearn: 2175239.0484656\ttotal: 5.46s\tremaining: 1.46s\n",
      "789:\tlearn: 2173083.1224441\ttotal: 5.47s\tremaining: 1.45s\n",
      "790:\tlearn: 2170631.6321293\ttotal: 5.47s\tremaining: 1.45s\n",
      "791:\tlearn: 2169687.0942445\ttotal: 5.48s\tremaining: 1.44s\n",
      "792:\tlearn: 2166931.1041795\ttotal: 5.48s\tremaining: 1.43s\n",
      "793:\tlearn: 2165976.4355985\ttotal: 5.49s\tremaining: 1.43s\n",
      "794:\tlearn: 2164992.7956749\ttotal: 5.5s\tremaining: 1.42s\n",
      "795:\tlearn: 2164038.8945534\ttotal: 5.51s\tremaining: 1.41s\n",
      "796:\tlearn: 2163014.0290753\ttotal: 5.51s\tremaining: 1.4s\n",
      "797:\tlearn: 2161103.4201025\ttotal: 5.52s\tremaining: 1.4s\n",
      "798:\tlearn: 2157967.7379312\ttotal: 5.53s\tremaining: 1.39s\n",
      "799:\tlearn: 2155534.3375824\ttotal: 5.53s\tremaining: 1.38s\n",
      "800:\tlearn: 2152895.8190481\ttotal: 5.54s\tremaining: 1.38s\n",
      "801:\tlearn: 2151716.8977451\ttotal: 5.55s\tremaining: 1.37s\n",
      "802:\tlearn: 2148731.5237853\ttotal: 5.55s\tremaining: 1.36s\n",
      "803:\tlearn: 2147737.6202092\ttotal: 5.56s\tremaining: 1.35s\n",
      "804:\tlearn: 2146779.7511175\ttotal: 5.57s\tremaining: 1.35s\n",
      "805:\tlearn: 2144678.0846055\ttotal: 5.57s\tremaining: 1.34s\n",
      "806:\tlearn: 2143762.8605972\ttotal: 5.58s\tremaining: 1.33s\n",
      "807:\tlearn: 2142844.0381946\ttotal: 5.58s\tremaining: 1.33s\n",
      "808:\tlearn: 2141494.4834254\ttotal: 5.59s\tremaining: 1.32s\n",
      "809:\tlearn: 2140574.4229667\ttotal: 5.59s\tremaining: 1.31s\n",
      "810:\tlearn: 2139596.1141761\ttotal: 5.6s\tremaining: 1.3s\n",
      "811:\tlearn: 2138702.2576426\ttotal: 5.61s\tremaining: 1.3s\n",
      "812:\tlearn: 2135802.3152971\ttotal: 5.61s\tremaining: 1.29s\n",
      "813:\tlearn: 2134268.9115504\ttotal: 5.62s\tremaining: 1.28s\n",
      "814:\tlearn: 2131386.4423967\ttotal: 5.63s\tremaining: 1.28s\n",
      "815:\tlearn: 2128760.6303971\ttotal: 5.63s\tremaining: 1.27s\n",
      "816:\tlearn: 2125921.2116193\ttotal: 5.64s\tremaining: 1.26s\n",
      "817:\tlearn: 2122793.2220269\ttotal: 5.65s\tremaining: 1.26s\n",
      "818:\tlearn: 2121898.8585264\ttotal: 5.66s\tremaining: 1.25s\n",
      "819:\tlearn: 2121028.7758230\ttotal: 5.66s\tremaining: 1.24s\n",
      "820:\tlearn: 2118104.5163705\ttotal: 5.66s\tremaining: 1.24s\n",
      "821:\tlearn: 2115194.4692827\ttotal: 5.67s\tremaining: 1.23s\n",
      "822:\tlearn: 2112857.3293347\ttotal: 5.68s\tremaining: 1.22s\n",
      "823:\tlearn: 2111971.3003343\ttotal: 5.69s\tremaining: 1.21s\n",
      "824:\tlearn: 2109232.7604423\ttotal: 5.69s\tremaining: 1.21s\n",
      "825:\tlearn: 2107302.0555241\ttotal: 5.7s\tremaining: 1.2s\n",
      "826:\tlearn: 2106424.0994305\ttotal: 5.71s\tremaining: 1.19s\n",
      "827:\tlearn: 2104658.3345739\ttotal: 5.72s\tremaining: 1.19s\n",
      "828:\tlearn: 2103034.4791915\ttotal: 5.72s\tremaining: 1.18s\n",
      "829:\tlearn: 2102163.8135727\ttotal: 5.73s\tremaining: 1.17s\n",
      "830:\tlearn: 2101300.3679519\ttotal: 5.74s\tremaining: 1.17s\n",
      "831:\tlearn: 2100436.3704360\ttotal: 5.75s\tremaining: 1.16s\n",
      "832:\tlearn: 2097752.5537579\ttotal: 5.75s\tremaining: 1.15s\n",
      "833:\tlearn: 2096891.7138357\ttotal: 5.76s\tremaining: 1.15s\n",
      "834:\tlearn: 2095973.6026410\ttotal: 5.77s\tremaining: 1.14s\n",
      "835:\tlearn: 2095064.4918986\ttotal: 5.78s\tremaining: 1.13s\n",
      "836:\tlearn: 2092522.4057675\ttotal: 5.78s\tremaining: 1.13s\n",
      "837:\tlearn: 2089789.1549673\ttotal: 5.79s\tremaining: 1.12s\n",
      "838:\tlearn: 2088857.6926675\ttotal: 5.8s\tremaining: 1.11s\n",
      "839:\tlearn: 2087948.5858169\ttotal: 5.8s\tremaining: 1.1s\n",
      "840:\tlearn: 2087082.5991430\ttotal: 5.81s\tremaining: 1.1s\n",
      "841:\tlearn: 2086047.5369348\ttotal: 5.82s\tremaining: 1.09s\n",
      "842:\tlearn: 2085204.0377868\ttotal: 5.83s\tremaining: 1.08s\n",
      "843:\tlearn: 2084021.3282553\ttotal: 5.83s\tremaining: 1.08s\n",
      "844:\tlearn: 2081489.5372789\ttotal: 5.84s\tremaining: 1.07s\n",
      "845:\tlearn: 2079593.1290185\ttotal: 5.85s\tremaining: 1.06s\n",
      "846:\tlearn: 2077068.0422370\ttotal: 5.86s\tremaining: 1.06s\n",
      "847:\tlearn: 2075406.0217032\ttotal: 5.86s\tremaining: 1.05s\n",
      "848:\tlearn: 2074478.9248105\ttotal: 5.87s\tremaining: 1.04s\n",
      "849:\tlearn: 2071717.0087480\ttotal: 5.88s\tremaining: 1.04s\n",
      "850:\tlearn: 2070845.6945612\ttotal: 5.88s\tremaining: 1.03s\n",
      "851:\tlearn: 2068045.7107296\ttotal: 5.89s\tremaining: 1.02s\n",
      "852:\tlearn: 2067192.9745909\ttotal: 5.9s\tremaining: 1.02s\n",
      "853:\tlearn: 2064432.9014581\ttotal: 5.91s\tremaining: 1.01s\n",
      "854:\tlearn: 2061661.9431007\ttotal: 5.91s\tremaining: 1s\n",
      "855:\tlearn: 2060840.8093969\ttotal: 5.92s\tremaining: 996ms\n",
      "856:\tlearn: 2059756.9219450\ttotal: 5.93s\tremaining: 989ms\n",
      "857:\tlearn: 2057010.0313643\ttotal: 5.94s\tremaining: 982ms\n",
      "858:\tlearn: 2056122.1234827\ttotal: 5.94s\tremaining: 976ms\n",
      "859:\tlearn: 2053489.9927997\ttotal: 5.95s\tremaining: 969ms\n",
      "860:\tlearn: 2050807.5176642\ttotal: 5.96s\tremaining: 962ms\n",
      "861:\tlearn: 2049924.0681908\ttotal: 5.97s\tremaining: 955ms\n",
      "862:\tlearn: 2048837.8746607\ttotal: 5.97s\tremaining: 948ms\n",
      "863:\tlearn: 2047957.1088598\ttotal: 5.98s\tremaining: 941ms\n",
      "864:\tlearn: 2045249.3723467\ttotal: 5.99s\tremaining: 935ms\n",
      "865:\tlearn: 2043601.4878017\ttotal: 6s\tremaining: 928ms\n",
      "866:\tlearn: 2040925.0406155\ttotal: 6s\tremaining: 921ms\n",
      "867:\tlearn: 2040134.5294199\ttotal: 6.01s\tremaining: 914ms\n",
      "868:\tlearn: 2039156.9934289\ttotal: 6.02s\tremaining: 907ms\n",
      "869:\tlearn: 2036484.6813438\ttotal: 6.03s\tremaining: 900ms\n",
      "870:\tlearn: 2035690.9535133\ttotal: 6.03s\tremaining: 894ms\n",
      "871:\tlearn: 2033120.1052335\ttotal: 6.04s\tremaining: 887ms\n",
      "872:\tlearn: 2031494.2969924\ttotal: 6.05s\tremaining: 880ms\n",
      "873:\tlearn: 2030722.1515834\ttotal: 6.05s\tremaining: 873ms\n",
      "874:\tlearn: 2029893.0458862\ttotal: 6.06s\tremaining: 866ms\n",
      "875:\tlearn: 2028322.7373297\ttotal: 6.07s\tremaining: 859ms\n",
      "876:\tlearn: 2026128.4714057\ttotal: 6.08s\tremaining: 852ms\n",
      "877:\tlearn: 2023469.5652854\ttotal: 6.08s\tremaining: 845ms\n",
      "878:\tlearn: 2020903.9553112\ttotal: 6.09s\tremaining: 838ms\n",
      "879:\tlearn: 2020100.0801261\ttotal: 6.1s\tremaining: 831ms\n",
      "880:\tlearn: 2019331.3697336\ttotal: 6.11s\tremaining: 825ms\n",
      "881:\tlearn: 2018226.6065576\ttotal: 6.11s\tremaining: 818ms\n",
      "882:\tlearn: 2015620.9582901\ttotal: 6.12s\tremaining: 811ms\n",
      "883:\tlearn: 2014844.0266821\ttotal: 6.13s\tremaining: 804ms\n",
      "884:\tlearn: 2013275.9021770\ttotal: 6.13s\tremaining: 797ms\n",
      "885:\tlearn: 2012261.2314613\ttotal: 6.14s\tremaining: 790ms\n",
      "886:\tlearn: 2010908.8181145\ttotal: 6.15s\tremaining: 783ms\n",
      "887:\tlearn: 2010135.9097005\ttotal: 6.15s\tremaining: 776ms\n",
      "888:\tlearn: 2007583.4479734\ttotal: 6.16s\tremaining: 769ms\n",
      "889:\tlearn: 2006583.1763960\ttotal: 6.17s\tremaining: 762ms\n",
      "890:\tlearn: 2004034.4335117\ttotal: 6.17s\tremaining: 755ms\n",
      "891:\tlearn: 2003267.2777503\ttotal: 6.18s\tremaining: 748ms\n",
      "892:\tlearn: 2000633.4051056\ttotal: 6.19s\tremaining: 741ms\n",
      "893:\tlearn: 1998117.7210938\ttotal: 6.19s\tremaining: 734ms\n",
      "894:\tlearn: 1996740.4254303\ttotal: 6.2s\tremaining: 727ms\n",
      "895:\tlearn: 1995669.6618827\ttotal: 6.21s\tremaining: 721ms\n",
      "896:\tlearn: 1993095.6456249\ttotal: 6.21s\tremaining: 714ms\n",
      "897:\tlearn: 1992229.2608957\ttotal: 6.22s\tremaining: 707ms\n",
      "898:\tlearn: 1991419.3837453\ttotal: 6.23s\tremaining: 700ms\n",
      "899:\tlearn: 1990355.8506054\ttotal: 6.23s\tremaining: 693ms\n",
      "900:\tlearn: 1988822.9055629\ttotal: 6.24s\tremaining: 686ms\n",
      "901:\tlearn: 1988016.6609314\ttotal: 6.25s\tremaining: 679ms\n",
      "902:\tlearn: 1987271.8473708\ttotal: 6.25s\tremaining: 672ms\n",
      "903:\tlearn: 1986535.3482197\ttotal: 6.26s\tremaining: 665ms\n",
      "904:\tlearn: 1984044.9041590\ttotal: 6.27s\tremaining: 658ms\n",
      "905:\tlearn: 1981605.1779498\ttotal: 6.28s\tremaining: 651ms\n",
      "906:\tlearn: 1979022.2415689\ttotal: 6.28s\tremaining: 644ms\n",
      "907:\tlearn: 1978283.1562188\ttotal: 6.29s\tremaining: 637ms\n",
      "908:\tlearn: 1975662.4581998\ttotal: 6.3s\tremaining: 630ms\n",
      "909:\tlearn: 1974875.5847895\ttotal: 6.3s\tremaining: 623ms\n"
     ]
    },
    {
     "name": "stdout",
     "output_type": "stream",
     "text": [
      "910:\tlearn: 1972611.9343896\ttotal: 6.31s\tremaining: 617ms\n",
      "911:\tlearn: 1970163.9157366\ttotal: 6.32s\tremaining: 610ms\n",
      "912:\tlearn: 1967729.2629300\ttotal: 6.32s\tremaining: 603ms\n",
      "913:\tlearn: 1965356.5188672\ttotal: 6.33s\tremaining: 596ms\n",
      "914:\tlearn: 1964565.6876350\ttotal: 6.34s\tremaining: 589ms\n",
      "915:\tlearn: 1962526.7268812\ttotal: 6.34s\tremaining: 582ms\n",
      "916:\tlearn: 1961068.7816963\ttotal: 6.35s\tremaining: 575ms\n",
      "917:\tlearn: 1960033.9201676\ttotal: 6.36s\tremaining: 568ms\n",
      "918:\tlearn: 1957609.7721246\ttotal: 6.37s\tremaining: 561ms\n",
      "919:\tlearn: 1956587.1484666\ttotal: 6.38s\tremaining: 554ms\n",
      "920:\tlearn: 1955863.2769013\ttotal: 6.38s\tremaining: 548ms\n",
      "921:\tlearn: 1953497.9806397\ttotal: 6.39s\tremaining: 541ms\n",
      "922:\tlearn: 1950952.1735697\ttotal: 6.4s\tremaining: 534ms\n",
      "923:\tlearn: 1950236.6638192\ttotal: 6.4s\tremaining: 527ms\n",
      "924:\tlearn: 1947830.6858249\ttotal: 6.41s\tremaining: 520ms\n",
      "925:\tlearn: 1947064.1167085\ttotal: 6.42s\tremaining: 513ms\n",
      "926:\tlearn: 1944735.6281667\ttotal: 6.42s\tremaining: 506ms\n",
      "927:\tlearn: 1942240.6023902\ttotal: 6.43s\tremaining: 499ms\n",
      "928:\tlearn: 1941512.6844595\ttotal: 6.44s\tremaining: 492ms\n",
      "929:\tlearn: 1939115.8611360\ttotal: 6.44s\tremaining: 485ms\n",
      "930:\tlearn: 1938109.4988648\ttotal: 6.45s\tremaining: 478ms\n",
      "931:\tlearn: 1937334.3969550\ttotal: 6.46s\tremaining: 471ms\n",
      "932:\tlearn: 1934985.0769464\ttotal: 6.46s\tremaining: 464ms\n",
      "933:\tlearn: 1933017.2420612\ttotal: 6.47s\tremaining: 457ms\n",
      "934:\tlearn: 1930688.6890175\ttotal: 6.47s\tremaining: 450ms\n",
      "935:\tlearn: 1928311.2257758\ttotal: 6.48s\tremaining: 443ms\n",
      "936:\tlearn: 1926019.9502977\ttotal: 6.49s\tremaining: 436ms\n",
      "937:\tlearn: 1923750.2861284\ttotal: 6.5s\tremaining: 429ms\n",
      "938:\tlearn: 1923045.8647812\ttotal: 6.5s\tremaining: 423ms\n",
      "939:\tlearn: 1922298.0042922\ttotal: 6.51s\tremaining: 416ms\n",
      "940:\tlearn: 1921600.3260077\ttotal: 6.52s\tremaining: 409ms\n",
      "941:\tlearn: 1920854.1653543\ttotal: 6.53s\tremaining: 402ms\n",
      "942:\tlearn: 1918436.7826853\ttotal: 6.53s\tremaining: 395ms\n",
      "943:\tlearn: 1916135.4015381\ttotal: 6.54s\tremaining: 388ms\n",
      "944:\tlearn: 1915241.2667510\ttotal: 6.55s\tremaining: 381ms\n",
      "945:\tlearn: 1914483.6116845\ttotal: 6.55s\tremaining: 374ms\n",
      "946:\tlearn: 1913790.7405554\ttotal: 6.56s\tremaining: 367ms\n",
      "947:\tlearn: 1911400.0057664\ttotal: 6.57s\tremaining: 360ms\n",
      "948:\tlearn: 1910699.3092835\ttotal: 6.57s\tremaining: 353ms\n",
      "949:\tlearn: 1908441.2943016\ttotal: 6.58s\tremaining: 346ms\n",
      "950:\tlearn: 1907235.5036921\ttotal: 6.59s\tremaining: 339ms\n",
      "951:\tlearn: 1906507.4333371\ttotal: 6.59s\tremaining: 332ms\n",
      "952:\tlearn: 1905535.0549254\ttotal: 6.6s\tremaining: 326ms\n",
      "953:\tlearn: 1903353.4485547\ttotal: 6.61s\tremaining: 319ms\n",
      "954:\tlearn: 1901118.7379936\ttotal: 6.61s\tremaining: 312ms\n",
      "955:\tlearn: 1900378.8851570\ttotal: 6.62s\tremaining: 305ms\n",
      "956:\tlearn: 1898510.9892960\ttotal: 6.63s\tremaining: 298ms\n",
      "957:\tlearn: 1897154.6668797\ttotal: 6.63s\tremaining: 291ms\n",
      "958:\tlearn: 1894832.5258679\ttotal: 6.64s\tremaining: 284ms\n",
      "959:\tlearn: 1893872.1551959\ttotal: 6.65s\tremaining: 277ms\n",
      "960:\tlearn: 1893141.4538816\ttotal: 6.65s\tremaining: 270ms\n",
      "961:\tlearn: 1890928.1271983\ttotal: 6.66s\tremaining: 263ms\n",
      "962:\tlearn: 1889975.2714399\ttotal: 6.67s\tremaining: 256ms\n",
      "963:\tlearn: 1888505.8282410\ttotal: 6.67s\tremaining: 249ms\n",
      "964:\tlearn: 1886276.9194685\ttotal: 6.68s\tremaining: 242ms\n",
      "965:\tlearn: 1884943.0263075\ttotal: 6.69s\tremaining: 235ms\n",
      "966:\tlearn: 1884271.4564756\ttotal: 6.69s\tremaining: 228ms\n",
      "967:\tlearn: 1883332.2022766\ttotal: 6.7s\tremaining: 222ms\n",
      "968:\tlearn: 1881020.6743909\ttotal: 6.71s\tremaining: 215ms\n",
      "969:\tlearn: 1880086.8448639\ttotal: 6.71s\tremaining: 208ms\n",
      "970:\tlearn: 1877924.8596246\ttotal: 6.72s\tremaining: 201ms\n",
      "971:\tlearn: 1876420.9058611\ttotal: 6.73s\tremaining: 194ms\n",
      "972:\tlearn: 1874819.0479893\ttotal: 6.74s\tremaining: 187ms\n",
      "973:\tlearn: 1872475.9842948\ttotal: 6.74s\tremaining: 180ms\n",
      "974:\tlearn: 1870201.8360325\ttotal: 6.75s\tremaining: 173ms\n",
      "975:\tlearn: 1869495.1212113\ttotal: 6.76s\tremaining: 166ms\n",
      "976:\tlearn: 1868837.7369394\ttotal: 6.76s\tremaining: 159ms\n",
      "977:\tlearn: 1866759.3004133\ttotal: 6.77s\tremaining: 152ms\n",
      "978:\tlearn: 1866104.4574074\ttotal: 6.78s\tremaining: 145ms\n",
      "979:\tlearn: 1865406.5673255\ttotal: 6.78s\tremaining: 138ms\n",
      "980:\tlearn: 1864494.1994113\ttotal: 6.79s\tremaining: 132ms\n",
      "981:\tlearn: 1862387.2212347\ttotal: 6.8s\tremaining: 125ms\n",
      "982:\tlearn: 1860142.8578715\ttotal: 6.8s\tremaining: 118ms\n",
      "983:\tlearn: 1858034.8589411\ttotal: 6.81s\tremaining: 111ms\n",
      "984:\tlearn: 1857113.4309281\ttotal: 6.82s\tremaining: 104ms\n",
      "985:\tlearn: 1855119.2403106\ttotal: 6.82s\tremaining: 96.9ms\n",
      "986:\tlearn: 1854484.1334481\ttotal: 6.83s\tremaining: 90ms\n",
      "987:\tlearn: 1852420.1265751\ttotal: 6.84s\tremaining: 83ms\n",
      "988:\tlearn: 1850396.8725859\ttotal: 6.84s\tremaining: 76.1ms\n",
      "989:\tlearn: 1848209.6542201\ttotal: 6.85s\tremaining: 69.2ms\n",
      "990:\tlearn: 1847480.2819432\ttotal: 6.86s\tremaining: 62.3ms\n",
      "991:\tlearn: 1845439.3593561\ttotal: 6.86s\tremaining: 55.3ms\n",
      "992:\tlearn: 1844540.8800628\ttotal: 6.87s\tremaining: 48.4ms\n",
      "993:\tlearn: 1842566.8679808\ttotal: 6.88s\tremaining: 41.5ms\n",
      "994:\tlearn: 1841658.7066616\ttotal: 6.88s\tremaining: 34.6ms\n",
      "995:\tlearn: 1839608.8160614\ttotal: 6.89s\tremaining: 27.7ms\n",
      "996:\tlearn: 1838720.3612585\ttotal: 6.9s\tremaining: 20.8ms\n",
      "997:\tlearn: 1837160.3637792\ttotal: 6.9s\tremaining: 13.8ms\n",
      "998:\tlearn: 1835049.7183195\ttotal: 6.91s\tremaining: 6.92ms\n",
      "999:\tlearn: 1834167.4278465\ttotal: 6.92s\tremaining: 0us\n"
     ]
    }
   ],
   "source": [
    "# En iyi parametrelerin uygulanması ve fit edilmesi\n",
    "catb_tuned = CatBoostRegressor(iterations = 1000, \n",
    "                               learning_rate = 0.01, \n",
    "                               depth = 8)\n",
    "\n",
    "catb_tuned = catb_tuned.fit(X_train,y_train)"
   ]
  },
  {
   "cell_type": "code",
   "execution_count": 36,
   "id": "e686df87",
   "metadata": {},
   "outputs": [
    {
     "data": {
      "text/plain": [
       "20711440.960997775"
      ]
     },
     "execution_count": 36,
     "metadata": {},
     "output_type": "execute_result"
    }
   ],
   "source": [
    "y_pred = catb_tuned.predict(X_test) # Model üzerinde tuning işlemi yapıldıktan sonraki tahminsel değer\n",
    "np.sqrt(mean_squared_error(y_test, y_pred)) # y_test'in ve y_pred'in ortalama karesel hatası"
   ]
  }
 ],
 "metadata": {
  "kernelspec": {
   "display_name": "Python 3 (ipykernel)",
   "language": "python",
   "name": "python3"
  },
  "language_info": {
   "codemirror_mode": {
    "name": "ipython",
    "version": 3
   },
   "file_extension": ".py",
   "mimetype": "text/x-python",
   "name": "python",
   "nbconvert_exporter": "python",
   "pygments_lexer": "ipython3",
   "version": "3.11.2"
  }
 },
 "nbformat": 4,
 "nbformat_minor": 5
}
